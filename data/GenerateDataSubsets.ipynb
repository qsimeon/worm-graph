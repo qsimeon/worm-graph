{
 "cells": [
  {
   "cell_type": "markdown",
   "metadata": {},
   "source": [
    "### Create worm datasets of various sizes by subsampling a larger combined datasets\n",
    "---\n",
    "*Last updated: 14 November 2023*"
   ]
  },
  {
   "cell_type": "code",
   "execution_count": 9,
   "metadata": {},
   "outputs": [],
   "source": [
    "import os\n",
    "import pickle\n",
    "\n",
    "from pprint import PrettyPrinter\n",
    "from itertools import combinations\n",
    "from utils import init_random_seeds\n",
    "from data._utils import generate_all_subsets, generate_subsets_of_size"
   ]
  },
  {
   "cell_type": "code",
   "execution_count": 15,
   "metadata": {},
   "outputs": [
    {
     "name": "stdout",
     "output_type": "stream",
     "text": [
      "number of worms (N): 284\n",
      "\n",
      "all worm Ids:\n",
      " ['worm0', 'worm1', 'worm2', 'worm3', 'worm4', 'worm5', 'worm6', 'worm7', 'worm8', 'worm9', 'worm10', 'worm11', 'worm12', 'worm13', 'worm14', 'worm15', 'worm16', 'worm17', 'worm18', 'worm19', 'worm20', 'worm21', 'worm22', 'worm23', 'worm24', 'worm25', 'worm26', 'worm27', 'worm28', 'worm29', 'worm30', 'worm31', 'worm32', 'worm33', 'worm34', 'worm35', 'worm36', 'worm37', 'worm38', 'worm39', 'worm40', 'worm41', 'worm42', 'worm43', 'worm44', 'worm45', 'worm46', 'worm47', 'worm48', 'worm49', 'worm50', 'worm51', 'worm52', 'worm53', 'worm54', 'worm55', 'worm56', 'worm57', 'worm58', 'worm59', 'worm60', 'worm61', 'worm62', 'worm63', 'worm64', 'worm65', 'worm66', 'worm67', 'worm68', 'worm69', 'worm70', 'worm71', 'worm72', 'worm73', 'worm74', 'worm75', 'worm76', 'worm77', 'worm78', 'worm79', 'worm80', 'worm81', 'worm82', 'worm83', 'worm84', 'worm85', 'worm86', 'worm87', 'worm88', 'worm89', 'worm90', 'worm91', 'worm92', 'worm93', 'worm94', 'worm95', 'worm96', 'worm97', 'worm98', 'worm99', 'worm100', 'worm101', 'worm102', 'worm103', 'worm104', 'worm105', 'worm106', 'worm107', 'worm108', 'worm109', 'worm110', 'worm111', 'worm112', 'worm113', 'worm114', 'worm115', 'worm116', 'worm117', 'worm118', 'worm119', 'worm120', 'worm121', 'worm122', 'worm123', 'worm124', 'worm125', 'worm126', 'worm127', 'worm128', 'worm129', 'worm130', 'worm131', 'worm132', 'worm133', 'worm134', 'worm135', 'worm136', 'worm137', 'worm138', 'worm139', 'worm140', 'worm141', 'worm142', 'worm143', 'worm144', 'worm145', 'worm146', 'worm147', 'worm148', 'worm149', 'worm150', 'worm151', 'worm152', 'worm153', 'worm154', 'worm155', 'worm156', 'worm157', 'worm158', 'worm159', 'worm160', 'worm161', 'worm162', 'worm163', 'worm164', 'worm165', 'worm166', 'worm167', 'worm168', 'worm169', 'worm170', 'worm171', 'worm172', 'worm173', 'worm174', 'worm175', 'worm176', 'worm177', 'worm178', 'worm179', 'worm180', 'worm181', 'worm182', 'worm183', 'worm184', 'worm185', 'worm186', 'worm187', 'worm188', 'worm189', 'worm190', 'worm191', 'worm192', 'worm193', 'worm194', 'worm195', 'worm196', 'worm197', 'worm198', 'worm199', 'worm200', 'worm201', 'worm202', 'worm203', 'worm204', 'worm205', 'worm206', 'worm207', 'worm208', 'worm209', 'worm210', 'worm211', 'worm212', 'worm213', 'worm214', 'worm215', 'worm216', 'worm217', 'worm218', 'worm219', 'worm220', 'worm221', 'worm222', 'worm223', 'worm224', 'worm225', 'worm226', 'worm227', 'worm228', 'worm229', 'worm230', 'worm231', 'worm232', 'worm233', 'worm234', 'worm235', 'worm236', 'worm237', 'worm238', 'worm239', 'worm240', 'worm241', 'worm242', 'worm243', 'worm244', 'worm245', 'worm246', 'worm247', 'worm248', 'worm249', 'worm250', 'worm251', 'worm252', 'worm253', 'worm254', 'worm255', 'worm256', 'worm257', 'worm258', 'worm259', 'worm260', 'worm261', 'worm262', 'worm263', 'worm264', 'worm265', 'worm266', 'worm267', 'worm268', 'worm269', 'worm270', 'worm271', 'worm272', 'worm273', 'worm274', 'worm275', 'worm276', 'worm277', 'worm278', 'worm279', 'worm280', 'worm281', 'worm282', 'worm283']\n",
      "\n",
      "data keys for each worm' data:\n",
      "[   'dataset', 'smooth_method', 'interpolate_method', 'worm', 'original_calcium_data',\n",
      "    'original_smooth_calcium_data', 'calcium_data', 'smooth_calcium_data', 'residual_calcium',\n",
      "    'original_residual_calcium', 'smooth_residual_calcium', 'original_smooth_residual_calcium',\n",
      "    'max_timesteps', 'original_max_timesteps', 'original_time_in_seconds', 'time_in_seconds', 'dt',\n",
      "    'original_median_dt', 'resample_median_dt', 'num_neurons', 'num_named_neurons',\n",
      "    'num_unknown_neurons', 'named_neurons_mask', 'unknown_neurons_mask', 'neurons_mask',\n",
      "    'slot_to_named_neuron', 'named_neuron_to_slot', 'slot_to_unknown_neuron',\n",
      "    'unknown_neuron_to_slot', 'slot_to_neuron', 'neuron_to_slot', 'original_dt', 'original_worm']\n",
      "0: ('worm278', 'worm279', 'worm280', 'worm281', 'worm282')\n",
      "1: ('worm278', 'worm279', 'worm280', 'worm281', 'worm283')\n",
      "2: ('worm278', 'worm279', 'worm280', 'worm282', 'worm283')\n",
      "\n",
      "\ttype(subsets_3): <class 'list'>\n",
      "\tlen(subsets_3): 10\n",
      "\ttype(subsets_3[0]): <class 'dict'>\n",
      "\n",
      "0: ('worm0', 'worm1', 'worm2')\n",
      "1: ('worm0', 'worm1', 'worm3')\n",
      "2: ('worm0', 'worm1', 'worm4')\n",
      "3: ('worm0', 'worm1', 'worm5')\n",
      "4: ('worm0', 'worm1', 'worm6')\n",
      "5: ('worm0', 'worm1', 'worm7')\n",
      "6: ('worm0', 'worm1', 'worm8')\n",
      "7: ('worm0', 'worm1', 'worm9')\n",
      "8: ('worm0', 'worm1', 'worm10')\n",
      "9: ('worm0', 'worm1', 'worm11')\n",
      "\n",
      "\ttype(all_subsets): <class 'dict'>\n",
      "\tlen(all_subsets): 20\n",
      "\n",
      "size 1: \t num. subsets: 10\n",
      "size 2: \t num. subsets: 10\n",
      "size 3: \t num. subsets: 10\n",
      "size 4: \t num. subsets: 10\n",
      "size 5: \t num. subsets: 10\n",
      "size 6: \t num. subsets: 10\n",
      "size 7: \t num. subsets: 10\n",
      "size 8: \t num. subsets: 10\n",
      "size 9: \t num. subsets: 10\n",
      "size 10: \t num. subsets: 10\n",
      "size 11: \t num. subsets: 10\n",
      "size 12: \t num. subsets: 10\n",
      "size 13: \t num. subsets: 10\n",
      "size 14: \t num. subsets: 10\n",
      "size 15: \t num. subsets: 10\n",
      "size 16: \t num. subsets: 10\n",
      "size 17: \t num. subsets: 10\n",
      "size 18: \t num. subsets: 10\n",
      "size 19: \t num. subsets: 10\n",
      "size 20: \t num. subsets: 10\n",
      "\n"
     ]
    }
   ],
   "source": [
    "# Set random seed for reproducibility\n",
    "seed = 42\n",
    "init_random_seeds(seed)\n",
    "\n",
    "# Settings for pretty printing\n",
    "pp = PrettyPrinter(indent=4, width=100, compact=True)\n",
    "\n",
    "# Load combined dataset and print some information about it\n",
    "datadir = \"combined_dataset\"\n",
    "file = os.path.join(datadir, \"combined_dataset.pickle\")\n",
    "combined_dataset = pickle.load(open(file, \"rb\"))  # a few GBs large\n",
    "num_worms = len(combined_dataset.keys())\n",
    "print(f\"number of worms (N): {num_worms}\", end=\"\\n\\n\")\n",
    "print(f\"all worm Ids:\\n {list(combined_dataset.keys())}\", end=\"\\n\\n\")\n",
    "print(f\"data keys for each worm' data:\")\n",
    "pp.pprint(list(combined_dataset[\"worm0\"].keys()))\n",
    "print()\n",
    "\n",
    "# Example of choosing all subsets of size N-1 of the wormIDs when N\n",
    "all_worm_ids = list(combined_dataset.keys())\n",
    "worm_subsets = combinations(all_worm_ids, len(all_worm_ids) - 1)\n",
    "for i, subset in enumerate(worm_subsets):\n",
    "    print(f\"{i}: {subset[-5:]}\")\n",
    "    if i == 2:\n",
    "        break\n",
    "print()\n",
    "\n",
    "# Generate 10 of all the possible size-3 subsets\n",
    "# returns list of datasets containing 3 worms\n",
    "subsets_3 = generate_subsets_of_size(combined_dataset, subset_size=3, max_subsets=10)\n",
    "print(f\"\\ttype(subsets_3): {type(subsets_3)}\")\n",
    "print(f\"\\tlen(subsets_3): {len(subsets_3)}\")\n",
    "print(f\"\\ttype(subsets_3[0]): {type(subsets_3[0])}\")\n",
    "print()\n",
    "for _, subset in enumerate(subsets_3):\n",
    "    print(f\"{_}: {tuple(subset.keys())}\")\n",
    "print()\n",
    "\n",
    "# Generate 10 of each size-n subset for n from 1 to 20;\n",
    "# returns dict mapping n to list of datasets containing n worms\n",
    "all_subsets = generate_all_subsets(\n",
    "    combined_dataset,\n",
    "    max_subsets_per_size=10,\n",
    "    max_size=20,\n",
    ")\n",
    "print(f\"\\ttype(all_subsets): {type(all_subsets)}\")\n",
    "print(f\"\\tlen(all_subsets): {len(all_subsets)}\")\n",
    "print()\n",
    "for size, subsets in all_subsets.items():\n",
    "    print(f\"size {size}: \\t num. subsets: {len(subsets)}\")\n",
    "print()"
   ]
  },
  {
   "cell_type": "markdown",
   "metadata": {},
   "source": []
  },
  {
   "cell_type": "markdown",
   "metadata": {},
   "source": []
  },
  {
   "cell_type": "markdown",
   "metadata": {},
   "source": []
  }
 ],
 "metadata": {
  "kernelspec": {
   "display_name": "worm-graph",
   "language": "python",
   "name": "python3"
  },
  "language_info": {
   "codemirror_mode": {
    "name": "ipython",
    "version": 3
   },
   "file_extension": ".py",
   "mimetype": "text/x-python",
   "name": "python",
   "nbconvert_exporter": "python",
   "pygments_lexer": "ipython3",
   "version": "3.9.18"
  }
 },
 "nbformat": 4,
 "nbformat_minor": 2
}
