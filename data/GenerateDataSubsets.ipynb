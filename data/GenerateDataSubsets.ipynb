{
 "cells": [
  {
   "cell_type": "markdown",
   "metadata": {},
   "source": [
    "### Create worm datasets of various sizes by subsampling a larger combined datasets\n",
    "---\n",
    "*Last updated: 14 November 2023*"
   ]
  },
  {
   "cell_type": "code",
   "execution_count": 9,
   "metadata": {},
   "outputs": [],
   "source": [
    "import os\n",
    "import pickle\n",
    "\n",
    "from pprint import PrettyPrinter\n",
    "from itertools import combinations\n",
    "from utils import init_random_seeds\n",
    "from data._utils import generate_all_subsets, generate_subsets_of_size"
   ]
  },
  {
   "cell_type": "code",
   "execution_count": 10,
   "metadata": {},
   "outputs": [],
   "source": [
    "# # Set random seed for reproducibility\n",
    "# seed = 42\n",
    "# init_random_seeds(seed)\n",
    "\n",
    "# Settings for pretty printing\n",
    "pp = PrettyPrinter(indent=4, width=100, compact=True)\n",
    "\n",
    "# Load combined dataset and print some information about it\n",
    "datadir = \"custom\"\n",
    "file = os.path.join(datadir, \"combined_dataset.pickle\")\n",
    "combined_dataset = pickle.load(open(file, \"rb\"))  # a few GBs large\n",
    "num_worms = len(combined_dataset.keys())"
   ]
  },
  {
   "cell_type": "code",
   "execution_count": 11,
   "metadata": {},
   "outputs": [
    {
     "name": "stdout",
     "output_type": "stream",
     "text": [
      "number of worms (N): 284\n",
      "\n",
      "(\"all worm IDs: ['worm0', 'worm1', 'worm2', 'worm3', 'worm4', 'worm5', 'worm6', 'worm7', 'worm8', \"\n",
      " \"'worm9', 'worm10', 'worm11', 'worm12', 'worm13', 'worm14', 'worm15', 'worm16', 'worm17', \"\n",
      " \"'worm18', 'worm19', 'worm20', 'worm21', 'worm22', 'worm23', 'worm24', 'worm25', 'worm26', \"\n",
      " \"'worm27', 'worm28', 'worm29', 'worm30', 'worm31', 'worm32', 'worm33', 'worm34', 'worm35', \"\n",
      " \"'worm36', 'worm37', 'worm38', 'worm39', 'worm40', 'worm41', 'worm42', 'worm43', 'worm44', \"\n",
      " \"'worm45', 'worm46', 'worm47', 'worm48', 'worm49', 'worm50', 'worm51', 'worm52', 'worm53', \"\n",
      " \"'worm54', 'worm55', 'worm56', 'worm57', 'worm58', 'worm59', 'worm60', 'worm61', 'worm62', \"\n",
      " \"'worm63', 'worm64', 'worm65', 'worm66', 'worm67', 'worm68', 'worm69', 'worm70', 'worm71', \"\n",
      " \"'worm72', 'worm73', 'worm74', 'worm75', 'worm76', 'worm77', 'worm78', 'worm79', 'worm80', \"\n",
      " \"'worm81', 'worm82', 'worm83', 'worm84', 'worm85', 'worm86', 'worm87', 'worm88', 'worm89', \"\n",
      " \"'worm90', 'worm91', 'worm92', 'worm93', 'worm94', 'worm95', 'worm96', 'worm97', 'worm98', \"\n",
      " \"'worm99', 'worm100', 'worm101', 'worm102', 'worm103', 'worm104', 'worm105', 'worm106', \"\n",
      " \"'worm107', 'worm108', 'worm109', 'worm110', 'worm111', 'worm112', 'worm113', 'worm114', \"\n",
      " \"'worm115', 'worm116', 'worm117', 'worm118', 'worm119', 'worm120', 'worm121', 'worm122', \"\n",
      " \"'worm123', 'worm124', 'worm125', 'worm126', 'worm127', 'worm128', 'worm129', 'worm130', \"\n",
      " \"'worm131', 'worm132', 'worm133', 'worm134', 'worm135', 'worm136', 'worm137', 'worm138', \"\n",
      " \"'worm139', 'worm140', 'worm141', 'worm142', 'worm143', 'worm144', 'worm145', 'worm146', \"\n",
      " \"'worm147', 'worm148', 'worm149', 'worm150', 'worm151', 'worm152', 'worm153', 'worm154', \"\n",
      " \"'worm155', 'worm156', 'worm157', 'worm158', 'worm159', 'worm160', 'worm161', 'worm162', \"\n",
      " \"'worm163', 'worm164', 'worm165', 'worm166', 'worm167', 'worm168', 'worm169', 'worm170', \"\n",
      " \"'worm171', 'worm172', 'worm173', 'worm174', 'worm175', 'worm176', 'worm177', 'worm178', \"\n",
      " \"'worm179', 'worm180', 'worm181', 'worm182', 'worm183', 'worm184', 'worm185', 'worm186', \"\n",
      " \"'worm187', 'worm188', 'worm189', 'worm190', 'worm191', 'worm192', 'worm193', 'worm194', \"\n",
      " \"'worm195', 'worm196', 'worm197', 'worm198', 'worm199', 'worm200', 'worm201', 'worm202', \"\n",
      " \"'worm203', 'worm204', 'worm205', 'worm206', 'worm207', 'worm208', 'worm209', 'worm210', \"\n",
      " \"'worm211', 'worm212', 'worm213', 'worm214', 'worm215', 'worm216', 'worm217', 'worm218', \"\n",
      " \"'worm219', 'worm220', 'worm221', 'worm222', 'worm223', 'worm224', 'worm225', 'worm226', \"\n",
      " \"'worm227', 'worm228', 'worm229', 'worm230', 'worm231', 'worm232', 'worm233', 'worm234', \"\n",
      " \"'worm235', 'worm236', 'worm237', 'worm238', 'worm239', 'worm240', 'worm241', 'worm242', \"\n",
      " \"'worm243', 'worm244', 'worm245', 'worm246', 'worm247', 'worm248', 'worm249', 'worm250', \"\n",
      " \"'worm251', 'worm252', 'worm253', 'worm254', 'worm255', 'worm256', 'worm257', 'worm258', \"\n",
      " \"'worm259', 'worm260', 'worm261', 'worm262', 'worm263', 'worm264', 'worm265', 'worm266', \"\n",
      " \"'worm267', 'worm268', 'worm269', 'worm270', 'worm271', 'worm272', 'worm273', 'worm274', \"\n",
      " \"'worm275', 'worm276', 'worm277', 'worm278', 'worm279', 'worm280', 'worm281', 'worm282', \"\n",
      " \"'worm283']\")\n",
      "\n",
      "data keys for each worm' data:\n",
      "[   'dataset', 'smooth_method', 'interpolate_method', 'worm', 'original_calcium_data',\n",
      "    'original_smooth_calcium_data', 'calcium_data', 'smooth_calcium_data', 'residual_calcium',\n",
      "    'original_residual_calcium', 'smooth_residual_calcium', 'original_smooth_residual_calcium',\n",
      "    'max_timesteps', 'original_max_timesteps', 'original_time_in_seconds', 'time_in_seconds', 'dt',\n",
      "    'original_median_dt', 'resample_median_dt', 'num_neurons', 'num_named_neurons',\n",
      "    'num_unknown_neurons', 'named_neurons_mask', 'unknown_neurons_mask', 'neurons_mask',\n",
      "    'slot_to_named_neuron', 'named_neuron_to_slot', 'slot_to_unknown_neuron',\n",
      "    'unknown_neuron_to_slot', 'slot_to_neuron', 'neuron_to_slot', 'original_dt', 'original_worm']\n",
      "\n",
      "Last five items of the first three subset sizes:\n",
      "\t0: ('worm278', 'worm279', 'worm280', 'worm281', 'worm282')\n",
      "\t1: ('worm278', 'worm279', 'worm280', 'worm281', 'worm283')\n",
      "\t2: ('worm278', 'worm279', 'worm280', 'worm282', 'worm283')\n",
      "\n"
     ]
    }
   ],
   "source": [
    "# Print some information about the dataset\n",
    "print(f\"number of worms (N): {num_worms}\", end=\"\\n\\n\")\n",
    "pp.pprint(\"all worm IDs: {}\".format(list(combined_dataset.keys())))\n",
    "print()\n",
    "print(f\"data keys for each worm' data:\")\n",
    "pp.pprint(list(combined_dataset[\"worm0\"].keys()))\n",
    "print()\n",
    "\n",
    "# Example of choosing all subsets of size N-1 of the wormIDs when N\n",
    "all_worm_ids = list(combined_dataset.keys())\n",
    "worm_subsets = combinations(all_worm_ids, len(all_worm_ids) - 1)\n",
    "print(\"Last five items of the first three subset sizes:\")\n",
    "for i, subset in enumerate(worm_subsets):\n",
    "    print(f\"\\t{i}: {subset[-5:]}\")\n",
    "    if i == 2:\n",
    "        break\n",
    "print()"
   ]
  },
  {
   "cell_type": "code",
   "execution_count": 16,
   "metadata": {},
   "outputs": [
    {
     "name": "stdout",
     "output_type": "stream",
     "text": [
      "\ttype(subsets_3): <class 'list'>\n",
      "\tlen(subsets_3): 5\n",
      "\ttype(subsets_3[0]): <class 'dict'>\n",
      "\n",
      "1: ('Nichols2017', 'Yemini2021', 'Kato2015')\n",
      "2: ('Nichols2017', 'Yemini2021', 'Leifer2023')\n",
      "3: ('Nichols2017', 'Yemini2021', 'Leifer2023')\n",
      "4: ('Nichols2017', 'Yemini2021')\n",
      "5: ('Nichols2017', 'Yemini2021', 'Kato2015')\n",
      "\n"
     ]
    }
   ],
   "source": [
    "# Generate 5 examples of all the possible size-3 subsets\n",
    "# returns list of datasets containing 3 worms\n",
    "subsets_3 = generate_subsets_of_size(\n",
    "    combined_dataset,\n",
    "    subset_size=3,\n",
    "    max_subsets=5,\n",
    "    as_reference=True,\n",
    ")\n",
    "print(f\"\\ttype(subsets_3): {type(subsets_3)}\")\n",
    "print(f\"\\tlen(subsets_3): {len(subsets_3)}\")\n",
    "print(f\"\\ttype(subsets_3[0]): {type(subsets_3[0])}\")\n",
    "print()\n",
    "for _, subset in enumerate(subsets_3):\n",
    "    print(f\"{_+1}: {tuple(subset.keys())}\")\n",
    "print()"
   ]
  },
  {
   "cell_type": "code",
   "execution_count": 23,
   "metadata": {},
   "outputs": [
    {
     "name": "stdout",
     "output_type": "stream",
     "text": [
      "\ttype(all_subsets): <class 'dict'>\n",
      "\tlen(all_subsets): 20\n",
      "\n"
     ]
    }
   ],
   "source": [
    "# Generate 2 examples of each size-n subset for n from 1 to 20;\n",
    "# returns dict mapping n to list of datasets containing n worms\n",
    "all_subsets = generate_all_subsets(\n",
    "    combined_dataset,\n",
    "    max_subsets_per_size=2,\n",
    "    max_size=20,\n",
    "    as_reference=True,\n",
    ")\n",
    "print(f\"\\ttype(all_subsets): {type(all_subsets)}\")\n",
    "print(f\"\\tlen(all_subsets): {len(all_subsets)}\")\n",
    "print()"
   ]
  },
  {
   "cell_type": "code",
   "execution_count": 22,
   "metadata": {},
   "outputs": [
    {
     "name": "stdout",
     "output_type": "stream",
     "text": [
      "Distribution of the first examples:\n",
      "size 1: \t num. subsets: 2 \t example: {'Uzel2022': 1}\n",
      "size 2: \t num. subsets: 2 \t example: {'Leifer2023': 2}\n",
      "size 3: \t num. subsets: 2 \t example: {'Yemini2021': 2, 'Skora2018': 1}\n",
      "size 4: \t num. subsets: 2 \t example: {'Nichols2017': 2, 'Flavell2023': 2}\n",
      "size 5: \t num. subsets: 2 \t example: {'Leifer2023': 2, 'Nichols2017': 2, 'Flavell2023': 1}\n",
      "size 6: \t num. subsets: 2 \t example: {'Yemini2021': 2, 'Flavell2023': 1, 'Nichols2017': 1, 'Leifer2023': 2}\n",
      "size 7: \t num. subsets: 2 \t example: {'Nichols2017': 2, 'Leifer2023': 4, 'Kaplan2020': 1}\n",
      "size 8: \t num. subsets: 2 \t example: {'Yemini2021': 3, 'Leifer2023': 4, 'Nichols2017': 1}\n",
      "size 9: \t num. subsets: 2 \t example: {'Nichols2017': 2, 'Leifer2023': 4, 'Kaplan2020': 1, 'Flavell2023': 1, 'Yemini2021': 1}\n",
      "size 10: \t num. subsets: 2 \t example: {'Leifer2023': 3, 'Kaplan2020': 1, 'Yemini2021': 2, 'Flavell2023': 1, 'Nichols2017': 3}\n",
      "size 11: \t num. subsets: 2 \t example: {'Nichols2017': 1, 'Leifer2023': 8, 'Yemini2021': 1, 'Kaplan2020': 1}\n",
      "size 12: \t num. subsets: 2 \t example: {'Flavell2023': 1, 'Uzel2022': 1, 'Leifer2023': 3, 'Kaplan2020': 2, 'Nichols2017': 3, 'Kato2015': 1, 'Yemini2021': 1}\n",
      "size 13: \t num. subsets: 2 \t example: {'Skora2018': 2, 'Nichols2017': 3, 'Leifer2023': 4, 'Yemini2021': 2, 'Kaplan2020': 1, 'Flavell2023': 1}\n",
      "size 14: \t num. subsets: 2 \t example: {'Nichols2017': 2, 'Leifer2023': 8, 'Yemini2021': 3, 'Flavell2023': 1}\n",
      "size 15: \t num. subsets: 2 \t example: {'Nichols2017': 3, 'Flavell2023': 4, 'Leifer2023': 3, 'Yemini2021': 3, 'Kaplan2020': 1, 'Skora2018': 1}\n",
      "size 16: \t num. subsets: 2 \t example: {'Leifer2023': 7, 'Yemini2021': 2, 'Kato2015': 1, 'Kaplan2020': 1, 'Flavell2023': 1, 'Nichols2017': 4}\n",
      "size 17: \t num. subsets: 2 \t example: {'Leifer2023': 7, 'Nichols2017': 3, 'Kaplan2020': 2, 'Yemini2021': 4, 'Flavell2023': 1}\n",
      "size 18: \t num. subsets: 2 \t example: {'Flavell2023': 1, 'Kaplan2020': 3, 'Nichols2017': 3, 'Leifer2023': 7, 'Yemini2021': 4}\n",
      "size 19: \t num. subsets: 2 \t example: {'Yemini2021': 5, 'Kato2015': 3, 'Flavell2023': 3, 'Nichols2017': 3, 'Leifer2023': 3, 'Kaplan2020': 2}\n",
      "size 20: \t num. subsets: 2 \t example: {'Nichols2017': 3, 'Yemini2021': 5, 'Kato2015': 1, 'Leifer2023': 8, 'Kaplan2020': 1, 'Flavell2023': 2}\n",
      "\n",
      "Distribution of the second examples:\n",
      "size 1: \t num. subsets: 2 \t example: {'Leifer2023': 1}\n",
      "size 2: \t num. subsets: 2 \t example: {'Leifer2023': 1, 'Yemini2021': 1}\n",
      "size 3: \t num. subsets: 2 \t example: {'Yemini2021': 2, 'Kaplan2020': 1}\n",
      "size 4: \t num. subsets: 2 \t example: {'Nichols2017': 2, 'Flavell2023': 1, 'Kato2015': 1}\n",
      "size 5: \t num. subsets: 2 \t example: {'Leifer2023': 2, 'Nichols2017': 1, 'Flavell2023': 1, 'Skora2018': 1}\n",
      "size 6: \t num. subsets: 2 \t example: {'Yemini2021': 2, 'Flavell2023': 1, 'Nichols2017': 2, 'Leifer2023': 1}\n",
      "size 7: \t num. subsets: 2 \t example: {'Nichols2017': 2, 'Leifer2023': 5}\n",
      "size 8: \t num. subsets: 2 \t example: {'Yemini2021': 3, 'Leifer2023': 5}\n",
      "size 9: \t num. subsets: 2 \t example: {'Nichols2017': 2, 'Leifer2023': 3, 'Kaplan2020': 2, 'Flavell2023': 1, 'Yemini2021': 1}\n",
      "size 10: \t num. subsets: 2 \t example: {'Leifer2023': 3, 'Kaplan2020': 1, 'Yemini2021': 1, 'Flavell2023': 1, 'Nichols2017': 4}\n",
      "size 11: \t num. subsets: 2 \t example: {'Nichols2017': 1, 'Leifer2023': 7, 'Yemini2021': 2, 'Kaplan2020': 1}\n",
      "size 12: \t num. subsets: 2 \t example: {'Flavell2023': 1, 'Uzel2022': 1, 'Leifer2023': 3, 'Kaplan2020': 2, 'Nichols2017': 3, 'Kato2015': 1, 'Yemini2021': 1}\n",
      "size 13: \t num. subsets: 2 \t example: {'Skora2018': 2, 'Nichols2017': 2, 'Leifer2023': 5, 'Yemini2021': 2, 'Kaplan2020': 1, 'Flavell2023': 1}\n",
      "size 14: \t num. subsets: 2 \t example: {'Nichols2017': 2, 'Leifer2023': 8, 'Yemini2021': 3, 'Flavell2023': 1}\n",
      "size 15: \t num. subsets: 2 \t example: {'Nichols2017': 3, 'Flavell2023': 4, 'Leifer2023': 4, 'Yemini2021': 2, 'Kaplan2020': 1, 'Skora2018': 1}\n",
      "size 16: \t num. subsets: 2 \t example: {'Leifer2023': 7, 'Yemini2021': 3, 'Kato2015': 1, 'Kaplan2020': 1, 'Flavell2023': 1, 'Nichols2017': 3}\n",
      "size 17: \t num. subsets: 2 \t example: {'Leifer2023': 8, 'Nichols2017': 3, 'Kaplan2020': 1, 'Yemini2021': 4, 'Flavell2023': 1}\n",
      "size 18: \t num. subsets: 2 \t example: {'Flavell2023': 1, 'Kaplan2020': 3, 'Nichols2017': 4, 'Leifer2023': 7, 'Yemini2021': 3}\n",
      "size 19: \t num. subsets: 2 \t example: {'Yemini2021': 4, 'Kato2015': 3, 'Flavell2023': 3, 'Nichols2017': 3, 'Leifer2023': 4, 'Kaplan2020': 2}\n",
      "size 20: \t num. subsets: 2 \t example: {'Nichols2017': 4, 'Yemini2021': 5, 'Kato2015': 1, 'Leifer2023': 7, 'Kaplan2020': 1, 'Flavell2023': 2}\n",
      "\n"
     ]
    }
   ],
   "source": [
    "print(\"Distribution of the first examples:\")\n",
    "for size, subsets in all_subsets.items():\n",
    "    print(f\"size {size}: \\t num. subsets: {len(subsets)} \\t example: {subsets[0]}\")\n",
    "print()\n",
    "\n",
    "print(\"Distribution of the second examples:\")\n",
    "for size, subsets in all_subsets.items():\n",
    "    print(f\"size {size}: \\t num. subsets: {len(subsets)} \\t example: {subsets[1]}\")\n",
    "print()"
   ]
  },
  {
   "cell_type": "markdown",
   "metadata": {},
   "source": []
  },
  {
   "cell_type": "markdown",
   "metadata": {},
   "source": []
  },
  {
   "cell_type": "markdown",
   "metadata": {},
   "source": []
  }
 ],
 "metadata": {
  "kernelspec": {
   "display_name": "worm-graph",
   "language": "python",
   "name": "python3"
  },
  "language_info": {
   "codemirror_mode": {
    "name": "ipython",
    "version": 3
   },
   "file_extension": ".py",
   "mimetype": "text/x-python",
   "name": "python",
   "nbconvert_exporter": "python",
   "pygments_lexer": "ipython3",
   "version": "3.9.18"
  }
 },
 "nbformat": 4,
 "nbformat_minor": 2
}
