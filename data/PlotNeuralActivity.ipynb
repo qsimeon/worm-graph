{
    "cells": [
        {
            "cell_type": "markdown",
            "metadata": {},
            "source": [
                "### Plot a batch of neural activty sequences from train and validation datasets.\n",
                "---\n",
                "*Last updated: 13 November 2023*"
            ]
        },
        {
            "cell_type": "code",
            "execution_count": 1,
            "metadata": {},
            "outputs": [
                {
                    "name": "stdout",
                    "output_type": "stream",
                    "text": [
                        "Loading from /orcd/home/001/qsimeon/worm-graph/data/raw/neuron_master_sheet.csv.\n",
                        "\n",
                        "CUDA device found.\n",
                        "\t GPU: NVIDIA H100 80GB HBM3\n"
                    ]
                }
            ],
            "source": [
                "import os\n",
                "import torch\n",
                "import numpy as np\n",
                "import matplotlib.pyplot as plt\n",
                "\n",
                "from matplotlib.colors import TwoSlopeNorm\n",
                "from matplotlib.collections import LineCollection\n",
                "from utils import NEURON_LABELS, init_random_seeds\n",
                "\n",
                "# Initialize the random seeds\n",
                "init_random_seeds(42)"
            ]
        },
        {
            "cell_type": "markdown",
            "metadata": {},
            "source": [
                "## >>> DEBUG >>>>"
            ]
        },
        {
            "cell_type": "code",
            "execution_count": 2,
            "metadata": {},
            "outputs": [],
            "source": [
                "import pickle\n",
                "from omegaconf import DictConfig, OmegaConf\n",
                "from data._utils import load_dataset, select_desired_worms, select_labeled_neurons, rename_worm_keys\n",
                "from data._utils import NeuralActivityDataset, filter_loaded_combined_dataset"
            ]
        },
        {
            "cell_type": "code",
            "execution_count": 3,
            "metadata": {},
            "outputs": [
                {
                    "name": "stdout",
                    "output_type": "stream",
                    "text": [
                        "use_these_datasets:\n",
                        "  path: null\n",
                        "  num_worms: null\n",
                        "save_datasets: false\n",
                        "source_datasets:\n",
                        "  Kato2015: all\n",
                        "  Nichols2017: all\n",
                        "  Skora2018: all\n",
                        "  Kaplan2020: all\n",
                        "  Nejatbakhsh2020: all\n",
                        "  Yemini2021: all\n",
                        "  Uzel2022: all\n",
                        "  Dag2023: all\n",
                        "  Flavell2023: all\n",
                        "  Leifer2023: all\n",
                        "  Lin2023: all\n",
                        "  Venkatachalam2024: all\n",
                        "num_labeled_neurons: null\n",
                        "seq_len: null\n",
                        "num_train_samples: 16\n",
                        "num_val_samples: 16\n",
                        "reverse: false\n",
                        "use_residual: false\n",
                        "use_smooth: false\n",
                        "train_split_first: false\n",
                        "train_split_ratio: 0.5\n",
                        "\n",
                        "\n"
                    ]
                }
            ],
            "source": [
                "data_config = OmegaConf.load(\"../configs/submodule/data.yaml\").dataset\n",
                "print(OmegaConf.to_yaml(data_config), end=\"\\n\\n\")"
            ]
        },
        {
            "cell_type": "code",
            "execution_count": 4,
            "metadata": {},
            "outputs": [],
            "source": [
                "# Parse out parameters from the config\n",
                "source_datasets = data_config.source_datasets\n",
                "num_labeled_neurons = data_config.num_labeled_neurons\n",
                "num_train_samples = data_config.num_train_samples\n",
                "num_val_samples = data_config.num_val_samples\n",
                "seq_len = data_config.seq_len\n",
                "reverse = data_config.reverse\n",
                "use_residual = data_config.use_residual\n",
                "use_smooth = data_config.use_smooth\n",
                "train_split_first = data_config.train_split_first\n",
                "train_split_ratio = data_config.train_split_ratio\n",
                "save = True  # data_config.save_datasets"
            ]
        },
        {
            "cell_type": "code",
            "execution_count": 5,
            "metadata": {},
            "outputs": [
                {
                    "name": "stdout",
                    "output_type": "stream",
                    "text": [
                        "Kato2015\n",
                        "torch.Size([2198, 300])\n",
                        "torch.Size([2161, 300])\n",
                        "torch.Size([2161, 1])\n",
                        "Nichols2017\n",
                        "torch.Size([4224, 300])\n",
                        "torch.Size([3242, 300])\n",
                        "torch.Size([3242, 1])\n",
                        "Skora2018\n",
                        "torch.Size([2597, 300])\n",
                        "torch.Size([3242, 300])\n",
                        "torch.Size([3242, 1])\n",
                        "Kaplan2020\n",
                        "torch.Size([2812, 300])\n",
                        "torch.Size([5404, 300])\n",
                        "torch.Size([5404, 1])\n",
                        "Nejatbakhsh2020\n",
                        "torch.Size([961, 300])\n",
                        "torch.Size([720, 300])\n",
                        "torch.Size([720, 1])\n",
                        "Yemini2021\n",
                        "torch.Size([980, 300])\n",
                        "torch.Size([717, 300])\n",
                        "torch.Size([717, 1])\n",
                        "Uzel2022\n",
                        "torch.Size([3312, 300])\n",
                        "torch.Size([3242, 300])\n",
                        "torch.Size([3242, 1])\n",
                        "Dag2023\n",
                        "torch.Size([800, 300])\n",
                        "torch.Size([1444, 300])\n",
                        "torch.Size([1444, 1])\n",
                        "Flavell2023\n",
                        "torch.Size([1600, 300])\n",
                        "torch.Size([2889, 300])\n",
                        "torch.Size([2889, 1])\n",
                        "Leifer2023\n",
                        "torch.Size([4454, 300])\n",
                        "torch.Size([6687, 300])\n",
                        "torch.Size([6687, 1])\n",
                        "Lin2023\n",
                        "torch.Size([673, 300])\n",
                        "torch.Size([810, 300])\n",
                        "torch.Size([810, 1])\n",
                        "Venkatachalam2024\n",
                        "torch.Size([4881, 300])\n",
                        "torch.Size([5496, 300])\n",
                        "torch.Size([5496, 1])\n"
                    ]
                }
            ],
            "source": [
                "# If combined_dataset.pickle already exists, load it\n",
                "pickle_file = os.path.join(\"..\", \"datasets\", \"combined_dataset.pickle\")\n",
                "if False:  # os.path.exists(pickle_file):\n",
                "    combined_dataset_dict = pickle.load(pickle_file)\n",
                "    combined_dataset_dict, dataset_info = filter_loaded_combined_dataset(\n",
                "        combined_dataset_dict,\n",
                "        data_config.use_these_datasets.num_worms,\n",
                "        num_labeled_neurons,\n",
                "    )\n",
                "\n",
                "# Otherwise create it from scratch\n",
                "else:\n",
                "    # Convert DictConfig to dict\n",
                "    if isinstance(source_datasets, DictConfig):\n",
                "        source_datasets = OmegaConf.to_object(source_datasets)\n",
                "\n",
                "    # Load the dataset(s)\n",
                "    combined_dataset_dict = dict()\n",
                "\n",
                "    for dataset_name, worms in source_datasets.items():\n",
                "        # Skip if no worms requested for this dataset\n",
                "        if worms is None or worms == 0:\n",
                "            print(f\"Skipping all worms from {dataset_name} dataset.\")\n",
                "            continue\n",
                "\n",
                "        # Create a multi-worm dataset\n",
                "        multi_worms_dataset = load_dataset(dataset_name)\n",
                "\n",
                "        # Select desired worms from this dataset\n",
                "        multi_worms_dataset = select_desired_worms(multi_worms_dataset, worms)\n",
                "\n",
                "        # Select the `num_labeled_neurons` neurons and overwrite the masks\n",
                "        multi_worms_dataset = select_labeled_neurons(multi_worms_dataset, num_labeled_neurons)\n",
                "\n",
                "        # Add the worms from this dataset to the combined dataset\n",
                "        for worm in multi_worms_dataset:\n",
                "            if worm in combined_dataset_dict:\n",
                "                worm_ = (\n",
                "                    max([int(key.split(\"worm\")[-1]) for key in combined_dataset_dict.keys()]) + 1\n",
                "                )\n",
                "                worm_ = \"worm\" + str(worm_)\n",
                "                combined_dataset_dict[worm_] = multi_worms_dataset[worm]\n",
                "                combined_dataset_dict[worm_][\"worm\"] = worm_\n",
                "                combined_dataset_dict[worm_][\"original_worm\"] = worm\n",
                "            else:\n",
                "                combined_dataset_dict[worm] = multi_worms_dataset[worm]\n",
                "                combined_dataset_dict[worm][\"original_worm\"] = worm\n",
                "\n",
                "    print(\"Combined dataset has {} worms\".format(len(combined_dataset_dict)))\n",
                "\n",
                "    # Rename the worm keys so that they are ordered\n",
                "    combined_dataset_dict = rename_worm_keys(combined_dataset_dict)"
            ]
        },
        {
            "cell_type": "code",
            "execution_count": null,
            "metadata": {},
            "outputs": [],
            "source": [
                "# Print to see if everything looks right so far\n",
                "print(len(combined_dataset_dict))\n",
                "print(combined_dataset_dict.keys())\n",
                "print(combined_dataset_dict[\"worm0\"].keys())"
            ]
        },
        {
            "cell_type": "code",
            "execution_count": 7,
            "metadata": {},
            "outputs": [
                {
                    "name": "stdout",
                    "output_type": "stream",
                    "text": [
                        "Chosen sequence length: 329\n",
                        "\n"
                    ]
                }
            ],
            "source": [
                "# Use largest `seq_len` that produces required unique samples from shortest dataset\n",
                "if seq_len is None:\n",
                "    max_num_samples = max(num_train_samples, num_val_samples)\n",
                "    min_timesteps = min(dataset[\"max_timesteps\"] for _, dataset in combined_dataset_dict.items())\n",
                "    seq_len = (min_timesteps // 2) - max_num_samples - 1\n",
                "print(f\"Chosen sequence length: {seq_len}\\n\")"
            ]
        },
        {
            "cell_type": "code",
            "execution_count": 33,
            "metadata": {},
            "outputs": [],
            "source": [
                "# Now we want to save the relevant tensors as a Pytorch dataset\n",
                "combined_datasets = []\n",
                "for wormID, single_worm_dataset in combined_dataset_dict.items():\n",
                "    # TODO: Encapsulate this inner part as a function `split_single_dataset`.\n",
                "    # Extract relevant features from the dataset\n",
                "    data = single_worm_dataset[\"calcium_data\"]\n",
                "    neurons_mask = single_worm_dataset[\"labeled_neurons_mask\"]\n",
                "    time_vec = single_worm_dataset[\"time_in_seconds\"]\n",
                "    worm_dataset = single_worm_dataset[\"source_dataset\"]\n",
                "    original_worm_id = single_worm_dataset[\"original_worm\"]\n",
                "\n",
                "    single_dataset = NeuralActivityDataset(\n",
                "        data=data,\n",
                "        time_vec=time_vec,\n",
                "        neurons_mask=neurons_mask,\n",
                "        wormID=original_worm_id,  # worm ID from the original experimental dataset\n",
                "        worm_dataset=worm_dataset,  # name of the original experimental dataset the data is from\n",
                "        seq_len=seq_len,\n",
                "        num_samples=num_train_samples,\n",
                "        use_residual=use_residual,\n",
                "        reverse=reverse,\n",
                "    )\n",
                "\n",
                "    combined_datasets.append(single_dataset)\n",
                "\n",
                "# Concatenate the datasets\n",
                "combined_dataset_pt = (\n",
                "    torch.utils.data.ConcatDataset(combined_datasets) if len(combined_datasets) else None\n",
                ")  # number of train sequences = number train samples * number of worms"
            ]
        },
        {
            "cell_type": "code",
            "execution_count": 36,
            "metadata": {},
            "outputs": [],
            "source": [
                "data = combined_dataset_dict[\"worm5\"][\"calcium_data\"]\n",
                "neurons_mask = combined_dataset_dict[\"worm5\"][\"labeled_neurons_mask\"]"
            ]
        },
        {
            "cell_type": "code",
            "execution_count": 39,
            "metadata": {},
            "outputs": [
                {
                    "data": {
                        "text/plain": [
                            "(tensor([-0.6152,  0.3711, -0.1854,  ..., -0.5024, -0.9287,  0.0255],\n",
                            "        dtype=torch.float16),\n",
                            " tensor(False))"
                        ]
                    },
                    "execution_count": 39,
                    "metadata": {},
                    "output_type": "execute_result"
                }
            ],
            "source": [
                "data[:, 0], neurons_mask[0]"
            ]
        },
        {
            "cell_type": "markdown",
            "metadata": {},
            "source": [
                "## <<< DEBUG <<<"
            ]
        },
        {
            "cell_type": "code",
            "execution_count": 14,
            "metadata": {},
            "outputs": [
                {
                    "name": "stdout",
                    "output_type": "stream",
                    "text": [
                        "\tneurons: (300,)\n",
                        "\n",
                        "\tdata: (329, 300)\n",
                        "\n",
                        "\ttime: (329,)\n",
                        "\n"
                    ]
                }
            ],
            "source": [
                "# # Choose path to dataset folder containing the train and validation splits\n",
                "# datadir = \".\"\n",
                "\n",
                "# # Choose the train or test dataset\n",
                "# train_or_test = \"test\"\n",
                "# if train_or_test.lower() == \"train\":\n",
                "#     dataset = torch.load(os.path.join(datadir, \"train_AllExperimental\", \"train_dataset.pt\"))\n",
                "# elif train_or_test.lower() == \"test\":\n",
                "#     dataset = torch.load(os.path.join(datadir, \"validation_AllExperimental\", \"val_dataset.pt\"))\n",
                "\n",
                "# Use the combined dataset\n",
                "dataset = combined_dataset_pt\n",
                "\n",
                "# Get the first batch of data\n",
                "X, Y, mask, info = next(iter(dataset))\n",
                "\n",
                "# Select the measure neurons using the mask\n",
                "neurons = np.array(NEURON_LABELS)[mask]\n",
                "print(f\"\\tneurons: {neurons.shape}\\n\")\n",
                "\n",
                "# Convert tensor to numpy for easier handling\n",
                "data = X[:, mask].numpy()\n",
                "print(f\"\\tdata: {data.shape}\\n\")\n",
                "\n",
                "# Time or index - replace this with actual time if needed\n",
                "time = info[\"time_vec\"].numpy()\n",
                "print(f\"\\ttime: {time.shape}\\n\")"
            ]
        },
        {
            "cell_type": "code",
            "execution_count": 21,
            "metadata": {},
            "outputs": [
                {
                    "data": {
                        "text/plain": [
                            "tensor([0, 0, 0, 0, 0, 0, 0, 0, 1, 0, 0, 0, 1, 1, 0, 0, 0, 0, 0, 0, 0, 0, 1, 0,\n",
                            "        0, 0, 0, 0, 0, 0, 0, 0, 0, 0, 0, 0, 0, 0, 0, 0, 0, 0, 0, 0, 0, 0, 0, 0,\n",
                            "        0, 1, 1, 0, 0, 1, 1, 1, 1, 0, 0, 1, 0, 1, 1, 0, 0, 0, 0, 0, 0, 0, 0, 0,\n",
                            "        0, 0, 0, 0, 0, 0, 1, 1, 0, 0, 0, 0, 0, 0, 0, 0, 0, 0, 0, 0, 0, 0, 0, 1,\n",
                            "        1, 0, 0, 0, 0, 0, 0, 0, 0, 0, 0, 0, 0, 0, 0, 0, 0, 0, 0, 0, 0, 0, 0, 0,\n",
                            "        0, 0, 0, 1, 1, 0, 0, 0, 0, 0, 0, 0, 0, 0, 0, 0, 0, 0, 0, 0, 0, 0, 0, 0,\n",
                            "        0, 0, 0, 0, 0, 0, 0, 1, 1, 1, 1, 0, 0, 0, 0, 0, 0, 0, 0, 0, 0, 0, 0, 0,\n",
                            "        0, 0, 0, 0, 0, 0, 0, 0, 0, 0, 0, 0, 0, 0, 0, 0, 0, 0, 0, 1, 1, 0, 0, 1,\n",
                            "        0, 1, 1, 1, 0, 1, 1, 0, 0, 0, 1, 1, 0, 0, 0, 0, 0, 0, 0, 1, 1, 0, 1, 0,\n",
                            "        0, 0, 0, 0, 0, 0, 0, 0, 0, 1, 1, 1, 0, 0, 0, 0, 0, 0, 0, 0, 0, 0, 0, 1,\n",
                            "        0, 0, 0, 0, 1, 0, 0, 0, 0, 0, 0, 0, 1, 0, 0, 0, 0, 0, 1, 0, 0, 0, 0, 0,\n",
                            "        0, 0, 0, 0, 0, 0, 1, 0, 0, 1, 0, 0, 0, 0, 0, 0, 0, 0, 0, 0, 0, 0, 0, 0,\n",
                            "        0, 0, 0, 0, 0, 0, 0, 0, 0, 0, 0, 0])"
                        ]
                    },
                    "execution_count": 21,
                    "metadata": {},
                    "output_type": "execute_result"
                }
            ],
            "source": [
                "mask"
            ]
        },
        {
            "cell_type": "code",
            "execution_count": 32,
            "metadata": {},
            "outputs": [
                {
                    "data": {
                        "text/plain": [
                            "tensor(0)"
                        ]
                    },
                    "execution_count": 32,
                    "metadata": {},
                    "output_type": "execute_result"
                },
                {
                    "data": {
                        "image/png": "[encoded data removed]",
                        "text/plain": [
                            "<Figure size 640x480 with 1 Axes>"
                        ]
                    },
                    "metadata": {},
                    "output_type": "display_data"
                }
            ],
            "source": [
                "plt.plot(X[:, 297])\n",
                "mask[297]"
            ]
        },
        {
            "cell_type": "code",
            "execution_count": 17,
            "metadata": {},
            "outputs": [
                {
                    "ename": "ValueError",
                    "evalue": "vmin, vcenter, and vmax must be in ascending order",
                    "output_type": "error",
                    "traceback": [
                        "\u001b[0;31m---------------------------------------------------------------------------\u001b[0m",
                        "\u001b[0;31mValueError\u001b[0m                                Traceback (most recent call last)",
                        "Cell \u001b[0;32mIn[17], line 12\u001b[0m\n\u001b[1;32m      9\u001b[0m min_activity \u001b[38;5;241m=\u001b[39m np\u001b[38;5;241m.\u001b[39mmin(data)\n\u001b[1;32m     11\u001b[0m \u001b[38;5;66;03m# Normalize the colors with a center at zero\u001b[39;00m\n\u001b[0;32m---> 12\u001b[0m norm \u001b[38;5;241m=\u001b[39m \u001b[43mTwoSlopeNorm\u001b[49m\u001b[43m(\u001b[49m\u001b[43mvcenter\u001b[49m\u001b[38;5;241;43m=\u001b[39;49m\u001b[38;5;241;43m0\u001b[39;49m\u001b[43m,\u001b[49m\u001b[43m \u001b[49m\u001b[43mvmin\u001b[49m\u001b[38;5;241;43m=\u001b[39;49m\u001b[43mmin_activity\u001b[49m\u001b[43m,\u001b[49m\u001b[43m \u001b[49m\u001b[43mvmax\u001b[49m\u001b[38;5;241;43m=\u001b[39;49m\u001b[43mmax_activity\u001b[49m\u001b[43m)\u001b[49m\n\u001b[1;32m     14\u001b[0m \u001b[38;5;66;03m# Iterate through each neuron and create colored lines\u001b[39;00m\n\u001b[1;32m     15\u001b[0m offset \u001b[38;5;241m=\u001b[39m \u001b[38;5;241m1.0\u001b[39m\n",
                        "File \u001b[0;32m~/.conda/envs/worm-graph/lib/python3.12/site-packages/matplotlib/colors.py:1496\u001b[0m, in \u001b[0;36mTwoSlopeNorm.__init__\u001b[0;34m(self, vcenter, vmin, vmax)\u001b[0m\n\u001b[1;32m   1494\u001b[0m \u001b[38;5;28mself\u001b[39m\u001b[38;5;241m.\u001b[39m_vcenter \u001b[38;5;241m=\u001b[39m vcenter\n\u001b[1;32m   1495\u001b[0m \u001b[38;5;28;01mif\u001b[39;00m vcenter \u001b[38;5;129;01mis\u001b[39;00m \u001b[38;5;129;01mnot\u001b[39;00m \u001b[38;5;28;01mNone\u001b[39;00m \u001b[38;5;129;01mand\u001b[39;00m vmax \u001b[38;5;129;01mis\u001b[39;00m \u001b[38;5;129;01mnot\u001b[39;00m \u001b[38;5;28;01mNone\u001b[39;00m \u001b[38;5;129;01mand\u001b[39;00m vcenter \u001b[38;5;241m>\u001b[39m\u001b[38;5;241m=\u001b[39m vmax:\n\u001b[0;32m-> 1496\u001b[0m     \u001b[38;5;28;01mraise\u001b[39;00m \u001b[38;5;167;01mValueError\u001b[39;00m(\u001b[38;5;124m'\u001b[39m\u001b[38;5;124mvmin, vcenter, and vmax must be in \u001b[39m\u001b[38;5;124m'\u001b[39m\n\u001b[1;32m   1497\u001b[0m                      \u001b[38;5;124m'\u001b[39m\u001b[38;5;124mascending order\u001b[39m\u001b[38;5;124m'\u001b[39m)\n\u001b[1;32m   1498\u001b[0m \u001b[38;5;28;01mif\u001b[39;00m vcenter \u001b[38;5;129;01mis\u001b[39;00m \u001b[38;5;129;01mnot\u001b[39;00m \u001b[38;5;28;01mNone\u001b[39;00m \u001b[38;5;129;01mand\u001b[39;00m vmin \u001b[38;5;129;01mis\u001b[39;00m \u001b[38;5;129;01mnot\u001b[39;00m \u001b[38;5;28;01mNone\u001b[39;00m \u001b[38;5;129;01mand\u001b[39;00m vcenter \u001b[38;5;241m<\u001b[39m\u001b[38;5;241m=\u001b[39m vmin:\n\u001b[1;32m   1499\u001b[0m     \u001b[38;5;28;01mraise\u001b[39;00m \u001b[38;5;167;01mValueError\u001b[39;00m(\u001b[38;5;124m'\u001b[39m\u001b[38;5;124mvmin, vcenter, and vmax must be in \u001b[39m\u001b[38;5;124m'\u001b[39m\n\u001b[1;32m   1500\u001b[0m                      \u001b[38;5;124m'\u001b[39m\u001b[38;5;124mascending order\u001b[39m\u001b[38;5;124m'\u001b[39m)\n",
                        "\u001b[0;31mValueError\u001b[0m: vmin, vcenter, and vmax must be in ascending order"
                    ]
                },
                {
                    "data": {
                        "image/png": "[encoded data removed]",
                        "text/plain": [
                            "<Figure size 1200x800 with 1 Axes>"
                        ]
                    },
                    "metadata": {},
                    "output_type": "display_data"
                }
            ],
            "source": [
                "# Set figure and axes\n",
                "fig, ax = plt.subplots(figsize=(12, 8))\n",
                "\n",
                "# Define colormap\n",
                "cmap = plt.get_cmap(\"coolwarm\")\n",
                "\n",
                "# Find the maximum and minimum magnitude of neural activity across all neurons for normalization\n",
                "max_activity = np.max(data)\n",
                "min_activity = np.min(data)\n",
                "\n",
                "# Normalize the colors with a center at zero\n",
                "norm = TwoSlopeNorm(vcenter=0, vmin=min_activity, vmax=max_activity)\n",
                "\n",
                "# Iterate through each neuron and create colored lines\n",
                "offset = 1.0\n",
                "segments = []\n",
                "colors = []\n",
                "\n",
                "for i in range(data.shape[1]):\n",
                "    for j in range(len(time) - 1):\n",
                "        segment = [\n",
                "            (time[j], data[j, i] + i * offset),\n",
                "            (time[j + 1], data[j + 1, i] + i * offset),\n",
                "        ]\n",
                "        segments.append(segment)\n",
                "\n",
                "        color = cmap(norm(data[j, i]))\n",
                "        colors.append(color)\n",
                "\n",
                "# Create a LineCollection from segments and set the colors\n",
                "lc = LineCollection(segments, colors=colors, linewidth=1.2)\n",
                "ax.add_collection(lc)\n",
                "\n",
                "# Set the limits of the plot\n",
                "ax.set_xlim(time[0], time[-1])\n",
                "ax.set_ylim(-2 * offset, (data.shape[1] + 2) * offset)\n",
                "\n",
                "# Set yticks and other aesthetics\n",
                "ytick_positions = [i * offset for i in range(data.shape[1])]\n",
                "ax.set_yticks(ytick_positions)\n",
                "ax.set_yticklabels(neurons, fontsize=10)\n",
                "ax.grid(axis=\"y\", which=\"both\", linestyle=\"--\", linewidth=0.5, alpha=0.5)\n",
                "ax.spines[\"top\"].set_visible(False)\n",
                "ax.spines[\"right\"].set_visible(False)\n",
                "ax.set_xlabel(\"Time (seconds)\")\n",
                "ax.set_ylabel(\"Labeled Neurons\")\n",
                "# ax.set_title(f\"{train_or_test.upper()} Dataset: Batch of Neural Activity Sequences\")\n",
                "ax.set_title(f\"Combined Dataset: Batch of Neural Activity Sequences\")\n",
                "\n",
                "# Add colorbar\n",
                "sm = plt.cm.ScalarMappable(cmap=cmap, norm=norm)\n",
                "sm.set_array([])\n",
                "cbar = plt.colorbar(sm, ax=ax)\n",
                "cbar.set_label(\"Neural Activity\")\n",
                "\n",
                "# Show the plot\n",
                "plt.tight_layout()\n",
                "plt.show()"
            ]
        },
        {
            "cell_type": "markdown",
            "metadata": {},
            "source": []
        },
        {
            "cell_type": "markdown",
            "metadata": {},
            "source": []
        },
        {
            "cell_type": "markdown",
            "metadata": {},
            "source": []
        }
    ],
    "metadata": {
        "kernelspec": {
            "display_name": "worm-graph",
            "language": "python",
            "name": "python3"
        },
        "language_info": {
            "codemirror_mode": {
                "name": "ipython",
                "version": 3
            },
            "file_extension": ".py",
            "mimetype": "text/x-python",
            "name": "python",
            "nbconvert_exporter": "python",
            "pygments_lexer": "ipython3",
            "version": "3.12.7"
        }
    },
    "nbformat": 4,
    "nbformat_minor": 2
}
