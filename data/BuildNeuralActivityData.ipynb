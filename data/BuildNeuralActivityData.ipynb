{
 "cells": [
  {
   "cell_type": "markdown",
   "metadata": {},
   "source": [
    "### Create the files  - containing the neural activity data \n",
    "---\n",
    "*Last updated: 21 October 2024*\n",
    "\n",
    "This is meant to be a direct implementation of the main operation of the `data` submodule (`data/_main.py`).\n",
    "\n",
    "The final output is the creation of the files `data/datasets/combined_dataset.pickle` and `data/datasets/full_dataset.pt`."
   ]
  },
  {
   "cell_type": "code",
   "execution_count": 4,
   "metadata": {},
   "outputs": [],
   "source": [
    "import os\n",
    "import torch\n",
    "import pickle\n",
    "from utils import ROOT_DIR\n",
    "from omegaconf import DictConfig, OmegaConf\n",
    "from data._utils import (\n",
    "    NeuralActivityDataset,\n",
    "    load_dataset,\n",
    "    select_desired_worms,\n",
    "    select_labeled_neurons,\n",
    "    rename_worm_keys,\n",
    "    filter_loaded_combined_dataset,\n",
    ")"
   ]
  },
  {
   "cell_type": "code",
   "execution_count": 5,
   "metadata": {},
   "outputs": [
    {
     "name": "stdout",
     "output_type": "stream",
     "text": [
      "use_these_datasets:\n",
      "  path: null\n",
      "  num_worms: null\n",
      "save_datasets: true\n",
      "source_datasets:\n",
      "  Kato2015: all\n",
      "  Nichols2017: all\n",
      "  Skora2018: all\n",
      "  Kaplan2020: all\n",
      "  Nejatbakhsh2020: all\n",
      "  Yemini2021: all\n",
      "  Uzel2022: all\n",
      "  Dag2023: all\n",
      "  Flavell2023: all\n",
      "  Leifer2023: all\n",
      "  Lin2023: all\n",
      "  Venkatachalam2024: all\n",
      "num_labeled_neurons: null\n",
      "seq_len: null\n",
      "num_train_samples: 16\n",
      "num_val_samples: 16\n",
      "reverse: false\n",
      "use_residual: false\n",
      "use_smooth: false\n",
      "train_split_first: false\n",
      "train_split_ratio: 0.5\n",
      "\n",
      "\n"
     ]
    }
   ],
   "source": [
    "data_config = OmegaConf.load(\"../configs/submodule/data.yaml\").dataset\n",
    "print(OmegaConf.to_yaml(data_config), end=\"\\n\\n\")"
   ]
  },
  {
   "cell_type": "code",
   "execution_count": 6,
   "metadata": {},
   "outputs": [],
   "source": [
    "# Parse out parameters from the config\n",
    "source_datasets = data_config.source_datasets\n",
    "num_labeled_neurons = data_config.num_labeled_neurons\n",
    "num_train_samples = data_config.num_train_samples\n",
    "num_val_samples = data_config.num_val_samples\n",
    "seq_len = data_config.seq_len\n",
    "reverse = data_config.reverse\n",
    "use_residual = data_config.use_residual\n",
    "use_smooth = data_config.use_smooth\n",
    "train_split_first = data_config.train_split_first\n",
    "train_split_ratio = data_config.train_split_ratio\n",
    "save = True  # data_config.save_datasets"
   ]
  },
  {
   "cell_type": "code",
   "execution_count": 7,
   "metadata": {},
   "outputs": [
    {
     "name": "stdout",
     "output_type": "stream",
     "text": [
      "Combined dataset has 919 worms\n"
     ]
    }
   ],
   "source": [
    "# Make the datasets directory if it doesn't exist\n",
    "os.makedirs(os.path.join(ROOT_DIR, \"data\", \"datasets\"), exist_ok=True)\n",
    "\n",
    "# If combined_dataset.pickle already exists, load it\n",
    "pickle_file = os.path.join(\"datasets\", \"combined_dataset.pickle\")\n",
    "if os.path.exists(pickle_file):\n",
    "    combined_dataset_dict = pickle.load(pickle_file)\n",
    "    combined_dataset_dict, dataset_info = filter_loaded_combined_dataset(\n",
    "        combined_dataset_dict,\n",
    "        data_config.use_these_datasets.num_worms,\n",
    "        num_labeled_neurons,\n",
    "    )\n",
    "\n",
    "# Otherwise create it from scratch\n",
    "else:\n",
    "    # Convert DictConfig to dict\n",
    "    if isinstance(source_datasets, DictConfig):\n",
    "        source_datasets = OmegaConf.to_object(source_datasets)\n",
    "\n",
    "    # Load the dataset(s)\n",
    "    combined_dataset_dict = dict()\n",
    "\n",
    "    for dataset_name, worms in source_datasets.items():\n",
    "        # Skip if no worms requested for this dataset\n",
    "        if worms is None or worms == 0:\n",
    "            print(f\"Skipping all worms from {dataset_name} dataset.\")\n",
    "            continue\n",
    "\n",
    "        # Create a multi-worm dataset\n",
    "        multi_worms_dataset = load_dataset(dataset_name)\n",
    "\n",
    "        # Select desired worms from this dataset\n",
    "        multi_worms_dataset = select_desired_worms(multi_worms_dataset, worms)\n",
    "\n",
    "        # Select the `num_labeled_neurons` neurons and overwrite the masks\n",
    "        multi_worms_dataset = select_labeled_neurons(multi_worms_dataset, num_labeled_neurons)\n",
    "\n",
    "        # Add the worms from this dataset to the combined dataset\n",
    "        for worm in multi_worms_dataset:\n",
    "            if worm in combined_dataset_dict:\n",
    "                worm_ = (\n",
    "                    max([int(key.split(\"worm\")[-1]) for key in combined_dataset_dict.keys()]) + 1\n",
    "                )\n",
    "                worm_ = \"worm\" + str(worm_)\n",
    "                combined_dataset_dict[worm_] = multi_worms_dataset[worm]\n",
    "                combined_dataset_dict[worm_][\"worm\"] = worm_\n",
    "                combined_dataset_dict[worm_][\"original_worm\"] = worm\n",
    "            else:\n",
    "                combined_dataset_dict[worm] = multi_worms_dataset[worm]\n",
    "                combined_dataset_dict[worm][\"original_worm\"] = worm\n",
    "\n",
    "    print(\"Combined dataset has {} worms\".format(len(combined_dataset_dict)))\n",
    "\n",
    "    # Rename the worm keys so that they are ordered\n",
    "    combined_dataset_dict = rename_worm_keys(combined_dataset_dict)"
   ]
  },
  {
   "cell_type": "code",
   "execution_count": 8,
   "metadata": {},
   "outputs": [
    {
     "name": "stdout",
     "output_type": "stream",
     "text": [
      "919\n",
      "dict_keys(['worm0', 'worm1', 'worm2', 'worm3', 'worm4', 'worm5', 'worm6', 'worm7', 'worm8', 'worm9', 'worm10', 'worm11', 'worm12', 'worm13', 'worm14', 'worm15', 'worm16', 'worm17', 'worm18', 'worm19', 'worm20', 'worm21', 'worm22', 'worm23', 'worm24', 'worm25', 'worm26', 'worm27', 'worm28', 'worm29', 'worm30', 'worm31', 'worm32', 'worm33', 'worm34', 'worm35', 'worm36', 'worm37', 'worm38', 'worm39', 'worm40', 'worm41', 'worm42', 'worm43', 'worm44', 'worm45', 'worm46', 'worm47', 'worm48', 'worm49', 'worm50', 'worm51', 'worm52', 'worm53', 'worm54', 'worm55', 'worm56', 'worm57', 'worm58', 'worm59', 'worm60', 'worm61', 'worm62', 'worm63', 'worm64', 'worm65', 'worm66', 'worm67', 'worm68', 'worm69', 'worm70', 'worm71', 'worm72', 'worm73', 'worm74', 'worm75', 'worm76', 'worm77', 'worm78', 'worm79', 'worm80', 'worm81', 'worm82', 'worm83', 'worm84', 'worm85', 'worm86', 'worm87', 'worm88', 'worm89', 'worm90', 'worm91', 'worm92', 'worm93', 'worm94', 'worm95', 'worm96', 'worm97', 'worm98', 'worm99', 'worm100', 'worm101', 'worm102', 'worm103', 'worm104', 'worm105', 'worm106', 'worm107', 'worm108', 'worm109', 'worm110', 'worm111', 'worm112', 'worm113', 'worm114', 'worm115', 'worm116', 'worm117', 'worm118', 'worm119', 'worm120', 'worm121', 'worm122', 'worm123', 'worm124', 'worm125', 'worm126', 'worm127', 'worm128', 'worm129', 'worm130', 'worm131', 'worm132', 'worm133', 'worm134', 'worm135', 'worm136', 'worm137', 'worm138', 'worm139', 'worm140', 'worm141', 'worm142', 'worm143', 'worm144', 'worm145', 'worm146', 'worm147', 'worm148', 'worm149', 'worm150', 'worm151', 'worm152', 'worm153', 'worm154', 'worm155', 'worm156', 'worm157', 'worm158', 'worm159', 'worm160', 'worm161', 'worm162', 'worm163', 'worm164', 'worm165', 'worm166', 'worm167', 'worm168', 'worm169', 'worm170', 'worm171', 'worm172', 'worm173', 'worm174', 'worm175', 'worm176', 'worm177', 'worm178', 'worm179', 'worm180', 'worm181', 'worm182', 'worm183', 'worm184', 'worm185', 'worm186', 'worm187', 'worm188', 'worm189', 'worm190', 'worm191', 'worm192', 'worm193', 'worm194', 'worm195', 'worm196', 'worm197', 'worm198', 'worm199', 'worm200', 'worm201', 'worm202', 'worm203', 'worm204', 'worm205', 'worm206', 'worm207', 'worm208', 'worm209', 'worm210', 'worm211', 'worm212', 'worm213', 'worm214', 'worm215', 'worm216', 'worm217', 'worm218', 'worm219', 'worm220', 'worm221', 'worm222', 'worm223', 'worm224', 'worm225', 'worm226', 'worm227', 'worm228', 'worm229', 'worm230', 'worm231', 'worm232', 'worm233', 'worm234', 'worm235', 'worm236', 'worm237', 'worm238', 'worm239', 'worm240', 'worm241', 'worm242', 'worm243', 'worm244', 'worm245', 'worm246', 'worm247', 'worm248', 'worm249', 'worm250', 'worm251', 'worm252', 'worm253', 'worm254', 'worm255', 'worm256', 'worm257', 'worm258', 'worm259', 'worm260', 'worm261', 'worm262', 'worm263', 'worm264', 'worm265', 'worm266', 'worm267', 'worm268', 'worm269', 'worm270', 'worm271', 'worm272', 'worm273', 'worm274', 'worm275', 'worm276', 'worm277', 'worm278', 'worm279', 'worm280', 'worm281', 'worm282', 'worm283', 'worm284', 'worm285', 'worm286', 'worm287', 'worm288', 'worm289', 'worm290', 'worm291', 'worm292', 'worm293', 'worm294', 'worm295', 'worm296', 'worm297', 'worm298', 'worm299', 'worm300', 'worm301', 'worm302', 'worm303', 'worm304', 'worm305', 'worm306', 'worm307', 'worm308', 'worm309', 'worm310', 'worm311', 'worm312', 'worm313', 'worm314', 'worm315', 'worm316', 'worm317', 'worm318', 'worm319', 'worm320', 'worm321', 'worm322', 'worm323', 'worm324', 'worm325', 'worm326', 'worm327', 'worm328', 'worm329', 'worm330', 'worm331', 'worm332', 'worm333', 'worm334', 'worm335', 'worm336', 'worm337', 'worm338', 'worm339', 'worm340', 'worm341', 'worm342', 'worm343', 'worm344', 'worm345', 'worm346', 'worm347', 'worm348', 'worm349', 'worm350', 'worm351', 'worm352', 'worm353', 'worm354', 'worm355', 'worm356', 'worm357', 'worm358', 'worm359', 'worm360', 'worm361', 'worm362', 'worm363', 'worm364', 'worm365', 'worm366', 'worm367', 'worm368', 'worm369', 'worm370', 'worm371', 'worm372', 'worm373', 'worm374', 'worm375', 'worm376', 'worm377', 'worm378', 'worm379', 'worm380', 'worm381', 'worm382', 'worm383', 'worm384', 'worm385', 'worm386', 'worm387', 'worm388', 'worm389', 'worm390', 'worm391', 'worm392', 'worm393', 'worm394', 'worm395', 'worm396', 'worm397', 'worm398', 'worm399', 'worm400', 'worm401', 'worm402', 'worm403', 'worm404', 'worm405', 'worm406', 'worm407', 'worm408', 'worm409', 'worm410', 'worm411', 'worm412', 'worm413', 'worm414', 'worm415', 'worm416', 'worm417', 'worm418', 'worm419', 'worm420', 'worm421', 'worm422', 'worm423', 'worm424', 'worm425', 'worm426', 'worm427', 'worm428', 'worm429', 'worm430', 'worm431', 'worm432', 'worm433', 'worm434', 'worm435', 'worm436', 'worm437', 'worm438', 'worm439', 'worm440', 'worm441', 'worm442', 'worm443', 'worm444', 'worm445', 'worm446', 'worm447', 'worm448', 'worm449', 'worm450', 'worm451', 'worm452', 'worm453', 'worm454', 'worm455', 'worm456', 'worm457', 'worm458', 'worm459', 'worm460', 'worm461', 'worm462', 'worm463', 'worm464', 'worm465', 'worm466', 'worm467', 'worm468', 'worm469', 'worm470', 'worm471', 'worm472', 'worm473', 'worm474', 'worm475', 'worm476', 'worm477', 'worm478', 'worm479', 'worm480', 'worm481', 'worm482', 'worm483', 'worm484', 'worm485', 'worm486', 'worm487', 'worm488', 'worm489', 'worm490', 'worm491', 'worm492', 'worm493', 'worm494', 'worm495', 'worm496', 'worm497', 'worm498', 'worm499', 'worm500', 'worm501', 'worm502', 'worm503', 'worm504', 'worm505', 'worm506', 'worm507', 'worm508', 'worm509', 'worm510', 'worm511', 'worm512', 'worm513', 'worm514', 'worm515', 'worm516', 'worm517', 'worm518', 'worm519', 'worm520', 'worm521', 'worm522', 'worm523', 'worm524', 'worm525', 'worm526', 'worm527', 'worm528', 'worm529', 'worm530', 'worm531', 'worm532', 'worm533', 'worm534', 'worm535', 'worm536', 'worm537', 'worm538', 'worm539', 'worm540', 'worm541', 'worm542', 'worm543', 'worm544', 'worm545', 'worm546', 'worm547', 'worm548', 'worm549', 'worm550', 'worm551', 'worm552', 'worm553', 'worm554', 'worm555', 'worm556', 'worm557', 'worm558', 'worm559', 'worm560', 'worm561', 'worm562', 'worm563', 'worm564', 'worm565', 'worm566', 'worm567', 'worm568', 'worm569', 'worm570', 'worm571', 'worm572', 'worm573', 'worm574', 'worm575', 'worm576', 'worm577', 'worm578', 'worm579', 'worm580', 'worm581', 'worm582', 'worm583', 'worm584', 'worm585', 'worm586', 'worm587', 'worm588', 'worm589', 'worm590', 'worm591', 'worm592', 'worm593', 'worm594', 'worm595', 'worm596', 'worm597', 'worm598', 'worm599', 'worm600', 'worm601', 'worm602', 'worm603', 'worm604', 'worm605', 'worm606', 'worm607', 'worm608', 'worm609', 'worm610', 'worm611', 'worm612', 'worm613', 'worm614', 'worm615', 'worm616', 'worm617', 'worm618', 'worm619', 'worm620', 'worm621', 'worm622', 'worm623', 'worm624', 'worm625', 'worm626', 'worm627', 'worm628', 'worm629', 'worm630', 'worm631', 'worm632', 'worm633', 'worm634', 'worm635', 'worm636', 'worm637', 'worm638', 'worm639', 'worm640', 'worm641', 'worm642', 'worm643', 'worm644', 'worm645', 'worm646', 'worm647', 'worm648', 'worm649', 'worm650', 'worm651', 'worm652', 'worm653', 'worm654', 'worm655', 'worm656', 'worm657', 'worm658', 'worm659', 'worm660', 'worm661', 'worm662', 'worm663', 'worm664', 'worm665', 'worm666', 'worm667', 'worm668', 'worm669', 'worm670', 'worm671', 'worm672', 'worm673', 'worm674', 'worm675', 'worm676', 'worm677', 'worm678', 'worm679', 'worm680', 'worm681', 'worm682', 'worm683', 'worm684', 'worm685', 'worm686', 'worm687', 'worm688', 'worm689', 'worm690', 'worm691', 'worm692', 'worm693', 'worm694', 'worm695', 'worm696', 'worm697', 'worm698', 'worm699', 'worm700', 'worm701', 'worm702', 'worm703', 'worm704', 'worm705', 'worm706', 'worm707', 'worm708', 'worm709', 'worm710', 'worm711', 'worm712', 'worm713', 'worm714', 'worm715', 'worm716', 'worm717', 'worm718', 'worm719', 'worm720', 'worm721', 'worm722', 'worm723', 'worm724', 'worm725', 'worm726', 'worm727', 'worm728', 'worm729', 'worm730', 'worm731', 'worm732', 'worm733', 'worm734', 'worm735', 'worm736', 'worm737', 'worm738', 'worm739', 'worm740', 'worm741', 'worm742', 'worm743', 'worm744', 'worm745', 'worm746', 'worm747', 'worm748', 'worm749', 'worm750', 'worm751', 'worm752', 'worm753', 'worm754', 'worm755', 'worm756', 'worm757', 'worm758', 'worm759', 'worm760', 'worm761', 'worm762', 'worm763', 'worm764', 'worm765', 'worm766', 'worm767', 'worm768', 'worm769', 'worm770', 'worm771', 'worm772', 'worm773', 'worm774', 'worm775', 'worm776', 'worm777', 'worm778', 'worm779', 'worm780', 'worm781', 'worm782', 'worm783', 'worm784', 'worm785', 'worm786', 'worm787', 'worm788', 'worm789', 'worm790', 'worm791', 'worm792', 'worm793', 'worm794', 'worm795', 'worm796', 'worm797', 'worm798', 'worm799', 'worm800', 'worm801', 'worm802', 'worm803', 'worm804', 'worm805', 'worm806', 'worm807', 'worm808', 'worm809', 'worm810', 'worm811', 'worm812', 'worm813', 'worm814', 'worm815', 'worm816', 'worm817', 'worm818', 'worm819', 'worm820', 'worm821', 'worm822', 'worm823', 'worm824', 'worm825', 'worm826', 'worm827', 'worm828', 'worm829', 'worm830', 'worm831', 'worm832', 'worm833', 'worm834', 'worm835', 'worm836', 'worm837', 'worm838', 'worm839', 'worm840', 'worm841', 'worm842', 'worm843', 'worm844', 'worm845', 'worm846', 'worm847', 'worm848', 'worm849', 'worm850', 'worm851', 'worm852', 'worm853', 'worm854', 'worm855', 'worm856', 'worm857', 'worm858', 'worm859', 'worm860', 'worm861', 'worm862', 'worm863', 'worm864', 'worm865', 'worm866', 'worm867', 'worm868', 'worm869', 'worm870', 'worm871', 'worm872', 'worm873', 'worm874', 'worm875', 'worm876', 'worm877', 'worm878', 'worm879', 'worm880', 'worm881', 'worm882', 'worm883', 'worm884', 'worm885', 'worm886', 'worm887', 'worm888', 'worm889', 'worm890', 'worm891', 'worm892', 'worm893', 'worm894', 'worm895', 'worm896', 'worm897', 'worm898', 'worm899', 'worm900', 'worm901', 'worm902', 'worm903', 'worm904', 'worm905', 'worm906', 'worm907', 'worm908', 'worm909', 'worm910', 'worm911', 'worm912', 'worm913', 'worm914', 'worm915', 'worm916', 'worm917', 'worm918'])\n",
      "dict_keys(['calcium_data', 'source_dataset', 'dt', 'interpolate_method', 'max_timesteps', 'median_dt', 'num_labeled_neurons', 'num_neurons', 'num_unlabeled_neurons', 'original_dt', 'original_calcium_data', 'original_max_timesteps', 'original_median_dt', 'original_residual_calcium', 'original_smooth_calcium_data', 'original_smooth_residual_calcium', 'original_time_in_seconds', 'residual_calcium', 'smooth_calcium_data', 'smooth_method', 'smooth_residual_calcium', 'time_in_seconds', 'worm', 'extra_info', 'labeled_neuron_to_slot', 'labeled_neurons_mask', 'neuron_to_slot', 'neurons_mask', 'slot_to_labeled_neuron', 'slot_to_neuron', 'slot_to_unlabeled_neuron', 'unlabeled_neuron_to_slot', 'unlabeled_neurons_mask', 'original_worm'])\n"
     ]
    }
   ],
   "source": [
    "# Print to see if everything looks right so far\n",
    "print(len(combined_dataset_dict))\n",
    "print(combined_dataset_dict.keys())\n",
    "print(combined_dataset_dict[\"worm0\"].keys())"
   ]
  },
  {
   "cell_type": "code",
   "execution_count": 9,
   "metadata": {},
   "outputs": [
    {
     "name": "stdout",
     "output_type": "stream",
     "text": [
      "Chosen sequence length: 329\n",
      "\n"
     ]
    }
   ],
   "source": [
    "# Use largest `seq_len` that produces required unique samples from shortest dataset\n",
    "if seq_len is None:\n",
    "    max_num_samples = max(num_train_samples, num_val_samples)\n",
    "    min_timesteps = min(dataset[\"max_timesteps\"] for _, dataset in combined_dataset_dict.items())\n",
    "    seq_len = (min_timesteps // 2) - max_num_samples - 1\n",
    "print(f\"Chosen sequence length: {seq_len}\\n\")"
   ]
  },
  {
   "cell_type": "code",
   "execution_count": 10,
   "metadata": {},
   "outputs": [],
   "source": [
    "# Now we want to save the relevant tensors as a Pytorch dataset\n",
    "combined_datasets = []\n",
    "for wormID, single_worm_dataset in combined_dataset_dict.items():\n",
    "    # TODO: Encapsulate this inner part as a function `split_single_dataset`.\n",
    "    # Extract relevant features from the dataset\n",
    "    data = single_worm_dataset[\"calcium_data\"]\n",
    "    neurons_mask = single_worm_dataset[\"labeled_neurons_mask\"]\n",
    "    time_vec = single_worm_dataset[\"time_in_seconds\"]\n",
    "    worm_dataset = single_worm_dataset[\"source_dataset\"]\n",
    "    original_worm_id = single_worm_dataset[\"original_worm\"]\n",
    "\n",
    "    single_dataset = NeuralActivityDataset(\n",
    "        data=data,\n",
    "        time_vec=time_vec,\n",
    "        neurons_mask=neurons_mask,\n",
    "        wormID=original_worm_id,  # worm ID from the original experimental dataset\n",
    "        worm_dataset=worm_dataset,  # name of the original experimental dataset the data is from\n",
    "        seq_len=seq_len,\n",
    "        num_samples=num_train_samples + num_val_samples,\n",
    "        use_residual=use_residual,\n",
    "        reverse=reverse,\n",
    "    )\n",
    "\n",
    "    combined_datasets.append(single_dataset)\n",
    "\n",
    "    # ### DEBUG ###\n",
    "    # print(f\"\\nDEBUG neurons_mask: {neurons_mask.shape, neurons_mask.sum()}\")\n",
    "    # print(data[:seq_len, neurons_mask])\n",
    "    # X, M, info = single_dataset[0]\n",
    "    # print(f\"\\nDEBUG M: {M.shape, M.sum()}\")\n",
    "    # print(X[:, M])\n",
    "    # ### DEBUG ###\n",
    "\n",
    "# Concatenate the datasets\n",
    "combined_dataset_pt = (\n",
    "    torch.utils.data.ConcatDataset(combined_datasets) if len(combined_datasets) else None\n",
    ")  # number of train sequences = number train samples * number of worms"
   ]
  },
  {
   "cell_type": "code",
   "execution_count": 11,
   "metadata": {},
   "outputs": [],
   "source": [
    "# DEBUG\n",
    "# len(combined_datasets), 919*32, len(combined_dataset_dict)\n",
    "# wormid = 'worm275'\n",
    "# combined_dataset_dict[wormid]['source_dataset'], combined_dataset_dict[wormid]['worm'], combined_dataset_dict[wormid]['original_worm']"
   ]
  },
  {
   "cell_type": "code",
   "execution_count": 12,
   "metadata": {},
   "outputs": [],
   "source": [
    "# Save the combined dataset (both pickle and pt version)\n",
    "torch.save(combined_dataset_pt, os.path.join(ROOT_DIR, \"data\", \"datasets\", \"full_dataset.pt\"))\n",
    "with open(os.path.join(ROOT_DIR, \"data\", \"datasets\", \"combined_dataset.pickle\"), \"wb\") as f:\n",
    "    pickle.dump(combined_dataset_dict, f)"
   ]
  },
  {
   "cell_type": "markdown",
   "metadata": {},
   "source": []
  },
  {
   "cell_type": "markdown",
   "metadata": {},
   "source": []
  },
  {
   "cell_type": "markdown",
   "metadata": {},
   "source": []
  }
 ],
 "metadata": {
  "kernelspec": {
   "display_name": "worm-graph",
   "language": "python",
   "name": "python3"
  },
  "language_info": {
   "codemirror_mode": {
    "name": "ipython",
    "version": 3
   },
   "file_extension": ".py",
   "mimetype": "text/x-python",
   "name": "python",
   "nbconvert_exporter": "python",
   "pygments_lexer": "ipython3",
   "version": "3.12.7"
  }
 },
 "nbformat": 4,
 "nbformat_minor": 2
}
