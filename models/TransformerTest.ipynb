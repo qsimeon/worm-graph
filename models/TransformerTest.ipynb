{
 "cells": [
  {
   "cell_type": "code",
   "execution_count": 3,
   "metadata": {},
   "outputs": [
    {
     "name": "stdout",
     "output_type": "stream",
     "text": [
      "Defaulting to CPU.\n",
      "2.1.0+cu121\n",
      "(self, src: torch.Tensor, src_mask: Optional[torch.Tensor] = None, src_key_padding_mask: Optional[torch.Tensor] = None, is_causal: bool = False) -> torch.Tensor\n"
     ]
    }
   ],
   "source": [
    "import torch\n",
    "import inspect\n",
    "import torch.nn as nn\n",
    "\n",
    "from utils import DEVICE\n",
    "from torch.nn import Transformer\n",
    "\n",
    "print(torch.__version__)\n",
    "print(inspect.signature(nn.TransformerEncoderLayer.forward))\n",
    "\n",
    "generate_square_subsequent_mask = Transformer.generate_square_subsequent_mask\n",
    "\n",
    "# Example usage:\n",
    "encoder_layer = torch.nn.TransformerEncoderLayer(d_model=512, nhead=8)\n",
    "src = torch.rand(10, 32, 512)  # (seq_len, batch_size, feature_number)\n",
    "causal_mask = generate_square_subsequent_mask(src.size(0), device=DEVICE)\n",
    "out = encoder_layer(src, src_mask=causal_mask, is_causal=True)"
   ]
  },
  {
   "cell_type": "markdown",
   "metadata": {},
   "source": []
  },
  {
   "cell_type": "markdown",
   "metadata": {},
   "source": []
  },
  {
   "cell_type": "markdown",
   "metadata": {},
   "source": []
  }
 ],
 "metadata": {
  "kernelspec": {
   "display_name": "Python 3",
   "language": "python",
   "name": "python3"
  },
  "language_info": {
   "codemirror_mode": {
    "name": "ipython",
    "version": 3
   },
   "file_extension": ".py",
   "mimetype": "text/x-python",
   "name": "python",
   "nbconvert_exporter": "python",
   "pygments_lexer": "ipython3",
   "version": "3.9.18"
  }
 },
 "nbformat": 4,
 "nbformat_minor": 2
}
