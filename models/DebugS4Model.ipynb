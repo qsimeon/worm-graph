{
 "cells": [
  {
   "cell_type": "markdown",
   "metadata": {},
   "source": [
    "## Imports"
   ]
  },
  {
   "cell_type": "code",
   "execution_count": 2,
   "metadata": {},
   "outputs": [],
   "source": [
    "# referenced https://srush.github.io/annotated-s4/#part-1b-addressing-long-range-dependencies-with-hippo\n",
    "\n",
    "import torch\n",
    "import numpy as np\n",
    "import matplotlib.pyplot as plt\n",
    "\n",
    "from scipy.signal import fftconvolve"
   ]
  },
  {
   "cell_type": "markdown",
   "metadata": {},
   "source": [
    "## Quilee test SSSM"
   ]
  },
  {
   "cell_type": "code",
   "execution_count": 27,
   "metadata": {},
   "outputs": [],
   "source": [
    "class SSM(torch.nn.Module):\n",
    "    \"\"\"State Space Model.\n",
    "\n",
    "    Parameters:\n",
    "        input_size: Number of input neurons\n",
    "        hidden_size: Number of hidden neurons\n",
    "\n",
    "    Inputs:\n",
    "        input: tensor of shape (seq_len, batch, input_size)\n",
    "        hidden: tensor of shape (batch, hidden_size), initial hidden activity\n",
    "            if None, hidden is initialized through self.init_hidden()\n",
    "\n",
    "    Outputs:\n",
    "        output: tensor of shape (batch, seq_len, hidden_size)\n",
    "        hidden: tensor of shape (batch, hidden_size), final hidden activity\n",
    "    \"\"\"\n",
    "\n",
    "    def __init__(self, input_size, hidden_size):\n",
    "        super().__init__()\n",
    "        self.input_size = input_size\n",
    "        self.hidden_size = hidden_size\n",
    "        # SSM parameters\n",
    "        self.A = torch.nn.Linear(self.hidden_size, self.hidden_size, bias=False)\n",
    "        self.A.weight = torch.nn.Parameter(self.make_HiPPO(self.hidden_size), requires_grad=False)\n",
    "        self.B = torch.nn.Linear(self.input_size, self.hidden_size, bias=False)\n",
    "        self.step = torch.nn.Parameter(torch.ones(1, hidden_size))\n",
    "        \n",
    "    def discretize(self):\n",
    "        I = torch.eye(self.hidden_size)\n",
    "        BL = torch.linalg.inv(I - (self.step / 2.0) * self.A.weight)\n",
    "        Ab = BL @ (I + (self.step / 2.0) * self.A.weight)\n",
    "        Bb = (BL * self.step) @ self.B.weight\n",
    "        self.A.weight.data = Ab\n",
    "        self.B.weight.data = Bb\n",
    "        return None\n",
    "\n",
    "    def make_HiPPO(self, N):\n",
    "        P = torch.sqrt(1 + 2 * torch.arange(N))\n",
    "        A = P.unsqueeze(-1) @ P.unsqueeze(0)\n",
    "        A = torch.tril(A) - torch.diag(torch.arange(N))\n",
    "        return -A\n",
    "\n",
    "    def init_hidden(self, input_shape):\n",
    "        device = next(self.parameters()).device\n",
    "        batch_size = input_shape[0]  # because batch_first=True\n",
    "        hidden = torch.zeros(batch_size, self.hidden_size).to(device)\n",
    "        return hidden\n",
    "\n",
    "    def recurrence(self, input, hidden):\n",
    "        \"\"\"\n",
    "        Run network for one time step.\n",
    "\n",
    "        Inputs:\n",
    "            input: tensor of shape (batch, input_size)\n",
    "            hidden: tensor of shape (batch, hidden_size)\n",
    "\n",
    "        Outputs:\n",
    "            h_new: tensor of shape (batch, hidden_size),\n",
    "                network activity at the next time step\n",
    "        \"\"\"\n",
    "        # print(f\"hidden: {hidden.shape} \\n input: {input.shape}\")\n",
    "        # print(f\"A: {type(self.A), self.A.weight.shape} \\n Bb: {type(self.A), self.A.weight.shape}\")\n",
    "        h_new = self.A(hidden) + self.B(input)\n",
    "        return h_new\n",
    "\n",
    "    def forward(self, input, hidden=None):\n",
    "        \"\"\"\n",
    "        Propagate input through the network. NOTE: Because we use\n",
    "        batch_first=True, input has shape (batch, seq_len, input_size).\n",
    "        \"\"\"\n",
    "        # If hidden activity is not provided, initialize it\n",
    "        if hidden is None:\n",
    "            hidden = self.init_hidden(input.shape)\n",
    "        # Loop through time\n",
    "        output = []\n",
    "        steps = range(input.size(1))\n",
    "        self.discretize()\n",
    "        for i in steps:\n",
    "            # `hidden` is just the most recent state\n",
    "            hidden = self.recurrence(input[:, i, :], hidden) \n",
    "            output.append(hidden)\n",
    "        # Stack together output from all time steps\n",
    "        output = torch.stack(output, dim=1)  # (batch, seq_len, hidden_size)\n",
    "        return output, hidden\n",
    "    \n",
    "    def causal_convolution(u, K):\n",
    "        assert K.ndim == u.ndim and K.shape[1] == u.shape[1], \"Signals do not have the same shapes.\"\n",
    "        return fftconvolve(u, K, mode=\"full\")\n",
    "    \n",
    "    def K_conv(self, L):\n",
    "        \"\"\"L is the sequence length.\"\"\"\n",
    "        Ab, Bb = self.discretize()\n",
    "        K = torch.tensor([(torch.linalg.matrix_power(Ab, l) @ Bb).reshape() for l in range(L)])\n",
    "        return K\n",
    "    \n",
    "    # def test_cnn_is_rnn(N=4, L=16, step=1.0 / 16):\n",
    "    #     ssm = random_SSM(rng, N)\n",
    "    #     u = jax.random.uniform(rng, (L,))\n",
    "    #     jax.random.split(rng, 3)\n",
    "    #     # RNN\n",
    "    #     rec = run_SSM(*ssm, u)\n",
    "    #     # CNN\n",
    "    #     ssmb = discretize(*ssm, step=step)\n",
    "    #     conv = causal_convolution(u, K_conv(*ssmb, L))\n",
    "    #     # Check\n",
    "    #     assert np.allclose(rec.ravel(), conv.ravel())"
   ]
  },
  {
   "cell_type": "code",
   "execution_count": 29,
   "metadata": {},
   "outputs": [
    {
     "name": "stdout",
     "output_type": "stream",
     "text": [
      "Input signal shape: torch.Size([2, 10, 8])\n",
      "hidden: torch.Size([2, 50]) \n",
      " input: torch.Size([2, 8])\n",
      "A: (<class 'torch.nn.modules.linear.Linear'>, torch.Size([50, 50])) \n",
      " Bb: (<class 'torch.nn.modules.linear.Linear'>, torch.Size([50, 50]))\n",
      "hidden: torch.Size([2, 50]) \n",
      " input: torch.Size([2, 8])\n",
      "A: (<class 'torch.nn.modules.linear.Linear'>, torch.Size([50, 50])) \n",
      " Bb: (<class 'torch.nn.modules.linear.Linear'>, torch.Size([50, 50]))\n",
      "hidden: torch.Size([2, 50]) \n",
      " input: torch.Size([2, 8])\n",
      "A: (<class 'torch.nn.modules.linear.Linear'>, torch.Size([50, 50])) \n",
      " Bb: (<class 'torch.nn.modules.linear.Linear'>, torch.Size([50, 50]))\n",
      "hidden: torch.Size([2, 50]) \n",
      " input: torch.Size([2, 8])\n",
      "A: (<class 'torch.nn.modules.linear.Linear'>, torch.Size([50, 50])) \n",
      " Bb: (<class 'torch.nn.modules.linear.Linear'>, torch.Size([50, 50]))\n",
      "hidden: torch.Size([2, 50]) \n",
      " input: torch.Size([2, 8])\n",
      "A: (<class 'torch.nn.modules.linear.Linear'>, torch.Size([50, 50])) \n",
      " Bb: (<class 'torch.nn.modules.linear.Linear'>, torch.Size([50, 50]))\n",
      "hidden: torch.Size([2, 50]) \n",
      " input: torch.Size([2, 8])\n",
      "A: (<class 'torch.nn.modules.linear.Linear'>, torch.Size([50, 50])) \n",
      " Bb: (<class 'torch.nn.modules.linear.Linear'>, torch.Size([50, 50]))\n",
      "hidden: torch.Size([2, 50]) \n",
      " input: torch.Size([2, 8])\n",
      "A: (<class 'torch.nn.modules.linear.Linear'>, torch.Size([50, 50])) \n",
      " Bb: (<class 'torch.nn.modules.linear.Linear'>, torch.Size([50, 50]))\n",
      "hidden: torch.Size([2, 50]) \n",
      " input: torch.Size([2, 8])\n",
      "A: (<class 'torch.nn.modules.linear.Linear'>, torch.Size([50, 50])) \n",
      " Bb: (<class 'torch.nn.modules.linear.Linear'>, torch.Size([50, 50]))\n",
      "hidden: torch.Size([2, 50]) \n",
      " input: torch.Size([2, 8])\n",
      "A: (<class 'torch.nn.modules.linear.Linear'>, torch.Size([50, 50])) \n",
      " Bb: (<class 'torch.nn.modules.linear.Linear'>, torch.Size([50, 50]))\n",
      "hidden: torch.Size([2, 50]) \n",
      " input: torch.Size([2, 8])\n",
      "A: (<class 'torch.nn.modules.linear.Linear'>, torch.Size([50, 50])) \n",
      " Bb: (<class 'torch.nn.modules.linear.Linear'>, torch.Size([50, 50]))\n",
      "Output signal shape: torch.Size([2, 10, 50])\n",
      "\n"
     ]
    }
   ],
   "source": [
    "N = 50\n",
    "timesteps = 10\n",
    "num_channels = 8\n",
    "batch_size = 2\n",
    "\n",
    "# test 1\n",
    "model = SSM(input_size=num_channels, hidden_size=N)\n",
    "\n",
    "input_signal = torch.randn((batch_size, timesteps, num_channels))\n",
    "print(f'Input signal shape: {input_signal.shape}')\n",
    "\n",
    "output_signal, hidden_state = model(input_signal)\n",
    "print(f'Output signal shape: {output_signal.shape}\\n')"
   ]
  },
  {
   "cell_type": "code",
   "execution_count": 32,
   "metadata": {},
   "outputs": [
    {
     "data": {
      "text/plain": [
       "<matplotlib.legend.Legend at 0x1500dccf8a90>"
      ]
     },
     "execution_count": 32,
     "metadata": {},
     "output_type": "execute_result"
    },
    {
     "data": {
      "image/png": "[encoded data removed]",
      "text/plain": [
       "<Figure size 640x480 with 1 Axes>"
      ]
     },
     "metadata": {},
     "output_type": "display_data"
    }
   ],
   "source": [
    "import matplotlib.pyplot as plt\n",
    "\n",
    "plt.plot(input_signal[0, :, 0], label='Input signal')\n",
    "plt.plot(output_signal[0, :, 0].detach().cpu(), label='Output signal')\n",
    "plt.legend()"
   ]
  },
  {
   "cell_type": "markdown",
   "metadata": {},
   "source": [
    "## Mass example"
   ]
  },
  {
   "cell_type": "code",
   "execution_count": null,
   "metadata": {},
   "outputs": [],
   "source": [
    "def example_mass(k, b, m):\n",
    "    A = torch.tensor([[0, 1], [-k / m, -b / m]])\n",
    "    B = torch.tensor([[0], [1.0 / m]])\n",
    "    C = torch.tensor([[1.0, 0]])\n",
    "    \n",
    "    return A, B, C\n",
    "\n",
    "def example_force(t):\n",
    "    x = torch.sin(10 * t)\n",
    "    return x * (x > 0.5)"
   ]
  },
  {
   "cell_type": "code",
   "execution_count": null,
   "metadata": {},
   "outputs": [],
   "source": [
    "A, B, C = example_mass(k=40, b=5, m=1)\n",
    "\n",
    "L = 100\n",
    "step = 1.0 / L\n",
    "ks = torch.arange(L)\n",
    "u = example_force(ks * step)\n",
    "\n",
    "# Approximation of y(t).\n",
    "model = SSM(input_size=1, hidden_size=2)\n",
    "\n",
    "input_signal = u.view(1, -1, 1)\n",
    "print(f'Input signal shape: {input_signal.shape}')\n",
    "\n",
    "output_signal, hidden_state = model(input_signal)\n",
    "print(f'Output signal shape: {output_signal.shape}')"
   ]
  },
  {
   "cell_type": "code",
   "execution_count": null,
   "metadata": {},
   "outputs": [],
   "source": [
    "plt.figure()\n",
    "plt.plot(ks, input_signal.view(-1).numpy(), color=\"red\")\n",
    "plt.figure()\n",
    "plt.plot(ks, output_signal[0,:,0].view(-1).detach().numpy(), color=\"blue\")"
   ]
  },
  {
   "cell_type": "markdown",
   "metadata": {},
   "source": [
    "## Random SSM"
   ]
  },
  {
   "cell_type": "code",
   "execution_count": 49,
   "metadata": {},
   "outputs": [],
   "source": [
    "class RandomSSM(torch.nn.Module):\n",
    "    def __init__(self, N, num_channels, fixed_length=10, A=None, B=None, C=None):\n",
    "        super(RandomSSM, self).__init__()\n",
    "\n",
    "        # maps time series output to previous timestep N-dim latent state and projects back to output time series data\n",
    "        if A is None:\n",
    "            A = torch.randn((N, N))\n",
    "        if B is None:\n",
    "            B = torch.randn((N, 1))\n",
    "\n",
    "        self.N = N\n",
    "        self.num_channels = num_channels\n",
    "\n",
    "        # assuming fixed length sequences\n",
    "        self.A, self.B, self.C = self.discretize(A, B, C, step=1.0/fixed_length)\n",
    "\n",
    "    def forward(self, u):\n",
    "        x = torch.zeros((u.shape[0], u.shape[1]+1, self.N))\n",
    "        \n",
    "        # u shape - B, T, C\n",
    "        # recurrency via iteration\n",
    "        for channel in range(u.shape[-1]):      # for proper mapping shape broadcasting\n",
    "            for timestep in range(u.shape[1]):\n",
    "                x[:, timestep+1] = (self.A(x[:, timestep]).view(-1, self.N)\n",
    "                    + self.B(u[:, timestep, channel].view(-1, 1))).view(-1, self.N)\n",
    "        \n",
    "        # final projection back to proper time series data\n",
    "        y = self.C(x[:, 1:])\n",
    "        \n",
    "        return y\n",
    "\n",
    "    def discretize(self, A, B, C=None, step=1):\n",
    "        identity_matrix = torch.eye(self.N)\n",
    "\n",
    "        # discretize via bilinear transform https://en.wikipedia.org/wiki/Bilinear_transform\n",
    "        BL = torch.inverse(identity_matrix - (step / 2.0) * A)\n",
    "        A_discrete = BL @ (identity_matrix + (step / 2.0) * A)\n",
    "        B_discrete = (BL * step) @ B\n",
    "\n",
    "        A_final = torch.nn.Linear(*A.shape, bias=False)\n",
    "        A_final.weight = torch.nn.Parameter(A_discrete)\n",
    "        B_final = torch.nn.Linear(*B.shape, bias=False)\n",
    "        B_final.weight = torch.nn.Parameter(B_discrete)\n",
    "\n",
    "        # allows for conditional initialization of C\n",
    "        if C is None:\n",
    "            C_final = torch.nn.Linear(self.N, self.num_channels, bias=False)\n",
    "        else:\n",
    "            C_final = torch.nn.Linear(*C.shape, bias=False)\n",
    "            C_final.weight = torch.nn.Parameter(C)\n",
    "\n",
    "        return A_final, B_final, C_final"
   ]
  },
  {
   "cell_type": "code",
   "execution_count": 50,
   "metadata": {},
   "outputs": [
    {
     "name": "stdout",
     "output_type": "stream",
     "text": [
      "Input signal shape: torch.Size([4, 10, 8])\n",
      "Output signal shape: torch.Size([4, 10, 8])\n",
      "\n",
      "Input signal shape: torch.Size([4, 10, 8])\n",
      "Output signal shape: torch.Size([4, 10, 8])\n"
     ]
    }
   ],
   "source": [
    "N = 50\n",
    "timesteps = 10\n",
    "num_channels = 8\n",
    "\n",
    "# test 1\n",
    "model = RandomSSM(N, num_channels, timesteps)\n",
    "\n",
    "input_signal = torch.randn((4, timesteps, num_channels))\n",
    "print(f'Input signal shape: {input_signal.shape}')\n",
    "\n",
    "output_signal = model(input_signal)\n",
    "print(f'Output signal shape: {output_signal.shape}\\n')\n",
    "\n",
    "# test 2\n",
    "A = torch.randn((N, N))\n",
    "B = torch.randn((N, 1))\n",
    "C = torch.randn((num_channels, N))\n",
    "\n",
    "model = RandomSSM(N, num_channels, timesteps, A, B, C)\n",
    "\n",
    "input_signal = torch.randn((4, timesteps, num_channels))\n",
    "print(f'Input signal shape: {input_signal.shape}')\n",
    "\n",
    "output_signal = model(input_signal)\n",
    "print(f'Output signal shape: {output_signal.shape}')"
   ]
  },
  {
   "cell_type": "markdown",
   "metadata": {},
   "source": [
    "## Mass example"
   ]
  },
  {
   "cell_type": "code",
   "execution_count": 51,
   "metadata": {},
   "outputs": [],
   "source": [
    "def example_mass(k, b, m):\n",
    "    A = torch.tensor([[0, 1], [-k / m, -b / m]])\n",
    "    B = torch.tensor([[0], [1.0 / m]])\n",
    "    C = torch.tensor([[1.0, 0]])\n",
    "    \n",
    "    return A, B, C\n",
    "\n",
    "def example_force(t):\n",
    "    x = torch.sin(10 * t)\n",
    "    return x * (x > 0.5)"
   ]
  },
  {
   "cell_type": "code",
   "execution_count": 52,
   "metadata": {},
   "outputs": [
    {
     "name": "stdout",
     "output_type": "stream",
     "text": [
      "Input signal shape: torch.Size([1, 100, 1])\n",
      "Output signal shape: torch.Size([1, 100, 1])\n"
     ]
    }
   ],
   "source": [
    "A, B, C = example_mass(k=40, b=5, m=1)\n",
    "\n",
    "L = 100\n",
    "step = 1.0 / L\n",
    "ks = torch.arange(L)\n",
    "u = example_force(ks * step)\n",
    "\n",
    "# Approximation of y(t).\n",
    "model = RandomSSM(2, 1, L, A, B, C)\n",
    "# model = SSM(input_size=1, hidden_size=2)\n",
    "\n",
    "input_signal = u.view(1, -1, 1)\n",
    "print(f'Input signal shape: {input_signal.shape}')\n",
    "\n",
    "output_signal = model(input_signal)\n",
    "# output_signal, hidden_state = model(input_signal)\n",
    "print(f'Output signal shape: {output_signal.shape}')"
   ]
  },
  {
   "cell_type": "code",
   "execution_count": 53,
   "metadata": {},
   "outputs": [
    {
     "data": {
      "text/plain": [
       "[<matplotlib.lines.Line2D at 0x1500dc7d5810>]"
      ]
     },
     "execution_count": 53,
     "metadata": {},
     "output_type": "execute_result"
    },
    {
     "data": {
      "image/png": "[encoded data removed]",
      "text/plain": [
       "<Figure size 640x480 with 1 Axes>"
      ]
     },
     "metadata": {},
     "output_type": "display_data"
    },
    {
     "data": {
      "image/png": "[encoded data removed]",
      "text/plain": [
       "<Figure size 640x480 with 1 Axes>"
      ]
     },
     "metadata": {},
     "output_type": "display_data"
    }
   ],
   "source": [
    "plt.figure()\n",
    "plt.plot(ks, input_signal.view(-1).numpy(), color=\"red\")\n",
    "plt.figure()\n",
    "plt.plot(ks, output_signal[0,:,0].view(-1).detach().numpy(), color=\"blue\")"
   ]
  }
 ],
 "metadata": {
  "kernelspec": {
   "display_name": "env",
   "language": "python",
   "name": "python3"
  },
  "language_info": {
   "codemirror_mode": {
    "name": "ipython",
    "version": 3
   },
   "file_extension": ".py",
   "mimetype": "text/x-python",
   "name": "python",
   "nbconvert_exporter": "python",
   "pygments_lexer": "ipython3",
   "version": "3.11.8"
  }
 },
 "nbformat": 4,
 "nbformat_minor": 2
}
