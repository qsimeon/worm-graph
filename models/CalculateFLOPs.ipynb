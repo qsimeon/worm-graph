{
 "cells": [
  {
   "cell_type": "code",
   "execution_count": 1,
   "metadata": {},
   "outputs": [
    {
     "name": "stdout",
     "output_type": "stream",
     "text": [
      "CUDA device found.\n",
      "DEVICE: cuda\n"
     ]
    }
   ],
   "source": [
    "import torch\n",
    "\n",
    "from utils import DEVICE, init_random_seeds\n",
    "from models._utils import (\n",
    "    print_parameters,\n",
    "    LinearRegression,\n",
    "    FeatureFFNN,\n",
    "    NeuralTransformer,\n",
    "    NetworkLSTM,\n",
    ")\n",
    "from fvcore.nn import (\n",
    "    FlopCountAnalysis,\n",
    "    ActivationCountAnalysis,\n",
    "    flop_count_table,\n",
    "    flop_count_str,\n",
    ")\n",
    "\n",
    "# Display the DEVICE\n",
    "print(f\"DEVICE: {DEVICE}\")\n",
    "\n",
    "# Initialize the random seeds\n",
    "init_random_seeds(0)"
   ]
  },
  {
   "cell_type": "code",
   "execution_count": 2,
   "metadata": {},
   "outputs": [
    {
     "name": "stdout",
     "output_type": "stream",
     "text": [
      "Simple PyTorch model: Linear(in_features=208, out_features=512, bias=True)\n",
      "\n",
      "Input: torch.Size([1, 100, 208]) \t Output: torch.Size([1, 100, 512])\n",
      "\n",
      "\n",
      "~~~~~~~~~~~~~~~~~~~~~~~~~~~~~~~~~~~~~~~~~~~~~~~~~~~~~~~~~~~~~~~~~~~~~~~~~~~~~~~~~~~~~~~~~~~~~~~~~~~~\n",
      "\n",
      "Custom model: LinearRegression(\n",
      "  (identity): Identity()\n",
      "  (input_hidden): Identity()\n",
      "  (hidden_hidden): Identity()\n",
      "  (inner_hidden_model): InnerHiddenModel(\n",
      "    (hidden_hidden): Identity()\n",
      "  )\n",
      "  (linear): Linear(in_features=208, out_features=208, bias=True)\n",
      "  (layer_norm): LayerNorm((208,), eps=1e-05, elementwise_affine=True)\n",
      ")\n",
      "\n",
      "Input: torch.Size([1, 100, 208]) \t Mask: torch.Size([1, 208]) \t Output: torch.Size([1, 100, 208])\n",
      "\n"
     ]
    }
   ],
   "source": [
    "# @title Prepare model and input\n",
    "# @markdown Make sure the model and input are on the same device.\n",
    "\n",
    "# Set shapes for model and input\n",
    "seq_len = 100\n",
    "input_size = 208\n",
    "hidden_size = 512\n",
    "\n",
    "# Use a standard PyTorch model\n",
    "model = torch.nn.Linear(in_features=input_size, out_features=hidden_size)\n",
    "model = model.to(DEVICE)\n",
    "model.eval()  # switch to eval mode\n",
    "print(f\"Simple PyTorch model: {model}\\n\")\n",
    "\n",
    "# Create input of the correct shape for the model\n",
    "input = torch.randn(1, seq_len, input_size).to(DEVICE)  # batch_size=1\n",
    "mask = None\n",
    "print(f\"Input: {input.shape} \\t Output: {model(input).shape}\", end=\"\\n\\n\")\n",
    "print(f\"\\n{'~'*100}\\n\")\n",
    "\n",
    "# Load one of our custom models instead\n",
    "model_args = dict(input_size=input_size, hidden_size=hidden_size, loss=\"MSE\")\n",
    "model = LinearRegression(**model_args)\n",
    "# model = FeatureFFNN(**model_args)\n",
    "# model = NeuralTransformer(**model_args)\n",
    "# model = NetworkLSTM(**model_args)\n",
    "model = model.to(DEVICE)\n",
    "model.eval()  # switch to eval mode\n",
    "print(f\"Custom model: {model}\\n\")\n",
    "\n",
    "# Create input of the correct shape for the model\n",
    "input = torch.randn(1, seq_len, input_size).to(DEVICE)  # batch_size=1\n",
    "mask = torch.ones(1, input_size).to(bool).to(DEVICE)\n",
    "print(\n",
    "    f\"Input: {input.shape} \\t Mask: {mask.shape} \\t Output: {model(input, mask).shape}\",\n",
    "    end=\"\\n\\n\",\n",
    ")"
   ]
  },
  {
   "cell_type": "code",
   "execution_count": 3,
   "metadata": {},
   "outputs": [
    {
     "name": "stderr",
     "output_type": "stream",
     "text": [
      "Unsupported operator aten::expand_as encountered 1 time(s)\n",
      "Unsupported operator aten::mul encountered 1 time(s)\n",
      "The following submodules of the model were never called during the trace of the graph. They may be unused, or they were accessed by direct calls to .forward() or via other python methods. In the latter case they will have zeros for statistics, though their statistics will still contribute to their parent calling module.\n",
      "inner_hidden_model, layer_norm\n",
      "Unsupported operator aten::expand_as encountered 1 time(s)\n",
      "Unsupported operator aten::mul encountered 1 time(s)\n",
      "The following submodules of the model were never called during the trace of the graph. They may be unused, or they were accessed by direct calls to .forward() or via other python methods. In the latter case they will have zeros for statistics, though their statistics will still contribute to their parent calling module.\n",
      "inner_hidden_model, layer_norm\n"
     ]
    },
    {
     "name": "stdout",
     "output_type": "stream",
     "text": [
      "\n",
      "All params: 43888\n",
      "Trainable params: 43888\n",
      "\n",
      "FLOP: (4326400, Counter({'linear': 4326400}), Counter({'': 4326400, 'linear': 4326400, 'identity': 0, 'input_hidden': 0, 'hidden_hidden': 0, 'inner_hidden_model': 0, 'layer_norm': 0}), {'': Counter({'linear': 4326400}), 'identity': Counter(), 'input_hidden': Counter(), 'hidden_hidden': Counter(), 'inner_hidden_model': Counter(), 'linear': Counter({'linear': 4326400}), 'layer_norm': Counter()})\n",
      "\n",
      "N/A indicates a possibly missing statistic due to how the module was called. Missing values are still included in the parent's total.\n",
      "LinearRegression(\n",
      "  #params: 43.89K, #flops: 4.33M\n",
      "  (identity): Identity(#params: 0, #flops: N/A)\n",
      "  (input_hidden): Identity(#params: 0, #flops: N/A)\n",
      "  (hidden_hidden): Identity(#params: 0, #flops: N/A)\n",
      "  (inner_hidden_model): InnerHiddenModel(\n",
      "    #params: 0, #flops: N/A\n",
      "    (hidden_hidden): Identity()\n",
      "  )\n",
      "  (linear): Linear(\n",
      "    in_features=208, out_features=208, bias=True\n",
      "    #params: 43.47K, #flops: 4.33M\n",
      "  )\n",
      "  (layer_norm): LayerNorm(\n",
      "    (208,), eps=1e-05, elementwise_affine=True\n",
      "    #params: 0.42K, #flops: N/A\n",
      "  )\n",
      ")\n",
      "\n",
      "| module              | #parameters or shape   | #flops   |\n",
      "|:--------------------|:-----------------------|:---------|\n",
      "| model               | 43.888K                | 4.326M   |\n",
      "|  linear             |  43.472K               |  4.326M  |\n",
      "|   linear.weight     |   (208, 208)           |          |\n",
      "|   linear.bias       |   (208,)               |          |\n",
      "|  layer_norm         |  0.416K                |          |\n",
      "|   layer_norm.weight |   (208,)               |          |\n",
      "|   layer_norm.bias   |   (208,)               |          |\n",
      "\n",
      "\tParams: 43888\n",
      "\n",
      "Activations: (20800, Counter({'linear': 20800}), Counter({'': 20800, 'linear': 20800, 'identity': 0, 'input_hidden': 0, 'hidden_hidden': 0, 'inner_hidden_model': 0, 'layer_norm': 0}), {'': Counter({'linear': 20800}), 'identity': Counter(), 'input_hidden': Counter(), 'hidden_hidden': Counter(), 'inner_hidden_model': Counter(), 'linear': Counter({'linear': 20800}), 'layer_norm': Counter()})\n",
      "\n",
      "\tParams: 43888\n",
      "\n"
     ]
    }
   ],
   "source": [
    "# @title Using fvcore\n",
    "\n",
    "# Adjust input based on if we use standard PyTorch model or custom model\n",
    "input = (input, mask) if mask is not None else input\n",
    "\n",
    "# Count the total and number of trainable parameters\n",
    "all_params_ct, train_params_ct = print_parameters(model)\n",
    "\n",
    "print(f\"\\nAll params: {all_params_ct}\\nTrainable params: {train_params_ct}\", end=\"\\n\\n\")\n",
    "\n",
    "# Perform FLOP Counting: Use the FlopCountAnalysis class to analyze your model:\n",
    "flops = FlopCountAnalysis(model, input)\n",
    "\n",
    "# Print Results: You can now print out the FLOP and parameter information:\n",
    "print(\n",
    "    f\"FLOP: {flops.total(), flops.by_operator(), flops.by_module(), flops.by_module_and_operator()}\",\n",
    "    end=\"\\n\\n\",\n",
    ")\n",
    "print(flop_count_str(flops), end=\"\\n\\n\")\n",
    "print(flop_count_table(flops), end=\"\\n\\n\")\n",
    "print(\n",
    "    f\"\\tParams: {sum(p.numel() for p in model.parameters() if p.requires_grad)}\",\n",
    "    end=\"\\n\\n\",\n",
    ")\n",
    "\n",
    "# Perform Activations Counting: Use the ActivationCountAnalysis class to analyze your model:\n",
    "acts = ActivationCountAnalysis(model, input)\n",
    "\n",
    "# Print Results: You can now print out the FLOP and parameter information:\n",
    "print(\n",
    "    f\"Activations: {acts.total(), acts.by_operator(), acts.by_module(), acts.by_module_and_operator()}\",\n",
    "    end=\"\\n\\n\",\n",
    ")\n",
    "print(\n",
    "    f\"\\tParams: {sum(p.numel() for p in model.parameters() if p.requires_grad)}\",\n",
    "    end=\"\\n\\n\",\n",
    ")"
   ]
  },
  {
   "cell_type": "markdown",
   "metadata": {},
   "source": []
  },
  {
   "cell_type": "markdown",
   "metadata": {},
   "source": []
  },
  {
   "cell_type": "markdown",
   "metadata": {},
   "source": []
  }
 ],
 "metadata": {
  "kernelspec": {
   "display_name": "Python 3",
   "language": "python",
   "name": "python3"
  },
  "language_info": {
   "codemirror_mode": {
    "name": "ipython",
    "version": 3
   },
   "file_extension": ".py",
   "mimetype": "text/x-python",
   "name": "python",
   "nbconvert_exporter": "python",
   "pygments_lexer": "ipython3",
   "version": "3.10.13"
  }
 },
 "nbformat": 4,
 "nbformat_minor": 2
}
