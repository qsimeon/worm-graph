{
 "cells": [
  {
   "cell_type": "code",
   "execution_count": 1,
   "metadata": {},
   "outputs": [
    {
     "name": "stdout",
     "output_type": "stream",
     "text": [
      "/net/vast-storage/scratch/vast/yanglab/qsimeon/worm-graph\n",
      "0\n",
      "1\n",
      "10\n",
      "11\n",
      "12\n",
      "13\n",
      "14\n",
      "{'preprocess': {'url': 'https://www.dropbox.com/s/5r5cyxoads3iglz/opensource_data.zip?dl=1', 'zipfile': 'opensource_data.zip', 'dataset': 'all', 'raw_dir': 'data/raw', 'resample_dt': 0.1, 'smooth': 'FFT'}, 'dataset': {'name': 'Flavell2023_Kaplan2020_Kato2015_Leifer2023_Nichols2017_Skora2018'}, 'model': {'type': 'NetworkLSTM', 'input_size': 302, 'hidden_size': 2048, 'num_layers': 1, 'loss': 'L1', 'fft_reg_param': 0.0, 'l1_reg_param': 0.0, 'checkpoint_path': 'logs/hydra/2023_06_09_16_18_57/14/checkpoints/200_epochs_48000_worms.pt'}, 'train': {'optimizer': 'Adagrad', 'learn_rate': 0.01, 'epochs': 200, 'save_freq': 200, 'seq_len': 200, 'k_splits': 2, 'num_samples': 32, 'num_batches': 1, 'tau_in': 1, 'shuffle_samples': False, 'reverse': False}, 'predict': {'tau_out': 1000, 'model': {'checkpoint_path': 'logs/hydra/2023_06_09_16_18_57/14/checkpoints/200_epochs_48000_worms.pt'}, 'dataset': {'name': 'Uzel2022'}}, 'visualize': {'log_dir': 'logs/hydra/2023_06_09_16_18_57/14', 'worm': 'worm0', 'neuron': 'AVAL'}, 'globals': {'random_seed': 1, 'use_residual': False, 'smooth_data': False, 'shuffle_worms': False, 'timestamp': '2023_06_09_16_19_48', 'num_unique_worms': 240, 'num_covered_neurons': 227, 'worm_timesteps': 1733651, 'seconds_per_epoch': 36.316092195028965}}\n",
      "logs/hydra/2023_06_09_16_18_57/14/checkpoints/200_epochs_48000_worms.pt\n",
      "{'predict': {'tau_out': 1000, 'model': {'checkpoint_path': 'logs/hydra/2023_06_09_16_18_57/14/checkpoints/200_epochs_48000_worms.pt'}, 'dataset': {'name': 'Uzel2022'}}}\n",
      "logs/hydra/2023_06_09_16_18_57/14/\n",
      "Model checkpoint path: /net/vast-storage/scratch/vast/yanglab/qsimeon/worm-graph/logs/hydra/2023_06_09_16_18_57/14/checkpoints/200_epochs_48000_worms.pt\n",
      "\n",
      "Model: NetworkLSTM(\n",
      "  (identity): Identity()\n",
      "  (linear): Linear(in_features=2048, out_features=302, bias=True)\n",
      "  (lstm): LSTM(302, 2048, batch_first=True)\n",
      "  (layer_norm): LayerNorm((2048,), eps=1e-05, elementwise_affine=True)\n",
      ")\n",
      "\n",
      "Chosen dataset(s): ['Uzel2022']\n",
      "Num. worms: 6\n",
      "\n"
     ]
    }
   ],
   "source": [
    "import os\n",
    "from omegaconf import OmegaConf\n",
    "from predict._main import make_predictions\n",
    "from visualize._main import plot_figures\n",
    "from utils import ROOT_DIR\n",
    "\n",
    "# change working directory to root\n",
    "os.chdir(ROOT_DIR)\n",
    "print(os.getcwd())\n",
    "run_dir = os.path.join(\"logs/hydra/2023_06_09_16_18_57\")\n",
    "for folder in os.listdir(run_dir):\n",
    "    # folder\n",
    "    folder_pth = os.path.join(run_dir, folder)\n",
    "    if folder.startswith(\".\") or not os.path.isdir(folder_pth):\n",
    "        continue\n",
    "    print(folder)\n",
    "    # configuration\n",
    "    cfg_path = os.path.join(folder_pth, \"config.yaml\")\n",
    "    if not os.path.exists(cfg_path):\n",
    "        continue\n",
    "    cfg = OmegaConf.load(cfg_path)\n",
    "    cfg.predict.tau_out = 1000\n",
    "    print(cfg)\n",
    "    # checkpoint\n",
    "    chkpt_pth = cfg.model.checkpoint_path\n",
    "    print(chkpt_pth)\n",
    "    # prediction\n",
    "    pred_cfg_path = os.path.join(\"conf/predict.yaml\")\n",
    "    pred_cfg = OmegaConf.load(pred_cfg_path)\n",
    "    pred_cfg.predict.model.checkpoint_path = chkpt_pth\n",
    "    pred_cfg.predict.tau_out = cfg.predict.tau_out\n",
    "    print(pred_cfg)\n",
    "    # logs\n",
    "    log_dir = chkpt_pth.split(\"checkpoint\")[0]\n",
    "    print(log_dir)\n",
    "    # make predictions\n",
    "    make_predictions(\n",
    "        pred_cfg,\n",
    "        log_dir=log_dir,\n",
    "    )\n",
    "    # plot figures\n",
    "    plot_figures(cfg)\n",
    "    break"
   ]
  },
  {
   "attachments": {},
   "cell_type": "markdown",
   "metadata": {},
   "source": []
  },
  {
   "attachments": {},
   "cell_type": "markdown",
   "metadata": {},
   "source": []
  },
  {
   "attachments": {},
   "cell_type": "markdown",
   "metadata": {},
   "source": []
  }
 ],
 "metadata": {
  "kernelspec": {
   "display_name": "worm-graph",
   "language": "python",
   "name": "python3"
  },
  "language_info": {
   "codemirror_mode": {
    "name": "ipython",
    "version": 3
   },
   "file_extension": ".py",
   "mimetype": "text/x-python",
   "name": "python",
   "nbconvert_exporter": "python",
   "pygments_lexer": "ipython3",
   "version": "3.9.16"
  },
  "orig_nbformat": 4
 },
 "nbformat": 4,
 "nbformat_minor": 2
}
