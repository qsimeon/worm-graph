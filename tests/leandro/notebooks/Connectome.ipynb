{
 "cells": [
  {
   "cell_type": "code",
   "execution_count": 1,
   "metadata": {},
   "outputs": [],
   "source": [
    "%load_ext autoreload\n",
    "%autoreload 2"
   ]
  },
  {
   "cell_type": "code",
   "execution_count": 5,
   "metadata": {},
   "outputs": [],
   "source": [
    "import os\n",
    "import torch\n",
    "from visualize._utils import draw_connectome\n",
    "from utils import ROOT_DIR\n",
    "from torch_geometric.data import Data\n",
    "from tests.leandro.plots import *\n",
    "from data._main import get_dataset\n",
    "from omegaconf import OmegaConf"
   ]
  },
  {
   "cell_type": "code",
   "execution_count": 6,
   "metadata": {},
   "outputs": [
    {
     "name": "stdout",
     "output_type": "stream",
     "text": [
      "Graph attributes: ['num_classes', 'x', 'edge_index', 'pos', 'edge_attr', 'idx_to_neuron', 'n_id', 'y', 'node_type']\n",
      "Num. nodes: 302, Num. edges: 4396, Num. node features: 1024\n"
     ]
    }
   ],
   "source": [
    "# load the connectome data\n",
    "graph_tensors = torch.load(\n",
    "    os.path.join(ROOT_DIR, \"data\", \"processed\", \"connectome\", \"graph_tensors.pt\")\n",
    ")\n",
    "\n",
    "# make the graph\n",
    "graph = Data(**graph_tensors)\n",
    "\n",
    "print('Graph attributes: {}'.format(graph.keys))\n",
    "print('Num. nodes: {}, Num. edges: {}, Num. node features: {}'.format(graph.num_nodes, graph.num_edges, graph.num_node_features))"
   ]
  },
  {
   "cell_type": "code",
   "execution_count": 15,
   "metadata": {},
   "outputs": [],
   "source": [
    "neuron_to_idx = {u: v for (v, u) in graph.idx_to_neuron.items()}\n",
    "idx_to_neuron = {v: u for (v, u) in graph.idx_to_neuron.items()}"
   ]
  },
  {
   "cell_type": "code",
   "execution_count": 23,
   "metadata": {},
   "outputs": [
    {
     "name": "stdout",
     "output_type": "stream",
     "text": [
      "torch.Size([2, 4396])\n",
      "torch.Size([4396, 2])\n"
     ]
    }
   ],
   "source": [
    "def get_connected_neurons(graph, neuron_name, index=False):\n",
    "\n",
    "    neuron_to_idx = {u: v for (v, u) in graph.idx_to_neuron.items()}\n",
    "\n",
    "    # Get the edge indices corresponding to the given node\n",
    "    node_index = neuron_to_idx[neuron_name]\n",
    "    connected_edge_indices = (graph.edge_index[0] == node_index).nonzero()\n",
    "\n",
    "    # Get the connected nodes by extracting the second row of the connected_edge_indices\n",
    "    connected_nodes = graph.edge_index[1, connected_edge_indices].flatten()\n",
    "    \n",
    "    if index == True:\n",
    "        return connected_nodes.detach().numpy()\n",
    "    else:\n",
    "        return np.array([idx_to_neuron[idx] for idx in connected_nodes.detach().numpy()])\n",
    "\n",
    "print(graph.edge_index.shape) # Row 0: source, Row 1: target\n",
    "\n",
    "print(graph.edge_attr.shape) # Column 0: gap junction connections, Column 1: chemical synapse connections"
   ]
  },
  {
   "cell_type": "code",
   "execution_count": 27,
   "metadata": {},
   "outputs": [
    {
     "data": {
      "text/plain": [
       "array(['NSML', 'NSMR'], dtype='<U4')"
      ]
     },
     "execution_count": 27,
     "metadata": {},
     "output_type": "execute_result"
    }
   ],
   "source": [
    "get_connected_neurons(graph, 'M3L', index=False)"
   ]
  },
  {
   "cell_type": "code",
   "execution_count": 19,
   "metadata": {},
   "outputs": [
    {
     "name": "stdout",
     "output_type": "stream",
     "text": [
      "Chosen dataset(s): ['Flavell2023']\n",
      "Num. worms: 50\n",
      "\n"
     ]
    }
   ],
   "source": [
    "config = OmegaConf.load(\"/home/lrvnc/Projects/worm-graph/conf/dataset.yaml\")\n",
    "flavell_dataset = get_dataset(config)"
   ]
  }
 ],
 "metadata": {
  "kernelspec": {
   "display_name": "worm-graph",
   "language": "python",
   "name": "python3"
  },
  "language_info": {
   "codemirror_mode": {
    "name": "ipython",
    "version": 3
   },
   "file_extension": ".py",
   "mimetype": "text/x-python",
   "name": "python",
   "nbconvert_exporter": "python",
   "pygments_lexer": "ipython3",
   "version": "3.9.16"
  },
  "orig_nbformat": 4
 },
 "nbformat": 4,
 "nbformat_minor": 2
}
