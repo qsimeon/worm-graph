{
 "cells": [
  {
   "cell_type": "code",
   "execution_count": 1,
   "metadata": {},
   "outputs": [],
   "source": [
    "%load_ext autoreload\n",
    "%autoreload 2"
   ]
  },
  {
   "cell_type": "code",
   "execution_count": 43,
   "metadata": {},
   "outputs": [
    {
     "ename": "ModuleNotFoundError",
     "evalue": "No module named 'torch'",
     "output_type": "error",
     "traceback": [
      "\u001b[0;31m---------------------------------------------------------------------------\u001b[0m",
      "\u001b[0;31mModuleNotFoundError\u001b[0m                       Traceback (most recent call last)",
      "Cell \u001b[0;32mIn[43], line 2\u001b[0m\n\u001b[1;32m      1\u001b[0m \u001b[39mimport\u001b[39;00m \u001b[39mos\u001b[39;00m\n\u001b[0;32m----> 2\u001b[0m \u001b[39mimport\u001b[39;00m \u001b[39mtorch\u001b[39;00m\n\u001b[1;32m      3\u001b[0m \u001b[39mfrom\u001b[39;00m \u001b[39mvisualize\u001b[39;00m\u001b[39m.\u001b[39;00m\u001b[39m_utils\u001b[39;00m \u001b[39mimport\u001b[39;00m draw_connectome\n\u001b[1;32m      4\u001b[0m \u001b[39mfrom\u001b[39;00m \u001b[39mutils\u001b[39;00m \u001b[39mimport\u001b[39;00m ROOT_DIR\n",
      "\u001b[0;31mModuleNotFoundError\u001b[0m: No module named 'torch'"
     ]
    }
   ],
   "source": [
    "import os\n",
    "import torch\n",
    "from visualize._utils import draw_connectome\n",
    "from utils import ROOT_DIR\n",
    "from torch_geometric.data import Data\n",
    "from tests.leandro.plots import *\n",
    "from data._main import get_dataset\n",
    "from omegaconf import OmegaConf"
   ]
  },
  {
   "cell_type": "code",
   "execution_count": 64,
   "metadata": {},
   "outputs": [
    {
     "name": "stdout",
     "output_type": "stream",
     "text": [
      "Graph attributes: ['n_id', 'y', 'node_type', 'pos', 'edge_index', 'num_classes', 'edge_attr', 'idx_to_neuron', 'x']\n",
      "Num. nodes: 302, Num. edges: 4396, Num. node features: 1024\n"
     ]
    }
   ],
   "source": [
    "# load the connectome data\n",
    "graph_tensors = torch.load(\n",
    "    os.path.join(ROOT_DIR, \"data\", \"processed\", \"connectome\", \"graph_tensors.pt\")\n",
    ")\n",
    "\n",
    "# make the graph\n",
    "graph = Data(**graph_tensors)\n",
    "\n",
    "print('Graph attributes: {}'.format(graph.keys))\n",
    "print('Num. nodes: {}, Num. edges: {}, Num. node features: {}'.format(graph.num_nodes, graph.num_edges, graph.num_node_features))"
   ]
  },
  {
   "cell_type": "code",
   "execution_count": 81,
   "metadata": {},
   "outputs": [],
   "source": [
    "neuron_to_idx = {u: v for (v, u) in graph.idx_to_neuron.items()}"
   ]
  },
  {
   "cell_type": "code",
   "execution_count": 93,
   "metadata": {},
   "outputs": [
    {
     "name": "stdout",
     "output_type": "stream",
     "text": [
      "torch.Size([2, 4396])\n",
      "torch.Size([4396, 2])\n"
     ]
    }
   ],
   "source": [
    "def get_connected_neuron_indexes(graph, neuron_name):\n",
    "\n",
    "    neuron_to_idx = {u: v for (v, u) in graph.idx_to_neuron.items()}\n",
    "\n",
    "    # Get the edge indices corresponding to the given node\n",
    "    node_index = neuron_to_idx[neuron_name]\n",
    "    connected_edge_indices = (graph.edge_index[0] == node_index).nonzero()\n",
    "\n",
    "    # Get the connected nodes by extracting the second row of the connected_edge_indices\n",
    "    connected_nodes = graph.edge_index[1, connected_edge_indices].flatten()\n",
    "    \n",
    "    return connected_nodes\n",
    "\n",
    "print(graph.edge_index.shape) # Row 0: source, Row 1: target\n",
    "\n",
    "print(graph.edge_attr.shape) # Column 0: gap junction connections, Column 1: chemical synapse connections"
   ]
  },
  {
   "cell_type": "code",
   "execution_count": 76,
   "metadata": {},
   "outputs": [
    {
     "data": {
      "text/plain": [
       "tensor([  0,   1,   6,  10,  12,  13,  53,  54,  55,  56,  57,  58,  59,  67,\n",
       "        155, 179, 191, 192, 199, 201, 247, 250, 254])"
      ]
     },
     "execution_count": 76,
     "metadata": {},
     "output_type": "execute_result"
    }
   ],
   "source": [
    "connected_neurons = get_connected_neuron_indexes(graph, 'ADAL')\n",
    "connected_neurons"
   ]
  },
  {
   "cell_type": "code",
   "execution_count": 96,
   "metadata": {},
   "outputs": [
    {
     "name": "stdout",
     "output_type": "stream",
     "text": [
      "Chosen dataset(s): ['Flavell2023']\n",
      "Num. worms: 50\n",
      "\n"
     ]
    }
   ],
   "source": [
    "config = OmegaConf.load(\"/home/lrvnc/Projects/worm-graph/conf/dataset.yaml\")\n",
    "flavell_dataset = get_dataset(config)"
   ]
  },
  {
   "cell_type": "code",
   "execution_count": 106,
   "metadata": {},
   "outputs": [
    {
     "name": "stdout",
     "output_type": "stream",
     "text": [
      "Worm ID: worm48\n"
     ]
    }
   ],
   "source": [
    "def get_one_worm_data(dataset):\n",
    "    wormid = np.random.choice([key for key in dataset.keys()])\n",
    "    oneWorm = dataset[wormid]\n",
    "    print('Worm ID: {}'.format(wormid))\n",
    "    calcium_data = oneWorm['calcium_data']\n",
    "    time_vector = oneWorm['time_in_seconds']\n",
    "    return oneWorm, calcium_data, time_vector\n",
    "\n",
    "oneWorm, calcium_data, time_vector = get_one_worm_data(flavell_dataset)"
   ]
  }
 ],
 "metadata": {
  "kernelspec": {
   "display_name": "worm-graph",
   "language": "python",
   "name": "python3"
  },
  "language_info": {
   "codemirror_mode": {
    "name": "ipython",
    "version": 3
   },
   "file_extension": ".py",
   "mimetype": "text/x-python",
   "name": "python",
   "nbconvert_exporter": "python",
   "pygments_lexer": "ipython3",
   "version": "3.10.11"
  },
  "orig_nbformat": 4
 },
 "nbformat": 4,
 "nbformat_minor": 2
}
