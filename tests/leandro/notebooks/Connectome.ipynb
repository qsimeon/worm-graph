{
 "cells": [
  {
   "cell_type": "code",
   "execution_count": 2,
   "metadata": {},
   "outputs": [],
   "source": [
    "%load_ext autoreload\n",
    "%autoreload 2"
   ]
  },
  {
   "cell_type": "code",
   "execution_count": 3,
   "metadata": {},
   "outputs": [],
   "source": [
    "import os\n",
    "import torch\n",
    "from visualize._utils import draw_connectome\n",
    "from utils import ROOT_DIR, NEURONS_302\n",
    "from torch_geometric.data import Data\n",
    "from tests.leandro.plots import *\n",
    "from data._main import get_dataset\n",
    "from omegaconf import OmegaConf"
   ]
  },
  {
   "cell_type": "code",
   "execution_count": 4,
   "metadata": {},
   "outputs": [
    {
     "name": "stdout",
     "output_type": "stream",
     "text": [
      "Graph attributes: ['idx_to_neuron', 'node_type', 'n_id', 'edge_attr', 'edge_index', 'y', 'num_classes', 'pos', 'x']\n",
      "Num. nodes: 302, Num. edges: 4396, Num. node features: 1024\n"
     ]
    }
   ],
   "source": [
    "# load the connectome data\n",
    "graph_tensors = torch.load(\n",
    "    os.path.join(ROOT_DIR, \"data\", \"processed\", \"connectome\", \"graph_tensors.pt\")\n",
    ")\n",
    "\n",
    "# make the graph\n",
    "graph = Data(**graph_tensors)\n",
    "\n",
    "print('Graph attributes: {}'.format(graph.keys))\n",
    "print('Num. nodes: {}, Num. edges: {}, Num. node features: {}'.format(graph.num_nodes, graph.num_edges, graph.num_node_features))"
   ]
  },
  {
   "cell_type": "code",
   "execution_count": 5,
   "metadata": {},
   "outputs": [],
   "source": [
    "neuron_to_idx = {u: v for (v, u) in graph.idx_to_neuron.items()}\n",
    "idx_to_neuron = {v: u for (v, u) in graph.idx_to_neuron.items()}"
   ]
  },
  {
   "cell_type": "code",
   "execution_count": 6,
   "metadata": {},
   "outputs": [
    {
     "name": "stdout",
     "output_type": "stream",
     "text": [
      "torch.Size([2, 4396])\n",
      "torch.Size([4396, 2])\n"
     ]
    }
   ],
   "source": [
    "def get_connected_neurons(graph, neuron_name, index=False):\n",
    "\n",
    "    neuron_to_idx = {u: v for (v, u) in graph.idx_to_neuron.items()}\n",
    "\n",
    "    # Get the edge indices corresponding to the given node\n",
    "    node_index = neuron_to_idx[neuron_name]\n",
    "    connected_edge_indices = (graph.edge_index[0] == node_index).nonzero()\n",
    "\n",
    "    # Get the connected nodes by extracting the second row of the connected_edge_indices\n",
    "    connected_nodes = graph.edge_index[1, connected_edge_indices].flatten()\n",
    "    \n",
    "    if index == True:\n",
    "        return connected_nodes.detach().numpy()\n",
    "    else:\n",
    "        return np.array([idx_to_neuron[idx] for idx in connected_nodes.detach().numpy()])\n",
    "\n",
    "print(graph.edge_index.shape) # Row 0: source, Row 1: target\n",
    "\n",
    "print(graph.edge_attr.shape) # Column 0: gap junction connections, Column 1: chemical synapse connections"
   ]
  },
  {
   "cell_type": "code",
   "execution_count": 7,
   "metadata": {},
   "outputs": [],
   "source": [
    "import base64\n",
    "from IPython.display import Image, display\n",
    "import requests\n",
    "from tests.leandro.hierarchical_clustering_analysis import load_reference\n",
    "\n",
    "class MiniGraph:\n",
    "    def __init__(self, direction='TD', group_by='four'):\n",
    "        self.graph = f\"\"\"graph {direction};\\n\"\"\"\n",
    "        self.nodes = []\n",
    "        self.ref_dict = load_reference(group_by=group_by)\n",
    "\n",
    "    def add_nodes(self, neuron, connected_neurons):\n",
    "        assert isinstance(neuron, str), 'Neuron must be a string'\n",
    "        assert isinstance(connected_neurons, list), 'Connected_neurons must be a list'\n",
    "        # Add lines to the graph with the specified color\n",
    "        self.graph += '    {} --> {};\\n'.format(neuron, ' & '.join(connected_neurons))\n",
    "        # Add the neuron to the list of nodes\n",
    "        self.nodes.append(neuron)\n",
    "        # Add the connected neurons to the list of nodes\n",
    "        self.nodes.extend(connected_neurons)\n",
    "        # Remove duplicates\n",
    "        self.nodes = list(set(self.nodes))\n",
    "\n",
    "    def add_color(self):\n",
    "        self.graph += '    classDef I fill: #FF1F5B, stroke:#000000, stroke-width:1px;\\n'\n",
    "        self.graph += '    classDef M fill: #00CD6C, stroke:#000000, stroke-width:1px;\\n'\n",
    "        self.graph += '    classDef S fill: #009ADE, stroke:#000000, stroke-width:1px;\\n'\n",
    "        self.graph += '    classDef P fill: #AF58BA, stroke:#000000, stroke-width:1px;\\n'\n",
    "        self.graph += '    classDef MI fill: #FFC61E, stroke:#000000, stroke-width:1px;\\n'\n",
    "        self.graph += '    classDef SM fill: #F28522, stroke:#000000, stroke-width:1px;\\n'\n",
    "        self.graph += '    classDef SI fill: #A0B1BA, stroke:#000000, stroke-width:1px;\\n'\n",
    "        self.graph += '    classDef SMI fill: #A6761D, stroke:#000000, stroke-width:1px;\\n'\n",
    "        self.graph += '    classDef U fill: #E9002D, stroke:#000000, stroke-width:1px;\\n'\n",
    "\n",
    "        for neuron_name in self.nodes:\n",
    "            self.graph += f'    class {neuron_name} {self.ref_dict[neuron_name]};\\n'\n",
    "\n",
    "    def display(self, save=False, filename='graph.png'):\n",
    "        self.add_color()\n",
    "        graphbytes = self.graph.encode(\"ascii\")\n",
    "        base64_bytes = base64.b64encode(graphbytes)\n",
    "        base64_string = base64_bytes.decode(\"ascii\")\n",
    "        image_url = \"https://mermaid.ink/img/\" + base64_string\n",
    "        display(Image(url=image_url))\n",
    "\n",
    "        if save:\n",
    "            # Save the image from the URL\n",
    "            response = requests.get(image_url)\n",
    "            with open(filename, 'wb') as f:\n",
    "                f.write(response.content)\n",
    "            print(f\"Graph saved as {filename}\")\n",
    "\n",
    "    def print(self):\n",
    "        print(self.graph)"
   ]
  },
  {
   "cell_type": "code",
   "execution_count": 8,
   "metadata": {},
   "outputs": [
    {
     "name": "stdout",
     "output_type": "stream",
     "text": [
      "Neurons with 1 connections: ['AS7', 'AS8', 'AS9', 'DD5', 'M3R', 'SABVL']\n"
     ]
    }
   ],
   "source": [
    "num_conexoes = []\n",
    "\n",
    "for neuron_name in NEURONS_302:\n",
    "    num_conexoes.append(get_connected_neurons(graph, neuron_name, index=False))\n",
    "\n",
    "# Name of all neurons with N connections\n",
    "N = 1\n",
    "print('Neurons with {} connections: {}'.format(N, [NEURONS_302[i] for i, x in enumerate(num_conexoes) if len(x) == N]))"
   ]
  },
  {
   "cell_type": "code",
   "execution_count": 12,
   "metadata": {},
   "outputs": [
    {
     "data": {
      "text/plain": [
       "array(['I2R', 'I5', 'M2L', 'M2R', 'M3L', 'M3R', 'M4', 'MI', 'NSML',\n",
       "       'NSMR'], dtype='<U4')"
      ]
     },
     "execution_count": 12,
     "metadata": {},
     "output_type": "execute_result"
    }
   ],
   "source": [
    "get_connected_neurons(graph, 'I4', index=False)"
   ]
  },
  {
   "cell_type": "code",
   "execution_count": 10,
   "metadata": {},
   "outputs": [
    {
     "data": {
      "text/html": [
       "<img src=\"https://mermaid.ink/img/Z3JhcGggVEQ7CiAgICBTQUJWTCAtLT4gUklHUjsKICAgIFJJR1IgLS0+IEFERUwgJiBBRkRSICYgQUlCTCAmIEFJWlIgJiBBTE5SICYgQVFSICYgQVZETCAmIEFWRVIgJiBBVktMICYgQVZLUiAmIEJBR0wgJiBEVkEgJiBEVkMgJiBPTExSICYgT0xRRFIgJiBPTFFWUiAmIFBWVCAmIFJJQVIgJiBSSUJSICYgUklSICYgUk1GTCAmIFJNSEwgJiBVUlhSICYgVVJZRFIgJiBVUllWUiAmIFZEMTsKICAgIGNsYXNzRGVmIEkgZmlsbDogI0ZGMUY1Qiwgc3Ryb2tlOiMwMDAwMDAsIHN0cm9rZS13aWR0aDoxcHg7CiAgICBjbGFzc0RlZiBNIGZpbGw6ICMwMENENkMsIHN0cm9rZTojMDAwMDAwLCBzdHJva2Utd2lkdGg6MXB4OwogICAgY2xhc3NEZWYgUyBmaWxsOiAjMDA5QURFLCBzdHJva2U6IzAwMDAwMCwgc3Ryb2tlLXdpZHRoOjFweDsKICAgIGNsYXNzRGVmIFAgZmlsbDogI0FGNThCQSwgc3Ryb2tlOiMwMDAwMDAsIHN0cm9rZS13aWR0aDoxcHg7CiAgICBjbGFzc0RlZiBNSSBmaWxsOiAjRkZDNjFFLCBzdHJva2U6IzAwMDAwMCwgc3Ryb2tlLXdpZHRoOjFweDsKICAgIGNsYXNzRGVmIFNNIGZpbGw6ICNGMjg1MjIsIHN0cm9rZTojMDAwMDAwLCBzdHJva2Utd2lkdGg6MXB4OwogICAgY2xhc3NEZWYgU0kgZmlsbDogI0EwQjFCQSwgc3Ryb2tlOiMwMDAwMDAsIHN0cm9rZS13aWR0aDoxcHg7CiAgICBjbGFzc0RlZiBTTUkgZmlsbDogI0E2NzYxRCwgc3Ryb2tlOiMwMDAwMDAsIHN0cm9rZS13aWR0aDoxcHg7CiAgICBjbGFzc0RlZiBVIGZpbGw6ICNFOTAwMkQsIHN0cm9rZTojMDAwMDAwLCBzdHJva2Utd2lkdGg6MXB4OwogICAgY2xhc3MgQUZEUiBTOwogICAgY2xhc3MgVkQxIE07CiAgICBjbGFzcyBSTUhMIE07CiAgICBjbGFzcyBPTFFWUiBQOwogICAgY2xhc3MgQVZLTCBJOwogICAgY2xhc3MgQVZLUiBJOwogICAgY2xhc3MgT0xMUiBTOwogICAgY2xhc3MgQUlCTCBJOwogICAgY2xhc3MgQUlaUiBJOwogICAgY2xhc3MgUklHUiBJOwogICAgY2xhc3MgVVJZVlIgUzsKICAgIGNsYXNzIFJJQVIgSTsKICAgIGNsYXNzIFJJQlIgSTsKICAgIGNsYXNzIFVSWFIgUDsKICAgIGNsYXNzIFVSWURSIFM7CiAgICBjbGFzcyBBVkRMIEk7CiAgICBjbGFzcyBEVkEgUDsKICAgIGNsYXNzIFJNRkwgTTsKICAgIGNsYXNzIFNBQlZMIFA7CiAgICBjbGFzcyBBVkVSIEk7CiAgICBjbGFzcyBEVkMgSTsKICAgIGNsYXNzIEJBR0wgUzsKICAgIGNsYXNzIEFERUwgUzsKICAgIGNsYXNzIEFMTlIgUzsKICAgIGNsYXNzIEFRUiBTOwogICAgY2xhc3MgT0xRRFIgUDsKICAgIGNsYXNzIFBWVCBJOwogICAgY2xhc3MgUklSIEk7Cg==\"/>"
      ],
      "text/plain": [
       "<IPython.core.display.Image object>"
      ]
     },
     "metadata": {},
     "output_type": "display_data"
    }
   ],
   "source": [
    "minigraph = MiniGraph()\n",
    "minigraph.add_nodes('SABVL', ['RIGR'])\n",
    "minigraph.add_nodes('RIGR', ['ADEL', 'AFDR', 'AIBL', 'AIZR', 'ALNR', 'AQR', 'AVDL', 'AVER',\n",
    "       'AVKL', 'AVKR', 'BAGL', 'DVA', 'DVC', 'OLLR', 'OLQDR', 'OLQVR',\n",
    "       'PVT', 'RIAR', 'RIBR', 'RIR', 'RMFL', 'RMHL', 'URXR', 'URYDR',\n",
    "       'URYVR', 'VD1'])\n",
    "minigraph.display()\n",
    "#minigraph.print()"
   ]
  },
  {
   "cell_type": "code",
   "execution_count": 13,
   "metadata": {},
   "outputs": [
    {
     "name": "stdout",
     "output_type": "stream",
     "text": [
      "Chosen dataset(s): ['Flavell2023']\n",
      "Num. worms: 50\n",
      "\n",
      "WormID: worm0, Target: M3L\n",
      "WormID: worm0, Target: NSML\n",
      "WormID: worm1, Target: M3L\n",
      "WormID: worm2, Target: M3L\n",
      "WormID: worm2, Target: NSML\n",
      "WormID: worm3, Target: M3L\n",
      "WormID: worm3, Target: NSML\n",
      "WormID: worm4, Target: M3L\n",
      "WormID: worm4, Target: NSML\n",
      "WormID: worm5, Target: M3L\n",
      "WormID: worm5, Target: NSML\n",
      "WormID: worm6, Target: M3L\n",
      "WormID: worm6, Target: NSML\n",
      "WormID: worm7, Target: M3L\n",
      "WormID: worm7, Target: NSML\n",
      "WormID: worm8, Target: M3L\n",
      "WormID: worm8, Target: NSML\n",
      "WormID: worm9, Target: M3L\n",
      "WormID: worm9, Target: NSML\n",
      "WormID: worm10, Target: M3L\n",
      "WormID: worm10, Target: NSML\n",
      "WormID: worm11, Target: M3L\n",
      "WormID: worm11, Target: NSML\n",
      "WormID: worm12, Target: M3L\n",
      "WormID: worm12, Target: NSML\n",
      "WormID: worm13, Target: M3L\n",
      "WormID: worm13, Target: NSML\n",
      "WormID: worm14, Target: M3L\n",
      "WormID: worm14, Target: NSML\n",
      "WormID: worm15, Target: M3L\n",
      "WormID: worm15, Target: NSML\n",
      "WormID: worm16, Target: M3L\n",
      "WormID: worm16, Target: NSML\n",
      "WormID: worm17, Target: M3L\n",
      "WormID: worm17, Target: NSML\n",
      "WormID: worm18, Target: M3L\n",
      "WormID: worm18, Target: NSML\n",
      "WormID: worm19, Target: M3L\n",
      "WormID: worm19, Target: NSML\n",
      "WormID: worm20, Target: M3L\n",
      "WormID: worm20, Target: NSML\n",
      "WormID: worm21, Target: M3L\n",
      "WormID: worm22, Target: M3L\n",
      "WormID: worm22, Target: NSML\n",
      "WormID: worm23, Target: M3L\n",
      "WormID: worm23, Target: NSML\n",
      "WormID: worm24, Target: M3L\n",
      "WormID: worm24, Target: NSML\n",
      "WormID: worm25, Target: M3L\n",
      "WormID: worm25, Target: NSML\n",
      "WormID: worm26, Target: M3L\n",
      "WormID: worm26, Target: NSML\n",
      "WormID: worm27, Target: M3L\n",
      "WormID: worm27, Target: NSML\n",
      "WormID: worm28, Target: M3L\n",
      "WormID: worm28, Target: NSML\n",
      "WormID: worm29, Target: M3L\n",
      "WormID: worm29, Target: NSML\n",
      "WormID: worm30, Target: M3L\n",
      "WormID: worm30, Target: NSML\n",
      "WormID: worm31, Target: M3L\n",
      "WormID: worm31, Target: NSML\n",
      "WormID: worm32, Target: M3L\n",
      "WormID: worm32, Target: NSML\n",
      "WormID: worm33, Target: M3L\n",
      "WormID: worm33, Target: NSML\n",
      "WormID: worm34, Target: M3L\n",
      "WormID: worm34, Target: NSML\n",
      "WormID: worm35, Target: M3L\n",
      "WormID: worm35, Target: NSML\n",
      "WormID: worm36, Target: M3L\n",
      "WormID: worm36, Target: NSML\n",
      "WormID: worm37, Target: M3L\n",
      "WormID: worm37, Target: NSML\n",
      "WormID: worm38, Target: M3L\n",
      "WormID: worm38, Target: NSML\n",
      "WormID: worm39, Target: M3L\n",
      "WormID: worm39, Target: NSML\n",
      "WormID: worm40, Target: M3L\n",
      "WormID: worm40, Target: NSML\n",
      "WormID: worm41, Target: M3L\n",
      "WormID: worm41, Target: NSML\n",
      "WormID: worm42, Target: M3L\n",
      "WormID: worm43, Target: M3L\n",
      "WormID: worm43, Target: NSML\n",
      "WormID: worm45, Target: M3L\n",
      "WormID: worm45, Target: NSML\n",
      "WormID: worm46, Target: M3L\n",
      "WormID: worm46, Target: NSML\n",
      "WormID: worm47, Target: M3L\n",
      "WormID: worm47, Target: NSML\n",
      "WormID: worm48, Target: M3L\n",
      "WormID: worm48, Target: NSML\n",
      "WormID: worm49, Target: M3L\n",
      "WormID: worm49, Target: NSML\n",
      "WormID: worm50, Target: M3L\n",
      "WormID: worm50, Target: NSML\n"
     ]
    }
   ],
   "source": [
    "config = OmegaConf.load(\"/home/lrvnc/Projects/worm-graph/conf/dataset.yaml\")\n",
    "dataset = get_dataset(config)\n",
    "\n",
    "for wormID, data in dataset.items():\n",
    "    neuron_names = [value for key, value in data['slot_to_named_neuron'].items()]\n",
    "    for target in ['M3L', 'NSML']:\n",
    "        if target in neuron_names:\n",
    "            print('WormID: {}, Target: {}'.format(wormID, target))"
   ]
  }
 ],
 "metadata": {
  "kernelspec": {
   "display_name": "worm-graph",
   "language": "python",
   "name": "python3"
  },
  "language_info": {
   "codemirror_mode": {
    "name": "ipython",
    "version": 3
   },
   "file_extension": ".py",
   "mimetype": "text/x-python",
   "name": "python",
   "nbconvert_exporter": "python",
   "pygments_lexer": "ipython3",
   "version": "3.9.16"
  },
  "orig_nbformat": 4
 },
 "nbformat": 4,
 "nbformat_minor": 2
}
