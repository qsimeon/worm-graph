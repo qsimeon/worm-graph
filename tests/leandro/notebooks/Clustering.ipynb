{
 "cells": [
  {
   "cell_type": "code",
   "execution_count": 1,
   "metadata": {},
   "outputs": [],
   "source": [
    "from data._main import *\n",
    "from tslearn.clustering import TimeSeriesKMeans\n",
    "from tslearn.generators import random_walks"
   ]
  },
  {
   "cell_type": "code",
   "execution_count": 2,
   "metadata": {},
   "outputs": [
    {
     "name": "stdout",
     "output_type": "stream",
     "text": [
      "\n",
      "config:\n",
      "\t dataset:\n",
      "  name:\n",
      "  - Kato2015\n",
      "\n",
      "\n",
      "Chosen dataset(s): ['Kato2015']\n",
      "Num. worms: 12\n",
      "\n"
     ]
    }
   ],
   "source": [
    "# Real data\n",
    "config = OmegaConf.load(\"/home/lrvnc/projects/worm-graph/conf/dataset.yaml\")\n",
    "print(\"\\nconfig:\\n\\t\", OmegaConf.to_yaml(config), end=\"\\n\\n\")\n",
    "dataset = get_dataset(config)\n",
    "oneWorm = dataset['worm0']"
   ]
  },
  {
   "cell_type": "code",
   "execution_count": null,
   "metadata": {},
   "outputs": [],
   "source": []
  }
 ],
 "metadata": {
  "kernelspec": {
   "display_name": "worm-graph",
   "language": "python",
   "name": "python3"
  },
  "language_info": {
   "codemirror_mode": {
    "name": "ipython",
    "version": 3
   },
   "file_extension": ".py",
   "mimetype": "text/x-python",
   "name": "python",
   "nbconvert_exporter": "python",
   "pygments_lexer": "ipython3",
   "version": "3.9.16"
  },
  "orig_nbformat": 4
 },
 "nbformat": 4,
 "nbformat_minor": 2
}
