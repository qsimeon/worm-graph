{
 "cells": [
  {
   "cell_type": "code",
   "execution_count": 19,
   "metadata": {},
   "outputs": [],
   "source": [
    "from data._main import *\n",
    "from tslearn.clustering import TimeSeriesKMeans\n",
    "from tslearn.generators import random_walks\n",
    "import numpy as np\n",
    "from scipy.cluster.hierarchy import linkage\n",
    "from scipy.spatial.distance import squareform\n",
    "from scipy.cluster.hierarchy import dendrogram\n",
    "import matplotlib.pyplot as plt\n",
    "from tests.leandro.plots import *"
   ]
  },
  {
   "cell_type": "code",
   "execution_count": 3,
   "metadata": {},
   "outputs": [
    {
     "name": "stdout",
     "output_type": "stream",
     "text": [
      "\n",
      "config:\n",
      "\t dataset:\n",
      "  name: Flavell2023\n",
      "\n",
      "\n",
      "Chosen dataset(s): ['Flavell2023']\n",
      "Num. worms: 50\n",
      "\n"
     ]
    }
   ],
   "source": [
    "# Real data\n",
    "config = OmegaConf.load(\"/home/lrvnc/Projects/worm-graph/conf/dataset.yaml\")\n",
    "print(\"\\nconfig:\\n\\t\", OmegaConf.to_yaml(config), end=\"\\n\\n\")\n",
    "dataset = get_dataset(config)\n",
    "oneWorm = dataset['worm0']"
   ]
  },
  {
   "attachments": {},
   "cell_type": "markdown",
   "metadata": {},
   "source": [
    "# Hierarchically neuron clustering\n",
    "---"
   ]
  },
  {
   "cell_type": "code",
   "execution_count": 8,
   "metadata": {},
   "outputs": [
    {
     "data": {
      "text/plain": [
       "dict_keys(['dataset', 'smooth_method', 'worm', 'calcium_data', 'smooth_calcium_data', 'residual_calcium', 'smooth_residual_calcium', 'max_timesteps', 'time_in_seconds', 'dt', 'num_neurons', 'num_named_neurons', 'num_unknown_neurons', 'named_neurons_mask', 'unknown_neurons_mask', 'neurons_mask', 'slot_to_named_neuron', 'named_neuron_to_slot', 'slot_to_unknown_neuron', 'unknown_neuron_to_slot', 'slot_to_neuron', 'neuron_to_slot'])"
      ]
     },
     "execution_count": 8,
     "metadata": {},
     "output_type": "execute_result"
    }
   ],
   "source": [
    "oneWorm.keys()"
   ]
  },
  {
   "cell_type": "code",
   "execution_count": 17,
   "metadata": {},
   "outputs": [
    {
     "name": "stdout",
     "output_type": "stream",
     "text": [
      "X.shape: torch.Size([152, 9619])\n"
     ]
    }
   ],
   "source": [
    "X = oneWorm['smooth_calcium_data'] # (time, all neurons)\n",
    "X = X[:, oneWorm['neurons_mask']].T  # (time, acive neurons)\n",
    "print(\"X.shape:\", X.shape)"
   ]
  },
  {
   "cell_type": "code",
   "execution_count": 21,
   "metadata": {},
   "outputs": [
    {
     "ename": "",
     "evalue": "",
     "output_type": "error",
     "traceback": [
      "\u001b[1;31mCanceled future for execute_request message before replies were done"
     ]
    },
    {
     "ename": "",
     "evalue": "",
     "output_type": "error",
     "traceback": [
      "\u001b[1;31mThe Kernel crashed while executing code in the the current cell or a previous cell. Please review the code in the cell(s) to identify a possible cause of the failure. Click <a href='https://aka.ms/vscodeJupyterKernelCrash'>here</a> for more info. View Jupyter <a href='command:jupyter.viewOutput'>log</a> for further details."
     ]
    }
   ],
   "source": [
    "import numpy as np\n",
    "from scipy.cluster.hierarchy import dendrogram, linkage\n",
    "from scipy.spatial.distance import squareform\n",
    "import matplotlib.pyplot as plt\n",
    "\n",
    "# Assuming calcium_data is your data matrix of shape (time, num_neurons)\n",
    "# Compute the correlation matrix\n",
    "R = np.corrcoef(X, rowvar=False)\n",
    "#R = (R + R.T) / 2  # Make it symmetric (just in case) -> numerical error\n",
    "\n",
    "# Convert the correlation matrix to a distance matrix\n",
    "D = 1 - R\n",
    "\n",
    "# The linkage function takes a condensed distance matrix, which is a flat array containing the upper triangular of the distance matrix. \n",
    "# We use squareform function to convert the matrix form to the condensed form.\n",
    "D_condensed = squareform(D[np.triu_indices(D.shape[0], k=1)])\n",
    "\n",
    "# Perform hierarchical clustering using the complete linkage method\n",
    "Z = linkage(D_condensed, method='complete')\n",
    "\n",
    "# Plot the dendrogram\n",
    "fig = plt.figure(figsize=(10, 6))\n",
    "dendrogram(Z)\n",
    "plt.show()\n"
   ]
  }
 ],
 "metadata": {
  "kernelspec": {
   "display_name": "worm-graph",
   "language": "python",
   "name": "python3"
  },
  "language_info": {
   "codemirror_mode": {
    "name": "ipython",
    "version": 3
   },
   "file_extension": ".py",
   "mimetype": "text/x-python",
   "name": "python",
   "nbconvert_exporter": "python",
   "pygments_lexer": "ipython3",
   "version": "3.9.16"
  },
  "orig_nbformat": 4
 },
 "nbformat": 4,
 "nbformat_minor": 2
}
