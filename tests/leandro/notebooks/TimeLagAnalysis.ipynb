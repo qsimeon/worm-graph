{
 "cells": [
  {
   "cell_type": "code",
   "execution_count": 2,
   "metadata": {},
   "outputs": [],
   "source": [
    "%load_ext autoreload\n",
    "%autoreload 2"
   ]
  },
  {
   "cell_type": "code",
   "execution_count": 8,
   "metadata": {},
   "outputs": [],
   "source": [
    "from tests.leandro.mini_connectome import *\n",
    "from tests.leandro.plots import *\n",
    "from omegaconf import OmegaConf\n",
    "from data._main import *\n",
    "import pandas as pd"
   ]
  },
  {
   "cell_type": "code",
   "execution_count": 6,
   "metadata": {},
   "outputs": [
    {
     "name": "stdout",
     "output_type": "stream",
     "text": [
      "Chosen dataset(s): ['Flavell2023']\n",
      "Num. worms: 50\n",
      "\n"
     ]
    }
   ],
   "source": [
    "config = OmegaConf.load(\"/home/lrvnc/Projects/worm-graph/conf/dataset.yaml\")\n",
    "dataset = get_dataset(config)"
   ]
  },
  {
   "cell_type": "code",
   "execution_count": 9,
   "metadata": {},
   "outputs": [],
   "source": [
    "# Create a dataframe to save the M3L, NSMR and NSML calcium signals\n",
    "temp_dict = {\n",
    "    'wormID': [],\n",
    "    'Time vector': [],\n",
    "    'M3L data': [],\n",
    "    'M3L res data': [],\n",
    "    'NSMR data': [],\n",
    "    'NSMR res data': [],\n",
    "    'NSML data': [],\n",
    "    'NSML res data': []\n",
    "}\n",
    "\n",
    "for wormID, data in dataset.items():\n",
    "    neuron_names = [value for key, value in data['slot_to_named_neuron'].items()]\n",
    "    if ('M3L' in neuron_names) and ('NSML' in neuron_names) and ('NSMR' in neuron_names):\n",
    "        X_t = data['smooth_calcium_data'] # (time, all neurons)\n",
    "\n",
    "        m3l_data = np.asarray(X_t[:, data['named_neuron_to_slot']['M3L']])\n",
    "        nmsl_data = np.asarray(X_t[:, data['named_neuron_to_slot']['NSML']])\n",
    "        nmsr_data = np.asarray(X_t[:, data['named_neuron_to_slot']['NSMR']])\n",
    "\n",
    "        dX_dt = data['smooth_residual_calcium'] # (time, all neurons)\n",
    "\n",
    "        m3l_res_data = np.asarray(dX_dt[:, data['named_neuron_to_slot']['M3L']])\n",
    "        nmsl_res_data = np.asarray(dX_dt[:, data['named_neuron_to_slot']['NSML']])\n",
    "        nmsr_res_data = np.asarray(dX_dt[:, data['named_neuron_to_slot']['NSMR']])\n",
    "\n",
    "        # Append the data to the dataframe\n",
    "        temp_dict['wormID'].append(wormID)\n",
    "        temp_dict['Time vector'].append(np.asarray(data['time_in_seconds']))\n",
    "        temp_dict['M3L data'].append(m3l_data)\n",
    "        temp_dict['M3L res data'].append(m3l_res_data)\n",
    "        temp_dict['NSMR data'].append(nmsr_data)\n",
    "        temp_dict['NSMR res data'].append(nmsr_res_data)\n",
    "        temp_dict['NSML data'].append(nmsl_data)\n",
    "        temp_dict['NSML res data'].append(nmsl_res_data)\n",
    "\n",
    "# Convert the dictionary to a dataframe\n",
    "df = pd.DataFrame.from_dict(temp_dict)"
   ]
  }
 ],
 "metadata": {
  "kernelspec": {
   "display_name": "worm-graph",
   "language": "python",
   "name": "python3"
  },
  "language_info": {
   "codemirror_mode": {
    "name": "ipython",
    "version": 3
   },
   "file_extension": ".py",
   "mimetype": "text/x-python",
   "name": "python",
   "nbconvert_exporter": "python",
   "pygments_lexer": "ipython3",
   "version": "3.9.16"
  },
  "orig_nbformat": 4
 },
 "nbformat": 4,
 "nbformat_minor": 2
}
