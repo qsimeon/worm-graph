{
 "cells": [
  {
   "cell_type": "code",
   "execution_count": 36,
   "id": "40caa02c",
   "metadata": {},
   "outputs": [],
   "source": [
    "import mat73\n",
    "import torch\n",
    "import os\n",
    "import numpy as np\n",
    "import matplotlib.pyplot as plt\n",
    "from data._utils import ROOT_DIR, load_Nichols2017\n",
    "from preprocess._utils import smooth_data_preprocess, reshape_calcium_data\n"
   ]
  },
  {
   "cell_type": "code",
   "execution_count": 2,
   "id": "6c9cd065",
   "metadata": {},
   "outputs": [],
   "source": [
    "dataset = load_Nichols2017()\n",
    "source_path = os.path.join(ROOT_DIR, \"opensource_data\")\n"
   ]
  },
  {
   "cell_type": "code",
   "execution_count": 29,
   "id": "715e4f05",
   "metadata": {},
   "outputs": [
    {
     "name": "stdout",
     "output_type": "stream",
     "text": [
      "dataset\n",
      "worm\n",
      "calcium_data\n",
      "smooth_calcium_data\n",
      "residual_calcium\n",
      "smooth_residual_calcium\n",
      "neuron_to_idx\n",
      "idx_to_neuron\n",
      "max_time\n",
      "time_in_seconds\n",
      "dt\n",
      "num_neurons\n",
      "num_named_neurons\n",
      "num_unknown_neurons\n",
      "named_neurons_mask\n",
      "unknown_neurons_mask\n",
      "neurons_mask\n",
      "named_neuron_to_idx\n",
      "idx_to_named_neuron\n",
      "unknown_neuron_to_idx\n",
      "idx_to_unknown_neuron\n",
      "slot_to_named_neuron\n",
      "named_neuron_to_slot\n",
      "slot_to_unknown_neuron\n",
      "unknown_neuron_to_slot\n",
      "slot_to_neuron\n",
      "neuron_to_slot\n"
     ]
    }
   ],
   "source": [
    "for key in dataset[\"worm0\"].keys():\n",
    "    print(key)"
   ]
  },
  {
   "cell_type": "code",
   "execution_count": 26,
   "id": "317542f9",
   "metadata": {},
   "outputs": [
    {
     "data": {
      "text/plain": [
       "{'ADAL': 0,\n",
       " 'ADAR': 1,\n",
       " 'ADEL': 2,\n",
       " 'ADER': 3,\n",
       " 'ADFL': 4,\n",
       " 'ADFR': 5,\n",
       " 'ADLL': 6,\n",
       " 'ADLR': 7,\n",
       " 'AFDL': 8,\n",
       " 'AFDR': 9,\n",
       " 'AIAL': 10,\n",
       " 'AIAR': 11,\n",
       " 'AIBL': 12,\n",
       " 'AIBR': 13,\n",
       " 'AIML': 14,\n",
       " 'AIMR': 15,\n",
       " 'AINL': 16,\n",
       " 'AINR': 17,\n",
       " 'AIYL': 18,\n",
       " 'AIYR': 19,\n",
       " 'AIZL': 20,\n",
       " 'AIZR': 21,\n",
       " 'ALA': 22,\n",
       " 'ALML': 23,\n",
       " 'ALMR': 24,\n",
       " 'ALNL': 25,\n",
       " 'ALNR': 26,\n",
       " 'AQR': 27,\n",
       " 'AS1': 28,\n",
       " 'AS10': 29,\n",
       " 'AS11': 30,\n",
       " 'AS2': 31,\n",
       " 'AS3': 32,\n",
       " 'AS4': 33,\n",
       " 'AS5': 34,\n",
       " 'AS6': 35,\n",
       " 'AS7': 36,\n",
       " 'AS8': 37,\n",
       " 'AS9': 38,\n",
       " 'ASEL': 39,\n",
       " 'ASER': 40,\n",
       " 'ASGL': 41,\n",
       " 'ASGR': 42,\n",
       " 'ASHL': 43,\n",
       " 'ASHR': 44,\n",
       " 'ASIL': 45,\n",
       " 'ASIR': 46,\n",
       " 'ASJL': 47,\n",
       " 'ASJR': 48,\n",
       " 'ASKL': 49,\n",
       " 'ASKR': 50,\n",
       " 'AUAL': 51,\n",
       " 'AUAR': 52,\n",
       " 'AVAL': 53,\n",
       " 'AVAR': 54,\n",
       " 'AVBL': 55,\n",
       " 'AVBR': 56,\n",
       " 'AVDL': 57,\n",
       " 'AVDR': 58,\n",
       " 'AVEL': 59,\n",
       " 'AVER': 60,\n",
       " 'AVFL': 61,\n",
       " 'AVFR': 62,\n",
       " 'AVG': 63,\n",
       " 'AVHL': 64,\n",
       " 'AVHR': 65,\n",
       " 'AVJL': 66,\n",
       " 'AVJR': 67,\n",
       " 'AVKL': 68,\n",
       " 'AVKR': 69,\n",
       " 'AVL': 70,\n",
       " 'AVM': 71,\n",
       " 'AWAL': 72,\n",
       " 'AWAR': 73,\n",
       " 'AWBL': 74,\n",
       " 'AWBR': 75,\n",
       " 'AWCL': 76,\n",
       " 'AWCR': 77,\n",
       " 'BAGL': 78,\n",
       " 'BAGR': 79,\n",
       " 'BDUL': 80,\n",
       " 'BDUR': 81,\n",
       " 'CANL': 82,\n",
       " 'CANR': 83,\n",
       " 'CEPDL': 84,\n",
       " 'CEPDR': 85,\n",
       " 'CEPVL': 86,\n",
       " 'CEPVR': 87,\n",
       " 'DA1': 88,\n",
       " 'DA2': 89,\n",
       " 'DA3': 90,\n",
       " 'DA4': 91,\n",
       " 'DA5': 92,\n",
       " 'DA6': 93,\n",
       " 'DA7': 94,\n",
       " 'DA8': 95,\n",
       " 'DA9': 96,\n",
       " 'DB1': 97,\n",
       " 'DB2': 98,\n",
       " 'DB3': 99,\n",
       " 'DB4': 100,\n",
       " 'DB5': 101,\n",
       " 'DB6': 102,\n",
       " 'DB7': 103,\n",
       " 'DD1': 104,\n",
       " 'DD2': 105,\n",
       " 'DD3': 106,\n",
       " 'DD4': 107,\n",
       " 'DD5': 108,\n",
       " 'DD6': 109,\n",
       " 'DVA': 110,\n",
       " 'DVB': 111,\n",
       " 'DVC': 112,\n",
       " 'FLPL': 113,\n",
       " 'FLPR': 114,\n",
       " 'HSNL': 115,\n",
       " 'HSNR': 116,\n",
       " 'I1L': 117,\n",
       " 'I1R': 118,\n",
       " 'I2L': 119,\n",
       " 'I2R': 120,\n",
       " 'I3': 121,\n",
       " 'I4': 122,\n",
       " 'I5': 123,\n",
       " 'I6': 124,\n",
       " 'IL1DL': 125,\n",
       " 'IL1DR': 126,\n",
       " 'IL1L': 127,\n",
       " 'IL1R': 128,\n",
       " 'IL1VL': 129,\n",
       " 'IL1VR': 130,\n",
       " 'IL2DL': 131,\n",
       " 'IL2DR': 132,\n",
       " 'IL2L': 133,\n",
       " 'IL2R': 134,\n",
       " 'IL2VL': 135,\n",
       " 'IL2VR': 136,\n",
       " 'LUAL': 137,\n",
       " 'LUAR': 138,\n",
       " 'M1': 139,\n",
       " 'M2L': 140,\n",
       " 'M2R': 141,\n",
       " 'M3L': 142,\n",
       " 'M3R': 143,\n",
       " 'M4': 144,\n",
       " 'M5': 145,\n",
       " 'MCL': 146,\n",
       " 'MCR': 147,\n",
       " 'MI': 148,\n",
       " 'NSML': 149,\n",
       " 'NSMR': 150,\n",
       " 'OLLL': 151,\n",
       " 'OLLR': 152,\n",
       " 'OLQDL': 153,\n",
       " 'OLQDR': 154,\n",
       " 'OLQVL': 155,\n",
       " 'OLQVR': 156,\n",
       " 'PDA': 157,\n",
       " 'PDB': 158,\n",
       " 'PDEL': 159,\n",
       " 'PDER': 160,\n",
       " 'PHAL': 161,\n",
       " 'PHAR': 162,\n",
       " 'PHBL': 163,\n",
       " 'PHBR': 164,\n",
       " 'PHCL': 165,\n",
       " 'PHCR': 166,\n",
       " 'PLML': 167,\n",
       " 'PLMR': 168,\n",
       " 'PLNL': 169,\n",
       " 'PLNR': 170,\n",
       " 'PQR': 171,\n",
       " 'PVCL': 172,\n",
       " 'PVCR': 173,\n",
       " 'PVDL': 174,\n",
       " 'PVDR': 175,\n",
       " 'PVM': 176,\n",
       " 'PVNL': 177,\n",
       " 'PVNR': 178,\n",
       " 'PVPL': 179,\n",
       " 'PVPR': 180,\n",
       " 'PVQL': 181,\n",
       " 'PVQR': 182,\n",
       " 'PVR': 183,\n",
       " 'PVT': 184,\n",
       " 'PVWL': 185,\n",
       " 'PVWR': 186,\n",
       " 'RIAL': 187,\n",
       " 'RIAR': 188,\n",
       " 'RIBL': 189,\n",
       " 'RIBR': 190,\n",
       " 'RICL': 191,\n",
       " 'RICR': 192,\n",
       " 'RID': 193,\n",
       " 'RIFL': 194,\n",
       " 'RIFR': 195,\n",
       " 'RIGL': 196,\n",
       " 'RIGR': 197,\n",
       " 'RIH': 198,\n",
       " 'RIML': 199,\n",
       " 'RIMR': 200,\n",
       " 'RIPL': 201,\n",
       " 'RIPR': 202,\n",
       " 'RIR': 203,\n",
       " 'RIS': 204,\n",
       " 'RIVL': 205,\n",
       " 'RIVR': 206,\n",
       " 'RMDDL': 207,\n",
       " 'RMDDR': 208,\n",
       " 'RMDL': 209,\n",
       " 'RMDR': 210,\n",
       " 'RMDVL': 211,\n",
       " 'RMDVR': 212,\n",
       " 'RMED': 213,\n",
       " 'RMEL': 214,\n",
       " 'RMER': 215,\n",
       " 'RMEV': 216,\n",
       " 'RMFL': 217,\n",
       " 'RMFR': 218,\n",
       " 'RMGL': 219,\n",
       " 'RMGR': 220,\n",
       " 'RMHL': 221,\n",
       " 'RMHR': 222,\n",
       " 'SAADL': 223,\n",
       " 'SAADR': 224,\n",
       " 'SAAVL': 225,\n",
       " 'SAAVR': 226,\n",
       " 'SABD': 227,\n",
       " 'SABVL': 228,\n",
       " 'SABVR': 229,\n",
       " 'SDQL': 230,\n",
       " 'SDQR': 231,\n",
       " 'SIADL': 232,\n",
       " 'SIADR': 233,\n",
       " 'SIAVL': 234,\n",
       " 'SIAVR': 235,\n",
       " 'SIBDL': 236,\n",
       " 'SIBDR': 237,\n",
       " 'SIBVL': 238,\n",
       " 'SIBVR': 239,\n",
       " 'SMBDL': 240,\n",
       " 'SMBDR': 241,\n",
       " 'SMBVL': 242,\n",
       " 'SMBVR': 243,\n",
       " 'SMDDL': 244,\n",
       " 'SMDDR': 245,\n",
       " 'SMDVL': 246,\n",
       " 'SMDVR': 247,\n",
       " 'URADL': 248,\n",
       " 'URADR': 249,\n",
       " 'URAVL': 250,\n",
       " 'URAVR': 251,\n",
       " 'URBL': 252,\n",
       " 'URBR': 253,\n",
       " 'URXL': 254,\n",
       " 'URXR': 255,\n",
       " 'URYDL': 256,\n",
       " 'URYDR': 257,\n",
       " 'URYVL': 258,\n",
       " 'URYVR': 259,\n",
       " 'VA1': 260,\n",
       " 'VA10': 261,\n",
       " 'VA11': 262,\n",
       " 'VA12': 263,\n",
       " 'VA2': 264,\n",
       " 'VA3': 265,\n",
       " 'VA4': 266,\n",
       " 'VA5': 267,\n",
       " 'VA6': 268,\n",
       " 'VA7': 269,\n",
       " 'VA8': 270,\n",
       " 'VA9': 271,\n",
       " 'VB1': 272,\n",
       " 'VB10': 273,\n",
       " 'VB11': 274,\n",
       " 'VB2': 275,\n",
       " 'VB3': 276,\n",
       " 'VB4': 277,\n",
       " 'VB5': 278,\n",
       " 'VB6': 279,\n",
       " 'VB7': 280,\n",
       " 'VB8': 281,\n",
       " 'VB9': 282,\n",
       " 'VC1': 283,\n",
       " 'VC2': 284,\n",
       " 'VC3': 285,\n",
       " 'VC4': 286,\n",
       " 'VC5': 287,\n",
       " 'VC6': 288,\n",
       " 'VD1': 289,\n",
       " 'VD10': 290,\n",
       " 'VD11': 291,\n",
       " 'VD12': 292,\n",
       " 'VD13': 293,\n",
       " 'VD2': 294,\n",
       " 'VD3': 295,\n",
       " 'VD4': 296,\n",
       " 'VD5': 297,\n",
       " 'VD6': 298,\n",
       " 'VD7': 299,\n",
       " 'VD8': 300,\n",
       " 'VD9': 301}"
      ]
     },
     "execution_count": 26,
     "metadata": {},
     "output_type": "execute_result"
    }
   ],
   "source": [
    "dataset[\"worm0\"][\"named_neuron_to_slot\"]"
   ]
  },
  {
   "cell_type": "code",
   "execution_count": 27,
   "id": "a7f43925",
   "metadata": {},
   "outputs": [
    {
     "data": {
      "text/plain": [
       "{'AFDR': 95,\n",
       " 'ALA': 96,\n",
       " 'AQR': 97,\n",
       " 'ASKL': 98,\n",
       " 'AUAL': 99,\n",
       " 'AUAR': 100,\n",
       " 'AVAL': 101,\n",
       " 'AVFL': 102,\n",
       " 'AVFR': 103,\n",
       " 'BAGL': 104,\n",
       " 'BAGR': 105,\n",
       " 'DB2': 106,\n",
       " 'IL2DL': 107,\n",
       " 'RID': 108,\n",
       " 'RIS': 109,\n",
       " 'RMED': 110,\n",
       " 'RMEV': 111,\n",
       " 'URXL': 112,\n",
       " 'URYDL': 113,\n",
       " 'URYDR': 114,\n",
       " 'VB1': 115,\n",
       " 'VB2': 116}"
      ]
     },
     "execution_count": 27,
     "metadata": {},
     "output_type": "execute_result"
    }
   ],
   "source": [
    "dataset[\"worm0\"][\"named_neuron_to_idx\"]"
   ]
  },
  {
   "cell_type": "code",
   "execution_count": 22,
   "id": "5719af67",
   "metadata": {},
   "outputs": [
    {
     "data": {
      "text/plain": [
       "torch.Size([4224, 302])"
      ]
     },
     "execution_count": 22,
     "metadata": {},
     "output_type": "execute_result"
    }
   ],
   "source": [
    "calcium_data = dataset[\"worm0\"][\"calcium_data\"]\n",
    "calcium_data.shape\n"
   ]
  },
  {
   "cell_type": "code",
   "execution_count": 25,
   "id": "76a1a384",
   "metadata": {},
   "outputs": [
    {
     "data": {
      "text/plain": [
       "53"
      ]
     },
     "execution_count": 25,
     "metadata": {},
     "output_type": "execute_result"
    }
   ],
   "source": [
    "dataset[\"worm0\"][\"named_neuron_to_slot\"][\"AVAL\"]"
   ]
  },
  {
   "cell_type": "code",
   "execution_count": 23,
   "id": "f4bca071",
   "metadata": {},
   "outputs": [
    {
     "data": {
      "image/png": "[encoded data removed]",
      "text/plain": [
       "<Figure size 640x480 with 1 Axes>"
      ]
     },
     "metadata": {},
     "output_type": "display_data"
    }
   ],
   "source": [
    "plt.figure()\n",
    "plt.plot(dataset[\"worm0\"][\"time_in_seconds\"], \n",
    "         calcium_data[:,53]) \n",
    "plt.xlabel(\"Time (seconds)\")\n",
    "plt.show()"
   ]
  },
  {
   "cell_type": "code",
   "execution_count": 30,
   "id": "7ffea83a",
   "metadata": {},
   "outputs": [],
   "source": [
    "# 'n2_prelet' : prelathargic = awake\n",
    "# load the second .mat file\n",
    "arr = mat73.loadmat(os.path.join(source_path, \"Nichols2017\", \"n2_prelet.mat\"))[\n",
    "    \"n2_prelet\"\n",
    "]"
   ]
  },
  {
   "cell_type": "code",
   "execution_count": 33,
   "id": "5000a886",
   "metadata": {},
   "outputs": [
    {
     "name": "stdout",
     "output_type": "stream",
     "text": [
      "FiveStates\n",
      "FourStates\n",
      "IDs\n",
      "dataset\n",
      "fps\n",
      "stimulus\n",
      "timeVectorSeconds\n",
      "traces\n",
      "tracesDif\n"
     ]
    }
   ],
   "source": [
    "for key in arr.keys():\n",
    "    print(key)"
   ]
  },
  {
   "cell_type": "code",
   "execution_count": 44,
   "id": "961656ed",
   "metadata": {},
   "outputs": [],
   "source": [
    "all_IDs = arr[\"IDs\"]  # identified neuron IDs (only subset have neuron names)\n",
    "all_traces = arr[\"traces\"]  # neural activity traces corrected for bleaching"
   ]
  },
  {
   "cell_type": "code",
   "execution_count": 48,
   "id": "775aac59",
   "metadata": {},
   "outputs": [
    {
     "data": {
      "text/plain": [
       "11"
      ]
     },
     "execution_count": 48,
     "metadata": {},
     "output_type": "execute_result"
    }
   ],
   "source": [
    "len(all_traces)\n"
   ]
  },
  {
   "cell_type": "code",
   "execution_count": 51,
   "id": "3d677aa6",
   "metadata": {},
   "outputs": [
    {
     "name": "stdout",
     "output_type": "stream",
     "text": [
      "0 (3721, 116)\n",
      "1 (3863, 111)\n",
      "2 (3595, 106)\n",
      "3 (3596, 115)\n",
      "4 (3453, 100)\n",
      "5 (3446, 102)\n",
      "6 (3957, 102)\n",
      "7 (3797, 87)\n",
      "8 (3033, 82)\n",
      "9 (3797, 104)\n",
      "10 (3633, 82)\n"
     ]
    }
   ],
   "source": [
    "for i, trace in enumerate(all_traces):\n",
    "    print(i, trace.shape)"
   ]
  },
  {
   "cell_type": "code",
   "execution_count": 50,
   "id": "1a3b0129",
   "metadata": {},
   "outputs": [
    {
     "data": {
      "text/plain": [
       "array([[0.36077894, 0.15311539, 0.12601104, ..., 0.36842926, 0.63176987,\n",
       "        0.2870731 ],\n",
       "       [0.37693464, 0.13284865, 0.06680947, ..., 0.37787048, 0.65558208,\n",
       "        0.33175102],\n",
       "       [0.43839576, 0.12688289, 0.1146008 , ..., 0.41932123, 0.66682454,\n",
       "        0.33812104],\n",
       "       ...,\n",
       "       [0.11067008, 0.04612675, 0.05279504, ..., 0.15589348, 0.20677533,\n",
       "        0.74065276],\n",
       "       [0.04967216, 0.04743663, 0.05798707, ..., 0.17750003, 0.23712831,\n",
       "        0.66325751],\n",
       "       [0.09291643, 0.04012206, 0.06595285, ..., 0.13781165, 0.20395894,\n",
       "        0.76229594]])"
      ]
     },
     "execution_count": 50,
     "metadata": {},
     "output_type": "execute_result"
    }
   ],
   "source": [
    "trace"
   ]
  },
  {
   "cell_type": "code",
   "execution_count": 52,
   "id": "ddc3dd91",
   "metadata": {},
   "outputs": [
    {
     "name": "stdout",
     "output_type": "stream",
     "text": [
      "num. worms: 11\n",
      "\n",
      "len. Ca recording 3721, total num. neurons 116, num. ID'd neurons 35\n",
      "\n"
     ]
    }
   ],
   "source": [
    "timeVectorSeconds = arr[\"timeVectorSeconds\"]\n",
    "print(\"num. worms:\", len(all_IDs), end=\"\\n\\n\")\n",
    "for ii, real_data in enumerate(all_traces):\n",
    "    worm = \"worm\" + str(ii + i + 1)\n",
    "    ii_IDs = [(j[0] if isinstance(j, list) else j) for j in all_IDs[ii]]\n",
    "    ii_IDs = [\n",
    "        (str(_) if j is None or isinstance(j, np.ndarray) else str(j))\n",
    "        for _, j in enumerate(ii_IDs)\n",
    "    ]\n",
    "    _, inds = np.unique(\n",
    "        ii_IDs, return_index=True\n",
    "    )  # only keep indices of unique neuron IDs\n",
    "    ii_IDs = [ii_IDs[_] for _ in inds]\n",
    "    real_data = real_data[:, inds.astype(int)]  # only get data for unique neurons\n",
    "    neuron_to_idx = {\n",
    "        nid: (str(nid) if (j is None or isinstance(j, np.ndarray)) else str(j))\n",
    "        for nid, j in enumerate(ii_IDs)\n",
    "    }\n",
    "    neuron_to_idx = {\n",
    "        nid: (\n",
    "            name.replace(\"0\", \"\")\n",
    "            if not name.endswith(\"0\") and not name.isnumeric()\n",
    "            else name\n",
    "        )\n",
    "        for nid, name in neuron_to_idx.items()\n",
    "    }\n",
    "    neuron_to_idx = dict((v, k) for k, v in neuron_to_idx.items())\n",
    "    max_time, num_neurons = real_data.shape\n",
    "    time_in_seconds = timeVectorSeconds[ii].reshape(\n",
    "        timeVectorSeconds[ii].shape[0], 1\n",
    "    )\n",
    "    time_in_seconds = torch.tensor(time_in_seconds)\n",
    "    dt = torch.zeros_like(time_in_seconds)\n",
    "    dt[1:] = time_in_seconds[1:] - time_in_seconds[:-1]\n",
    "    num_named = len(\n",
    "        [k for k in neuron_to_idx.keys() if not k.isnumeric()]\n",
    "    )  # number of neurons that were ID'd\n",
    "    print(\n",
    "        \"len. Ca recording %s, total num. neurons %s, num. ID'd neurons %s\"\n",
    "        % (max_time, num_neurons, num_named),\n",
    "        end=\"\\n\\n\",\n",
    "    )\n",
    "    real_data = torch.tensor(\n",
    "        real_data[:, :num_neurons], dtype=torch.float64\n",
    "    )  # add a feature dimension and convert to tensor\n",
    "    break"
   ]
  },
  {
   "cell_type": "code",
   "execution_count": 53,
   "id": "49550b01",
   "metadata": {},
   "outputs": [
    {
     "name": "stdout",
     "output_type": "stream",
     "text": [
      "torch.Size([3721, 116]) {'0': 0, '1': 1, '10': 2, '100': 3, '101': 4, '102': 5, '103': 6, '104': 7, '106': 8, '109': 9, '11': 10, '110': 11, '111': 12, '113': 13, '12': 14, '13': 15, '15': 16, '16': 17, '17': 18, '18': 19, '2': 20, '20': 21, '24': 22, '25': 23, '26': 24, '28': 25, '3': 26, '31': 27, '33': 28, '34': 29, '39': 30, '4': 31, '41': 32, '45': 33, '46': 34, '47': 35, '48': 36, '5': 37, '50': 38, '51': 39, '52': 40, '53': 41, '54': 42, '55': 43, '57': 44, '59': 45, '6': 46, '60': 47, '62': 48, '63': 49, '67': 50, '68': 51, '69': 52, '7': 53, '70': 54, '71': 55, '73': 56, '74': 57, '75': 58, '76': 59, '77': 60, '78': 61, '79': 62, '8': 63, '80': 64, '81': 65, '82': 66, '83': 67, '84': 68, '85': 69, '88': 70, '89': 71, '9': 72, '91': 73, '92': 74, '93': 75, '95': 76, '96': 77, '97': 78, '98': 79, '99': 80, 'AFDR': 81, 'AIBL': 82, 'AIBR': 83, 'ALA': 84, 'AQR': 85, 'ASKL': 86, 'AVAL': 87, 'AVAR': 88, 'AVBL': 89, 'AVBR': 90, 'AVEL': 91, 'AVFL': 92, 'OLQDR': 93, 'OLQVL': 94, 'RIBL': 95, 'RIBR': 96, 'RID': 97, 'RIML': 98, 'RIMR': 99, 'RIS': 100, 'RIVL': 101, 'RIVR': 102, 'RMED': 103, 'RMEL': 104, 'RMER': 105, 'RMEV': 106, 'SMDDL': 107, 'SMDDR': 108, 'SMDVR': 109, 'URXR': 110, 'URYDL': 111, 'URYDR': 112, 'URYVL': 113, 'URYVR': 114, 'VB2': 115}\n"
     ]
    }
   ],
   "source": [
    "print(real_data.shape)"
   ]
  },
  {
   "cell_type": "code",
   "execution_count": 54,
   "id": "6e3789f8",
   "metadata": {},
   "outputs": [
    {
     "data": {
      "text/plain": [
       "87"
      ]
     },
     "execution_count": 54,
     "metadata": {},
     "output_type": "execute_result"
    }
   ],
   "source": [
    "neuron_to_idx['AVAL']"
   ]
  },
  {
   "cell_type": "code",
   "execution_count": 55,
   "id": "89ac9a52",
   "metadata": {},
   "outputs": [
    {
     "data": {
      "text/plain": [
       "[<matplotlib.lines.Line2D at 0x7f91e63ded90>]"
      ]
     },
     "execution_count": 55,
     "metadata": {},
     "output_type": "execute_result"
    },
    {
     "data": {
      "image/png": "[encoded data removed]",
      "text/plain": [
       "<Figure size 640x480 with 1 Axes>"
      ]
     },
     "metadata": {},
     "output_type": "display_data"
    }
   ],
   "source": [
    "plt.plot(real_data[:, neuron_to_idx['AVAL']])"
   ]
  },
  {
   "cell_type": "code",
   "execution_count": null,
   "id": "ec36e7f8",
   "metadata": {},
   "outputs": [],
   "source": []
  }
 ],
 "metadata": {
  "kernelspec": {
   "display_name": "Python 3 (ipykernel)",
   "language": "python",
   "name": "python3"
  },
  "language_info": {
   "codemirror_mode": {
    "name": "ipython",
    "version": 3
   },
   "file_extension": ".py",
   "mimetype": "text/x-python",
   "name": "python",
   "nbconvert_exporter": "python",
   "pygments_lexer": "ipython3",
   "version": "3.9.16"
  }
 },
 "nbformat": 4,
 "nbformat_minor": 5
}
