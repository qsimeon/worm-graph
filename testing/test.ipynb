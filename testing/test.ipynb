{
 "cells": [
  {
   "cell_type": "code",
   "execution_count": 8,
   "id": "40caa02c",
   "metadata": {},
   "outputs": [],
   "source": [
    "import os\n",
    "import h5py\n",
    "import numpy as np\n",
    "import matplotlib.pyplot as plt\n",
    "import torch"
   ]
  },
  {
   "cell_type": "code",
   "execution_count": 2,
   "id": "6c9cd065",
   "metadata": {},
   "outputs": [
    {
     "name": "stdout",
     "output_type": "stream",
     "text": [
      "/Users/quileesimeon/Dropbox (MIT)/opensource_data/Flavell2023\n",
      "['neuropal_class', 'neuropal_label', 'pumping', 'timestamp_confocal', 'trace_array', 'trace_array_F20', 'trace_original', 'velocity', 'θh']\n",
      "\n"
     ]
    }
   ],
   "source": [
    "data_dir = os.path.join(\"/Users/quileesimeon/Dropbox (MIT)/opensource_data/Flavell2023\")\n",
    "print(data_dir)\n",
    "\n",
    "for i, h5_file in enumerate(os.listdir(data_dir)):\n",
    "    if not h5_file.endswith(\".h5\"):\n",
    "        continue\n",
    "    # each h5 has the data for one (1) worm\n",
    "    h5_file = os.path.join(data_dir, h5_file)\n",
    "    worm = \"worm\" + str(i)\n",
    "    h5 = h5py.File(h5_file, \"r\")\n",
    "    print(list(h5.keys()), end=\"\\n\\n\")\n",
    "\n",
    "    break"
   ]
  },
  {
   "cell_type": "code",
   "execution_count": 3,
   "id": "f4bca071",
   "metadata": {},
   "outputs": [],
   "source": [
    "timestamp =  np.array(h5[\"timestamp_confocal\"], dtype=float)"
   ]
  },
  {
   "cell_type": "code",
   "execution_count": 5,
   "id": "b37c934f",
   "metadata": {},
   "outputs": [],
   "source": [
    "new_timestamp = timestamp - timestamp[0]"
   ]
  },
  {
   "cell_type": "code",
   "execution_count": 9,
   "id": "745569ba",
   "metadata": {},
   "outputs": [
    {
     "data": {
      "text/plain": [
       "(1600,)"
      ]
     },
     "execution_count": 9,
     "metadata": {},
     "output_type": "execute_result"
    }
   ],
   "source": [
    "new_timestamp[-1] // 60\n",
    "new_timestamp.shape"
   ]
  },
  {
   "cell_type": "code",
   "execution_count": 10,
   "id": "ebded3f5",
   "metadata": {},
   "outputs": [
    {
     "data": {
      "text/plain": [
       "torch.Size([1600, 1])"
      ]
     },
     "execution_count": 10,
     "metadata": {},
     "output_type": "execute_result"
    }
   ],
   "source": [
    "_ = torch.tensor(new_timestamp).reshape((-1,1))\n",
    "_.shape"
   ]
  },
  {
   "cell_type": "code",
   "execution_count": null,
   "id": "71821673",
   "metadata": {},
   "outputs": [],
   "source": []
  }
 ],
 "metadata": {
  "kernelspec": {
   "display_name": "Python 3 (ipykernel)",
   "language": "python",
   "name": "python3"
  },
  "language_info": {
   "codemirror_mode": {
    "name": "ipython",
    "version": 3
   },
   "file_extension": ".py",
   "mimetype": "text/x-python",
   "name": "python",
   "nbconvert_exporter": "python",
   "pygments_lexer": "ipython3",
   "version": "3.9.16"
  }
 },
 "nbformat": 4,
 "nbformat_minor": 5
}
