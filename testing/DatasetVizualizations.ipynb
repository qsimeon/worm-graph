{
 "cells": [
  {
   "cell_type": "code",
   "execution_count": 8,
   "metadata": {},
   "outputs": [],
   "source": [
    "from data._utils import load_Leifer2023\n",
    "import pandas as pd"
   ]
  },
  {
   "cell_type": "code",
   "execution_count": 9,
   "metadata": {},
   "outputs": [
    {
     "name": "stdout",
     "output_type": "stream",
     "text": [
      "['worm0', 'worm1', 'worm10', 'worm11', 'worm12', 'worm13', 'worm14', 'worm15', 'worm16', 'worm17', 'worm18', 'worm19', 'worm2', 'worm20', 'worm21', 'worm22', 'worm23', 'worm24', 'worm25', 'worm26', 'worm27', 'worm28', 'worm29', 'worm3', 'worm30', 'worm31', 'worm32', 'worm33', 'worm34', 'worm35', 'worm36', 'worm37', 'worm38', 'worm39', 'worm4', 'worm40', 'worm41', 'worm42', 'worm43', 'worm44', 'worm45', 'worm46', 'worm47', 'worm5', 'worm6', 'worm7', 'worm8', 'worm9']\n",
      "['calcium_data', 'dataset', 'dt', 'max_time', 'named_neuron_to_slot', 'named_neurons_mask', 'neuron_to_slot', 'neurons_mask', 'num_named_neurons', 'num_neurons', 'num_unknown_neurons', 'residual_calcium', 'slot_to_named_neuron', 'slot_to_neuron', 'slot_to_unknown_neuron', 'smooth_calcium_data', 'smooth_residual_calcium', 'time_in_seconds', 'unknown_neuron_to_slot', 'unknown_neurons_mask', 'worm']\n"
     ]
    }
   ],
   "source": [
    "Leifer2023 = load_Leifer2023()\n",
    "print(sorted(Leifer2023.keys()))\n",
    "print(sorted(Leifer2023[\"worm0\"].keys()))"
   ]
  },
  {
   "cell_type": "code",
   "execution_count": 45,
   "metadata": {},
   "outputs": [],
   "source": [
    "master_dict = {\n",
    "    \"worm\",\n",
    "    \"neuron\",\n",
    "    \"slot\",\n",
    "    \"dataset\",\n",
    "    \"is_named\",\n",
    "    \"is_unknown\",\n",
    "    \"calcium\",\n",
    "    \"residual\",\n",
    "    \"smooth_calcium\",\n",
    "    \"smooth_residual\",\n",
    "    \"time_in_seconds\",\n",
    "    \"dt\",\n",
    "}\n",
    "master_dict = dict((key, []) for key in master_dict)"
   ]
  },
  {
   "cell_type": "code",
   "execution_count": 46,
   "metadata": {},
   "outputs": [],
   "source": [
    "for worm in Leifer2023:\n",
    "    for neuron, slot in Leifer2023[worm][\"neuron_to_slot\"].items():\n",
    "        for i in range(Leifer2023[worm][\"max_time\"]):\n",
    "            master_dict[\"worm\"].append(worm)\n",
    "            master_dict[\"neuron\"].append(neuron)\n",
    "\n",
    "            master_dict[\"slot\"].append(Leifer2023[worm][\"neuron_to_slot\"][neuron])\n",
    "            master_dict[\"dataset\"].append(Leifer2023[worm][\"dataset\"])\n",
    "\n",
    "            master_dict[\"is_named\"].append(\n",
    "                Leifer2023[worm][\"named_neurons_mask\"][slot].item()\n",
    "            )\n",
    "            master_dict[\"is_unknown\"].append(\n",
    "                Leifer2023[worm][\"unknown_neurons_mask\"][slot].item()\n",
    "            )\n",
    "\n",
    "            master_dict[\"calcium\"].append(\n",
    "                Leifer2023[worm][\"calcium_data\"][i][slot].item()\n",
    "            )\n",
    "            master_dict[\"residual\"].append(\n",
    "                Leifer2023[worm][\"residual_calcium\"][i][slot].item()\n",
    "            )\n",
    "\n",
    "            master_dict[\"smooth_calcium\"].append(\n",
    "                Leifer2023[worm][\"smooth_calcium_data\"][i][slot].item()\n",
    "            )\n",
    "            master_dict[\"smooth_residual\"].append(\n",
    "                Leifer2023[worm][\"smooth_residual_calcium\"][i][slot].item()\n",
    "            )\n",
    "\n",
    "            master_dict[\"time_in_seconds\"].append(\n",
    "                Leifer2023[worm][\"time_in_seconds\"][i].item()\n",
    "            )\n",
    "            master_dict[\"dt\"].append(Leifer2023[worm][\"dt\"][i].item())\n",
    "\n",
    "        # break"
   ]
  },
  {
   "cell_type": "code",
   "execution_count": null,
   "metadata": {},
   "outputs": [
    {
     "name": "stdout",
     "output_type": "stream",
     "text": [
      "time_in_seconds 175899\n",
      "smooth_calcium 175899\n",
      "calcium 175899\n",
      "dataset 175899\n",
      "dt 175899\n",
      "smooth_residual 175899\n",
      "residual 175899\n",
      "is_unknown 175899\n",
      "worm 175899\n",
      "slot 175899\n",
      "is_named 175899\n",
      "neuron 175899\n"
     ]
    }
   ],
   "source": [
    "for key in master_dict:\n",
    "    print(key, len(master_dict[key]))"
   ]
  },
  {
   "cell_type": "code",
   "execution_count": null,
   "metadata": {},
   "outputs": [],
   "source": []
  }
 ],
 "metadata": {
  "kernelspec": {
   "display_name": "worm-graph",
   "language": "python",
   "name": "python3"
  },
  "language_info": {
   "codemirror_mode": {
    "name": "ipython",
    "version": 3
   },
   "file_extension": ".py",
   "mimetype": "text/x-python",
   "name": "python",
   "nbconvert_exporter": "python",
   "pygments_lexer": "ipython3",
   "version": "3.9.16"
  },
  "orig_nbformat": 4
 },
 "nbformat": 4,
 "nbformat_minor": 2
}
