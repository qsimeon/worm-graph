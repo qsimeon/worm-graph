{
 "cells": [
  {
   "cell_type": "code",
   "execution_count": 1,
   "metadata": {
    "ExecuteTime": {
     "start_time": "2023-04-11T16:13:41.016534Z",
     "end_time": "2023-04-11T16:13:44.598583Z"
    }
   },
   "outputs": [],
   "source": [
    "import os.path\n",
    "\n",
    "import torch\n",
    "import matplotlib.pyplot as plt\n",
    "import numpy as np\n",
    "from datetime import datetime\n",
    "from omegaconf import OmegaConf\n",
    "from train._main import train_model\n",
    "from data._main import get_dataset\n",
    "from data._utils import load_Flavell2023, load_Uzel2022\n",
    "from train._utils import model_predict, make_predictions\n",
    "from visualization._utils import plot_targets_predictions, plot_correlation_scatterplot\n",
    "from models._utils import NetworkLSTM, LinearNN, NeuralCFC\n",
    "from utils import DEVICE"
   ]
  },
  {
   "cell_type": "code",
   "execution_count": 3,
   "metadata": {
    "ExecuteTime": {
     "start_time": "2023-04-11T16:14:30.068823Z",
     "end_time": "2023-04-11T16:14:30.081237Z"
    }
   },
   "outputs": [
    {
     "name": "stdout",
     "output_type": "stream",
     "text": [
      "epoch\n",
      "loss\n",
      "dataset_name\n",
      "model_name\n",
      "optimizer_name\n",
      "learning_rate\n",
      "smooth_data\n",
      "timestamp\n",
      "covered_neurons\n",
      "input_size\n",
      "hidden_size\n",
      "num_layers\n",
      "num_worm_cohorts\n",
      "num_unique_worms\n",
      "model_state_dict\n",
      "optimizer_state_dict\n"
     ]
    }
   ],
   "source": [
    "# load your trained model checkpoint of choice\n",
    "PATH = \"../../logs/hydra/199_epochs_19303_worms.pt\"\n",
    "checkpoint = torch.load(PATH, map_location=torch.device(DEVICE))\n",
    "for key in checkpoint.keys():\n",
    "    print(key)"
   ]
  },
  {
   "cell_type": "code",
   "execution_count": 4,
   "metadata": {
    "ExecuteTime": {
     "start_time": "2023-04-11T16:14:32.718211Z",
     "end_time": "2023-04-11T16:14:32.722074Z"
    }
   },
   "outputs": [
    {
     "name": "stdout",
     "output_type": "stream",
     "text": [
      "NetworkLSTM model was trained on dataset Flavell2023_Kaplan2020_Kato2015_Nichols2017_Skora2018 for 199 epochs.\n"
     ]
    }
   ],
   "source": [
    "# get checkpoint variables\n",
    "model_name = checkpoint[\"model_name\"]\n",
    "dataset_name = checkpoint[\"dataset_name\"]\n",
    "input_size = checkpoint[\"input_size\"]\n",
    "hidden_size = checkpoint[\"hidden_size\"]\n",
    "model_state_dict = checkpoint[\"model_state_dict\"]\n",
    "optimizer_state_dict = checkpoint[\"optimizer_state_dict\"]\n",
    "num_layers = checkpoint[\"num_layers\"]\n",
    "smooth_data = checkpoint[\"smooth_data\"]\n",
    "epoch = checkpoint[\"epoch\"]\n",
    "\n",
    "print(\"{} model was trained on dataset {} for {} epochs.\".format(model_name, dataset_name, epoch))"
   ]
  },
  {
   "cell_type": "code",
   "execution_count": 158,
   "outputs": [
    {
     "name": "stdout",
     "output_type": "stream",
     "text": [
      "dict_keys(['epoch', 'loss', 'dataset_name', 'model_name', 'optimizer_name', 'learning_rate', 'smooth_data', 'timestamp', 'covered_neurons', 'input_size', 'hidden_size', 'num_layers', 'num_worm_cohorts', 'num_unique_worms', 'model_state_dict', 'optimizer_state_dict'])\n"
     ]
    }
   ],
   "source": [
    "print(checkpoint.keys())"
   ],
   "metadata": {
    "collapsed": false,
    "ExecuteTime": {
     "start_time": "2023-04-11T18:27:12.202833Z",
     "end_time": "2023-04-11T18:27:12.222423Z"
    }
   }
  },
  {
   "cell_type": "code",
   "execution_count": 160,
   "outputs": [
    {
     "name": "stdout",
     "output_type": "stream",
     "text": [
      "197\n"
     ]
    }
   ],
   "source": [
    "print(len(checkpoint[\"covered_neurons\"]))"
   ],
   "metadata": {
    "collapsed": false,
    "ExecuteTime": {
     "start_time": "2023-04-11T18:27:51.231297Z",
     "end_time": "2023-04-11T18:27:51.236760Z"
    }
   }
  },
  {
   "cell_type": "code",
   "execution_count": 5,
   "metadata": {
    "ExecuteTime": {
     "start_time": "2023-04-11T16:14:39.744470Z",
     "end_time": "2023-04-11T16:14:39.799014Z"
    }
   },
   "outputs": [
    {
     "name": "stdout",
     "output_type": "stream",
     "text": [
      "NetworkLSTM(\n",
      "  (identity): Identity()\n",
      "  (lstm): LSTM(302, 1024, batch_first=True)\n",
      "  (layer_norm): LayerNorm((1024,), eps=1e-05, elementwise_affine=True)\n",
      "  (linear): Linear(in_features=1024, out_features=302, bias=True)\n",
      ")\n",
      "SGD (\n",
      "Parameter Group 0\n",
      "    dampening: 0\n",
      "    differentiable: False\n",
      "    foreach: None\n",
      "    lr: 0.01\n",
      "    maximize: False\n",
      "    momentum: 0\n",
      "    nesterov: False\n",
      "    weight_decay: 0\n",
      ")\n"
     ]
    }
   ],
   "source": [
    "# load model checkpoint\n",
    "model = eval(model_name)(input_size, hidden_size, num_layers)\n",
    "model.load_state_dict(model_state_dict)\n",
    "model.eval()\n",
    "print(model)\n",
    "\n",
    "# load optimizer checkpoint\n",
    "optimizer = torch.optim.SGD(model.parameters(), lr=0.0) # turn off learning\n",
    "optimizer.load_state_dict(optimizer_state_dict)\n",
    "print(optimizer)"
   ]
  },
  {
   "cell_type": "code",
   "execution_count": 6,
   "metadata": {
    "ExecuteTime": {
     "start_time": "2023-04-11T16:14:44.413453Z",
     "end_time": "2023-04-11T16:14:44.495081Z"
    }
   },
   "outputs": [
    {
     "name": "stdout",
     "output_type": "stream",
     "text": [
      "dataset\n",
      "worm\n",
      "calcium_data\n",
      "smooth_calcium_data\n",
      "residual_calcium\n",
      "smooth_residual_calcium\n",
      "neuron_to_idx\n",
      "idx_to_neuron\n",
      "max_time\n",
      "time_in_seconds\n",
      "dt\n",
      "num_neurons\n",
      "num_named_neurons\n",
      "num_unknown_neurons\n",
      "named_neurons_mask\n",
      "unknown_neurons_mask\n",
      "neurons_mask\n",
      "named_neuron_to_idx\n",
      "idx_to_named_neuron\n",
      "unknown_neuron_to_idx\n",
      "idx_to_unknown_neuron\n",
      "slot_to_named_neuron\n",
      "named_neuron_to_slot\n",
      "slot_to_unknown_neuron\n",
      "unknown_neuron_to_slot\n",
      "slot_to_neuron\n",
      "neuron_to_slot\n"
     ]
    }
   ],
   "source": [
    "# ideally, evaluate the model on a test dataset that it was not trained on\n",
    "# dataset = load_Flavell2023() # dataset of multiple worms\n",
    "dataset = load_Uzel2022() # dataset of multiple worms\n",
    "for key in dataset[\"worm0\"].keys():\n",
    "    print(key)\n",
    "named_neurons_mask = dataset[\"worm0\"][\"named_neurons_mask\"]\n",
    "if smooth_data:\n",
    "    calcium_data = dataset[\"worm0\"][\"smooth_calcium_data\"]\n",
    "else:\n",
    "    calcium_data = dataset[\"worm0\"][\"calcium_data\"]\n",
    "time_in_seconds = dataset[\"worm0\"][\"time_in_seconds\"]\n",
    "max_time = dataset[\"worm0\"][\"max_time\"]"
   ]
  },
  {
   "cell_type": "code",
   "execution_count": 10,
   "metadata": {
    "ExecuteTime": {
     "start_time": "2023-04-11T16:15:26.230190Z",
     "end_time": "2023-04-11T16:15:26.233539Z"
    }
   },
   "outputs": [
    {
     "name": "stdout",
     "output_type": "stream",
     "text": [
      "named neuron indices:\n",
      " [ 12  13  22  25  26  29  49  50  53  54  55  56  59  60  61  62  88  94\n",
      "  96  97  98 103 110 112 157 162 177 178 189 190 193 200 204 206 213 214\n",
      " 216 227 228 229 232 233 234 235 244 245 247 256 257 258 259 260 262 263\n",
      " 272 274 275 293]\n",
      "\n",
      "picked neuron index: 190\n"
     ]
    }
   ],
   "source": [
    "# pick one of the labeled neurons to inspect\n",
    "named_neuron_inds = torch.where(named_neurons_mask)[0].numpy()\n",
    "print(\"named neuron indices:\\n\", named_neuron_inds, end=\"\\n\\n\")\n",
    "\n",
    "nidx = np.random.choice(named_neuron_inds) # pick a neuron to plot\n",
    "nidx = 190\n",
    "print(\"picked neuron index:\", nidx)"
   ]
  },
  {
   "cell_type": "code",
   "execution_count": 11,
   "metadata": {
    "ExecuteTime": {
     "start_time": "2023-04-11T16:15:27.339454Z",
     "end_time": "2023-04-11T16:15:28.065978Z"
    }
   },
   "outputs": [
    {
     "name": "stdout",
     "output_type": "stream",
     "text": [
      "torch.Size([1656, 302]) torch.Size([1656, 302])\n"
     ]
    }
   ],
   "source": [
    "# make predictions of the future timesteps\n",
    "tau_out = 1\n",
    "targets, predictions = model_predict(model, calcium_data[:max_time//2, :] * named_neurons_mask, tau=tau_out)\n",
    "print(targets.shape, predictions.shape)"
   ]
  },
  {
   "cell_type": "code",
   "execution_count": 12,
   "metadata": {
    "ExecuteTime": {
     "start_time": "2023-04-11T16:15:28.077096Z",
     "end_time": "2023-04-11T16:15:28.214948Z"
    }
   },
   "outputs": [
    {
     "data": {
      "text/plain": "<Figure size 640x480 with 1 Axes>",
      "image/png": "[encoded data removed]"
     },
     "metadata": {},
     "output_type": "display_data"
    }
   ],
   "source": [
    "# plot what the predictions looks like\n",
    "plt.plot(time_in_seconds[tau_out:tau_out + max_time//2], targets[:, nidx], label=\"target\")\n",
    "plt.plot(time_in_seconds[tau_out:tau_out + max_time//2], predictions[:, nidx], label=\"prediciton\", alpha=0.5)\n",
    "plt.legend()\n",
    "plt.xlabel(\"Time (index)\")\n",
    "plt.ylabel(\"$\\Delta F / F$\")\n",
    "plt.show()"
   ]
  },
  {
   "cell_type": "code",
   "execution_count": 18,
   "outputs": [
    {
     "data": {
      "text/plain": "dict_keys(['dataset', 'worm', 'calcium_data', 'smooth_calcium_data', 'residual_calcium', 'smooth_residual_calcium', 'neuron_to_idx', 'idx_to_neuron', 'max_time', 'time_in_seconds', 'dt', 'num_neurons', 'num_named_neurons', 'num_unknown_neurons', 'named_neurons_mask', 'unknown_neurons_mask', 'neurons_mask', 'named_neuron_to_idx', 'idx_to_named_neuron', 'unknown_neuron_to_idx', 'idx_to_unknown_neuron', 'slot_to_named_neuron', 'named_neuron_to_slot', 'slot_to_unknown_neuron', 'unknown_neuron_to_slot', 'slot_to_neuron', 'neuron_to_slot'])"
     },
     "execution_count": 18,
     "metadata": {},
     "output_type": "execute_result"
    }
   ],
   "source": [
    "dataset[\"worm0\"].keys()"
   ],
   "metadata": {
    "collapsed": false,
    "ExecuteTime": {
     "start_time": "2023-04-11T16:26:11.917487Z",
     "end_time": "2023-04-11T16:26:11.922996Z"
    }
   }
  },
  {
   "cell_type": "code",
   "execution_count": 19,
   "outputs": [
    {
     "name": "stdout",
     "output_type": "stream",
     "text": [
      "[0, 0, 0, 4, 4, 1, 4, 4, 0, 0, 0, 0, 0, 0, 0, 0, 1, 1, 1, 1, 1, 1, 4, 0, 1, 4, 0, 0, 0, 0, 0, 0, 0, 1, 1, 1, 1, 1, 1, 1, 1, 1, 1, 1, 1, 1, 1, 4, 4, 4, 4, 1, 1, 1, 1, 1, 1, 1]\n"
     ]
    }
   ],
   "source": [
    "# load the raw data\n",
    "import os\n",
    "from utils import ROOT_DIR\n",
    "from torch_geometric.data import Data\n",
    "graph_tensors = torch.load(os.path.join(ROOT_DIR, \"data/processed/connectome\", \"graph_tensors.pt\"))\n",
    "graph = Data(**graph_tensors)\n",
    "\n",
    "\n",
    "category_neuron = [graph.y[item].item() for item in named_neuron_inds]\n",
    "print(category_neuron)\n"
   ],
   "metadata": {
    "collapsed": false,
    "ExecuteTime": {
     "start_time": "2023-04-11T16:26:13.001983Z",
     "end_time": "2023-04-11T16:26:13.013962Z"
    }
   }
  },
  {
   "cell_type": "code",
   "execution_count": 31,
   "outputs": [
    {
     "data": {
      "text/plain": "[0.14959807693958282,\n 0.10192988812923431,\n 0.10705844312906265,\n 0.22365175187587738,\n 0.31071606278419495,\n 0.41168102622032166,\n 0.11574225127696991,\n 0.08167732506990433,\n 0.046618446707725525,\n 0.0883127748966217,\n 0.14489640295505524,\n 0.06552138179540634,\n 0.112697534263134,\n 0.07793387770652771,\n 0.08026663213968277,\n 0.0947255939245224,\n 0.15012280642986298,\n 1.2468596696853638,\n 0.9492200613021851,\n 0.10208714753389359,\n 0.04994504898786545,\n 1.1485674381256104,\n 0.23500724136829376,\n 0.7317857146263123,\n 0.1735195517539978,\n 0.7894916534423828,\n 0.2544630765914917,\n 0.21597687900066376,\n 0.08470740169286728,\n 0.08403696864843369,\n 0.08030018955469131,\n 0.15592005848884583,\n 0.11461745947599411,\n 0.049258776009082794,\n 0.09617795050144196,\n 0.17399120330810547,\n 0.05625872313976288,\n 0.0918784886598587,\n 0.08249644190073013,\n 0.2895786762237549,\n 0.2405768483877182,\n 0.2167079746723175,\n 0.41942551732063293,\n 0.4354109466075897,\n 0.050733767449855804,\n 0.08415568619966507,\n 0.12699124217033386,\n 0.23791366815567017,\n 0.1113416999578476,\n 0.1180238276720047,\n 0.07946740835905075,\n 0.16649729013442993,\n 0.6898342370986938,\n 0.95610111951828,\n 0.11120232939720154,\n 0.9006974101066589,\n 0.04950002208352089,\n 0.6624937653541565]"
     },
     "execution_count": 31,
     "metadata": {},
     "output_type": "execute_result"
    }
   ],
   "source": [
    "loss_prediction = []\n",
    "criterion = torch.nn.L1Loss()\n",
    "targets, predictions = model_predict(model, calcium_data[:max_time//2, :]* named_neurons_mask, tau=1)\n",
    "for idx in named_neuron_inds:\n",
    "    loss_prediction.append(criterion(predictions[:, idx], targets[:, idx]).detach().item())\n",
    "\n",
    "loss_prediction"
   ],
   "metadata": {
    "collapsed": false,
    "ExecuteTime": {
     "start_time": "2023-04-11T16:32:39.183398Z",
     "end_time": "2023-04-11T16:32:40.192576Z"
    }
   }
  },
  {
   "cell_type": "code",
   "execution_count": 47,
   "outputs": [
    {
     "data": {
      "text/plain": "{(12, 0.14959807693958282): 0,\n (13, 0.10192988812923431): 0,\n (22, 0.10705844312906265): 0,\n (25, 0.22365175187587738): 4,\n (26, 0.31071606278419495): 4,\n (29, 0.41168102622032166): 1,\n (49, 0.11574225127696991): 4,\n (50, 0.08167732506990433): 4,\n (53, 0.046618446707725525): 0,\n (54, 0.0883127748966217): 0,\n (55, 0.14489640295505524): 0,\n (56, 0.06552138179540634): 0,\n (59, 0.112697534263134): 0,\n (60, 0.07793387770652771): 0,\n (61, 0.08026663213968277): 0,\n (62, 0.0947255939245224): 0,\n (88, 0.15012280642986298): 1,\n (94, 1.2468596696853638): 1,\n (96, 0.9492200613021851): 1,\n (97, 0.10208714753389359): 1,\n (98, 0.04994504898786545): 1,\n (103, 1.1485674381256104): 1,\n (110, 0.23500724136829376): 4,\n (112, 0.7317857146263123): 0,\n (157, 0.1735195517539978): 1,\n (162, 0.7894916534423828): 4,\n (177, 0.2544630765914917): 0,\n (178, 0.21597687900066376): 0,\n (189, 0.08470740169286728): 0,\n (190, 0.08403696864843369): 0,\n (193, 0.08030018955469131): 0,\n (200, 0.15592005848884583): 0,\n (204, 0.11461745947599411): 0,\n (206, 0.049258776009082794): 1,\n (213, 0.09617795050144196): 1,\n (214, 0.17399120330810547): 1,\n (216, 0.05625872313976288): 1,\n (227, 0.0918784886598587): 1,\n (228, 0.08249644190073013): 1,\n (229, 0.2895786762237549): 1,\n (232, 0.2405768483877182): 1,\n (233, 0.2167079746723175): 1,\n (234, 0.41942551732063293): 1,\n (235, 0.4354109466075897): 1,\n (244, 0.050733767449855804): 1,\n (245, 0.08415568619966507): 1,\n (247, 0.12699124217033386): 1,\n (256, 0.23791366815567017): 4,\n (257, 0.1113416999578476): 4,\n (258, 0.1180238276720047): 4,\n (259, 0.07946740835905075): 4,\n (260, 0.16649729013442993): 1,\n (262, 0.6898342370986938): 1,\n (263, 0.95610111951828): 1,\n (272, 0.11120232939720154): 1,\n (274, 0.9006974101066589): 1,\n (275, 0.04950002208352089): 1,\n (293, 0.6624937653541565): 1}"
     },
     "execution_count": 47,
     "metadata": {},
     "output_type": "execute_result"
    }
   ],
   "source": [
    "named_neuron_category_loss = dict()\n",
    "for i in range(len(named_neuron_inds)):\n",
    "    named_neuron_category_loss.setdefault(\n",
    "        (named_neuron_inds[i], loss_prediction[i]),\n",
    "        category_neuron[i]\n",
    "    )\n",
    "\n",
    "named_neuron_category_loss"
   ],
   "metadata": {
    "collapsed": false,
    "ExecuteTime": {
     "start_time": "2023-04-11T16:43:19.279828Z",
     "end_time": "2023-04-11T16:43:19.286763Z"
    }
   }
  },
  {
   "cell_type": "code",
   "execution_count": 46,
   "outputs": [
    {
     "name": "stdout",
     "output_type": "stream",
     "text": [
      "3\n"
     ]
    }
   ],
   "source": [
    "num_neuron_type = len(set(category_neuron))\n",
    "print(num_neuron_type)"
   ],
   "metadata": {
    "collapsed": false,
    "ExecuteTime": {
     "start_time": "2023-04-11T16:40:31.379582Z",
     "end_time": "2023-04-11T16:40:31.383753Z"
    }
   }
  },
  {
   "cell_type": "code",
   "execution_count": 60,
   "outputs": [
    {
     "name": "stdout",
     "output_type": "stream",
     "text": [
      "catagory: 0\n",
      "avg. loss: 0.14691404214030818\n",
      "max loss 0.7317857146263123\n",
      "min_loss 0.046618446707725525\n",
      "catagory: 4\n",
      "avg. loss: 0.23030328899621963\n",
      "max loss 0.7894916534423828\n",
      "min_loss 0.07946740835905075\n",
      "catagory: 1\n",
      "avg. loss: 0.3511024540097549\n",
      "max loss 1.2468596696853638\n",
      "min_loss 0.049258776009082794\n"
     ]
    }
   ],
   "source": [
    "from collections import defaultdict\n",
    "res = defaultdict(list)\n",
    "for key, val in sorted(named_neuron_category_loss.items()):\n",
    "    res[val].append(key)\n",
    "\n",
    "for res_catagory in res.items():\n",
    "    count = len(res_catagory[1])\n",
    "    sum_loss = 0\n",
    "    loss_list = [loss for (neuron, loss) in res_catagory[1]]\n",
    "    max_loss = np.array(loss_list).max()\n",
    "    min_loss = np.array(loss_list).min()\n",
    "    avg_loss = np.array(loss_list).mean()\n",
    "    print(\"catagory:\", res_catagory[0])\n",
    "    print(\"avg. loss:\", avg_loss)\n",
    "    print(\"max loss\", max_loss)\n",
    "    print(\"min_loss\", min_loss)\n",
    "\n"
   ],
   "metadata": {
    "collapsed": false,
    "ExecuteTime": {
     "start_time": "2023-04-11T16:50:38.365525Z",
     "end_time": "2023-04-11T16:50:38.371742Z"
    }
   }
  },
  {
   "cell_type": "code",
   "execution_count": 130,
   "outputs": [],
   "source": [
    "import seaborn as sns"
   ],
   "metadata": {
    "collapsed": false,
    "ExecuteTime": {
     "start_time": "2023-04-11T17:53:53.642926Z",
     "end_time": "2023-04-11T17:53:53.648092Z"
    }
   }
  },
  {
   "cell_type": "code",
   "execution_count": 179,
   "outputs": [],
   "source": [
    "def neurons_on_category(model, dataset, smooth_data, tau_out):\n",
    "    '''\n",
    "    predict neuron activities using pre-trained model\n",
    "\n",
    "    Args:\n",
    "        model: pre-trained model\n",
    "        dataset: whole dataset (multi worms)\n",
    "        smooth_data: Boolean, choose whether to use smoothed data or not\n",
    "        tau_out: offset to the future prediction\n",
    "    Returns:\n",
    "        Tuple, (worm_name, {category1: {max, min, mean}, category2: {max, min, mean}, .....})\n",
    "        the result losses(max, min, average) of all worms with categorized neurons\n",
    "    Figures:\n",
    "        save the figures about the loss based on neuron category, across worms\n",
    "    '''\n",
    "\n",
    "\n",
    "    neuron_type = [\"inter\", \"motor\", \"other\", \"pharynx\", \"sensory\", \"sexspec\"]\n",
    "\n",
    "    color_list = []\n",
    "\n",
    "    model.eval()\n",
    "\n",
    "    # load the category of neurons: len(graph_tensors) == 302\n",
    "    graph_tensors = torch.load(os.path.join(ROOT_DIR, \"data/processed/connectome\", \"graph_tensors.pt\"))\n",
    "    graph = Data(**graph_tensors)\n",
    "\n",
    "    # TODO: add criterion as one of the hyperparameters in this function\n",
    "    criterion = torch.nn.L1Loss()\n",
    "\n",
    "    multi_worm_category_loss = dict()\n",
    "    for i in range(len(dataset)):\n",
    "        single_worm_dataset = dataset[\"worm\" + str(i)]\n",
    "        if smooth_data:\n",
    "            calcium_data = single_worm_dataset[\"smooth_calcium_data\"]\n",
    "        else:\n",
    "            calcium_data = single_worm_dataset[\"calcium_data\"]\n",
    "        max_time = single_worm_dataset[\"max_time\"]\n",
    "        named_neuron_mask = single_worm_dataset[\"named_neurons_mask\"]\n",
    "\n",
    "        named_neuron_inds = torch.where(named_neuron_mask)[0].numpy()\n",
    "\n",
    "        # get the type of named neurons\n",
    "        category_neuron = [graph.y[item].item() for item in named_neuron_inds]\n",
    "\n",
    "        targets, predictions = model_predict(model, calcium_data[:max_time//2, :] * named_neurons_mask, tau=tau_out)\n",
    "        loss_prediction = [criterion(predictions[:, idx], targets[:, idx]).detach().item() for idx in named_neuron_inds]\n",
    "        # print(len(named_neuron_inds), len(loss_prediction))\n",
    "\n",
    "        # named_neuron_category_loss is a dict\n",
    "        # key: (neuron_inds, loss)\n",
    "        # val: neuron_category\n",
    "        named_neuron_category_loss = dict()\n",
    "        for k in range(len(named_neuron_inds)):\n",
    "            named_neuron_category_loss.setdefault(\n",
    "                (named_neuron_inds[k], loss_prediction[k]),\n",
    "                category_neuron[k]\n",
    "            )\n",
    "\n",
    "\n",
    "        # reverse_dict is a dict\n",
    "        # key: neuron_category\n",
    "        # val: (neuron_inds, loss)\n",
    "        reverse_dict = defaultdict(list)\n",
    "        for key, val in sorted(named_neuron_category_loss.items()):\n",
    "            reverse_dict[val].append(key)\n",
    "\n",
    "        one_worm_category_neuron_loss = dict()\n",
    "        for res_catagory in reverse_dict.items():\n",
    "            loss_list = [loss for (neuron, loss) in res_catagory[1]]\n",
    "            max_loss = np.array(loss_list).max()\n",
    "            min_loss = np.array(loss_list).min()\n",
    "            avg_loss = np.array(loss_list).mean()\n",
    "            one_worm_category_neuron_loss.setdefault(\n",
    "                res_catagory[0],\n",
    "                {\n",
    "                    \"avg_loss\": avg_loss,\n",
    "                    \"max_loss\": max_loss,\n",
    "                    \"min_loss\": min_loss,\n",
    "                }\n",
    "            )\n",
    "\n",
    "        multi_worm_category_loss[\"worm\" + str(i)] = one_worm_category_neuron_loss\n",
    "\n",
    "    # plot the average & max & min loss of each worm with categorized neurons\n",
    "    for worm in multi_worm_category_loss.items():\n",
    "        sorted_category = sorted(list(worm[1]))\n",
    "        min_loss_list = [worm[1][idx][\"min_loss\"] for idx in sorted_category]\n",
    "        max_loss_list = [worm[1][idx][\"max_loss\"] for idx in sorted_category]\n",
    "        avg_loss_list = [worm[1][idx][\"avg_loss\"] for idx in sorted_category]\n",
    "\n",
    "        sns.lineplot(\n",
    "            x=sorted_category,\n",
    "            y=avg_loss_list,\n",
    "            label=\"avg. \" + worm[0],\n",
    "            alpha=0.5,\n",
    "        )\n",
    "\n",
    "        plt.gca().fill_between(\n",
    "            sorted_category,\n",
    "            min_loss_list,\n",
    "            max_loss_list,\n",
    "            alpha=0.1,\n",
    "            # label=worm[0],\n",
    "        )\n",
    "    plt.xticks(range(6), neuron_type)\n",
    "    plt.legend(loc=\"upper right\", fontsize=2)\n",
    "    plt.ylabel(\"categorized prediction loss\")\n",
    "    plt.xlabel(\"category of neurons\")\n",
    "    plt.title(\"Analysis on neuron-type and prediction-loss \\n Dataset: \" + dataset[\"worm0\"][\"dataset\"])\n",
    "    plt.savefig(os.path.join(ROOT_DIR, \"analysis\", \"figures\", \"category_\" + datetime.now().strftime(\"%Y_%m_%d_%H_%M_%S\") + \".png\"))\n",
    "\n",
    "    return multi_worm_category_loss\n",
    "\n"
   ],
   "metadata": {
    "collapsed": false,
    "ExecuteTime": {
     "start_time": "2023-04-11T18:46:40.059638Z",
     "end_time": "2023-04-11T18:46:40.067307Z"
    }
   }
  },
  {
   "cell_type": "code",
   "execution_count": 180,
   "outputs": [
    {
     "name": "stdout",
     "output_type": "stream",
     "text": [
      "\n",
      "Chosen dataset(s): ['Leifer2023']\n",
      "Num. worms: 48\n",
      "Worm names: ['worm0', 'worm1', 'worm2', 'worm3', 'worm4', 'worm5', 'worm6', 'worm7', 'worm8', 'worm9', 'worm10', 'worm11', 'worm12', 'worm13', 'worm14', 'worm15', 'worm16', 'worm17', 'worm18', 'worm19', 'worm20', 'worm21', 'worm22', 'worm23', 'worm24', 'worm25', 'worm26', 'worm27', 'worm28', 'worm29', 'worm30', 'worm31', 'worm32', 'worm33', 'worm34', 'worm35', 'worm36', 'worm37', 'worm38', 'worm39', 'worm40', 'worm41', 'worm42', 'worm43', 'worm44', 'worm45', 'worm46', 'worm47']\n",
      "\n",
      "\n",
      "> \u001B[0;32m/var/folders/nh/w4w39l451_gbdf_6q7r0pg8w0000gn/T/ipykernel_63539/1491609845.py\u001B[0m(47)\u001B[0;36mneurons_on_category\u001B[0;34m()\u001B[0m\n",
      "\u001B[0;32m     45 \u001B[0;31m\u001B[0;34m\u001B[0m\u001B[0m\n",
      "\u001B[0m\u001B[0;32m     46 \u001B[0;31m        \u001B[0;32mimport\u001B[0m \u001B[0mpdb\u001B[0m\u001B[0;34m;\u001B[0m \u001B[0mpdb\u001B[0m\u001B[0;34m.\u001B[0m\u001B[0mset_trace\u001B[0m\u001B[0;34m(\u001B[0m\u001B[0;34m)\u001B[0m\u001B[0;34m\u001B[0m\u001B[0;34m\u001B[0m\u001B[0m\n",
      "\u001B[0m\u001B[0;32m---> 47 \u001B[0;31m        \u001B[0mtargets\u001B[0m\u001B[0;34m,\u001B[0m \u001B[0mpredictions\u001B[0m \u001B[0;34m=\u001B[0m \u001B[0mmodel_predict\u001B[0m\u001B[0;34m(\u001B[0m\u001B[0mmodel\u001B[0m\u001B[0;34m,\u001B[0m \u001B[0mcalcium_data\u001B[0m\u001B[0;34m[\u001B[0m\u001B[0;34m:\u001B[0m\u001B[0mmax_time\u001B[0m\u001B[0;34m//\u001B[0m\u001B[0;36m2\u001B[0m\u001B[0;34m,\u001B[0m \u001B[0;34m:\u001B[0m\u001B[0;34m]\u001B[0m \u001B[0;34m*\u001B[0m \u001B[0mnamed_neurons_mask\u001B[0m\u001B[0;34m,\u001B[0m \u001B[0mtau\u001B[0m\u001B[0;34m=\u001B[0m\u001B[0mtau_out\u001B[0m\u001B[0;34m)\u001B[0m\u001B[0;34m\u001B[0m\u001B[0;34m\u001B[0m\u001B[0m\n",
      "\u001B[0m\u001B[0;32m     48 \u001B[0;31m        \u001B[0mloss_prediction\u001B[0m \u001B[0;34m=\u001B[0m \u001B[0;34m[\u001B[0m\u001B[0mcriterion\u001B[0m\u001B[0;34m(\u001B[0m\u001B[0mpredictions\u001B[0m\u001B[0;34m[\u001B[0m\u001B[0;34m:\u001B[0m\u001B[0;34m,\u001B[0m \u001B[0midx\u001B[0m\u001B[0;34m]\u001B[0m\u001B[0;34m,\u001B[0m \u001B[0mtargets\u001B[0m\u001B[0;34m[\u001B[0m\u001B[0;34m:\u001B[0m\u001B[0;34m,\u001B[0m \u001B[0midx\u001B[0m\u001B[0;34m]\u001B[0m\u001B[0;34m)\u001B[0m\u001B[0;34m.\u001B[0m\u001B[0mdetach\u001B[0m\u001B[0;34m(\u001B[0m\u001B[0;34m)\u001B[0m\u001B[0;34m.\u001B[0m\u001B[0mitem\u001B[0m\u001B[0;34m(\u001B[0m\u001B[0;34m)\u001B[0m \u001B[0;32mfor\u001B[0m \u001B[0midx\u001B[0m \u001B[0;32min\u001B[0m \u001B[0mnamed_neuron_inds\u001B[0m\u001B[0;34m]\u001B[0m\u001B[0;34m\u001B[0m\u001B[0;34m\u001B[0m\u001B[0m\n",
      "\u001B[0m\u001B[0;32m     49 \u001B[0;31m        \u001B[0;31m# print(len(named_neuron_inds), len(loss_prediction))\u001B[0m\u001B[0;34m\u001B[0m\u001B[0;34m\u001B[0m\u001B[0m\n",
      "\u001B[0m\n",
      "> \u001B[0;32m/var/folders/nh/w4w39l451_gbdf_6q7r0pg8w0000gn/T/ipykernel_63539/1491609845.py\u001B[0m(48)\u001B[0;36mneurons_on_category\u001B[0;34m()\u001B[0m\n",
      "\u001B[0;32m     46 \u001B[0;31m        \u001B[0;32mimport\u001B[0m \u001B[0mpdb\u001B[0m\u001B[0;34m;\u001B[0m \u001B[0mpdb\u001B[0m\u001B[0;34m.\u001B[0m\u001B[0mset_trace\u001B[0m\u001B[0;34m(\u001B[0m\u001B[0;34m)\u001B[0m\u001B[0;34m\u001B[0m\u001B[0;34m\u001B[0m\u001B[0m\n",
      "\u001B[0m\u001B[0;32m     47 \u001B[0;31m        \u001B[0mtargets\u001B[0m\u001B[0;34m,\u001B[0m \u001B[0mpredictions\u001B[0m \u001B[0;34m=\u001B[0m \u001B[0mmodel_predict\u001B[0m\u001B[0;34m(\u001B[0m\u001B[0mmodel\u001B[0m\u001B[0;34m,\u001B[0m \u001B[0mcalcium_data\u001B[0m\u001B[0;34m[\u001B[0m\u001B[0;34m:\u001B[0m\u001B[0mmax_time\u001B[0m\u001B[0;34m//\u001B[0m\u001B[0;36m2\u001B[0m\u001B[0;34m,\u001B[0m \u001B[0;34m:\u001B[0m\u001B[0;34m]\u001B[0m \u001B[0;34m*\u001B[0m \u001B[0mnamed_neurons_mask\u001B[0m\u001B[0;34m,\u001B[0m \u001B[0mtau\u001B[0m\u001B[0;34m=\u001B[0m\u001B[0mtau_out\u001B[0m\u001B[0;34m)\u001B[0m\u001B[0;34m\u001B[0m\u001B[0;34m\u001B[0m\u001B[0m\n",
      "\u001B[0m\u001B[0;32m---> 48 \u001B[0;31m        \u001B[0mloss_prediction\u001B[0m \u001B[0;34m=\u001B[0m \u001B[0;34m[\u001B[0m\u001B[0mcriterion\u001B[0m\u001B[0;34m(\u001B[0m\u001B[0mpredictions\u001B[0m\u001B[0;34m[\u001B[0m\u001B[0;34m:\u001B[0m\u001B[0;34m,\u001B[0m \u001B[0midx\u001B[0m\u001B[0;34m]\u001B[0m\u001B[0;34m,\u001B[0m \u001B[0mtargets\u001B[0m\u001B[0;34m[\u001B[0m\u001B[0;34m:\u001B[0m\u001B[0;34m,\u001B[0m \u001B[0midx\u001B[0m\u001B[0;34m]\u001B[0m\u001B[0;34m)\u001B[0m\u001B[0;34m.\u001B[0m\u001B[0mdetach\u001B[0m\u001B[0;34m(\u001B[0m\u001B[0;34m)\u001B[0m\u001B[0;34m.\u001B[0m\u001B[0mitem\u001B[0m\u001B[0;34m(\u001B[0m\u001B[0;34m)\u001B[0m \u001B[0;32mfor\u001B[0m \u001B[0midx\u001B[0m \u001B[0;32min\u001B[0m \u001B[0mnamed_neuron_inds\u001B[0m\u001B[0;34m]\u001B[0m\u001B[0;34m\u001B[0m\u001B[0;34m\u001B[0m\u001B[0m\n",
      "\u001B[0m\u001B[0;32m     49 \u001B[0;31m        \u001B[0;31m# print(len(named_neuron_inds), len(loss_prediction))\u001B[0m\u001B[0;34m\u001B[0m\u001B[0;34m\u001B[0m\u001B[0m\n",
      "\u001B[0m\u001B[0;32m     50 \u001B[0;31m\u001B[0;34m\u001B[0m\u001B[0m\n",
      "\u001B[0m\n",
      "> \u001B[0;32m/var/folders/nh/w4w39l451_gbdf_6q7r0pg8w0000gn/T/ipykernel_63539/1491609845.py\u001B[0m(54)\u001B[0;36mneurons_on_category\u001B[0;34m()\u001B[0m\n",
      "\u001B[0;32m     52 \u001B[0;31m        \u001B[0;31m# key: (neuron_inds, loss)\u001B[0m\u001B[0;34m\u001B[0m\u001B[0;34m\u001B[0m\u001B[0m\n",
      "\u001B[0m\u001B[0;32m     53 \u001B[0;31m        \u001B[0;31m# val: neuron_category\u001B[0m\u001B[0;34m\u001B[0m\u001B[0;34m\u001B[0m\u001B[0m\n",
      "\u001B[0m\u001B[0;32m---> 54 \u001B[0;31m        \u001B[0mnamed_neuron_category_loss\u001B[0m \u001B[0;34m=\u001B[0m \u001B[0mdict\u001B[0m\u001B[0;34m(\u001B[0m\u001B[0;34m)\u001B[0m\u001B[0;34m\u001B[0m\u001B[0;34m\u001B[0m\u001B[0m\n",
      "\u001B[0m\u001B[0;32m     55 \u001B[0;31m        \u001B[0;32mfor\u001B[0m \u001B[0mk\u001B[0m \u001B[0;32min\u001B[0m \u001B[0mrange\u001B[0m\u001B[0;34m(\u001B[0m\u001B[0mlen\u001B[0m\u001B[0;34m(\u001B[0m\u001B[0mnamed_neuron_inds\u001B[0m\u001B[0;34m)\u001B[0m\u001B[0;34m)\u001B[0m\u001B[0;34m:\u001B[0m\u001B[0;34m\u001B[0m\u001B[0;34m\u001B[0m\u001B[0m\n",
      "\u001B[0m\u001B[0;32m     56 \u001B[0;31m            named_neuron_category_loss.setdefault(\n",
      "\u001B[0m\n",
      "> \u001B[0;32m/var/folders/nh/w4w39l451_gbdf_6q7r0pg8w0000gn/T/ipykernel_63539/1491609845.py\u001B[0m(55)\u001B[0;36mneurons_on_category\u001B[0;34m()\u001B[0m\n",
      "\u001B[0;32m     53 \u001B[0;31m        \u001B[0;31m# val: neuron_category\u001B[0m\u001B[0;34m\u001B[0m\u001B[0;34m\u001B[0m\u001B[0m\n",
      "\u001B[0m\u001B[0;32m     54 \u001B[0;31m        \u001B[0mnamed_neuron_category_loss\u001B[0m \u001B[0;34m=\u001B[0m \u001B[0mdict\u001B[0m\u001B[0;34m(\u001B[0m\u001B[0;34m)\u001B[0m\u001B[0;34m\u001B[0m\u001B[0;34m\u001B[0m\u001B[0m\n",
      "\u001B[0m\u001B[0;32m---> 55 \u001B[0;31m        \u001B[0;32mfor\u001B[0m \u001B[0mk\u001B[0m \u001B[0;32min\u001B[0m \u001B[0mrange\u001B[0m\u001B[0;34m(\u001B[0m\u001B[0mlen\u001B[0m\u001B[0;34m(\u001B[0m\u001B[0mnamed_neuron_inds\u001B[0m\u001B[0;34m)\u001B[0m\u001B[0;34m)\u001B[0m\u001B[0;34m:\u001B[0m\u001B[0;34m\u001B[0m\u001B[0;34m\u001B[0m\u001B[0m\n",
      "\u001B[0m\u001B[0;32m     56 \u001B[0;31m            named_neuron_category_loss.setdefault(\n",
      "\u001B[0m\u001B[0;32m     57 \u001B[0;31m                \u001B[0;34m(\u001B[0m\u001B[0mnamed_neuron_inds\u001B[0m\u001B[0;34m[\u001B[0m\u001B[0mk\u001B[0m\u001B[0;34m]\u001B[0m\u001B[0;34m,\u001B[0m \u001B[0mloss_prediction\u001B[0m\u001B[0;34m[\u001B[0m\u001B[0mk\u001B[0m\u001B[0;34m]\u001B[0m\u001B[0;34m)\u001B[0m\u001B[0;34m,\u001B[0m\u001B[0;34m\u001B[0m\u001B[0;34m\u001B[0m\u001B[0m\n",
      "\u001B[0m\n",
      "> \u001B[0;32m/var/folders/nh/w4w39l451_gbdf_6q7r0pg8w0000gn/T/ipykernel_63539/1491609845.py\u001B[0m(56)\u001B[0;36mneurons_on_category\u001B[0;34m()\u001B[0m\n",
      "\u001B[0;32m     54 \u001B[0;31m        \u001B[0mnamed_neuron_category_loss\u001B[0m \u001B[0;34m=\u001B[0m \u001B[0mdict\u001B[0m\u001B[0;34m(\u001B[0m\u001B[0;34m)\u001B[0m\u001B[0;34m\u001B[0m\u001B[0;34m\u001B[0m\u001B[0m\n",
      "\u001B[0m\u001B[0;32m     55 \u001B[0;31m        \u001B[0;32mfor\u001B[0m \u001B[0mk\u001B[0m \u001B[0;32min\u001B[0m \u001B[0mrange\u001B[0m\u001B[0;34m(\u001B[0m\u001B[0mlen\u001B[0m\u001B[0;34m(\u001B[0m\u001B[0mnamed_neuron_inds\u001B[0m\u001B[0;34m)\u001B[0m\u001B[0;34m)\u001B[0m\u001B[0;34m:\u001B[0m\u001B[0;34m\u001B[0m\u001B[0;34m\u001B[0m\u001B[0m\n",
      "\u001B[0m\u001B[0;32m---> 56 \u001B[0;31m            named_neuron_category_loss.setdefault(\n",
      "\u001B[0m\u001B[0;32m     57 \u001B[0;31m                \u001B[0;34m(\u001B[0m\u001B[0mnamed_neuron_inds\u001B[0m\u001B[0;34m[\u001B[0m\u001B[0mk\u001B[0m\u001B[0;34m]\u001B[0m\u001B[0;34m,\u001B[0m \u001B[0mloss_prediction\u001B[0m\u001B[0;34m[\u001B[0m\u001B[0mk\u001B[0m\u001B[0;34m]\u001B[0m\u001B[0;34m)\u001B[0m\u001B[0;34m,\u001B[0m\u001B[0;34m\u001B[0m\u001B[0;34m\u001B[0m\u001B[0m\n",
      "\u001B[0m\u001B[0;32m     58 \u001B[0;31m                \u001B[0mcategory_neuron\u001B[0m\u001B[0;34m[\u001B[0m\u001B[0mk\u001B[0m\u001B[0;34m]\u001B[0m\u001B[0;34m\u001B[0m\u001B[0;34m\u001B[0m\u001B[0m\n",
      "\u001B[0m\n",
      "> \u001B[0;32m/var/folders/nh/w4w39l451_gbdf_6q7r0pg8w0000gn/T/ipykernel_63539/1491609845.py\u001B[0m(57)\u001B[0;36mneurons_on_category\u001B[0;34m()\u001B[0m\n",
      "\u001B[0;32m     55 \u001B[0;31m        \u001B[0;32mfor\u001B[0m \u001B[0mk\u001B[0m \u001B[0;32min\u001B[0m \u001B[0mrange\u001B[0m\u001B[0;34m(\u001B[0m\u001B[0mlen\u001B[0m\u001B[0;34m(\u001B[0m\u001B[0mnamed_neuron_inds\u001B[0m\u001B[0;34m)\u001B[0m\u001B[0;34m)\u001B[0m\u001B[0;34m:\u001B[0m\u001B[0;34m\u001B[0m\u001B[0;34m\u001B[0m\u001B[0m\n",
      "\u001B[0m\u001B[0;32m     56 \u001B[0;31m            named_neuron_category_loss.setdefault(\n",
      "\u001B[0m\u001B[0;32m---> 57 \u001B[0;31m                \u001B[0;34m(\u001B[0m\u001B[0mnamed_neuron_inds\u001B[0m\u001B[0;34m[\u001B[0m\u001B[0mk\u001B[0m\u001B[0;34m]\u001B[0m\u001B[0;34m,\u001B[0m \u001B[0mloss_prediction\u001B[0m\u001B[0;34m[\u001B[0m\u001B[0mk\u001B[0m\u001B[0;34m]\u001B[0m\u001B[0;34m)\u001B[0m\u001B[0;34m,\u001B[0m\u001B[0;34m\u001B[0m\u001B[0;34m\u001B[0m\u001B[0m\n",
      "\u001B[0m\u001B[0;32m     58 \u001B[0;31m                \u001B[0mcategory_neuron\u001B[0m\u001B[0;34m[\u001B[0m\u001B[0mk\u001B[0m\u001B[0;34m]\u001B[0m\u001B[0;34m\u001B[0m\u001B[0;34m\u001B[0m\u001B[0m\n",
      "\u001B[0m\u001B[0;32m     59 \u001B[0;31m            )\n",
      "\u001B[0m\n",
      "> \u001B[0;32m/var/folders/nh/w4w39l451_gbdf_6q7r0pg8w0000gn/T/ipykernel_63539/1491609845.py\u001B[0m(58)\u001B[0;36mneurons_on_category\u001B[0;34m()\u001B[0m\n",
      "\u001B[0;32m     56 \u001B[0;31m            named_neuron_category_loss.setdefault(\n",
      "\u001B[0m\u001B[0;32m     57 \u001B[0;31m                \u001B[0;34m(\u001B[0m\u001B[0mnamed_neuron_inds\u001B[0m\u001B[0;34m[\u001B[0m\u001B[0mk\u001B[0m\u001B[0;34m]\u001B[0m\u001B[0;34m,\u001B[0m \u001B[0mloss_prediction\u001B[0m\u001B[0;34m[\u001B[0m\u001B[0mk\u001B[0m\u001B[0;34m]\u001B[0m\u001B[0;34m)\u001B[0m\u001B[0;34m,\u001B[0m\u001B[0;34m\u001B[0m\u001B[0;34m\u001B[0m\u001B[0m\n",
      "\u001B[0m\u001B[0;32m---> 58 \u001B[0;31m                \u001B[0mcategory_neuron\u001B[0m\u001B[0;34m[\u001B[0m\u001B[0mk\u001B[0m\u001B[0;34m]\u001B[0m\u001B[0;34m\u001B[0m\u001B[0;34m\u001B[0m\u001B[0m\n",
      "\u001B[0m\u001B[0;32m     59 \u001B[0;31m            )\n",
      "\u001B[0m\u001B[0;32m     60 \u001B[0;31m\u001B[0;34m\u001B[0m\u001B[0m\n",
      "\u001B[0m\n",
      "> \u001B[0;32m/var/folders/nh/w4w39l451_gbdf_6q7r0pg8w0000gn/T/ipykernel_63539/1491609845.py\u001B[0m(56)\u001B[0;36mneurons_on_category\u001B[0;34m()\u001B[0m\n",
      "\u001B[0;32m     54 \u001B[0;31m        \u001B[0mnamed_neuron_category_loss\u001B[0m \u001B[0;34m=\u001B[0m \u001B[0mdict\u001B[0m\u001B[0;34m(\u001B[0m\u001B[0;34m)\u001B[0m\u001B[0;34m\u001B[0m\u001B[0;34m\u001B[0m\u001B[0m\n",
      "\u001B[0m\u001B[0;32m     55 \u001B[0;31m        \u001B[0;32mfor\u001B[0m \u001B[0mk\u001B[0m \u001B[0;32min\u001B[0m \u001B[0mrange\u001B[0m\u001B[0;34m(\u001B[0m\u001B[0mlen\u001B[0m\u001B[0;34m(\u001B[0m\u001B[0mnamed_neuron_inds\u001B[0m\u001B[0;34m)\u001B[0m\u001B[0;34m)\u001B[0m\u001B[0;34m:\u001B[0m\u001B[0;34m\u001B[0m\u001B[0;34m\u001B[0m\u001B[0m\n",
      "\u001B[0m\u001B[0;32m---> 56 \u001B[0;31m            named_neuron_category_loss.setdefault(\n",
      "\u001B[0m\u001B[0;32m     57 \u001B[0;31m                \u001B[0;34m(\u001B[0m\u001B[0mnamed_neuron_inds\u001B[0m\u001B[0;34m[\u001B[0m\u001B[0mk\u001B[0m\u001B[0;34m]\u001B[0m\u001B[0;34m,\u001B[0m \u001B[0mloss_prediction\u001B[0m\u001B[0;34m[\u001B[0m\u001B[0mk\u001B[0m\u001B[0;34m]\u001B[0m\u001B[0;34m)\u001B[0m\u001B[0;34m,\u001B[0m\u001B[0;34m\u001B[0m\u001B[0;34m\u001B[0m\u001B[0m\n",
      "\u001B[0m\u001B[0;32m     58 \u001B[0;31m                \u001B[0mcategory_neuron\u001B[0m\u001B[0;34m[\u001B[0m\u001B[0mk\u001B[0m\u001B[0;34m]\u001B[0m\u001B[0;34m\u001B[0m\u001B[0;34m\u001B[0m\u001B[0m\n",
      "\u001B[0m\n",
      "> \u001B[0;32m/var/folders/nh/w4w39l451_gbdf_6q7r0pg8w0000gn/T/ipykernel_63539/1491609845.py\u001B[0m(55)\u001B[0;36mneurons_on_category\u001B[0;34m()\u001B[0m\n",
      "\u001B[0;32m     53 \u001B[0;31m        \u001B[0;31m# val: neuron_category\u001B[0m\u001B[0;34m\u001B[0m\u001B[0;34m\u001B[0m\u001B[0m\n",
      "\u001B[0m\u001B[0;32m     54 \u001B[0;31m        \u001B[0mnamed_neuron_category_loss\u001B[0m \u001B[0;34m=\u001B[0m \u001B[0mdict\u001B[0m\u001B[0;34m(\u001B[0m\u001B[0;34m)\u001B[0m\u001B[0;34m\u001B[0m\u001B[0;34m\u001B[0m\u001B[0m\n",
      "\u001B[0m\u001B[0;32m---> 55 \u001B[0;31m        \u001B[0;32mfor\u001B[0m \u001B[0mk\u001B[0m \u001B[0;32min\u001B[0m \u001B[0mrange\u001B[0m\u001B[0;34m(\u001B[0m\u001B[0mlen\u001B[0m\u001B[0;34m(\u001B[0m\u001B[0mnamed_neuron_inds\u001B[0m\u001B[0;34m)\u001B[0m\u001B[0;34m)\u001B[0m\u001B[0;34m:\u001B[0m\u001B[0;34m\u001B[0m\u001B[0;34m\u001B[0m\u001B[0m\n",
      "\u001B[0m\u001B[0;32m     56 \u001B[0;31m            named_neuron_category_loss.setdefault(\n",
      "\u001B[0m\u001B[0;32m     57 \u001B[0;31m                \u001B[0;34m(\u001B[0m\u001B[0mnamed_neuron_inds\u001B[0m\u001B[0;34m[\u001B[0m\u001B[0mk\u001B[0m\u001B[0;34m]\u001B[0m\u001B[0;34m,\u001B[0m \u001B[0mloss_prediction\u001B[0m\u001B[0;34m[\u001B[0m\u001B[0mk\u001B[0m\u001B[0;34m]\u001B[0m\u001B[0;34m)\u001B[0m\u001B[0;34m,\u001B[0m\u001B[0;34m\u001B[0m\u001B[0;34m\u001B[0m\u001B[0m\n",
      "\u001B[0m\n",
      "> \u001B[0;32m/var/folders/nh/w4w39l451_gbdf_6q7r0pg8w0000gn/T/ipykernel_63539/1491609845.py\u001B[0m(56)\u001B[0;36mneurons_on_category\u001B[0;34m()\u001B[0m\n",
      "\u001B[0;32m     54 \u001B[0;31m        \u001B[0mnamed_neuron_category_loss\u001B[0m \u001B[0;34m=\u001B[0m \u001B[0mdict\u001B[0m\u001B[0;34m(\u001B[0m\u001B[0;34m)\u001B[0m\u001B[0;34m\u001B[0m\u001B[0;34m\u001B[0m\u001B[0m\n",
      "\u001B[0m\u001B[0;32m     55 \u001B[0;31m        \u001B[0;32mfor\u001B[0m \u001B[0mk\u001B[0m \u001B[0;32min\u001B[0m \u001B[0mrange\u001B[0m\u001B[0;34m(\u001B[0m\u001B[0mlen\u001B[0m\u001B[0;34m(\u001B[0m\u001B[0mnamed_neuron_inds\u001B[0m\u001B[0;34m)\u001B[0m\u001B[0;34m)\u001B[0m\u001B[0;34m:\u001B[0m\u001B[0;34m\u001B[0m\u001B[0;34m\u001B[0m\u001B[0m\n",
      "\u001B[0m\u001B[0;32m---> 56 \u001B[0;31m            named_neuron_category_loss.setdefault(\n",
      "\u001B[0m\u001B[0;32m     57 \u001B[0;31m                \u001B[0;34m(\u001B[0m\u001B[0mnamed_neuron_inds\u001B[0m\u001B[0;34m[\u001B[0m\u001B[0mk\u001B[0m\u001B[0;34m]\u001B[0m\u001B[0;34m,\u001B[0m \u001B[0mloss_prediction\u001B[0m\u001B[0;34m[\u001B[0m\u001B[0mk\u001B[0m\u001B[0;34m]\u001B[0m\u001B[0;34m)\u001B[0m\u001B[0;34m,\u001B[0m\u001B[0;34m\u001B[0m\u001B[0;34m\u001B[0m\u001B[0m\n",
      "\u001B[0m\u001B[0;32m     58 \u001B[0;31m                \u001B[0mcategory_neuron\u001B[0m\u001B[0;34m[\u001B[0m\u001B[0mk\u001B[0m\u001B[0;34m]\u001B[0m\u001B[0;34m\u001B[0m\u001B[0;34m\u001B[0m\u001B[0m\n",
      "\u001B[0m\n",
      "> \u001B[0;32m/var/folders/nh/w4w39l451_gbdf_6q7r0pg8w0000gn/T/ipykernel_63539/1491609845.py\u001B[0m(57)\u001B[0;36mneurons_on_category\u001B[0;34m()\u001B[0m\n",
      "\u001B[0;32m     55 \u001B[0;31m        \u001B[0;32mfor\u001B[0m \u001B[0mk\u001B[0m \u001B[0;32min\u001B[0m \u001B[0mrange\u001B[0m\u001B[0;34m(\u001B[0m\u001B[0mlen\u001B[0m\u001B[0;34m(\u001B[0m\u001B[0mnamed_neuron_inds\u001B[0m\u001B[0;34m)\u001B[0m\u001B[0;34m)\u001B[0m\u001B[0;34m:\u001B[0m\u001B[0;34m\u001B[0m\u001B[0;34m\u001B[0m\u001B[0m\n",
      "\u001B[0m\u001B[0;32m     56 \u001B[0;31m            named_neuron_category_loss.setdefault(\n",
      "\u001B[0m\u001B[0;32m---> 57 \u001B[0;31m                \u001B[0;34m(\u001B[0m\u001B[0mnamed_neuron_inds\u001B[0m\u001B[0;34m[\u001B[0m\u001B[0mk\u001B[0m\u001B[0;34m]\u001B[0m\u001B[0;34m,\u001B[0m \u001B[0mloss_prediction\u001B[0m\u001B[0;34m[\u001B[0m\u001B[0mk\u001B[0m\u001B[0;34m]\u001B[0m\u001B[0;34m)\u001B[0m\u001B[0;34m,\u001B[0m\u001B[0;34m\u001B[0m\u001B[0;34m\u001B[0m\u001B[0m\n",
      "\u001B[0m\u001B[0;32m     58 \u001B[0;31m                \u001B[0mcategory_neuron\u001B[0m\u001B[0;34m[\u001B[0m\u001B[0mk\u001B[0m\u001B[0;34m]\u001B[0m\u001B[0;34m\u001B[0m\u001B[0;34m\u001B[0m\u001B[0m\n",
      "\u001B[0m\u001B[0;32m     59 \u001B[0;31m            )\n",
      "\u001B[0m\n",
      "> \u001B[0;32m/var/folders/nh/w4w39l451_gbdf_6q7r0pg8w0000gn/T/ipykernel_63539/1491609845.py\u001B[0m(58)\u001B[0;36mneurons_on_category\u001B[0;34m()\u001B[0m\n",
      "\u001B[0;32m     56 \u001B[0;31m            named_neuron_category_loss.setdefault(\n",
      "\u001B[0m\u001B[0;32m     57 \u001B[0;31m                \u001B[0;34m(\u001B[0m\u001B[0mnamed_neuron_inds\u001B[0m\u001B[0;34m[\u001B[0m\u001B[0mk\u001B[0m\u001B[0;34m]\u001B[0m\u001B[0;34m,\u001B[0m \u001B[0mloss_prediction\u001B[0m\u001B[0;34m[\u001B[0m\u001B[0mk\u001B[0m\u001B[0;34m]\u001B[0m\u001B[0;34m)\u001B[0m\u001B[0;34m,\u001B[0m\u001B[0;34m\u001B[0m\u001B[0;34m\u001B[0m\u001B[0m\n",
      "\u001B[0m\u001B[0;32m---> 58 \u001B[0;31m                \u001B[0mcategory_neuron\u001B[0m\u001B[0;34m[\u001B[0m\u001B[0mk\u001B[0m\u001B[0;34m]\u001B[0m\u001B[0;34m\u001B[0m\u001B[0;34m\u001B[0m\u001B[0m\n",
      "\u001B[0m\u001B[0;32m     59 \u001B[0;31m            )\n",
      "\u001B[0m\u001B[0;32m     60 \u001B[0;31m\u001B[0;34m\u001B[0m\u001B[0m\n",
      "\u001B[0m\n",
      "> \u001B[0;32m/var/folders/nh/w4w39l451_gbdf_6q7r0pg8w0000gn/T/ipykernel_63539/1491609845.py\u001B[0m(56)\u001B[0;36mneurons_on_category\u001B[0;34m()\u001B[0m\n",
      "\u001B[0;32m     54 \u001B[0;31m        \u001B[0mnamed_neuron_category_loss\u001B[0m \u001B[0;34m=\u001B[0m \u001B[0mdict\u001B[0m\u001B[0;34m(\u001B[0m\u001B[0;34m)\u001B[0m\u001B[0;34m\u001B[0m\u001B[0;34m\u001B[0m\u001B[0m\n",
      "\u001B[0m\u001B[0;32m     55 \u001B[0;31m        \u001B[0;32mfor\u001B[0m \u001B[0mk\u001B[0m \u001B[0;32min\u001B[0m \u001B[0mrange\u001B[0m\u001B[0;34m(\u001B[0m\u001B[0mlen\u001B[0m\u001B[0;34m(\u001B[0m\u001B[0mnamed_neuron_inds\u001B[0m\u001B[0;34m)\u001B[0m\u001B[0;34m)\u001B[0m\u001B[0;34m:\u001B[0m\u001B[0;34m\u001B[0m\u001B[0;34m\u001B[0m\u001B[0m\n",
      "\u001B[0m\u001B[0;32m---> 56 \u001B[0;31m            named_neuron_category_loss.setdefault(\n",
      "\u001B[0m\u001B[0;32m     57 \u001B[0;31m                \u001B[0;34m(\u001B[0m\u001B[0mnamed_neuron_inds\u001B[0m\u001B[0;34m[\u001B[0m\u001B[0mk\u001B[0m\u001B[0;34m]\u001B[0m\u001B[0;34m,\u001B[0m \u001B[0mloss_prediction\u001B[0m\u001B[0;34m[\u001B[0m\u001B[0mk\u001B[0m\u001B[0;34m]\u001B[0m\u001B[0;34m)\u001B[0m\u001B[0;34m,\u001B[0m\u001B[0;34m\u001B[0m\u001B[0;34m\u001B[0m\u001B[0m\n",
      "\u001B[0m\u001B[0;32m     58 \u001B[0;31m                \u001B[0mcategory_neuron\u001B[0m\u001B[0;34m[\u001B[0m\u001B[0mk\u001B[0m\u001B[0;34m]\u001B[0m\u001B[0;34m\u001B[0m\u001B[0;34m\u001B[0m\u001B[0m\n",
      "\u001B[0m\n",
      "> \u001B[0;32m/var/folders/nh/w4w39l451_gbdf_6q7r0pg8w0000gn/T/ipykernel_63539/1491609845.py\u001B[0m(55)\u001B[0;36mneurons_on_category\u001B[0;34m()\u001B[0m\n",
      "\u001B[0;32m     53 \u001B[0;31m        \u001B[0;31m# val: neuron_category\u001B[0m\u001B[0;34m\u001B[0m\u001B[0;34m\u001B[0m\u001B[0m\n",
      "\u001B[0m\u001B[0;32m     54 \u001B[0;31m        \u001B[0mnamed_neuron_category_loss\u001B[0m \u001B[0;34m=\u001B[0m \u001B[0mdict\u001B[0m\u001B[0;34m(\u001B[0m\u001B[0;34m)\u001B[0m\u001B[0;34m\u001B[0m\u001B[0;34m\u001B[0m\u001B[0m\n",
      "\u001B[0m\u001B[0;32m---> 55 \u001B[0;31m        \u001B[0;32mfor\u001B[0m \u001B[0mk\u001B[0m \u001B[0;32min\u001B[0m \u001B[0mrange\u001B[0m\u001B[0;34m(\u001B[0m\u001B[0mlen\u001B[0m\u001B[0;34m(\u001B[0m\u001B[0mnamed_neuron_inds\u001B[0m\u001B[0;34m)\u001B[0m\u001B[0;34m)\u001B[0m\u001B[0;34m:\u001B[0m\u001B[0;34m\u001B[0m\u001B[0;34m\u001B[0m\u001B[0m\n",
      "\u001B[0m\u001B[0;32m     56 \u001B[0;31m            named_neuron_category_loss.setdefault(\n",
      "\u001B[0m\u001B[0;32m     57 \u001B[0;31m                \u001B[0;34m(\u001B[0m\u001B[0mnamed_neuron_inds\u001B[0m\u001B[0;34m[\u001B[0m\u001B[0mk\u001B[0m\u001B[0;34m]\u001B[0m\u001B[0;34m,\u001B[0m \u001B[0mloss_prediction\u001B[0m\u001B[0;34m[\u001B[0m\u001B[0mk\u001B[0m\u001B[0;34m]\u001B[0m\u001B[0;34m)\u001B[0m\u001B[0;34m,\u001B[0m\u001B[0;34m\u001B[0m\u001B[0;34m\u001B[0m\u001B[0m\n",
      "\u001B[0m\n",
      "> \u001B[0;32m/var/folders/nh/w4w39l451_gbdf_6q7r0pg8w0000gn/T/ipykernel_63539/1491609845.py\u001B[0m(56)\u001B[0;36mneurons_on_category\u001B[0;34m()\u001B[0m\n",
      "\u001B[0;32m     54 \u001B[0;31m        \u001B[0mnamed_neuron_category_loss\u001B[0m \u001B[0;34m=\u001B[0m \u001B[0mdict\u001B[0m\u001B[0;34m(\u001B[0m\u001B[0;34m)\u001B[0m\u001B[0;34m\u001B[0m\u001B[0;34m\u001B[0m\u001B[0m\n",
      "\u001B[0m\u001B[0;32m     55 \u001B[0;31m        \u001B[0;32mfor\u001B[0m \u001B[0mk\u001B[0m \u001B[0;32min\u001B[0m \u001B[0mrange\u001B[0m\u001B[0;34m(\u001B[0m\u001B[0mlen\u001B[0m\u001B[0;34m(\u001B[0m\u001B[0mnamed_neuron_inds\u001B[0m\u001B[0;34m)\u001B[0m\u001B[0;34m)\u001B[0m\u001B[0;34m:\u001B[0m\u001B[0;34m\u001B[0m\u001B[0;34m\u001B[0m\u001B[0m\n",
      "\u001B[0m\u001B[0;32m---> 56 \u001B[0;31m            named_neuron_category_loss.setdefault(\n",
      "\u001B[0m\u001B[0;32m     57 \u001B[0;31m                \u001B[0;34m(\u001B[0m\u001B[0mnamed_neuron_inds\u001B[0m\u001B[0;34m[\u001B[0m\u001B[0mk\u001B[0m\u001B[0;34m]\u001B[0m\u001B[0;34m,\u001B[0m \u001B[0mloss_prediction\u001B[0m\u001B[0;34m[\u001B[0m\u001B[0mk\u001B[0m\u001B[0;34m]\u001B[0m\u001B[0;34m)\u001B[0m\u001B[0;34m,\u001B[0m\u001B[0;34m\u001B[0m\u001B[0;34m\u001B[0m\u001B[0m\n",
      "\u001B[0m\u001B[0;32m     58 \u001B[0;31m                \u001B[0mcategory_neuron\u001B[0m\u001B[0;34m[\u001B[0m\u001B[0mk\u001B[0m\u001B[0;34m]\u001B[0m\u001B[0;34m\u001B[0m\u001B[0;34m\u001B[0m\u001B[0m\n",
      "\u001B[0m\n",
      "> \u001B[0;32m/var/folders/nh/w4w39l451_gbdf_6q7r0pg8w0000gn/T/ipykernel_63539/1491609845.py\u001B[0m(57)\u001B[0;36mneurons_on_category\u001B[0;34m()\u001B[0m\n",
      "\u001B[0;32m     55 \u001B[0;31m        \u001B[0;32mfor\u001B[0m \u001B[0mk\u001B[0m \u001B[0;32min\u001B[0m \u001B[0mrange\u001B[0m\u001B[0;34m(\u001B[0m\u001B[0mlen\u001B[0m\u001B[0;34m(\u001B[0m\u001B[0mnamed_neuron_inds\u001B[0m\u001B[0;34m)\u001B[0m\u001B[0;34m)\u001B[0m\u001B[0;34m:\u001B[0m\u001B[0;34m\u001B[0m\u001B[0;34m\u001B[0m\u001B[0m\n",
      "\u001B[0m\u001B[0;32m     56 \u001B[0;31m            named_neuron_category_loss.setdefault(\n",
      "\u001B[0m\u001B[0;32m---> 57 \u001B[0;31m                \u001B[0;34m(\u001B[0m\u001B[0mnamed_neuron_inds\u001B[0m\u001B[0;34m[\u001B[0m\u001B[0mk\u001B[0m\u001B[0;34m]\u001B[0m\u001B[0;34m,\u001B[0m \u001B[0mloss_prediction\u001B[0m\u001B[0;34m[\u001B[0m\u001B[0mk\u001B[0m\u001B[0;34m]\u001B[0m\u001B[0;34m)\u001B[0m\u001B[0;34m,\u001B[0m\u001B[0;34m\u001B[0m\u001B[0;34m\u001B[0m\u001B[0m\n",
      "\u001B[0m\u001B[0;32m     58 \u001B[0;31m                \u001B[0mcategory_neuron\u001B[0m\u001B[0;34m[\u001B[0m\u001B[0mk\u001B[0m\u001B[0;34m]\u001B[0m\u001B[0;34m\u001B[0m\u001B[0;34m\u001B[0m\u001B[0m\n",
      "\u001B[0m\u001B[0;32m     59 \u001B[0;31m            )\n",
      "\u001B[0m\n",
      "> \u001B[0;32m/var/folders/nh/w4w39l451_gbdf_6q7r0pg8w0000gn/T/ipykernel_63539/1491609845.py\u001B[0m(58)\u001B[0;36mneurons_on_category\u001B[0;34m()\u001B[0m\n",
      "\u001B[0;32m     56 \u001B[0;31m            named_neuron_category_loss.setdefault(\n",
      "\u001B[0m\u001B[0;32m     57 \u001B[0;31m                \u001B[0;34m(\u001B[0m\u001B[0mnamed_neuron_inds\u001B[0m\u001B[0;34m[\u001B[0m\u001B[0mk\u001B[0m\u001B[0;34m]\u001B[0m\u001B[0;34m,\u001B[0m \u001B[0mloss_prediction\u001B[0m\u001B[0;34m[\u001B[0m\u001B[0mk\u001B[0m\u001B[0;34m]\u001B[0m\u001B[0;34m)\u001B[0m\u001B[0;34m,\u001B[0m\u001B[0;34m\u001B[0m\u001B[0;34m\u001B[0m\u001B[0m\n",
      "\u001B[0m\u001B[0;32m---> 58 \u001B[0;31m                \u001B[0mcategory_neuron\u001B[0m\u001B[0;34m[\u001B[0m\u001B[0mk\u001B[0m\u001B[0;34m]\u001B[0m\u001B[0;34m\u001B[0m\u001B[0;34m\u001B[0m\u001B[0m\n",
      "\u001B[0m\u001B[0;32m     59 \u001B[0;31m            )\n",
      "\u001B[0m\u001B[0;32m     60 \u001B[0;31m\u001B[0;34m\u001B[0m\u001B[0m\n",
      "\u001B[0m\n",
      "> \u001B[0;32m/var/folders/nh/w4w39l451_gbdf_6q7r0pg8w0000gn/T/ipykernel_63539/1491609845.py\u001B[0m(56)\u001B[0;36mneurons_on_category\u001B[0;34m()\u001B[0m\n",
      "\u001B[0;32m     54 \u001B[0;31m        \u001B[0mnamed_neuron_category_loss\u001B[0m \u001B[0;34m=\u001B[0m \u001B[0mdict\u001B[0m\u001B[0;34m(\u001B[0m\u001B[0;34m)\u001B[0m\u001B[0;34m\u001B[0m\u001B[0;34m\u001B[0m\u001B[0m\n",
      "\u001B[0m\u001B[0;32m     55 \u001B[0;31m        \u001B[0;32mfor\u001B[0m \u001B[0mk\u001B[0m \u001B[0;32min\u001B[0m \u001B[0mrange\u001B[0m\u001B[0;34m(\u001B[0m\u001B[0mlen\u001B[0m\u001B[0;34m(\u001B[0m\u001B[0mnamed_neuron_inds\u001B[0m\u001B[0;34m)\u001B[0m\u001B[0;34m)\u001B[0m\u001B[0;34m:\u001B[0m\u001B[0;34m\u001B[0m\u001B[0;34m\u001B[0m\u001B[0m\n",
      "\u001B[0m\u001B[0;32m---> 56 \u001B[0;31m            named_neuron_category_loss.setdefault(\n",
      "\u001B[0m\u001B[0;32m     57 \u001B[0;31m                \u001B[0;34m(\u001B[0m\u001B[0mnamed_neuron_inds\u001B[0m\u001B[0;34m[\u001B[0m\u001B[0mk\u001B[0m\u001B[0;34m]\u001B[0m\u001B[0;34m,\u001B[0m \u001B[0mloss_prediction\u001B[0m\u001B[0;34m[\u001B[0m\u001B[0mk\u001B[0m\u001B[0;34m]\u001B[0m\u001B[0;34m)\u001B[0m\u001B[0;34m,\u001B[0m\u001B[0;34m\u001B[0m\u001B[0;34m\u001B[0m\u001B[0m\n",
      "\u001B[0m\u001B[0;32m     58 \u001B[0;31m                \u001B[0mcategory_neuron\u001B[0m\u001B[0;34m[\u001B[0m\u001B[0mk\u001B[0m\u001B[0;34m]\u001B[0m\u001B[0;34m\u001B[0m\u001B[0;34m\u001B[0m\u001B[0m\n",
      "\u001B[0m\n",
      "> \u001B[0;32m/var/folders/nh/w4w39l451_gbdf_6q7r0pg8w0000gn/T/ipykernel_63539/1491609845.py\u001B[0m(55)\u001B[0;36mneurons_on_category\u001B[0;34m()\u001B[0m\n",
      "\u001B[0;32m     53 \u001B[0;31m        \u001B[0;31m# val: neuron_category\u001B[0m\u001B[0;34m\u001B[0m\u001B[0;34m\u001B[0m\u001B[0m\n",
      "\u001B[0m\u001B[0;32m     54 \u001B[0;31m        \u001B[0mnamed_neuron_category_loss\u001B[0m \u001B[0;34m=\u001B[0m \u001B[0mdict\u001B[0m\u001B[0;34m(\u001B[0m\u001B[0;34m)\u001B[0m\u001B[0;34m\u001B[0m\u001B[0;34m\u001B[0m\u001B[0m\n",
      "\u001B[0m\u001B[0;32m---> 55 \u001B[0;31m        \u001B[0;32mfor\u001B[0m \u001B[0mk\u001B[0m \u001B[0;32min\u001B[0m \u001B[0mrange\u001B[0m\u001B[0;34m(\u001B[0m\u001B[0mlen\u001B[0m\u001B[0;34m(\u001B[0m\u001B[0mnamed_neuron_inds\u001B[0m\u001B[0;34m)\u001B[0m\u001B[0;34m)\u001B[0m\u001B[0;34m:\u001B[0m\u001B[0;34m\u001B[0m\u001B[0;34m\u001B[0m\u001B[0m\n",
      "\u001B[0m\u001B[0;32m     56 \u001B[0;31m            named_neuron_category_loss.setdefault(\n",
      "\u001B[0m\u001B[0;32m     57 \u001B[0;31m                \u001B[0;34m(\u001B[0m\u001B[0mnamed_neuron_inds\u001B[0m\u001B[0;34m[\u001B[0m\u001B[0mk\u001B[0m\u001B[0;34m]\u001B[0m\u001B[0;34m,\u001B[0m \u001B[0mloss_prediction\u001B[0m\u001B[0;34m[\u001B[0m\u001B[0mk\u001B[0m\u001B[0;34m]\u001B[0m\u001B[0;34m)\u001B[0m\u001B[0;34m,\u001B[0m\u001B[0;34m\u001B[0m\u001B[0;34m\u001B[0m\u001B[0m\n",
      "\u001B[0m\n",
      "> \u001B[0;32m/var/folders/nh/w4w39l451_gbdf_6q7r0pg8w0000gn/T/ipykernel_63539/1491609845.py\u001B[0m(56)\u001B[0;36mneurons_on_category\u001B[0;34m()\u001B[0m\n",
      "\u001B[0;32m     54 \u001B[0;31m        \u001B[0mnamed_neuron_category_loss\u001B[0m \u001B[0;34m=\u001B[0m \u001B[0mdict\u001B[0m\u001B[0;34m(\u001B[0m\u001B[0;34m)\u001B[0m\u001B[0;34m\u001B[0m\u001B[0;34m\u001B[0m\u001B[0m\n",
      "\u001B[0m\u001B[0;32m     55 \u001B[0;31m        \u001B[0;32mfor\u001B[0m \u001B[0mk\u001B[0m \u001B[0;32min\u001B[0m \u001B[0mrange\u001B[0m\u001B[0;34m(\u001B[0m\u001B[0mlen\u001B[0m\u001B[0;34m(\u001B[0m\u001B[0mnamed_neuron_inds\u001B[0m\u001B[0;34m)\u001B[0m\u001B[0;34m)\u001B[0m\u001B[0;34m:\u001B[0m\u001B[0;34m\u001B[0m\u001B[0;34m\u001B[0m\u001B[0m\n",
      "\u001B[0m\u001B[0;32m---> 56 \u001B[0;31m            named_neuron_category_loss.setdefault(\n",
      "\u001B[0m\u001B[0;32m     57 \u001B[0;31m                \u001B[0;34m(\u001B[0m\u001B[0mnamed_neuron_inds\u001B[0m\u001B[0;34m[\u001B[0m\u001B[0mk\u001B[0m\u001B[0;34m]\u001B[0m\u001B[0;34m,\u001B[0m \u001B[0mloss_prediction\u001B[0m\u001B[0;34m[\u001B[0m\u001B[0mk\u001B[0m\u001B[0;34m]\u001B[0m\u001B[0;34m)\u001B[0m\u001B[0;34m,\u001B[0m\u001B[0;34m\u001B[0m\u001B[0;34m\u001B[0m\u001B[0m\n",
      "\u001B[0m\u001B[0;32m     58 \u001B[0;31m                \u001B[0mcategory_neuron\u001B[0m\u001B[0;34m[\u001B[0m\u001B[0mk\u001B[0m\u001B[0;34m]\u001B[0m\u001B[0;34m\u001B[0m\u001B[0;34m\u001B[0m\u001B[0m\n",
      "\u001B[0m\n",
      "> \u001B[0;32m/var/folders/nh/w4w39l451_gbdf_6q7r0pg8w0000gn/T/ipykernel_63539/1491609845.py\u001B[0m(47)\u001B[0;36mneurons_on_category\u001B[0;34m()\u001B[0m\n",
      "\u001B[0;32m     45 \u001B[0;31m\u001B[0;34m\u001B[0m\u001B[0m\n",
      "\u001B[0m\u001B[0;32m     46 \u001B[0;31m        \u001B[0;32mimport\u001B[0m \u001B[0mpdb\u001B[0m\u001B[0;34m;\u001B[0m \u001B[0mpdb\u001B[0m\u001B[0;34m.\u001B[0m\u001B[0mset_trace\u001B[0m\u001B[0;34m(\u001B[0m\u001B[0;34m)\u001B[0m\u001B[0;34m\u001B[0m\u001B[0;34m\u001B[0m\u001B[0m\n",
      "\u001B[0m\u001B[0;32m---> 47 \u001B[0;31m        \u001B[0mtargets\u001B[0m\u001B[0;34m,\u001B[0m \u001B[0mpredictions\u001B[0m \u001B[0;34m=\u001B[0m \u001B[0mmodel_predict\u001B[0m\u001B[0;34m(\u001B[0m\u001B[0mmodel\u001B[0m\u001B[0;34m,\u001B[0m \u001B[0mcalcium_data\u001B[0m\u001B[0;34m[\u001B[0m\u001B[0;34m:\u001B[0m\u001B[0mmax_time\u001B[0m\u001B[0;34m//\u001B[0m\u001B[0;36m2\u001B[0m\u001B[0;34m,\u001B[0m \u001B[0;34m:\u001B[0m\u001B[0;34m]\u001B[0m \u001B[0;34m*\u001B[0m \u001B[0mnamed_neurons_mask\u001B[0m\u001B[0;34m,\u001B[0m \u001B[0mtau\u001B[0m\u001B[0;34m=\u001B[0m\u001B[0mtau_out\u001B[0m\u001B[0;34m)\u001B[0m\u001B[0;34m\u001B[0m\u001B[0;34m\u001B[0m\u001B[0m\n",
      "\u001B[0m\u001B[0;32m     48 \u001B[0;31m        \u001B[0mloss_prediction\u001B[0m \u001B[0;34m=\u001B[0m \u001B[0;34m[\u001B[0m\u001B[0mcriterion\u001B[0m\u001B[0;34m(\u001B[0m\u001B[0mpredictions\u001B[0m\u001B[0;34m[\u001B[0m\u001B[0;34m:\u001B[0m\u001B[0;34m,\u001B[0m \u001B[0midx\u001B[0m\u001B[0;34m]\u001B[0m\u001B[0;34m,\u001B[0m \u001B[0mtargets\u001B[0m\u001B[0;34m[\u001B[0m\u001B[0;34m:\u001B[0m\u001B[0;34m,\u001B[0m \u001B[0midx\u001B[0m\u001B[0;34m]\u001B[0m\u001B[0;34m)\u001B[0m\u001B[0;34m.\u001B[0m\u001B[0mdetach\u001B[0m\u001B[0;34m(\u001B[0m\u001B[0;34m)\u001B[0m\u001B[0;34m.\u001B[0m\u001B[0mitem\u001B[0m\u001B[0;34m(\u001B[0m\u001B[0;34m)\u001B[0m \u001B[0;32mfor\u001B[0m \u001B[0midx\u001B[0m \u001B[0;32min\u001B[0m \u001B[0mnamed_neuron_inds\u001B[0m\u001B[0;34m]\u001B[0m\u001B[0;34m\u001B[0m\u001B[0;34m\u001B[0m\u001B[0m\n",
      "\u001B[0m\u001B[0;32m     49 \u001B[0;31m        \u001B[0;31m# print(len(named_neuron_inds), len(loss_prediction))\u001B[0m\u001B[0;34m\u001B[0m\u001B[0;34m\u001B[0m\u001B[0m\n",
      "\u001B[0m\n",
      "> \u001B[0;32m/var/folders/nh/w4w39l451_gbdf_6q7r0pg8w0000gn/T/ipykernel_63539/1491609845.py\u001B[0m(47)\u001B[0;36mneurons_on_category\u001B[0;34m()\u001B[0m\n",
      "\u001B[0;32m     45 \u001B[0;31m\u001B[0;34m\u001B[0m\u001B[0m\n",
      "\u001B[0m\u001B[0;32m     46 \u001B[0;31m        \u001B[0;32mimport\u001B[0m \u001B[0mpdb\u001B[0m\u001B[0;34m;\u001B[0m \u001B[0mpdb\u001B[0m\u001B[0;34m.\u001B[0m\u001B[0mset_trace\u001B[0m\u001B[0;34m(\u001B[0m\u001B[0;34m)\u001B[0m\u001B[0;34m\u001B[0m\u001B[0;34m\u001B[0m\u001B[0m\n",
      "\u001B[0m\u001B[0;32m---> 47 \u001B[0;31m        \u001B[0mtargets\u001B[0m\u001B[0;34m,\u001B[0m \u001B[0mpredictions\u001B[0m \u001B[0;34m=\u001B[0m \u001B[0mmodel_predict\u001B[0m\u001B[0;34m(\u001B[0m\u001B[0mmodel\u001B[0m\u001B[0;34m,\u001B[0m \u001B[0mcalcium_data\u001B[0m\u001B[0;34m[\u001B[0m\u001B[0;34m:\u001B[0m\u001B[0mmax_time\u001B[0m\u001B[0;34m//\u001B[0m\u001B[0;36m2\u001B[0m\u001B[0;34m,\u001B[0m \u001B[0;34m:\u001B[0m\u001B[0;34m]\u001B[0m \u001B[0;34m*\u001B[0m \u001B[0mnamed_neurons_mask\u001B[0m\u001B[0;34m,\u001B[0m \u001B[0mtau\u001B[0m\u001B[0;34m=\u001B[0m\u001B[0mtau_out\u001B[0m\u001B[0;34m)\u001B[0m\u001B[0;34m\u001B[0m\u001B[0;34m\u001B[0m\u001B[0m\n",
      "\u001B[0m\u001B[0;32m     48 \u001B[0;31m        \u001B[0mloss_prediction\u001B[0m \u001B[0;34m=\u001B[0m \u001B[0;34m[\u001B[0m\u001B[0mcriterion\u001B[0m\u001B[0;34m(\u001B[0m\u001B[0mpredictions\u001B[0m\u001B[0;34m[\u001B[0m\u001B[0;34m:\u001B[0m\u001B[0;34m,\u001B[0m \u001B[0midx\u001B[0m\u001B[0;34m]\u001B[0m\u001B[0;34m,\u001B[0m \u001B[0mtargets\u001B[0m\u001B[0;34m[\u001B[0m\u001B[0;34m:\u001B[0m\u001B[0;34m,\u001B[0m \u001B[0midx\u001B[0m\u001B[0;34m]\u001B[0m\u001B[0;34m)\u001B[0m\u001B[0;34m.\u001B[0m\u001B[0mdetach\u001B[0m\u001B[0;34m(\u001B[0m\u001B[0;34m)\u001B[0m\u001B[0;34m.\u001B[0m\u001B[0mitem\u001B[0m\u001B[0;34m(\u001B[0m\u001B[0;34m)\u001B[0m \u001B[0;32mfor\u001B[0m \u001B[0midx\u001B[0m \u001B[0;32min\u001B[0m \u001B[0mnamed_neuron_inds\u001B[0m\u001B[0;34m]\u001B[0m\u001B[0;34m\u001B[0m\u001B[0;34m\u001B[0m\u001B[0m\n",
      "\u001B[0m\u001B[0;32m     49 \u001B[0;31m        \u001B[0;31m# print(len(named_neuron_inds), len(loss_prediction))\u001B[0m\u001B[0;34m\u001B[0m\u001B[0;34m\u001B[0m\u001B[0m\n",
      "\u001B[0m\n",
      "> \u001B[0;32m/var/folders/nh/w4w39l451_gbdf_6q7r0pg8w0000gn/T/ipykernel_63539/1491609845.py\u001B[0m(48)\u001B[0;36mneurons_on_category\u001B[0;34m()\u001B[0m\n",
      "\u001B[0;32m     46 \u001B[0;31m        \u001B[0;32mimport\u001B[0m \u001B[0mpdb\u001B[0m\u001B[0;34m;\u001B[0m \u001B[0mpdb\u001B[0m\u001B[0;34m.\u001B[0m\u001B[0mset_trace\u001B[0m\u001B[0;34m(\u001B[0m\u001B[0;34m)\u001B[0m\u001B[0;34m\u001B[0m\u001B[0;34m\u001B[0m\u001B[0m\n",
      "\u001B[0m\u001B[0;32m     47 \u001B[0;31m        \u001B[0mtargets\u001B[0m\u001B[0;34m,\u001B[0m \u001B[0mpredictions\u001B[0m \u001B[0;34m=\u001B[0m \u001B[0mmodel_predict\u001B[0m\u001B[0;34m(\u001B[0m\u001B[0mmodel\u001B[0m\u001B[0;34m,\u001B[0m \u001B[0mcalcium_data\u001B[0m\u001B[0;34m[\u001B[0m\u001B[0;34m:\u001B[0m\u001B[0mmax_time\u001B[0m\u001B[0;34m//\u001B[0m\u001B[0;36m2\u001B[0m\u001B[0;34m,\u001B[0m \u001B[0;34m:\u001B[0m\u001B[0;34m]\u001B[0m \u001B[0;34m*\u001B[0m \u001B[0mnamed_neurons_mask\u001B[0m\u001B[0;34m,\u001B[0m \u001B[0mtau\u001B[0m\u001B[0;34m=\u001B[0m\u001B[0mtau_out\u001B[0m\u001B[0;34m)\u001B[0m\u001B[0;34m\u001B[0m\u001B[0;34m\u001B[0m\u001B[0m\n",
      "\u001B[0m\u001B[0;32m---> 48 \u001B[0;31m        \u001B[0mloss_prediction\u001B[0m \u001B[0;34m=\u001B[0m \u001B[0;34m[\u001B[0m\u001B[0mcriterion\u001B[0m\u001B[0;34m(\u001B[0m\u001B[0mpredictions\u001B[0m\u001B[0;34m[\u001B[0m\u001B[0;34m:\u001B[0m\u001B[0;34m,\u001B[0m \u001B[0midx\u001B[0m\u001B[0;34m]\u001B[0m\u001B[0;34m,\u001B[0m \u001B[0mtargets\u001B[0m\u001B[0;34m[\u001B[0m\u001B[0;34m:\u001B[0m\u001B[0;34m,\u001B[0m \u001B[0midx\u001B[0m\u001B[0;34m]\u001B[0m\u001B[0;34m)\u001B[0m\u001B[0;34m.\u001B[0m\u001B[0mdetach\u001B[0m\u001B[0;34m(\u001B[0m\u001B[0;34m)\u001B[0m\u001B[0;34m.\u001B[0m\u001B[0mitem\u001B[0m\u001B[0;34m(\u001B[0m\u001B[0;34m)\u001B[0m \u001B[0;32mfor\u001B[0m \u001B[0midx\u001B[0m \u001B[0;32min\u001B[0m \u001B[0mnamed_neuron_inds\u001B[0m\u001B[0;34m]\u001B[0m\u001B[0;34m\u001B[0m\u001B[0;34m\u001B[0m\u001B[0m\n",
      "\u001B[0m\u001B[0;32m     49 \u001B[0;31m        \u001B[0;31m# print(len(named_neuron_inds), len(loss_prediction))\u001B[0m\u001B[0;34m\u001B[0m\u001B[0;34m\u001B[0m\u001B[0m\n",
      "\u001B[0m\u001B[0;32m     50 \u001B[0;31m\u001B[0;34m\u001B[0m\u001B[0m\n",
      "\u001B[0m\n",
      "--Call--\n",
      "> \u001B[0;32m/var/folders/nh/w4w39l451_gbdf_6q7r0pg8w0000gn/T/ipykernel_63539/1491609845.py\u001B[0m(48)\u001B[0;36m<listcomp>\u001B[0;34m()\u001B[0m\n",
      "\u001B[0;32m     46 \u001B[0;31m        \u001B[0;32mimport\u001B[0m \u001B[0mpdb\u001B[0m\u001B[0;34m;\u001B[0m \u001B[0mpdb\u001B[0m\u001B[0;34m.\u001B[0m\u001B[0mset_trace\u001B[0m\u001B[0;34m(\u001B[0m\u001B[0;34m)\u001B[0m\u001B[0;34m\u001B[0m\u001B[0;34m\u001B[0m\u001B[0m\n",
      "\u001B[0m\u001B[0;32m     47 \u001B[0;31m        \u001B[0mtargets\u001B[0m\u001B[0;34m,\u001B[0m \u001B[0mpredictions\u001B[0m \u001B[0;34m=\u001B[0m \u001B[0mmodel_predict\u001B[0m\u001B[0;34m(\u001B[0m\u001B[0mmodel\u001B[0m\u001B[0;34m,\u001B[0m \u001B[0mcalcium_data\u001B[0m\u001B[0;34m[\u001B[0m\u001B[0;34m:\u001B[0m\u001B[0mmax_time\u001B[0m\u001B[0;34m//\u001B[0m\u001B[0;36m2\u001B[0m\u001B[0;34m,\u001B[0m \u001B[0;34m:\u001B[0m\u001B[0;34m]\u001B[0m \u001B[0;34m*\u001B[0m \u001B[0mnamed_neurons_mask\u001B[0m\u001B[0;34m,\u001B[0m \u001B[0mtau\u001B[0m\u001B[0;34m=\u001B[0m\u001B[0mtau_out\u001B[0m\u001B[0;34m)\u001B[0m\u001B[0;34m\u001B[0m\u001B[0;34m\u001B[0m\u001B[0m\n",
      "\u001B[0m\u001B[0;32m---> 48 \u001B[0;31m        \u001B[0mloss_prediction\u001B[0m \u001B[0;34m=\u001B[0m \u001B[0;34m[\u001B[0m\u001B[0mcriterion\u001B[0m\u001B[0;34m(\u001B[0m\u001B[0mpredictions\u001B[0m\u001B[0;34m[\u001B[0m\u001B[0;34m:\u001B[0m\u001B[0;34m,\u001B[0m \u001B[0midx\u001B[0m\u001B[0;34m]\u001B[0m\u001B[0;34m,\u001B[0m \u001B[0mtargets\u001B[0m\u001B[0;34m[\u001B[0m\u001B[0;34m:\u001B[0m\u001B[0;34m,\u001B[0m \u001B[0midx\u001B[0m\u001B[0;34m]\u001B[0m\u001B[0;34m)\u001B[0m\u001B[0;34m.\u001B[0m\u001B[0mdetach\u001B[0m\u001B[0;34m(\u001B[0m\u001B[0;34m)\u001B[0m\u001B[0;34m.\u001B[0m\u001B[0mitem\u001B[0m\u001B[0;34m(\u001B[0m\u001B[0;34m)\u001B[0m \u001B[0;32mfor\u001B[0m \u001B[0midx\u001B[0m \u001B[0;32min\u001B[0m \u001B[0mnamed_neuron_inds\u001B[0m\u001B[0;34m]\u001B[0m\u001B[0;34m\u001B[0m\u001B[0;34m\u001B[0m\u001B[0m\n",
      "\u001B[0m\u001B[0;32m     49 \u001B[0;31m        \u001B[0;31m# print(len(named_neuron_inds), len(loss_prediction))\u001B[0m\u001B[0;34m\u001B[0m\u001B[0;34m\u001B[0m\u001B[0m\n",
      "\u001B[0m\u001B[0;32m     50 \u001B[0;31m\u001B[0;34m\u001B[0m\u001B[0m\n",
      "\u001B[0m\n",
      "torch.Size([1894, 302])\n",
      "> \u001B[0;32m/var/folders/nh/w4w39l451_gbdf_6q7r0pg8w0000gn/T/ipykernel_63539/1491609845.py\u001B[0m(46)\u001B[0;36mneurons_on_category\u001B[0;34m()\u001B[0m\n",
      "\u001B[0;32m     44 \u001B[0;31m        \u001B[0mcategory_neuron\u001B[0m \u001B[0;34m=\u001B[0m \u001B[0;34m[\u001B[0m\u001B[0mgraph\u001B[0m\u001B[0;34m.\u001B[0m\u001B[0my\u001B[0m\u001B[0;34m[\u001B[0m\u001B[0mitem\u001B[0m\u001B[0;34m]\u001B[0m\u001B[0;34m.\u001B[0m\u001B[0mitem\u001B[0m\u001B[0;34m(\u001B[0m\u001B[0;34m)\u001B[0m \u001B[0;32mfor\u001B[0m \u001B[0mitem\u001B[0m \u001B[0;32min\u001B[0m \u001B[0mnamed_neuron_inds\u001B[0m\u001B[0;34m]\u001B[0m\u001B[0;34m\u001B[0m\u001B[0;34m\u001B[0m\u001B[0m\n",
      "\u001B[0m\u001B[0;32m     45 \u001B[0;31m\u001B[0;34m\u001B[0m\u001B[0m\n",
      "\u001B[0m\u001B[0;32m---> 46 \u001B[0;31m        \u001B[0;32mimport\u001B[0m \u001B[0mpdb\u001B[0m\u001B[0;34m;\u001B[0m \u001B[0mpdb\u001B[0m\u001B[0;34m.\u001B[0m\u001B[0mset_trace\u001B[0m\u001B[0;34m(\u001B[0m\u001B[0;34m)\u001B[0m\u001B[0;34m\u001B[0m\u001B[0;34m\u001B[0m\u001B[0m\n",
      "\u001B[0m\u001B[0;32m     47 \u001B[0;31m        \u001B[0mtargets\u001B[0m\u001B[0;34m,\u001B[0m \u001B[0mpredictions\u001B[0m \u001B[0;34m=\u001B[0m \u001B[0mmodel_predict\u001B[0m\u001B[0;34m(\u001B[0m\u001B[0mmodel\u001B[0m\u001B[0;34m,\u001B[0m \u001B[0mcalcium_data\u001B[0m\u001B[0;34m[\u001B[0m\u001B[0;34m:\u001B[0m\u001B[0mmax_time\u001B[0m\u001B[0;34m//\u001B[0m\u001B[0;36m2\u001B[0m\u001B[0;34m,\u001B[0m \u001B[0;34m:\u001B[0m\u001B[0;34m]\u001B[0m \u001B[0;34m*\u001B[0m \u001B[0mnamed_neurons_mask\u001B[0m\u001B[0;34m,\u001B[0m \u001B[0mtau\u001B[0m\u001B[0;34m=\u001B[0m\u001B[0mtau_out\u001B[0m\u001B[0;34m)\u001B[0m\u001B[0;34m\u001B[0m\u001B[0;34m\u001B[0m\u001B[0m\n",
      "\u001B[0m\u001B[0;32m     48 \u001B[0;31m        \u001B[0mloss_prediction\u001B[0m \u001B[0;34m=\u001B[0m \u001B[0;34m[\u001B[0m\u001B[0mcriterion\u001B[0m\u001B[0;34m(\u001B[0m\u001B[0mpredictions\u001B[0m\u001B[0;34m[\u001B[0m\u001B[0;34m:\u001B[0m\u001B[0;34m,\u001B[0m \u001B[0midx\u001B[0m\u001B[0;34m]\u001B[0m\u001B[0;34m,\u001B[0m \u001B[0mtargets\u001B[0m\u001B[0;34m[\u001B[0m\u001B[0;34m:\u001B[0m\u001B[0;34m,\u001B[0m \u001B[0midx\u001B[0m\u001B[0;34m]\u001B[0m\u001B[0;34m)\u001B[0m\u001B[0;34m.\u001B[0m\u001B[0mdetach\u001B[0m\u001B[0;34m(\u001B[0m\u001B[0;34m)\u001B[0m\u001B[0;34m.\u001B[0m\u001B[0mitem\u001B[0m\u001B[0;34m(\u001B[0m\u001B[0;34m)\u001B[0m \u001B[0;32mfor\u001B[0m \u001B[0midx\u001B[0m \u001B[0;32min\u001B[0m \u001B[0mnamed_neuron_inds\u001B[0m\u001B[0;34m]\u001B[0m\u001B[0;34m\u001B[0m\u001B[0;34m\u001B[0m\u001B[0m\n",
      "\u001B[0m\n",
      "> \u001B[0;32m/var/folders/nh/w4w39l451_gbdf_6q7r0pg8w0000gn/T/ipykernel_63539/1491609845.py\u001B[0m(47)\u001B[0;36mneurons_on_category\u001B[0;34m()\u001B[0m\n",
      "\u001B[0;32m     45 \u001B[0;31m\u001B[0;34m\u001B[0m\u001B[0m\n",
      "\u001B[0m\u001B[0;32m     46 \u001B[0;31m        \u001B[0;32mimport\u001B[0m \u001B[0mpdb\u001B[0m\u001B[0;34m;\u001B[0m \u001B[0mpdb\u001B[0m\u001B[0;34m.\u001B[0m\u001B[0mset_trace\u001B[0m\u001B[0;34m(\u001B[0m\u001B[0;34m)\u001B[0m\u001B[0;34m\u001B[0m\u001B[0;34m\u001B[0m\u001B[0m\n",
      "\u001B[0m\u001B[0;32m---> 47 \u001B[0;31m        \u001B[0mtargets\u001B[0m\u001B[0;34m,\u001B[0m \u001B[0mpredictions\u001B[0m \u001B[0;34m=\u001B[0m \u001B[0mmodel_predict\u001B[0m\u001B[0;34m(\u001B[0m\u001B[0mmodel\u001B[0m\u001B[0;34m,\u001B[0m \u001B[0mcalcium_data\u001B[0m\u001B[0;34m[\u001B[0m\u001B[0;34m:\u001B[0m\u001B[0mmax_time\u001B[0m\u001B[0;34m//\u001B[0m\u001B[0;36m2\u001B[0m\u001B[0;34m,\u001B[0m \u001B[0;34m:\u001B[0m\u001B[0;34m]\u001B[0m \u001B[0;34m*\u001B[0m \u001B[0mnamed_neurons_mask\u001B[0m\u001B[0;34m,\u001B[0m \u001B[0mtau\u001B[0m\u001B[0;34m=\u001B[0m\u001B[0mtau_out\u001B[0m\u001B[0;34m)\u001B[0m\u001B[0;34m\u001B[0m\u001B[0;34m\u001B[0m\u001B[0m\n",
      "\u001B[0m\u001B[0;32m     48 \u001B[0;31m        \u001B[0mloss_prediction\u001B[0m \u001B[0;34m=\u001B[0m \u001B[0;34m[\u001B[0m\u001B[0mcriterion\u001B[0m\u001B[0;34m(\u001B[0m\u001B[0mpredictions\u001B[0m\u001B[0;34m[\u001B[0m\u001B[0;34m:\u001B[0m\u001B[0;34m,\u001B[0m \u001B[0midx\u001B[0m\u001B[0;34m]\u001B[0m\u001B[0;34m,\u001B[0m \u001B[0mtargets\u001B[0m\u001B[0;34m[\u001B[0m\u001B[0;34m:\u001B[0m\u001B[0;34m,\u001B[0m \u001B[0midx\u001B[0m\u001B[0;34m]\u001B[0m\u001B[0;34m)\u001B[0m\u001B[0;34m.\u001B[0m\u001B[0mdetach\u001B[0m\u001B[0;34m(\u001B[0m\u001B[0;34m)\u001B[0m\u001B[0;34m.\u001B[0m\u001B[0mitem\u001B[0m\u001B[0;34m(\u001B[0m\u001B[0;34m)\u001B[0m \u001B[0;32mfor\u001B[0m \u001B[0midx\u001B[0m \u001B[0;32min\u001B[0m \u001B[0mnamed_neuron_inds\u001B[0m\u001B[0;34m]\u001B[0m\u001B[0;34m\u001B[0m\u001B[0;34m\u001B[0m\u001B[0m\n",
      "\u001B[0m\u001B[0;32m     49 \u001B[0;31m        \u001B[0;31m# print(len(named_neuron_inds), len(loss_prediction))\u001B[0m\u001B[0;34m\u001B[0m\u001B[0;34m\u001B[0m\u001B[0m\n",
      "\u001B[0m\n",
      "> \u001B[0;32m/var/folders/nh/w4w39l451_gbdf_6q7r0pg8w0000gn/T/ipykernel_63539/1491609845.py\u001B[0m(46)\u001B[0;36mneurons_on_category\u001B[0;34m()\u001B[0m\n",
      "\u001B[0;32m     44 \u001B[0;31m        \u001B[0mcategory_neuron\u001B[0m \u001B[0;34m=\u001B[0m \u001B[0;34m[\u001B[0m\u001B[0mgraph\u001B[0m\u001B[0;34m.\u001B[0m\u001B[0my\u001B[0m\u001B[0;34m[\u001B[0m\u001B[0mitem\u001B[0m\u001B[0;34m]\u001B[0m\u001B[0;34m.\u001B[0m\u001B[0mitem\u001B[0m\u001B[0;34m(\u001B[0m\u001B[0;34m)\u001B[0m \u001B[0;32mfor\u001B[0m \u001B[0mitem\u001B[0m \u001B[0;32min\u001B[0m \u001B[0mnamed_neuron_inds\u001B[0m\u001B[0;34m]\u001B[0m\u001B[0;34m\u001B[0m\u001B[0;34m\u001B[0m\u001B[0m\n",
      "\u001B[0m\u001B[0;32m     45 \u001B[0;31m\u001B[0;34m\u001B[0m\u001B[0m\n",
      "\u001B[0m\u001B[0;32m---> 46 \u001B[0;31m        \u001B[0;32mimport\u001B[0m \u001B[0mpdb\u001B[0m\u001B[0;34m;\u001B[0m \u001B[0mpdb\u001B[0m\u001B[0;34m.\u001B[0m\u001B[0mset_trace\u001B[0m\u001B[0;34m(\u001B[0m\u001B[0;34m)\u001B[0m\u001B[0;34m\u001B[0m\u001B[0;34m\u001B[0m\u001B[0m\n",
      "\u001B[0m\u001B[0;32m     47 \u001B[0;31m        \u001B[0mtargets\u001B[0m\u001B[0;34m,\u001B[0m \u001B[0mpredictions\u001B[0m \u001B[0;34m=\u001B[0m \u001B[0mmodel_predict\u001B[0m\u001B[0;34m(\u001B[0m\u001B[0mmodel\u001B[0m\u001B[0;34m,\u001B[0m \u001B[0mcalcium_data\u001B[0m\u001B[0;34m[\u001B[0m\u001B[0;34m:\u001B[0m\u001B[0mmax_time\u001B[0m\u001B[0;34m//\u001B[0m\u001B[0;36m2\u001B[0m\u001B[0;34m,\u001B[0m \u001B[0;34m:\u001B[0m\u001B[0;34m]\u001B[0m \u001B[0;34m*\u001B[0m \u001B[0mnamed_neurons_mask\u001B[0m\u001B[0;34m,\u001B[0m \u001B[0mtau\u001B[0m\u001B[0;34m=\u001B[0m\u001B[0mtau_out\u001B[0m\u001B[0;34m)\u001B[0m\u001B[0;34m\u001B[0m\u001B[0;34m\u001B[0m\u001B[0m\n",
      "\u001B[0m\u001B[0;32m     48 \u001B[0;31m        \u001B[0mloss_prediction\u001B[0m \u001B[0;34m=\u001B[0m \u001B[0;34m[\u001B[0m\u001B[0mcriterion\u001B[0m\u001B[0;34m(\u001B[0m\u001B[0mpredictions\u001B[0m\u001B[0;34m[\u001B[0m\u001B[0;34m:\u001B[0m\u001B[0;34m,\u001B[0m \u001B[0midx\u001B[0m\u001B[0;34m]\u001B[0m\u001B[0;34m,\u001B[0m \u001B[0mtargets\u001B[0m\u001B[0;34m[\u001B[0m\u001B[0;34m:\u001B[0m\u001B[0;34m,\u001B[0m \u001B[0midx\u001B[0m\u001B[0;34m]\u001B[0m\u001B[0;34m)\u001B[0m\u001B[0;34m.\u001B[0m\u001B[0mdetach\u001B[0m\u001B[0;34m(\u001B[0m\u001B[0;34m)\u001B[0m\u001B[0;34m.\u001B[0m\u001B[0mitem\u001B[0m\u001B[0;34m(\u001B[0m\u001B[0;34m)\u001B[0m \u001B[0;32mfor\u001B[0m \u001B[0midx\u001B[0m \u001B[0;32min\u001B[0m \u001B[0mnamed_neuron_inds\u001B[0m\u001B[0;34m]\u001B[0m\u001B[0;34m\u001B[0m\u001B[0;34m\u001B[0m\u001B[0m\n",
      "\u001B[0m\n",
      "> \u001B[0;32m/var/folders/nh/w4w39l451_gbdf_6q7r0pg8w0000gn/T/ipykernel_63539/1491609845.py\u001B[0m(47)\u001B[0;36mneurons_on_category\u001B[0;34m()\u001B[0m\n",
      "\u001B[0;32m     45 \u001B[0;31m\u001B[0;34m\u001B[0m\u001B[0m\n",
      "\u001B[0m\u001B[0;32m     46 \u001B[0;31m        \u001B[0;32mimport\u001B[0m \u001B[0mpdb\u001B[0m\u001B[0;34m;\u001B[0m \u001B[0mpdb\u001B[0m\u001B[0;34m.\u001B[0m\u001B[0mset_trace\u001B[0m\u001B[0;34m(\u001B[0m\u001B[0;34m)\u001B[0m\u001B[0;34m\u001B[0m\u001B[0;34m\u001B[0m\u001B[0m\n",
      "\u001B[0m\u001B[0;32m---> 47 \u001B[0;31m        \u001B[0mtargets\u001B[0m\u001B[0;34m,\u001B[0m \u001B[0mpredictions\u001B[0m \u001B[0;34m=\u001B[0m \u001B[0mmodel_predict\u001B[0m\u001B[0;34m(\u001B[0m\u001B[0mmodel\u001B[0m\u001B[0;34m,\u001B[0m \u001B[0mcalcium_data\u001B[0m\u001B[0;34m[\u001B[0m\u001B[0;34m:\u001B[0m\u001B[0mmax_time\u001B[0m\u001B[0;34m//\u001B[0m\u001B[0;36m2\u001B[0m\u001B[0;34m,\u001B[0m \u001B[0;34m:\u001B[0m\u001B[0;34m]\u001B[0m \u001B[0;34m*\u001B[0m \u001B[0mnamed_neurons_mask\u001B[0m\u001B[0;34m,\u001B[0m \u001B[0mtau\u001B[0m\u001B[0;34m=\u001B[0m\u001B[0mtau_out\u001B[0m\u001B[0;34m)\u001B[0m\u001B[0;34m\u001B[0m\u001B[0;34m\u001B[0m\u001B[0m\n",
      "\u001B[0m\u001B[0;32m     48 \u001B[0;31m        \u001B[0mloss_prediction\u001B[0m \u001B[0;34m=\u001B[0m \u001B[0;34m[\u001B[0m\u001B[0mcriterion\u001B[0m\u001B[0;34m(\u001B[0m\u001B[0mpredictions\u001B[0m\u001B[0;34m[\u001B[0m\u001B[0;34m:\u001B[0m\u001B[0;34m,\u001B[0m \u001B[0midx\u001B[0m\u001B[0;34m]\u001B[0m\u001B[0;34m,\u001B[0m \u001B[0mtargets\u001B[0m\u001B[0;34m[\u001B[0m\u001B[0;34m:\u001B[0m\u001B[0;34m,\u001B[0m \u001B[0midx\u001B[0m\u001B[0;34m]\u001B[0m\u001B[0;34m)\u001B[0m\u001B[0;34m.\u001B[0m\u001B[0mdetach\u001B[0m\u001B[0;34m(\u001B[0m\u001B[0;34m)\u001B[0m\u001B[0;34m.\u001B[0m\u001B[0mitem\u001B[0m\u001B[0;34m(\u001B[0m\u001B[0;34m)\u001B[0m \u001B[0;32mfor\u001B[0m \u001B[0midx\u001B[0m \u001B[0;32min\u001B[0m \u001B[0mnamed_neuron_inds\u001B[0m\u001B[0;34m]\u001B[0m\u001B[0;34m\u001B[0m\u001B[0;34m\u001B[0m\u001B[0m\n",
      "\u001B[0m\u001B[0;32m     49 \u001B[0;31m        \u001B[0;31m# print(len(named_neuron_inds), len(loss_prediction))\u001B[0m\u001B[0;34m\u001B[0m\u001B[0;34m\u001B[0m\u001B[0m\n",
      "\u001B[0m\n",
      "*** NameError: name 'prediction' is not defined\n",
      "> \u001B[0;32m/var/folders/nh/w4w39l451_gbdf_6q7r0pg8w0000gn/T/ipykernel_63539/1491609845.py\u001B[0m(46)\u001B[0;36mneurons_on_category\u001B[0;34m()\u001B[0m\n",
      "\u001B[0;32m     44 \u001B[0;31m        \u001B[0mcategory_neuron\u001B[0m \u001B[0;34m=\u001B[0m \u001B[0;34m[\u001B[0m\u001B[0mgraph\u001B[0m\u001B[0;34m.\u001B[0m\u001B[0my\u001B[0m\u001B[0;34m[\u001B[0m\u001B[0mitem\u001B[0m\u001B[0;34m]\u001B[0m\u001B[0;34m.\u001B[0m\u001B[0mitem\u001B[0m\u001B[0;34m(\u001B[0m\u001B[0;34m)\u001B[0m \u001B[0;32mfor\u001B[0m \u001B[0mitem\u001B[0m \u001B[0;32min\u001B[0m \u001B[0mnamed_neuron_inds\u001B[0m\u001B[0;34m]\u001B[0m\u001B[0;34m\u001B[0m\u001B[0;34m\u001B[0m\u001B[0m\n",
      "\u001B[0m\u001B[0;32m     45 \u001B[0;31m\u001B[0;34m\u001B[0m\u001B[0m\n",
      "\u001B[0m\u001B[0;32m---> 46 \u001B[0;31m        \u001B[0;32mimport\u001B[0m \u001B[0mpdb\u001B[0m\u001B[0;34m;\u001B[0m \u001B[0mpdb\u001B[0m\u001B[0;34m.\u001B[0m\u001B[0mset_trace\u001B[0m\u001B[0;34m(\u001B[0m\u001B[0;34m)\u001B[0m\u001B[0;34m\u001B[0m\u001B[0;34m\u001B[0m\u001B[0m\n",
      "\u001B[0m\u001B[0;32m     47 \u001B[0;31m        \u001B[0mtargets\u001B[0m\u001B[0;34m,\u001B[0m \u001B[0mpredictions\u001B[0m \u001B[0;34m=\u001B[0m \u001B[0mmodel_predict\u001B[0m\u001B[0;34m(\u001B[0m\u001B[0mmodel\u001B[0m\u001B[0;34m,\u001B[0m \u001B[0mcalcium_data\u001B[0m\u001B[0;34m[\u001B[0m\u001B[0;34m:\u001B[0m\u001B[0mmax_time\u001B[0m\u001B[0;34m//\u001B[0m\u001B[0;36m2\u001B[0m\u001B[0;34m,\u001B[0m \u001B[0;34m:\u001B[0m\u001B[0;34m]\u001B[0m \u001B[0;34m*\u001B[0m \u001B[0mnamed_neurons_mask\u001B[0m\u001B[0;34m,\u001B[0m \u001B[0mtau\u001B[0m\u001B[0;34m=\u001B[0m\u001B[0mtau_out\u001B[0m\u001B[0;34m)\u001B[0m\u001B[0;34m\u001B[0m\u001B[0;34m\u001B[0m\u001B[0m\n",
      "\u001B[0m\u001B[0;32m     48 \u001B[0;31m        \u001B[0mloss_prediction\u001B[0m \u001B[0;34m=\u001B[0m \u001B[0;34m[\u001B[0m\u001B[0mcriterion\u001B[0m\u001B[0;34m(\u001B[0m\u001B[0mpredictions\u001B[0m\u001B[0;34m[\u001B[0m\u001B[0;34m:\u001B[0m\u001B[0;34m,\u001B[0m \u001B[0midx\u001B[0m\u001B[0;34m]\u001B[0m\u001B[0;34m,\u001B[0m \u001B[0mtargets\u001B[0m\u001B[0;34m[\u001B[0m\u001B[0;34m:\u001B[0m\u001B[0;34m,\u001B[0m \u001B[0midx\u001B[0m\u001B[0;34m]\u001B[0m\u001B[0;34m)\u001B[0m\u001B[0;34m.\u001B[0m\u001B[0mdetach\u001B[0m\u001B[0;34m(\u001B[0m\u001B[0;34m)\u001B[0m\u001B[0;34m.\u001B[0m\u001B[0mitem\u001B[0m\u001B[0;34m(\u001B[0m\u001B[0;34m)\u001B[0m \u001B[0;32mfor\u001B[0m \u001B[0midx\u001B[0m \u001B[0;32min\u001B[0m \u001B[0mnamed_neuron_inds\u001B[0m\u001B[0;34m]\u001B[0m\u001B[0;34m\u001B[0m\u001B[0;34m\u001B[0m\u001B[0m\n",
      "\u001B[0m\n",
      "> \u001B[0;32m/var/folders/nh/w4w39l451_gbdf_6q7r0pg8w0000gn/T/ipykernel_63539/1491609845.py\u001B[0m(47)\u001B[0;36mneurons_on_category\u001B[0;34m()\u001B[0m\n",
      "\u001B[0;32m     45 \u001B[0;31m\u001B[0;34m\u001B[0m\u001B[0m\n",
      "\u001B[0m\u001B[0;32m     46 \u001B[0;31m        \u001B[0;32mimport\u001B[0m \u001B[0mpdb\u001B[0m\u001B[0;34m;\u001B[0m \u001B[0mpdb\u001B[0m\u001B[0;34m.\u001B[0m\u001B[0mset_trace\u001B[0m\u001B[0;34m(\u001B[0m\u001B[0;34m)\u001B[0m\u001B[0;34m\u001B[0m\u001B[0;34m\u001B[0m\u001B[0m\n",
      "\u001B[0m\u001B[0;32m---> 47 \u001B[0;31m        \u001B[0mtargets\u001B[0m\u001B[0;34m,\u001B[0m \u001B[0mpredictions\u001B[0m \u001B[0;34m=\u001B[0m \u001B[0mmodel_predict\u001B[0m\u001B[0;34m(\u001B[0m\u001B[0mmodel\u001B[0m\u001B[0;34m,\u001B[0m \u001B[0mcalcium_data\u001B[0m\u001B[0;34m[\u001B[0m\u001B[0;34m:\u001B[0m\u001B[0mmax_time\u001B[0m\u001B[0;34m//\u001B[0m\u001B[0;36m2\u001B[0m\u001B[0;34m,\u001B[0m \u001B[0;34m:\u001B[0m\u001B[0;34m]\u001B[0m \u001B[0;34m*\u001B[0m \u001B[0mnamed_neurons_mask\u001B[0m\u001B[0;34m,\u001B[0m \u001B[0mtau\u001B[0m\u001B[0;34m=\u001B[0m\u001B[0mtau_out\u001B[0m\u001B[0;34m)\u001B[0m\u001B[0;34m\u001B[0m\u001B[0;34m\u001B[0m\u001B[0m\n",
      "\u001B[0m\u001B[0;32m     48 \u001B[0;31m        \u001B[0mloss_prediction\u001B[0m \u001B[0;34m=\u001B[0m \u001B[0;34m[\u001B[0m\u001B[0mcriterion\u001B[0m\u001B[0;34m(\u001B[0m\u001B[0mpredictions\u001B[0m\u001B[0;34m[\u001B[0m\u001B[0;34m:\u001B[0m\u001B[0;34m,\u001B[0m \u001B[0midx\u001B[0m\u001B[0;34m]\u001B[0m\u001B[0;34m,\u001B[0m \u001B[0mtargets\u001B[0m\u001B[0;34m[\u001B[0m\u001B[0;34m:\u001B[0m\u001B[0;34m,\u001B[0m \u001B[0midx\u001B[0m\u001B[0;34m]\u001B[0m\u001B[0;34m)\u001B[0m\u001B[0;34m.\u001B[0m\u001B[0mdetach\u001B[0m\u001B[0;34m(\u001B[0m\u001B[0;34m)\u001B[0m\u001B[0;34m.\u001B[0m\u001B[0mitem\u001B[0m\u001B[0;34m(\u001B[0m\u001B[0;34m)\u001B[0m \u001B[0;32mfor\u001B[0m \u001B[0midx\u001B[0m \u001B[0;32min\u001B[0m \u001B[0mnamed_neuron_inds\u001B[0m\u001B[0;34m]\u001B[0m\u001B[0;34m\u001B[0m\u001B[0;34m\u001B[0m\u001B[0m\n",
      "\u001B[0m\u001B[0;32m     49 \u001B[0;31m        \u001B[0;31m# print(len(named_neuron_inds), len(loss_prediction))\u001B[0m\u001B[0;34m\u001B[0m\u001B[0;34m\u001B[0m\u001B[0m\n",
      "\u001B[0m\n",
      "*** NameError: name 'prediction' is not defined\n",
      "*** NameError: name 'prediction' is not defined\n",
      "*** NameError: name 'prediction' is not defined\n",
      "*** NameError: name 'prediction' is not defined\n",
      "*** NameError: name 'prediction' is not defined\n",
      "*** NameError: name 'prediction' is not defined\n",
      "> \u001B[0;32m/var/folders/nh/w4w39l451_gbdf_6q7r0pg8w0000gn/T/ipykernel_63539/1491609845.py\u001B[0m(46)\u001B[0;36mneurons_on_category\u001B[0;34m()\u001B[0m\n",
      "\u001B[0;32m     44 \u001B[0;31m        \u001B[0mcategory_neuron\u001B[0m \u001B[0;34m=\u001B[0m \u001B[0;34m[\u001B[0m\u001B[0mgraph\u001B[0m\u001B[0;34m.\u001B[0m\u001B[0my\u001B[0m\u001B[0;34m[\u001B[0m\u001B[0mitem\u001B[0m\u001B[0;34m]\u001B[0m\u001B[0;34m.\u001B[0m\u001B[0mitem\u001B[0m\u001B[0;34m(\u001B[0m\u001B[0;34m)\u001B[0m \u001B[0;32mfor\u001B[0m \u001B[0mitem\u001B[0m \u001B[0;32min\u001B[0m \u001B[0mnamed_neuron_inds\u001B[0m\u001B[0;34m]\u001B[0m\u001B[0;34m\u001B[0m\u001B[0;34m\u001B[0m\u001B[0m\n",
      "\u001B[0m\u001B[0;32m     45 \u001B[0;31m\u001B[0;34m\u001B[0m\u001B[0m\n",
      "\u001B[0m\u001B[0;32m---> 46 \u001B[0;31m        \u001B[0;32mimport\u001B[0m \u001B[0mpdb\u001B[0m\u001B[0;34m;\u001B[0m \u001B[0mpdb\u001B[0m\u001B[0;34m.\u001B[0m\u001B[0mset_trace\u001B[0m\u001B[0;34m(\u001B[0m\u001B[0;34m)\u001B[0m\u001B[0;34m\u001B[0m\u001B[0;34m\u001B[0m\u001B[0m\n",
      "\u001B[0m\u001B[0;32m     47 \u001B[0;31m        \u001B[0mtargets\u001B[0m\u001B[0;34m,\u001B[0m \u001B[0mpredictions\u001B[0m \u001B[0;34m=\u001B[0m \u001B[0mmodel_predict\u001B[0m\u001B[0;34m(\u001B[0m\u001B[0mmodel\u001B[0m\u001B[0;34m,\u001B[0m \u001B[0mcalcium_data\u001B[0m\u001B[0;34m[\u001B[0m\u001B[0;34m:\u001B[0m\u001B[0mmax_time\u001B[0m\u001B[0;34m//\u001B[0m\u001B[0;36m2\u001B[0m\u001B[0;34m,\u001B[0m \u001B[0;34m:\u001B[0m\u001B[0;34m]\u001B[0m \u001B[0;34m*\u001B[0m \u001B[0mnamed_neurons_mask\u001B[0m\u001B[0;34m,\u001B[0m \u001B[0mtau\u001B[0m\u001B[0;34m=\u001B[0m\u001B[0mtau_out\u001B[0m\u001B[0;34m)\u001B[0m\u001B[0;34m\u001B[0m\u001B[0;34m\u001B[0m\u001B[0m\n",
      "\u001B[0m\u001B[0;32m     48 \u001B[0;31m        \u001B[0mloss_prediction\u001B[0m \u001B[0;34m=\u001B[0m \u001B[0;34m[\u001B[0m\u001B[0mcriterion\u001B[0m\u001B[0;34m(\u001B[0m\u001B[0mpredictions\u001B[0m\u001B[0;34m[\u001B[0m\u001B[0;34m:\u001B[0m\u001B[0;34m,\u001B[0m \u001B[0midx\u001B[0m\u001B[0;34m]\u001B[0m\u001B[0;34m,\u001B[0m \u001B[0mtargets\u001B[0m\u001B[0;34m[\u001B[0m\u001B[0;34m:\u001B[0m\u001B[0;34m,\u001B[0m \u001B[0midx\u001B[0m\u001B[0;34m]\u001B[0m\u001B[0;34m)\u001B[0m\u001B[0;34m.\u001B[0m\u001B[0mdetach\u001B[0m\u001B[0;34m(\u001B[0m\u001B[0;34m)\u001B[0m\u001B[0;34m.\u001B[0m\u001B[0mitem\u001B[0m\u001B[0;34m(\u001B[0m\u001B[0;34m)\u001B[0m \u001B[0;32mfor\u001B[0m \u001B[0midx\u001B[0m \u001B[0;32min\u001B[0m \u001B[0mnamed_neuron_inds\u001B[0m\u001B[0;34m]\u001B[0m\u001B[0;34m\u001B[0m\u001B[0;34m\u001B[0m\u001B[0m\n",
      "\u001B[0m\n",
      "> \u001B[0;32m/var/folders/nh/w4w39l451_gbdf_6q7r0pg8w0000gn/T/ipykernel_63539/1491609845.py\u001B[0m(47)\u001B[0;36mneurons_on_category\u001B[0;34m()\u001B[0m\n",
      "\u001B[0;32m     45 \u001B[0;31m\u001B[0;34m\u001B[0m\u001B[0m\n",
      "\u001B[0m\u001B[0;32m     46 \u001B[0;31m        \u001B[0;32mimport\u001B[0m \u001B[0mpdb\u001B[0m\u001B[0;34m;\u001B[0m \u001B[0mpdb\u001B[0m\u001B[0;34m.\u001B[0m\u001B[0mset_trace\u001B[0m\u001B[0;34m(\u001B[0m\u001B[0;34m)\u001B[0m\u001B[0;34m\u001B[0m\u001B[0;34m\u001B[0m\u001B[0m\n",
      "\u001B[0m\u001B[0;32m---> 47 \u001B[0;31m        \u001B[0mtargets\u001B[0m\u001B[0;34m,\u001B[0m \u001B[0mpredictions\u001B[0m \u001B[0;34m=\u001B[0m \u001B[0mmodel_predict\u001B[0m\u001B[0;34m(\u001B[0m\u001B[0mmodel\u001B[0m\u001B[0;34m,\u001B[0m \u001B[0mcalcium_data\u001B[0m\u001B[0;34m[\u001B[0m\u001B[0;34m:\u001B[0m\u001B[0mmax_time\u001B[0m\u001B[0;34m//\u001B[0m\u001B[0;36m2\u001B[0m\u001B[0;34m,\u001B[0m \u001B[0;34m:\u001B[0m\u001B[0;34m]\u001B[0m \u001B[0;34m*\u001B[0m \u001B[0mnamed_neurons_mask\u001B[0m\u001B[0;34m,\u001B[0m \u001B[0mtau\u001B[0m\u001B[0;34m=\u001B[0m\u001B[0mtau_out\u001B[0m\u001B[0;34m)\u001B[0m\u001B[0;34m\u001B[0m\u001B[0;34m\u001B[0m\u001B[0m\n",
      "\u001B[0m\u001B[0;32m     48 \u001B[0;31m        \u001B[0mloss_prediction\u001B[0m \u001B[0;34m=\u001B[0m \u001B[0;34m[\u001B[0m\u001B[0mcriterion\u001B[0m\u001B[0;34m(\u001B[0m\u001B[0mpredictions\u001B[0m\u001B[0;34m[\u001B[0m\u001B[0;34m:\u001B[0m\u001B[0;34m,\u001B[0m \u001B[0midx\u001B[0m\u001B[0;34m]\u001B[0m\u001B[0;34m,\u001B[0m \u001B[0mtargets\u001B[0m\u001B[0;34m[\u001B[0m\u001B[0;34m:\u001B[0m\u001B[0;34m,\u001B[0m \u001B[0midx\u001B[0m\u001B[0;34m]\u001B[0m\u001B[0;34m)\u001B[0m\u001B[0;34m.\u001B[0m\u001B[0mdetach\u001B[0m\u001B[0;34m(\u001B[0m\u001B[0;34m)\u001B[0m\u001B[0;34m.\u001B[0m\u001B[0mitem\u001B[0m\u001B[0;34m(\u001B[0m\u001B[0;34m)\u001B[0m \u001B[0;32mfor\u001B[0m \u001B[0midx\u001B[0m \u001B[0;32min\u001B[0m \u001B[0mnamed_neuron_inds\u001B[0m\u001B[0;34m]\u001B[0m\u001B[0;34m\u001B[0m\u001B[0;34m\u001B[0m\u001B[0m\n",
      "\u001B[0m\u001B[0;32m     49 \u001B[0;31m        \u001B[0;31m# print(len(named_neuron_inds), len(loss_prediction))\u001B[0m\u001B[0;34m\u001B[0m\u001B[0;34m\u001B[0m\u001B[0m\n",
      "\u001B[0m\n",
      "*** NameError: name 'prediction' is not defined\n",
      "*** NameError: name 'prediction' is not defined\n",
      "> \u001B[0;32m/var/folders/nh/w4w39l451_gbdf_6q7r0pg8w0000gn/T/ipykernel_63539/1491609845.py\u001B[0m(46)\u001B[0;36mneurons_on_category\u001B[0;34m()\u001B[0m\n",
      "\u001B[0;32m     44 \u001B[0;31m        \u001B[0mcategory_neuron\u001B[0m \u001B[0;34m=\u001B[0m \u001B[0;34m[\u001B[0m\u001B[0mgraph\u001B[0m\u001B[0;34m.\u001B[0m\u001B[0my\u001B[0m\u001B[0;34m[\u001B[0m\u001B[0mitem\u001B[0m\u001B[0;34m]\u001B[0m\u001B[0;34m.\u001B[0m\u001B[0mitem\u001B[0m\u001B[0;34m(\u001B[0m\u001B[0;34m)\u001B[0m \u001B[0;32mfor\u001B[0m \u001B[0mitem\u001B[0m \u001B[0;32min\u001B[0m \u001B[0mnamed_neuron_inds\u001B[0m\u001B[0;34m]\u001B[0m\u001B[0;34m\u001B[0m\u001B[0;34m\u001B[0m\u001B[0m\n",
      "\u001B[0m\u001B[0;32m     45 \u001B[0;31m\u001B[0;34m\u001B[0m\u001B[0m\n",
      "\u001B[0m\u001B[0;32m---> 46 \u001B[0;31m        \u001B[0;32mimport\u001B[0m \u001B[0mpdb\u001B[0m\u001B[0;34m;\u001B[0m \u001B[0mpdb\u001B[0m\u001B[0;34m.\u001B[0m\u001B[0mset_trace\u001B[0m\u001B[0;34m(\u001B[0m\u001B[0;34m)\u001B[0m\u001B[0;34m\u001B[0m\u001B[0;34m\u001B[0m\u001B[0m\n",
      "\u001B[0m\u001B[0;32m     47 \u001B[0;31m        \u001B[0mtargets\u001B[0m\u001B[0;34m,\u001B[0m \u001B[0mpredictions\u001B[0m \u001B[0;34m=\u001B[0m \u001B[0mmodel_predict\u001B[0m\u001B[0;34m(\u001B[0m\u001B[0mmodel\u001B[0m\u001B[0;34m,\u001B[0m \u001B[0mcalcium_data\u001B[0m\u001B[0;34m[\u001B[0m\u001B[0;34m:\u001B[0m\u001B[0mmax_time\u001B[0m\u001B[0;34m//\u001B[0m\u001B[0;36m2\u001B[0m\u001B[0;34m,\u001B[0m \u001B[0;34m:\u001B[0m\u001B[0;34m]\u001B[0m \u001B[0;34m*\u001B[0m \u001B[0mnamed_neurons_mask\u001B[0m\u001B[0;34m,\u001B[0m \u001B[0mtau\u001B[0m\u001B[0;34m=\u001B[0m\u001B[0mtau_out\u001B[0m\u001B[0;34m)\u001B[0m\u001B[0;34m\u001B[0m\u001B[0;34m\u001B[0m\u001B[0m\n",
      "\u001B[0m\u001B[0;32m     48 \u001B[0;31m        \u001B[0mloss_prediction\u001B[0m \u001B[0;34m=\u001B[0m \u001B[0;34m[\u001B[0m\u001B[0mcriterion\u001B[0m\u001B[0;34m(\u001B[0m\u001B[0mpredictions\u001B[0m\u001B[0;34m[\u001B[0m\u001B[0;34m:\u001B[0m\u001B[0;34m,\u001B[0m \u001B[0midx\u001B[0m\u001B[0;34m]\u001B[0m\u001B[0;34m,\u001B[0m \u001B[0mtargets\u001B[0m\u001B[0;34m[\u001B[0m\u001B[0;34m:\u001B[0m\u001B[0;34m,\u001B[0m \u001B[0midx\u001B[0m\u001B[0;34m]\u001B[0m\u001B[0;34m)\u001B[0m\u001B[0;34m.\u001B[0m\u001B[0mdetach\u001B[0m\u001B[0;34m(\u001B[0m\u001B[0;34m)\u001B[0m\u001B[0;34m.\u001B[0m\u001B[0mitem\u001B[0m\u001B[0;34m(\u001B[0m\u001B[0;34m)\u001B[0m \u001B[0;32mfor\u001B[0m \u001B[0midx\u001B[0m \u001B[0;32min\u001B[0m \u001B[0mnamed_neuron_inds\u001B[0m\u001B[0;34m]\u001B[0m\u001B[0;34m\u001B[0m\u001B[0;34m\u001B[0m\u001B[0m\n",
      "\u001B[0m\n",
      "> \u001B[0;32m/var/folders/nh/w4w39l451_gbdf_6q7r0pg8w0000gn/T/ipykernel_63539/1491609845.py\u001B[0m(47)\u001B[0;36mneurons_on_category\u001B[0;34m()\u001B[0m\n",
      "\u001B[0;32m     45 \u001B[0;31m\u001B[0;34m\u001B[0m\u001B[0m\n",
      "\u001B[0m\u001B[0;32m     46 \u001B[0;31m        \u001B[0;32mimport\u001B[0m \u001B[0mpdb\u001B[0m\u001B[0;34m;\u001B[0m \u001B[0mpdb\u001B[0m\u001B[0;34m.\u001B[0m\u001B[0mset_trace\u001B[0m\u001B[0;34m(\u001B[0m\u001B[0;34m)\u001B[0m\u001B[0;34m\u001B[0m\u001B[0;34m\u001B[0m\u001B[0m\n",
      "\u001B[0m\u001B[0;32m---> 47 \u001B[0;31m        \u001B[0mtargets\u001B[0m\u001B[0;34m,\u001B[0m \u001B[0mpredictions\u001B[0m \u001B[0;34m=\u001B[0m \u001B[0mmodel_predict\u001B[0m\u001B[0;34m(\u001B[0m\u001B[0mmodel\u001B[0m\u001B[0;34m,\u001B[0m \u001B[0mcalcium_data\u001B[0m\u001B[0;34m[\u001B[0m\u001B[0;34m:\u001B[0m\u001B[0mmax_time\u001B[0m\u001B[0;34m//\u001B[0m\u001B[0;36m2\u001B[0m\u001B[0;34m,\u001B[0m \u001B[0;34m:\u001B[0m\u001B[0;34m]\u001B[0m \u001B[0;34m*\u001B[0m \u001B[0mnamed_neurons_mask\u001B[0m\u001B[0;34m,\u001B[0m \u001B[0mtau\u001B[0m\u001B[0;34m=\u001B[0m\u001B[0mtau_out\u001B[0m\u001B[0;34m)\u001B[0m\u001B[0;34m\u001B[0m\u001B[0;34m\u001B[0m\u001B[0m\n",
      "\u001B[0m\u001B[0;32m     48 \u001B[0;31m        \u001B[0mloss_prediction\u001B[0m \u001B[0;34m=\u001B[0m \u001B[0;34m[\u001B[0m\u001B[0mcriterion\u001B[0m\u001B[0;34m(\u001B[0m\u001B[0mpredictions\u001B[0m\u001B[0;34m[\u001B[0m\u001B[0;34m:\u001B[0m\u001B[0;34m,\u001B[0m \u001B[0midx\u001B[0m\u001B[0;34m]\u001B[0m\u001B[0;34m,\u001B[0m \u001B[0mtargets\u001B[0m\u001B[0;34m[\u001B[0m\u001B[0;34m:\u001B[0m\u001B[0;34m,\u001B[0m \u001B[0midx\u001B[0m\u001B[0;34m]\u001B[0m\u001B[0;34m)\u001B[0m\u001B[0;34m.\u001B[0m\u001B[0mdetach\u001B[0m\u001B[0;34m(\u001B[0m\u001B[0;34m)\u001B[0m\u001B[0;34m.\u001B[0m\u001B[0mitem\u001B[0m\u001B[0;34m(\u001B[0m\u001B[0;34m)\u001B[0m \u001B[0;32mfor\u001B[0m \u001B[0midx\u001B[0m \u001B[0;32min\u001B[0m \u001B[0mnamed_neuron_inds\u001B[0m\u001B[0;34m]\u001B[0m\u001B[0;34m\u001B[0m\u001B[0;34m\u001B[0m\u001B[0m\n",
      "\u001B[0m\u001B[0;32m     49 \u001B[0;31m        \u001B[0;31m# print(len(named_neuron_inds), len(loss_prediction))\u001B[0m\u001B[0;34m\u001B[0m\u001B[0;34m\u001B[0m\u001B[0m\n",
      "\u001B[0m\n",
      "> \u001B[0;32m/var/folders/nh/w4w39l451_gbdf_6q7r0pg8w0000gn/T/ipykernel_63539/1491609845.py\u001B[0m(46)\u001B[0;36mneurons_on_category\u001B[0;34m()\u001B[0m\n",
      "\u001B[0;32m     44 \u001B[0;31m        \u001B[0mcategory_neuron\u001B[0m \u001B[0;34m=\u001B[0m \u001B[0;34m[\u001B[0m\u001B[0mgraph\u001B[0m\u001B[0;34m.\u001B[0m\u001B[0my\u001B[0m\u001B[0;34m[\u001B[0m\u001B[0mitem\u001B[0m\u001B[0;34m]\u001B[0m\u001B[0;34m.\u001B[0m\u001B[0mitem\u001B[0m\u001B[0;34m(\u001B[0m\u001B[0;34m)\u001B[0m \u001B[0;32mfor\u001B[0m \u001B[0mitem\u001B[0m \u001B[0;32min\u001B[0m \u001B[0mnamed_neuron_inds\u001B[0m\u001B[0;34m]\u001B[0m\u001B[0;34m\u001B[0m\u001B[0;34m\u001B[0m\u001B[0m\n",
      "\u001B[0m\u001B[0;32m     45 \u001B[0;31m\u001B[0;34m\u001B[0m\u001B[0m\n",
      "\u001B[0m\u001B[0;32m---> 46 \u001B[0;31m        \u001B[0;32mimport\u001B[0m \u001B[0mpdb\u001B[0m\u001B[0;34m;\u001B[0m \u001B[0mpdb\u001B[0m\u001B[0;34m.\u001B[0m\u001B[0mset_trace\u001B[0m\u001B[0;34m(\u001B[0m\u001B[0;34m)\u001B[0m\u001B[0;34m\u001B[0m\u001B[0;34m\u001B[0m\u001B[0m\n",
      "\u001B[0m\u001B[0;32m     47 \u001B[0;31m        \u001B[0mtargets\u001B[0m\u001B[0;34m,\u001B[0m \u001B[0mpredictions\u001B[0m \u001B[0;34m=\u001B[0m \u001B[0mmodel_predict\u001B[0m\u001B[0;34m(\u001B[0m\u001B[0mmodel\u001B[0m\u001B[0;34m,\u001B[0m \u001B[0mcalcium_data\u001B[0m\u001B[0;34m[\u001B[0m\u001B[0;34m:\u001B[0m\u001B[0mmax_time\u001B[0m\u001B[0;34m//\u001B[0m\u001B[0;36m2\u001B[0m\u001B[0;34m,\u001B[0m \u001B[0;34m:\u001B[0m\u001B[0;34m]\u001B[0m \u001B[0;34m*\u001B[0m \u001B[0mnamed_neurons_mask\u001B[0m\u001B[0;34m,\u001B[0m \u001B[0mtau\u001B[0m\u001B[0;34m=\u001B[0m\u001B[0mtau_out\u001B[0m\u001B[0;34m)\u001B[0m\u001B[0;34m\u001B[0m\u001B[0;34m\u001B[0m\u001B[0m\n",
      "\u001B[0m\u001B[0;32m     48 \u001B[0;31m        \u001B[0mloss_prediction\u001B[0m \u001B[0;34m=\u001B[0m \u001B[0;34m[\u001B[0m\u001B[0mcriterion\u001B[0m\u001B[0;34m(\u001B[0m\u001B[0mpredictions\u001B[0m\u001B[0;34m[\u001B[0m\u001B[0;34m:\u001B[0m\u001B[0;34m,\u001B[0m \u001B[0midx\u001B[0m\u001B[0;34m]\u001B[0m\u001B[0;34m,\u001B[0m \u001B[0mtargets\u001B[0m\u001B[0;34m[\u001B[0m\u001B[0;34m:\u001B[0m\u001B[0;34m,\u001B[0m \u001B[0midx\u001B[0m\u001B[0;34m]\u001B[0m\u001B[0;34m)\u001B[0m\u001B[0;34m.\u001B[0m\u001B[0mdetach\u001B[0m\u001B[0;34m(\u001B[0m\u001B[0;34m)\u001B[0m\u001B[0;34m.\u001B[0m\u001B[0mitem\u001B[0m\u001B[0;34m(\u001B[0m\u001B[0;34m)\u001B[0m \u001B[0;32mfor\u001B[0m \u001B[0midx\u001B[0m \u001B[0;32min\u001B[0m \u001B[0mnamed_neuron_inds\u001B[0m\u001B[0;34m]\u001B[0m\u001B[0;34m\u001B[0m\u001B[0;34m\u001B[0m\u001B[0m\n",
      "\u001B[0m\n",
      "> \u001B[0;32m/var/folders/nh/w4w39l451_gbdf_6q7r0pg8w0000gn/T/ipykernel_63539/1491609845.py\u001B[0m(47)\u001B[0;36mneurons_on_category\u001B[0;34m()\u001B[0m\n",
      "\u001B[0;32m     45 \u001B[0;31m\u001B[0;34m\u001B[0m\u001B[0m\n",
      "\u001B[0m\u001B[0;32m     46 \u001B[0;31m        \u001B[0;32mimport\u001B[0m \u001B[0mpdb\u001B[0m\u001B[0;34m;\u001B[0m \u001B[0mpdb\u001B[0m\u001B[0;34m.\u001B[0m\u001B[0mset_trace\u001B[0m\u001B[0;34m(\u001B[0m\u001B[0;34m)\u001B[0m\u001B[0;34m\u001B[0m\u001B[0;34m\u001B[0m\u001B[0m\n",
      "\u001B[0m\u001B[0;32m---> 47 \u001B[0;31m        \u001B[0mtargets\u001B[0m\u001B[0;34m,\u001B[0m \u001B[0mpredictions\u001B[0m \u001B[0;34m=\u001B[0m \u001B[0mmodel_predict\u001B[0m\u001B[0;34m(\u001B[0m\u001B[0mmodel\u001B[0m\u001B[0;34m,\u001B[0m \u001B[0mcalcium_data\u001B[0m\u001B[0;34m[\u001B[0m\u001B[0;34m:\u001B[0m\u001B[0mmax_time\u001B[0m\u001B[0;34m//\u001B[0m\u001B[0;36m2\u001B[0m\u001B[0;34m,\u001B[0m \u001B[0;34m:\u001B[0m\u001B[0;34m]\u001B[0m \u001B[0;34m*\u001B[0m \u001B[0mnamed_neurons_mask\u001B[0m\u001B[0;34m,\u001B[0m \u001B[0mtau\u001B[0m\u001B[0;34m=\u001B[0m\u001B[0mtau_out\u001B[0m\u001B[0;34m)\u001B[0m\u001B[0;34m\u001B[0m\u001B[0;34m\u001B[0m\u001B[0m\n",
      "\u001B[0m\u001B[0;32m     48 \u001B[0;31m        \u001B[0mloss_prediction\u001B[0m \u001B[0;34m=\u001B[0m \u001B[0;34m[\u001B[0m\u001B[0mcriterion\u001B[0m\u001B[0;34m(\u001B[0m\u001B[0mpredictions\u001B[0m\u001B[0;34m[\u001B[0m\u001B[0;34m:\u001B[0m\u001B[0;34m,\u001B[0m \u001B[0midx\u001B[0m\u001B[0;34m]\u001B[0m\u001B[0;34m,\u001B[0m \u001B[0mtargets\u001B[0m\u001B[0;34m[\u001B[0m\u001B[0;34m:\u001B[0m\u001B[0;34m,\u001B[0m \u001B[0midx\u001B[0m\u001B[0;34m]\u001B[0m\u001B[0;34m)\u001B[0m\u001B[0;34m.\u001B[0m\u001B[0mdetach\u001B[0m\u001B[0;34m(\u001B[0m\u001B[0;34m)\u001B[0m\u001B[0;34m.\u001B[0m\u001B[0mitem\u001B[0m\u001B[0;34m(\u001B[0m\u001B[0;34m)\u001B[0m \u001B[0;32mfor\u001B[0m \u001B[0midx\u001B[0m \u001B[0;32min\u001B[0m \u001B[0mnamed_neuron_inds\u001B[0m\u001B[0;34m]\u001B[0m\u001B[0;34m\u001B[0m\u001B[0;34m\u001B[0m\u001B[0m\n",
      "\u001B[0m\u001B[0;32m     49 \u001B[0;31m        \u001B[0;31m# print(len(named_neuron_inds), len(loss_prediction))\u001B[0m\u001B[0;34m\u001B[0m\u001B[0;34m\u001B[0m\u001B[0m\n",
      "\u001B[0m\n",
      "*** NameError: name 'prediction' is not defined\n",
      "--Call--\n",
      "> \u001B[0;32m/Users/ivy/Desktop/MetaConscious/worm-graph/train/_utils.py\u001B[0m(469)\u001B[0;36mmodel_predict\u001B[0;34m()\u001B[0m\n",
      "\u001B[0;32m    467 \u001B[0;31m    \u001B[0;32mreturn\u001B[0m \u001B[0;32mNone\u001B[0m\u001B[0;34m\u001B[0m\u001B[0;34m\u001B[0m\u001B[0m\n",
      "\u001B[0m\u001B[0;32m    468 \u001B[0;31m\u001B[0;34m\u001B[0m\u001B[0m\n",
      "\u001B[0m\u001B[0;32m--> 469 \u001B[0;31m\u001B[0;34m\u001B[0m\u001B[0m\n",
      "\u001B[0m\u001B[0;32m    470 \u001B[0;31mdef model_predict(\n",
      "\u001B[0m\u001B[0;32m    471 \u001B[0;31m    \u001B[0mmodel\u001B[0m\u001B[0;34m:\u001B[0m \u001B[0mtorch\u001B[0m\u001B[0;34m.\u001B[0m\u001B[0mnn\u001B[0m\u001B[0;34m.\u001B[0m\u001B[0mModule\u001B[0m\u001B[0;34m,\u001B[0m\u001B[0;34m\u001B[0m\u001B[0;34m\u001B[0m\u001B[0m\n",
      "\u001B[0m\n",
      "> \u001B[0;32m/Users/ivy/Desktop/MetaConscious/worm-graph/train/_utils.py\u001B[0m(478)\u001B[0;36mmodel_predict\u001B[0;34m()\u001B[0m\n",
      "\u001B[0;32m    476 \u001B[0;31m    \u001B[0mMakes\u001B[0m \u001B[0mpredictions\u001B[0m \u001B[0;32mfor\u001B[0m \u001B[0mall\u001B[0m \u001B[0mneurons\u001B[0m \u001B[0;32min\u001B[0m \u001B[0mthe\u001B[0m\u001B[0;34m\u001B[0m\u001B[0;34m\u001B[0m\u001B[0m\n",
      "\u001B[0m\u001B[0;32m    477 \u001B[0;31m    \u001B[0mcalcium\u001B[0m \u001B[0mdata\u001B[0m \u001B[0mtensor\u001B[0m \u001B[0musing\u001B[0m \u001B[0ma\u001B[0m \u001B[0mtrained\u001B[0m \u001B[0mmodel\u001B[0m\u001B[0;34m.\u001B[0m\u001B[0;34m\u001B[0m\u001B[0;34m\u001B[0m\u001B[0m\n",
      "\u001B[0m\u001B[0;32m--> 478 \u001B[0;31m    \"\"\"\n",
      "\u001B[0m\u001B[0;32m    479 \u001B[0;31m    \u001B[0mNUM_NEURONS\u001B[0m \u001B[0;34m=\u001B[0m \u001B[0mcalcium_data\u001B[0m\u001B[0;34m.\u001B[0m\u001B[0msize\u001B[0m\u001B[0;34m(\u001B[0m\u001B[0;36m1\u001B[0m\u001B[0;34m)\u001B[0m\u001B[0;34m\u001B[0m\u001B[0;34m\u001B[0m\u001B[0m\n",
      "\u001B[0m\u001B[0;32m    480 \u001B[0;31m    \u001B[0;31m# model = model.double().to(DEVICE)\u001B[0m\u001B[0;34m\u001B[0m\u001B[0;34m\u001B[0m\u001B[0m\n",
      "\u001B[0m\n",
      "> \u001B[0;32m/Users/ivy/Desktop/MetaConscious/worm-graph/train/_utils.py\u001B[0m(480)\u001B[0;36mmodel_predict\u001B[0;34m()\u001B[0m\n",
      "\u001B[0;32m    478 \u001B[0;31m    \"\"\"\n",
      "\u001B[0m\u001B[0;32m    479 \u001B[0;31m    \u001B[0mNUM_NEURONS\u001B[0m \u001B[0;34m=\u001B[0m \u001B[0mcalcium_data\u001B[0m\u001B[0;34m.\u001B[0m\u001B[0msize\u001B[0m\u001B[0;34m(\u001B[0m\u001B[0;36m1\u001B[0m\u001B[0;34m)\u001B[0m\u001B[0;34m\u001B[0m\u001B[0;34m\u001B[0m\u001B[0m\n",
      "\u001B[0m\u001B[0;32m--> 480 \u001B[0;31m    \u001B[0;31m# model = model.double().to(DEVICE)\u001B[0m\u001B[0;34m\u001B[0m\u001B[0;34m\u001B[0m\u001B[0m\n",
      "\u001B[0m\u001B[0;32m    481 \u001B[0;31m    \u001B[0mmodel\u001B[0m \u001B[0;34m=\u001B[0m \u001B[0mmodel\u001B[0m\u001B[0;34m.\u001B[0m\u001B[0mto\u001B[0m\u001B[0;34m(\u001B[0m\u001B[0mDEVICE\u001B[0m\u001B[0;34m)\u001B[0m\u001B[0;34m\u001B[0m\u001B[0;34m\u001B[0m\u001B[0m\n",
      "\u001B[0m\u001B[0;32m    482 \u001B[0;31m    \u001B[0mmodel\u001B[0m\u001B[0;34m.\u001B[0m\u001B[0meval\u001B[0m\u001B[0;34m(\u001B[0m\u001B[0;34m)\u001B[0m\u001B[0;34m\u001B[0m\u001B[0;34m\u001B[0m\u001B[0m\n",
      "\u001B[0m\n",
      "> \u001B[0;32m/Users/ivy/Desktop/MetaConscious/worm-graph/train/_utils.py\u001B[0m(481)\u001B[0;36mmodel_predict\u001B[0;34m()\u001B[0m\n",
      "\u001B[0;32m    479 \u001B[0;31m    \u001B[0mNUM_NEURONS\u001B[0m \u001B[0;34m=\u001B[0m \u001B[0mcalcium_data\u001B[0m\u001B[0;34m.\u001B[0m\u001B[0msize\u001B[0m\u001B[0;34m(\u001B[0m\u001B[0;36m1\u001B[0m\u001B[0;34m)\u001B[0m\u001B[0;34m\u001B[0m\u001B[0;34m\u001B[0m\u001B[0m\n",
      "\u001B[0m\u001B[0;32m    480 \u001B[0;31m    \u001B[0;31m# model = model.double().to(DEVICE)\u001B[0m\u001B[0;34m\u001B[0m\u001B[0;34m\u001B[0m\u001B[0m\n",
      "\u001B[0m\u001B[0;32m--> 481 \u001B[0;31m    \u001B[0mmodel\u001B[0m \u001B[0;34m=\u001B[0m \u001B[0mmodel\u001B[0m\u001B[0;34m.\u001B[0m\u001B[0mto\u001B[0m\u001B[0;34m(\u001B[0m\u001B[0mDEVICE\u001B[0m\u001B[0;34m)\u001B[0m\u001B[0;34m\u001B[0m\u001B[0;34m\u001B[0m\u001B[0m\n",
      "\u001B[0m\u001B[0;32m    482 \u001B[0;31m    \u001B[0mmodel\u001B[0m\u001B[0;34m.\u001B[0m\u001B[0meval\u001B[0m\u001B[0;34m(\u001B[0m\u001B[0;34m)\u001B[0m\u001B[0;34m\u001B[0m\u001B[0;34m\u001B[0m\u001B[0m\n",
      "\u001B[0m\u001B[0;32m    483 \u001B[0;31m    \u001B[0;31m# model in/out\u001B[0m\u001B[0;34m\u001B[0m\u001B[0;34m\u001B[0m\u001B[0m\n",
      "\u001B[0m\n",
      "> \u001B[0;32m/var/folders/nh/w4w39l451_gbdf_6q7r0pg8w0000gn/T/ipykernel_63539/1491609845.py\u001B[0m(46)\u001B[0;36mneurons_on_category\u001B[0;34m()\u001B[0m\n",
      "\u001B[0;32m     44 \u001B[0;31m        \u001B[0mcategory_neuron\u001B[0m \u001B[0;34m=\u001B[0m \u001B[0;34m[\u001B[0m\u001B[0mgraph\u001B[0m\u001B[0;34m.\u001B[0m\u001B[0my\u001B[0m\u001B[0;34m[\u001B[0m\u001B[0mitem\u001B[0m\u001B[0;34m]\u001B[0m\u001B[0;34m.\u001B[0m\u001B[0mitem\u001B[0m\u001B[0;34m(\u001B[0m\u001B[0;34m)\u001B[0m \u001B[0;32mfor\u001B[0m \u001B[0mitem\u001B[0m \u001B[0;32min\u001B[0m \u001B[0mnamed_neuron_inds\u001B[0m\u001B[0;34m]\u001B[0m\u001B[0;34m\u001B[0m\u001B[0;34m\u001B[0m\u001B[0m\n",
      "\u001B[0m\u001B[0;32m     45 \u001B[0;31m\u001B[0;34m\u001B[0m\u001B[0m\n",
      "\u001B[0m\u001B[0;32m---> 46 \u001B[0;31m        \u001B[0;32mimport\u001B[0m \u001B[0mpdb\u001B[0m\u001B[0;34m;\u001B[0m \u001B[0mpdb\u001B[0m\u001B[0;34m.\u001B[0m\u001B[0mset_trace\u001B[0m\u001B[0;34m(\u001B[0m\u001B[0;34m)\u001B[0m\u001B[0;34m\u001B[0m\u001B[0;34m\u001B[0m\u001B[0m\n",
      "\u001B[0m\u001B[0;32m     47 \u001B[0;31m        \u001B[0mtargets\u001B[0m\u001B[0;34m,\u001B[0m \u001B[0mpredictions\u001B[0m \u001B[0;34m=\u001B[0m \u001B[0mmodel_predict\u001B[0m\u001B[0;34m(\u001B[0m\u001B[0mmodel\u001B[0m\u001B[0;34m,\u001B[0m \u001B[0mcalcium_data\u001B[0m\u001B[0;34m[\u001B[0m\u001B[0;34m:\u001B[0m\u001B[0mmax_time\u001B[0m\u001B[0;34m//\u001B[0m\u001B[0;36m2\u001B[0m\u001B[0;34m,\u001B[0m \u001B[0;34m:\u001B[0m\u001B[0;34m]\u001B[0m \u001B[0;34m*\u001B[0m \u001B[0mnamed_neurons_mask\u001B[0m\u001B[0;34m,\u001B[0m \u001B[0mtau\u001B[0m\u001B[0;34m=\u001B[0m\u001B[0mtau_out\u001B[0m\u001B[0;34m)\u001B[0m\u001B[0;34m\u001B[0m\u001B[0;34m\u001B[0m\u001B[0m\n",
      "\u001B[0m\u001B[0;32m     48 \u001B[0;31m        \u001B[0mloss_prediction\u001B[0m \u001B[0;34m=\u001B[0m \u001B[0;34m[\u001B[0m\u001B[0mcriterion\u001B[0m\u001B[0;34m(\u001B[0m\u001B[0mpredictions\u001B[0m\u001B[0;34m[\u001B[0m\u001B[0;34m:\u001B[0m\u001B[0;34m,\u001B[0m \u001B[0midx\u001B[0m\u001B[0;34m]\u001B[0m\u001B[0;34m,\u001B[0m \u001B[0mtargets\u001B[0m\u001B[0;34m[\u001B[0m\u001B[0;34m:\u001B[0m\u001B[0;34m,\u001B[0m \u001B[0midx\u001B[0m\u001B[0;34m]\u001B[0m\u001B[0;34m)\u001B[0m\u001B[0;34m.\u001B[0m\u001B[0mdetach\u001B[0m\u001B[0;34m(\u001B[0m\u001B[0;34m)\u001B[0m\u001B[0;34m.\u001B[0m\u001B[0mitem\u001B[0m\u001B[0;34m(\u001B[0m\u001B[0;34m)\u001B[0m \u001B[0;32mfor\u001B[0m \u001B[0midx\u001B[0m \u001B[0;32min\u001B[0m \u001B[0mnamed_neuron_inds\u001B[0m\u001B[0;34m]\u001B[0m\u001B[0;34m\u001B[0m\u001B[0;34m\u001B[0m\u001B[0m\n",
      "\u001B[0m\n",
      "> \u001B[0;32m/var/folders/nh/w4w39l451_gbdf_6q7r0pg8w0000gn/T/ipykernel_63539/1491609845.py\u001B[0m(47)\u001B[0;36mneurons_on_category\u001B[0;34m()\u001B[0m\n",
      "\u001B[0;32m     45 \u001B[0;31m\u001B[0;34m\u001B[0m\u001B[0m\n",
      "\u001B[0m\u001B[0;32m     46 \u001B[0;31m        \u001B[0;32mimport\u001B[0m \u001B[0mpdb\u001B[0m\u001B[0;34m;\u001B[0m \u001B[0mpdb\u001B[0m\u001B[0;34m.\u001B[0m\u001B[0mset_trace\u001B[0m\u001B[0;34m(\u001B[0m\u001B[0;34m)\u001B[0m\u001B[0;34m\u001B[0m\u001B[0;34m\u001B[0m\u001B[0m\n",
      "\u001B[0m\u001B[0;32m---> 47 \u001B[0;31m        \u001B[0mtargets\u001B[0m\u001B[0;34m,\u001B[0m \u001B[0mpredictions\u001B[0m \u001B[0;34m=\u001B[0m \u001B[0mmodel_predict\u001B[0m\u001B[0;34m(\u001B[0m\u001B[0mmodel\u001B[0m\u001B[0;34m,\u001B[0m \u001B[0mcalcium_data\u001B[0m\u001B[0;34m[\u001B[0m\u001B[0;34m:\u001B[0m\u001B[0mmax_time\u001B[0m\u001B[0;34m//\u001B[0m\u001B[0;36m2\u001B[0m\u001B[0;34m,\u001B[0m \u001B[0;34m:\u001B[0m\u001B[0;34m]\u001B[0m \u001B[0;34m*\u001B[0m \u001B[0mnamed_neurons_mask\u001B[0m\u001B[0;34m,\u001B[0m \u001B[0mtau\u001B[0m\u001B[0;34m=\u001B[0m\u001B[0mtau_out\u001B[0m\u001B[0;34m)\u001B[0m\u001B[0;34m\u001B[0m\u001B[0;34m\u001B[0m\u001B[0m\n",
      "\u001B[0m\u001B[0;32m     48 \u001B[0;31m        \u001B[0mloss_prediction\u001B[0m \u001B[0;34m=\u001B[0m \u001B[0;34m[\u001B[0m\u001B[0mcriterion\u001B[0m\u001B[0;34m(\u001B[0m\u001B[0mpredictions\u001B[0m\u001B[0;34m[\u001B[0m\u001B[0;34m:\u001B[0m\u001B[0;34m,\u001B[0m \u001B[0midx\u001B[0m\u001B[0;34m]\u001B[0m\u001B[0;34m,\u001B[0m \u001B[0mtargets\u001B[0m\u001B[0;34m[\u001B[0m\u001B[0;34m:\u001B[0m\u001B[0;34m,\u001B[0m \u001B[0midx\u001B[0m\u001B[0;34m]\u001B[0m\u001B[0;34m)\u001B[0m\u001B[0;34m.\u001B[0m\u001B[0mdetach\u001B[0m\u001B[0;34m(\u001B[0m\u001B[0;34m)\u001B[0m\u001B[0;34m.\u001B[0m\u001B[0mitem\u001B[0m\u001B[0;34m(\u001B[0m\u001B[0;34m)\u001B[0m \u001B[0;32mfor\u001B[0m \u001B[0midx\u001B[0m \u001B[0;32min\u001B[0m \u001B[0mnamed_neuron_inds\u001B[0m\u001B[0;34m]\u001B[0m\u001B[0;34m\u001B[0m\u001B[0;34m\u001B[0m\u001B[0m\n",
      "\u001B[0m\u001B[0;32m     49 \u001B[0;31m        \u001B[0;31m# print(len(named_neuron_inds), len(loss_prediction))\u001B[0m\u001B[0;34m\u001B[0m\u001B[0;34m\u001B[0m\u001B[0m\n",
      "\u001B[0m\n",
      "> \u001B[0;32m/var/folders/nh/w4w39l451_gbdf_6q7r0pg8w0000gn/T/ipykernel_63539/1491609845.py\u001B[0m(46)\u001B[0;36mneurons_on_category\u001B[0;34m()\u001B[0m\n",
      "\u001B[0;32m     44 \u001B[0;31m        \u001B[0mcategory_neuron\u001B[0m \u001B[0;34m=\u001B[0m \u001B[0;34m[\u001B[0m\u001B[0mgraph\u001B[0m\u001B[0;34m.\u001B[0m\u001B[0my\u001B[0m\u001B[0;34m[\u001B[0m\u001B[0mitem\u001B[0m\u001B[0;34m]\u001B[0m\u001B[0;34m.\u001B[0m\u001B[0mitem\u001B[0m\u001B[0;34m(\u001B[0m\u001B[0;34m)\u001B[0m \u001B[0;32mfor\u001B[0m \u001B[0mitem\u001B[0m \u001B[0;32min\u001B[0m \u001B[0mnamed_neuron_inds\u001B[0m\u001B[0;34m]\u001B[0m\u001B[0;34m\u001B[0m\u001B[0;34m\u001B[0m\u001B[0m\n",
      "\u001B[0m\u001B[0;32m     45 \u001B[0;31m\u001B[0;34m\u001B[0m\u001B[0m\n",
      "\u001B[0m\u001B[0;32m---> 46 \u001B[0;31m        \u001B[0;32mimport\u001B[0m \u001B[0mpdb\u001B[0m\u001B[0;34m;\u001B[0m \u001B[0mpdb\u001B[0m\u001B[0;34m.\u001B[0m\u001B[0mset_trace\u001B[0m\u001B[0;34m(\u001B[0m\u001B[0;34m)\u001B[0m\u001B[0;34m\u001B[0m\u001B[0;34m\u001B[0m\u001B[0m\n",
      "\u001B[0m\u001B[0;32m     47 \u001B[0;31m        \u001B[0mtargets\u001B[0m\u001B[0;34m,\u001B[0m \u001B[0mpredictions\u001B[0m \u001B[0;34m=\u001B[0m \u001B[0mmodel_predict\u001B[0m\u001B[0;34m(\u001B[0m\u001B[0mmodel\u001B[0m\u001B[0;34m,\u001B[0m \u001B[0mcalcium_data\u001B[0m\u001B[0;34m[\u001B[0m\u001B[0;34m:\u001B[0m\u001B[0mmax_time\u001B[0m\u001B[0;34m//\u001B[0m\u001B[0;36m2\u001B[0m\u001B[0;34m,\u001B[0m \u001B[0;34m:\u001B[0m\u001B[0;34m]\u001B[0m \u001B[0;34m*\u001B[0m \u001B[0mnamed_neurons_mask\u001B[0m\u001B[0;34m,\u001B[0m \u001B[0mtau\u001B[0m\u001B[0;34m=\u001B[0m\u001B[0mtau_out\u001B[0m\u001B[0;34m)\u001B[0m\u001B[0;34m\u001B[0m\u001B[0;34m\u001B[0m\u001B[0m\n",
      "\u001B[0m\u001B[0;32m     48 \u001B[0;31m        \u001B[0mloss_prediction\u001B[0m \u001B[0;34m=\u001B[0m \u001B[0;34m[\u001B[0m\u001B[0mcriterion\u001B[0m\u001B[0;34m(\u001B[0m\u001B[0mpredictions\u001B[0m\u001B[0;34m[\u001B[0m\u001B[0;34m:\u001B[0m\u001B[0;34m,\u001B[0m \u001B[0midx\u001B[0m\u001B[0;34m]\u001B[0m\u001B[0;34m,\u001B[0m \u001B[0mtargets\u001B[0m\u001B[0;34m[\u001B[0m\u001B[0;34m:\u001B[0m\u001B[0;34m,\u001B[0m \u001B[0midx\u001B[0m\u001B[0;34m]\u001B[0m\u001B[0;34m)\u001B[0m\u001B[0;34m.\u001B[0m\u001B[0mdetach\u001B[0m\u001B[0;34m(\u001B[0m\u001B[0;34m)\u001B[0m\u001B[0;34m.\u001B[0m\u001B[0mitem\u001B[0m\u001B[0;34m(\u001B[0m\u001B[0;34m)\u001B[0m \u001B[0;32mfor\u001B[0m \u001B[0midx\u001B[0m \u001B[0;32min\u001B[0m \u001B[0mnamed_neuron_inds\u001B[0m\u001B[0;34m]\u001B[0m\u001B[0;34m\u001B[0m\u001B[0;34m\u001B[0m\u001B[0m\n",
      "\u001B[0m\n",
      "> \u001B[0;32m/var/folders/nh/w4w39l451_gbdf_6q7r0pg8w0000gn/T/ipykernel_63539/1491609845.py\u001B[0m(47)\u001B[0;36mneurons_on_category\u001B[0;34m()\u001B[0m\n",
      "\u001B[0;32m     45 \u001B[0;31m\u001B[0;34m\u001B[0m\u001B[0m\n",
      "\u001B[0m\u001B[0;32m     46 \u001B[0;31m        \u001B[0;32mimport\u001B[0m \u001B[0mpdb\u001B[0m\u001B[0;34m;\u001B[0m \u001B[0mpdb\u001B[0m\u001B[0;34m.\u001B[0m\u001B[0mset_trace\u001B[0m\u001B[0;34m(\u001B[0m\u001B[0;34m)\u001B[0m\u001B[0;34m\u001B[0m\u001B[0;34m\u001B[0m\u001B[0m\n",
      "\u001B[0m\u001B[0;32m---> 47 \u001B[0;31m        \u001B[0mtargets\u001B[0m\u001B[0;34m,\u001B[0m \u001B[0mpredictions\u001B[0m \u001B[0;34m=\u001B[0m \u001B[0mmodel_predict\u001B[0m\u001B[0;34m(\u001B[0m\u001B[0mmodel\u001B[0m\u001B[0;34m,\u001B[0m \u001B[0mcalcium_data\u001B[0m\u001B[0;34m[\u001B[0m\u001B[0;34m:\u001B[0m\u001B[0mmax_time\u001B[0m\u001B[0;34m//\u001B[0m\u001B[0;36m2\u001B[0m\u001B[0;34m,\u001B[0m \u001B[0;34m:\u001B[0m\u001B[0;34m]\u001B[0m \u001B[0;34m*\u001B[0m \u001B[0mnamed_neurons_mask\u001B[0m\u001B[0;34m,\u001B[0m \u001B[0mtau\u001B[0m\u001B[0;34m=\u001B[0m\u001B[0mtau_out\u001B[0m\u001B[0;34m)\u001B[0m\u001B[0;34m\u001B[0m\u001B[0;34m\u001B[0m\u001B[0m\n",
      "\u001B[0m\u001B[0;32m     48 \u001B[0;31m        \u001B[0mloss_prediction\u001B[0m \u001B[0;34m=\u001B[0m \u001B[0;34m[\u001B[0m\u001B[0mcriterion\u001B[0m\u001B[0;34m(\u001B[0m\u001B[0mpredictions\u001B[0m\u001B[0;34m[\u001B[0m\u001B[0;34m:\u001B[0m\u001B[0;34m,\u001B[0m \u001B[0midx\u001B[0m\u001B[0;34m]\u001B[0m\u001B[0;34m,\u001B[0m \u001B[0mtargets\u001B[0m\u001B[0;34m[\u001B[0m\u001B[0;34m:\u001B[0m\u001B[0;34m,\u001B[0m \u001B[0midx\u001B[0m\u001B[0;34m]\u001B[0m\u001B[0;34m)\u001B[0m\u001B[0;34m.\u001B[0m\u001B[0mdetach\u001B[0m\u001B[0;34m(\u001B[0m\u001B[0;34m)\u001B[0m\u001B[0;34m.\u001B[0m\u001B[0mitem\u001B[0m\u001B[0;34m(\u001B[0m\u001B[0;34m)\u001B[0m \u001B[0;32mfor\u001B[0m \u001B[0midx\u001B[0m \u001B[0;32min\u001B[0m \u001B[0mnamed_neuron_inds\u001B[0m\u001B[0;34m]\u001B[0m\u001B[0;34m\u001B[0m\u001B[0;34m\u001B[0m\u001B[0m\n",
      "\u001B[0m\u001B[0;32m     49 \u001B[0;31m        \u001B[0;31m# print(len(named_neuron_inds), len(loss_prediction))\u001B[0m\u001B[0;34m\u001B[0m\u001B[0;34m\u001B[0m\u001B[0m\n",
      "\u001B[0m\n",
      "> \u001B[0;32m/var/folders/nh/w4w39l451_gbdf_6q7r0pg8w0000gn/T/ipykernel_63539/1491609845.py\u001B[0m(46)\u001B[0;36mneurons_on_category\u001B[0;34m()\u001B[0m\n",
      "\u001B[0;32m     44 \u001B[0;31m        \u001B[0mcategory_neuron\u001B[0m \u001B[0;34m=\u001B[0m \u001B[0;34m[\u001B[0m\u001B[0mgraph\u001B[0m\u001B[0;34m.\u001B[0m\u001B[0my\u001B[0m\u001B[0;34m[\u001B[0m\u001B[0mitem\u001B[0m\u001B[0;34m]\u001B[0m\u001B[0;34m.\u001B[0m\u001B[0mitem\u001B[0m\u001B[0;34m(\u001B[0m\u001B[0;34m)\u001B[0m \u001B[0;32mfor\u001B[0m \u001B[0mitem\u001B[0m \u001B[0;32min\u001B[0m \u001B[0mnamed_neuron_inds\u001B[0m\u001B[0;34m]\u001B[0m\u001B[0;34m\u001B[0m\u001B[0;34m\u001B[0m\u001B[0m\n",
      "\u001B[0m\u001B[0;32m     45 \u001B[0;31m\u001B[0;34m\u001B[0m\u001B[0m\n",
      "\u001B[0m\u001B[0;32m---> 46 \u001B[0;31m        \u001B[0;32mimport\u001B[0m \u001B[0mpdb\u001B[0m\u001B[0;34m;\u001B[0m \u001B[0mpdb\u001B[0m\u001B[0;34m.\u001B[0m\u001B[0mset_trace\u001B[0m\u001B[0;34m(\u001B[0m\u001B[0;34m)\u001B[0m\u001B[0;34m\u001B[0m\u001B[0;34m\u001B[0m\u001B[0m\n",
      "\u001B[0m\u001B[0;32m     47 \u001B[0;31m        \u001B[0mtargets\u001B[0m\u001B[0;34m,\u001B[0m \u001B[0mpredictions\u001B[0m \u001B[0;34m=\u001B[0m \u001B[0mmodel_predict\u001B[0m\u001B[0;34m(\u001B[0m\u001B[0mmodel\u001B[0m\u001B[0;34m,\u001B[0m \u001B[0mcalcium_data\u001B[0m\u001B[0;34m[\u001B[0m\u001B[0;34m:\u001B[0m\u001B[0mmax_time\u001B[0m\u001B[0;34m//\u001B[0m\u001B[0;36m2\u001B[0m\u001B[0;34m,\u001B[0m \u001B[0;34m:\u001B[0m\u001B[0;34m]\u001B[0m \u001B[0;34m*\u001B[0m \u001B[0mnamed_neurons_mask\u001B[0m\u001B[0;34m,\u001B[0m \u001B[0mtau\u001B[0m\u001B[0;34m=\u001B[0m\u001B[0mtau_out\u001B[0m\u001B[0;34m)\u001B[0m\u001B[0;34m\u001B[0m\u001B[0;34m\u001B[0m\u001B[0m\n",
      "\u001B[0m\u001B[0;32m     48 \u001B[0;31m        \u001B[0mloss_prediction\u001B[0m \u001B[0;34m=\u001B[0m \u001B[0;34m[\u001B[0m\u001B[0mcriterion\u001B[0m\u001B[0;34m(\u001B[0m\u001B[0mpredictions\u001B[0m\u001B[0;34m[\u001B[0m\u001B[0;34m:\u001B[0m\u001B[0;34m,\u001B[0m \u001B[0midx\u001B[0m\u001B[0;34m]\u001B[0m\u001B[0;34m,\u001B[0m \u001B[0mtargets\u001B[0m\u001B[0;34m[\u001B[0m\u001B[0;34m:\u001B[0m\u001B[0;34m,\u001B[0m \u001B[0midx\u001B[0m\u001B[0;34m]\u001B[0m\u001B[0;34m)\u001B[0m\u001B[0;34m.\u001B[0m\u001B[0mdetach\u001B[0m\u001B[0;34m(\u001B[0m\u001B[0;34m)\u001B[0m\u001B[0;34m.\u001B[0m\u001B[0mitem\u001B[0m\u001B[0;34m(\u001B[0m\u001B[0;34m)\u001B[0m \u001B[0;32mfor\u001B[0m \u001B[0midx\u001B[0m \u001B[0;32min\u001B[0m \u001B[0mnamed_neuron_inds\u001B[0m\u001B[0;34m]\u001B[0m\u001B[0;34m\u001B[0m\u001B[0;34m\u001B[0m\u001B[0m\n",
      "\u001B[0m\n",
      "> \u001B[0;32m/var/folders/nh/w4w39l451_gbdf_6q7r0pg8w0000gn/T/ipykernel_63539/1491609845.py\u001B[0m(47)\u001B[0;36mneurons_on_category\u001B[0;34m()\u001B[0m\n",
      "\u001B[0;32m     45 \u001B[0;31m\u001B[0;34m\u001B[0m\u001B[0m\n",
      "\u001B[0m\u001B[0;32m     46 \u001B[0;31m        \u001B[0;32mimport\u001B[0m \u001B[0mpdb\u001B[0m\u001B[0;34m;\u001B[0m \u001B[0mpdb\u001B[0m\u001B[0;34m.\u001B[0m\u001B[0mset_trace\u001B[0m\u001B[0;34m(\u001B[0m\u001B[0;34m)\u001B[0m\u001B[0;34m\u001B[0m\u001B[0;34m\u001B[0m\u001B[0m\n",
      "\u001B[0m\u001B[0;32m---> 47 \u001B[0;31m        \u001B[0mtargets\u001B[0m\u001B[0;34m,\u001B[0m \u001B[0mpredictions\u001B[0m \u001B[0;34m=\u001B[0m \u001B[0mmodel_predict\u001B[0m\u001B[0;34m(\u001B[0m\u001B[0mmodel\u001B[0m\u001B[0;34m,\u001B[0m \u001B[0mcalcium_data\u001B[0m\u001B[0;34m[\u001B[0m\u001B[0;34m:\u001B[0m\u001B[0mmax_time\u001B[0m\u001B[0;34m//\u001B[0m\u001B[0;36m2\u001B[0m\u001B[0;34m,\u001B[0m \u001B[0;34m:\u001B[0m\u001B[0;34m]\u001B[0m \u001B[0;34m*\u001B[0m \u001B[0mnamed_neurons_mask\u001B[0m\u001B[0;34m,\u001B[0m \u001B[0mtau\u001B[0m\u001B[0;34m=\u001B[0m\u001B[0mtau_out\u001B[0m\u001B[0;34m)\u001B[0m\u001B[0;34m\u001B[0m\u001B[0;34m\u001B[0m\u001B[0m\n",
      "\u001B[0m\u001B[0;32m     48 \u001B[0;31m        \u001B[0mloss_prediction\u001B[0m \u001B[0;34m=\u001B[0m \u001B[0;34m[\u001B[0m\u001B[0mcriterion\u001B[0m\u001B[0;34m(\u001B[0m\u001B[0mpredictions\u001B[0m\u001B[0;34m[\u001B[0m\u001B[0;34m:\u001B[0m\u001B[0;34m,\u001B[0m \u001B[0midx\u001B[0m\u001B[0;34m]\u001B[0m\u001B[0;34m,\u001B[0m \u001B[0mtargets\u001B[0m\u001B[0;34m[\u001B[0m\u001B[0;34m:\u001B[0m\u001B[0;34m,\u001B[0m \u001B[0midx\u001B[0m\u001B[0;34m]\u001B[0m\u001B[0;34m)\u001B[0m\u001B[0;34m.\u001B[0m\u001B[0mdetach\u001B[0m\u001B[0;34m(\u001B[0m\u001B[0;34m)\u001B[0m\u001B[0;34m.\u001B[0m\u001B[0mitem\u001B[0m\u001B[0;34m(\u001B[0m\u001B[0;34m)\u001B[0m \u001B[0;32mfor\u001B[0m \u001B[0midx\u001B[0m \u001B[0;32min\u001B[0m \u001B[0mnamed_neuron_inds\u001B[0m\u001B[0;34m]\u001B[0m\u001B[0;34m\u001B[0m\u001B[0;34m\u001B[0m\u001B[0m\n",
      "\u001B[0m\u001B[0;32m     49 \u001B[0;31m        \u001B[0;31m# print(len(named_neuron_inds), len(loss_prediction))\u001B[0m\u001B[0;34m\u001B[0m\u001B[0;34m\u001B[0m\u001B[0m\n",
      "\u001B[0m\n",
      "> \u001B[0;32m/var/folders/nh/w4w39l451_gbdf_6q7r0pg8w0000gn/T/ipykernel_63539/1491609845.py\u001B[0m(48)\u001B[0;36mneurons_on_category\u001B[0;34m()\u001B[0m\n",
      "\u001B[0;32m     46 \u001B[0;31m        \u001B[0;32mimport\u001B[0m \u001B[0mpdb\u001B[0m\u001B[0;34m;\u001B[0m \u001B[0mpdb\u001B[0m\u001B[0;34m.\u001B[0m\u001B[0mset_trace\u001B[0m\u001B[0;34m(\u001B[0m\u001B[0;34m)\u001B[0m\u001B[0;34m\u001B[0m\u001B[0;34m\u001B[0m\u001B[0m\n",
      "\u001B[0m\u001B[0;32m     47 \u001B[0;31m        \u001B[0mtargets\u001B[0m\u001B[0;34m,\u001B[0m \u001B[0mpredictions\u001B[0m \u001B[0;34m=\u001B[0m \u001B[0mmodel_predict\u001B[0m\u001B[0;34m(\u001B[0m\u001B[0mmodel\u001B[0m\u001B[0;34m,\u001B[0m \u001B[0mcalcium_data\u001B[0m\u001B[0;34m[\u001B[0m\u001B[0;34m:\u001B[0m\u001B[0mmax_time\u001B[0m\u001B[0;34m//\u001B[0m\u001B[0;36m2\u001B[0m\u001B[0;34m,\u001B[0m \u001B[0;34m:\u001B[0m\u001B[0;34m]\u001B[0m \u001B[0;34m*\u001B[0m \u001B[0mnamed_neurons_mask\u001B[0m\u001B[0;34m,\u001B[0m \u001B[0mtau\u001B[0m\u001B[0;34m=\u001B[0m\u001B[0mtau_out\u001B[0m\u001B[0;34m)\u001B[0m\u001B[0;34m\u001B[0m\u001B[0;34m\u001B[0m\u001B[0m\n",
      "\u001B[0m\u001B[0;32m---> 48 \u001B[0;31m        \u001B[0mloss_prediction\u001B[0m \u001B[0;34m=\u001B[0m \u001B[0;34m[\u001B[0m\u001B[0mcriterion\u001B[0m\u001B[0;34m(\u001B[0m\u001B[0mpredictions\u001B[0m\u001B[0;34m[\u001B[0m\u001B[0;34m:\u001B[0m\u001B[0;34m,\u001B[0m \u001B[0midx\u001B[0m\u001B[0;34m]\u001B[0m\u001B[0;34m,\u001B[0m \u001B[0mtargets\u001B[0m\u001B[0;34m[\u001B[0m\u001B[0;34m:\u001B[0m\u001B[0;34m,\u001B[0m \u001B[0midx\u001B[0m\u001B[0;34m]\u001B[0m\u001B[0;34m)\u001B[0m\u001B[0;34m.\u001B[0m\u001B[0mdetach\u001B[0m\u001B[0;34m(\u001B[0m\u001B[0;34m)\u001B[0m\u001B[0;34m.\u001B[0m\u001B[0mitem\u001B[0m\u001B[0;34m(\u001B[0m\u001B[0;34m)\u001B[0m \u001B[0;32mfor\u001B[0m \u001B[0midx\u001B[0m \u001B[0;32min\u001B[0m \u001B[0mnamed_neuron_inds\u001B[0m\u001B[0;34m]\u001B[0m\u001B[0;34m\u001B[0m\u001B[0;34m\u001B[0m\u001B[0m\n",
      "\u001B[0m\u001B[0;32m     49 \u001B[0;31m        \u001B[0;31m# print(len(named_neuron_inds), len(loss_prediction))\u001B[0m\u001B[0;34m\u001B[0m\u001B[0;34m\u001B[0m\u001B[0m\n",
      "\u001B[0m\u001B[0;32m     50 \u001B[0;31m\u001B[0;34m\u001B[0m\u001B[0m\n",
      "\u001B[0m\n",
      "> \u001B[0;32m/var/folders/nh/w4w39l451_gbdf_6q7r0pg8w0000gn/T/ipykernel_63539/1491609845.py\u001B[0m(54)\u001B[0;36mneurons_on_category\u001B[0;34m()\u001B[0m\n",
      "\u001B[0;32m     52 \u001B[0;31m        \u001B[0;31m# key: (neuron_inds, loss)\u001B[0m\u001B[0;34m\u001B[0m\u001B[0;34m\u001B[0m\u001B[0m\n",
      "\u001B[0m\u001B[0;32m     53 \u001B[0;31m        \u001B[0;31m# val: neuron_category\u001B[0m\u001B[0;34m\u001B[0m\u001B[0;34m\u001B[0m\u001B[0m\n",
      "\u001B[0m\u001B[0;32m---> 54 \u001B[0;31m        \u001B[0mnamed_neuron_category_loss\u001B[0m \u001B[0;34m=\u001B[0m \u001B[0mdict\u001B[0m\u001B[0;34m(\u001B[0m\u001B[0;34m)\u001B[0m\u001B[0;34m\u001B[0m\u001B[0;34m\u001B[0m\u001B[0m\n",
      "\u001B[0m\u001B[0;32m     55 \u001B[0;31m        \u001B[0;32mfor\u001B[0m \u001B[0mk\u001B[0m \u001B[0;32min\u001B[0m \u001B[0mrange\u001B[0m\u001B[0;34m(\u001B[0m\u001B[0mlen\u001B[0m\u001B[0;34m(\u001B[0m\u001B[0mnamed_neuron_inds\u001B[0m\u001B[0;34m)\u001B[0m\u001B[0;34m)\u001B[0m\u001B[0;34m:\u001B[0m\u001B[0;34m\u001B[0m\u001B[0;34m\u001B[0m\u001B[0m\n",
      "\u001B[0m\u001B[0;32m     56 \u001B[0;31m            named_neuron_category_loss.setdefault(\n",
      "\u001B[0m\n",
      "> \u001B[0;32m/var/folders/nh/w4w39l451_gbdf_6q7r0pg8w0000gn/T/ipykernel_63539/1491609845.py\u001B[0m(55)\u001B[0;36mneurons_on_category\u001B[0;34m()\u001B[0m\n",
      "\u001B[0;32m     53 \u001B[0;31m        \u001B[0;31m# val: neuron_category\u001B[0m\u001B[0;34m\u001B[0m\u001B[0;34m\u001B[0m\u001B[0m\n",
      "\u001B[0m\u001B[0;32m     54 \u001B[0;31m        \u001B[0mnamed_neuron_category_loss\u001B[0m \u001B[0;34m=\u001B[0m \u001B[0mdict\u001B[0m\u001B[0;34m(\u001B[0m\u001B[0;34m)\u001B[0m\u001B[0;34m\u001B[0m\u001B[0;34m\u001B[0m\u001B[0m\n",
      "\u001B[0m\u001B[0;32m---> 55 \u001B[0;31m        \u001B[0;32mfor\u001B[0m \u001B[0mk\u001B[0m \u001B[0;32min\u001B[0m \u001B[0mrange\u001B[0m\u001B[0;34m(\u001B[0m\u001B[0mlen\u001B[0m\u001B[0;34m(\u001B[0m\u001B[0mnamed_neuron_inds\u001B[0m\u001B[0;34m)\u001B[0m\u001B[0;34m)\u001B[0m\u001B[0;34m:\u001B[0m\u001B[0;34m\u001B[0m\u001B[0;34m\u001B[0m\u001B[0m\n",
      "\u001B[0m\u001B[0;32m     56 \u001B[0;31m            named_neuron_category_loss.setdefault(\n",
      "\u001B[0m\u001B[0;32m     57 \u001B[0;31m                \u001B[0;34m(\u001B[0m\u001B[0mnamed_neuron_inds\u001B[0m\u001B[0;34m[\u001B[0m\u001B[0mk\u001B[0m\u001B[0;34m]\u001B[0m\u001B[0;34m,\u001B[0m \u001B[0mloss_prediction\u001B[0m\u001B[0;34m[\u001B[0m\u001B[0mk\u001B[0m\u001B[0;34m]\u001B[0m\u001B[0;34m)\u001B[0m\u001B[0;34m,\u001B[0m\u001B[0;34m\u001B[0m\u001B[0;34m\u001B[0m\u001B[0m\n",
      "\u001B[0m\n",
      "> \u001B[0;32m/var/folders/nh/w4w39l451_gbdf_6q7r0pg8w0000gn/T/ipykernel_63539/1491609845.py\u001B[0m(56)\u001B[0;36mneurons_on_category\u001B[0;34m()\u001B[0m\n",
      "\u001B[0;32m     54 \u001B[0;31m        \u001B[0mnamed_neuron_category_loss\u001B[0m \u001B[0;34m=\u001B[0m \u001B[0mdict\u001B[0m\u001B[0;34m(\u001B[0m\u001B[0;34m)\u001B[0m\u001B[0;34m\u001B[0m\u001B[0;34m\u001B[0m\u001B[0m\n",
      "\u001B[0m\u001B[0;32m     55 \u001B[0;31m        \u001B[0;32mfor\u001B[0m \u001B[0mk\u001B[0m \u001B[0;32min\u001B[0m \u001B[0mrange\u001B[0m\u001B[0;34m(\u001B[0m\u001B[0mlen\u001B[0m\u001B[0;34m(\u001B[0m\u001B[0mnamed_neuron_inds\u001B[0m\u001B[0;34m)\u001B[0m\u001B[0;34m)\u001B[0m\u001B[0;34m:\u001B[0m\u001B[0;34m\u001B[0m\u001B[0;34m\u001B[0m\u001B[0m\n",
      "\u001B[0m\u001B[0;32m---> 56 \u001B[0;31m            named_neuron_category_loss.setdefault(\n",
      "\u001B[0m\u001B[0;32m     57 \u001B[0;31m                \u001B[0;34m(\u001B[0m\u001B[0mnamed_neuron_inds\u001B[0m\u001B[0;34m[\u001B[0m\u001B[0mk\u001B[0m\u001B[0;34m]\u001B[0m\u001B[0;34m,\u001B[0m \u001B[0mloss_prediction\u001B[0m\u001B[0;34m[\u001B[0m\u001B[0mk\u001B[0m\u001B[0;34m]\u001B[0m\u001B[0;34m)\u001B[0m\u001B[0;34m,\u001B[0m\u001B[0;34m\u001B[0m\u001B[0;34m\u001B[0m\u001B[0m\n",
      "\u001B[0m\u001B[0;32m     58 \u001B[0;31m                \u001B[0mcategory_neuron\u001B[0m\u001B[0;34m[\u001B[0m\u001B[0mk\u001B[0m\u001B[0;34m]\u001B[0m\u001B[0;34m\u001B[0m\u001B[0;34m\u001B[0m\u001B[0m\n",
      "\u001B[0m\n",
      "> \u001B[0;32m/var/folders/nh/w4w39l451_gbdf_6q7r0pg8w0000gn/T/ipykernel_63539/1491609845.py\u001B[0m(57)\u001B[0;36mneurons_on_category\u001B[0;34m()\u001B[0m\n",
      "\u001B[0;32m     55 \u001B[0;31m        \u001B[0;32mfor\u001B[0m \u001B[0mk\u001B[0m \u001B[0;32min\u001B[0m \u001B[0mrange\u001B[0m\u001B[0;34m(\u001B[0m\u001B[0mlen\u001B[0m\u001B[0;34m(\u001B[0m\u001B[0mnamed_neuron_inds\u001B[0m\u001B[0;34m)\u001B[0m\u001B[0;34m)\u001B[0m\u001B[0;34m:\u001B[0m\u001B[0;34m\u001B[0m\u001B[0;34m\u001B[0m\u001B[0m\n",
      "\u001B[0m\u001B[0;32m     56 \u001B[0;31m            named_neuron_category_loss.setdefault(\n",
      "\u001B[0m\u001B[0;32m---> 57 \u001B[0;31m                \u001B[0;34m(\u001B[0m\u001B[0mnamed_neuron_inds\u001B[0m\u001B[0;34m[\u001B[0m\u001B[0mk\u001B[0m\u001B[0;34m]\u001B[0m\u001B[0;34m,\u001B[0m \u001B[0mloss_prediction\u001B[0m\u001B[0;34m[\u001B[0m\u001B[0mk\u001B[0m\u001B[0;34m]\u001B[0m\u001B[0;34m)\u001B[0m\u001B[0;34m,\u001B[0m\u001B[0;34m\u001B[0m\u001B[0;34m\u001B[0m\u001B[0m\n",
      "\u001B[0m\u001B[0;32m     58 \u001B[0;31m                \u001B[0mcategory_neuron\u001B[0m\u001B[0;34m[\u001B[0m\u001B[0mk\u001B[0m\u001B[0;34m]\u001B[0m\u001B[0;34m\u001B[0m\u001B[0;34m\u001B[0m\u001B[0m\n",
      "\u001B[0m\u001B[0;32m     59 \u001B[0;31m            )\n",
      "\u001B[0m\n",
      "> \u001B[0;32m/var/folders/nh/w4w39l451_gbdf_6q7r0pg8w0000gn/T/ipykernel_63539/1491609845.py\u001B[0m(58)\u001B[0;36mneurons_on_category\u001B[0;34m()\u001B[0m\n",
      "\u001B[0;32m     56 \u001B[0;31m            named_neuron_category_loss.setdefault(\n",
      "\u001B[0m\u001B[0;32m     57 \u001B[0;31m                \u001B[0;34m(\u001B[0m\u001B[0mnamed_neuron_inds\u001B[0m\u001B[0;34m[\u001B[0m\u001B[0mk\u001B[0m\u001B[0;34m]\u001B[0m\u001B[0;34m,\u001B[0m \u001B[0mloss_prediction\u001B[0m\u001B[0;34m[\u001B[0m\u001B[0mk\u001B[0m\u001B[0;34m]\u001B[0m\u001B[0;34m)\u001B[0m\u001B[0;34m,\u001B[0m\u001B[0;34m\u001B[0m\u001B[0;34m\u001B[0m\u001B[0m\n",
      "\u001B[0m\u001B[0;32m---> 58 \u001B[0;31m                \u001B[0mcategory_neuron\u001B[0m\u001B[0;34m[\u001B[0m\u001B[0mk\u001B[0m\u001B[0;34m]\u001B[0m\u001B[0;34m\u001B[0m\u001B[0;34m\u001B[0m\u001B[0m\n",
      "\u001B[0m\u001B[0;32m     59 \u001B[0;31m            )\n",
      "\u001B[0m\u001B[0;32m     60 \u001B[0;31m\u001B[0;34m\u001B[0m\u001B[0m\n",
      "\u001B[0m\n",
      "> \u001B[0;32m/var/folders/nh/w4w39l451_gbdf_6q7r0pg8w0000gn/T/ipykernel_63539/1491609845.py\u001B[0m(56)\u001B[0;36mneurons_on_category\u001B[0;34m()\u001B[0m\n",
      "\u001B[0;32m     54 \u001B[0;31m        \u001B[0mnamed_neuron_category_loss\u001B[0m \u001B[0;34m=\u001B[0m \u001B[0mdict\u001B[0m\u001B[0;34m(\u001B[0m\u001B[0;34m)\u001B[0m\u001B[0;34m\u001B[0m\u001B[0;34m\u001B[0m\u001B[0m\n",
      "\u001B[0m\u001B[0;32m     55 \u001B[0;31m        \u001B[0;32mfor\u001B[0m \u001B[0mk\u001B[0m \u001B[0;32min\u001B[0m \u001B[0mrange\u001B[0m\u001B[0;34m(\u001B[0m\u001B[0mlen\u001B[0m\u001B[0;34m(\u001B[0m\u001B[0mnamed_neuron_inds\u001B[0m\u001B[0;34m)\u001B[0m\u001B[0;34m)\u001B[0m\u001B[0;34m:\u001B[0m\u001B[0;34m\u001B[0m\u001B[0;34m\u001B[0m\u001B[0m\n",
      "\u001B[0m\u001B[0;32m---> 56 \u001B[0;31m            named_neuron_category_loss.setdefault(\n",
      "\u001B[0m\u001B[0;32m     57 \u001B[0;31m                \u001B[0;34m(\u001B[0m\u001B[0mnamed_neuron_inds\u001B[0m\u001B[0;34m[\u001B[0m\u001B[0mk\u001B[0m\u001B[0;34m]\u001B[0m\u001B[0;34m,\u001B[0m \u001B[0mloss_prediction\u001B[0m\u001B[0;34m[\u001B[0m\u001B[0mk\u001B[0m\u001B[0;34m]\u001B[0m\u001B[0;34m)\u001B[0m\u001B[0;34m,\u001B[0m\u001B[0;34m\u001B[0m\u001B[0;34m\u001B[0m\u001B[0m\n",
      "\u001B[0m\u001B[0;32m     58 \u001B[0;31m                \u001B[0mcategory_neuron\u001B[0m\u001B[0;34m[\u001B[0m\u001B[0mk\u001B[0m\u001B[0;34m]\u001B[0m\u001B[0;34m\u001B[0m\u001B[0;34m\u001B[0m\u001B[0m\n",
      "\u001B[0m\n",
      "> \u001B[0;32m/var/folders/nh/w4w39l451_gbdf_6q7r0pg8w0000gn/T/ipykernel_63539/1491609845.py\u001B[0m(46)\u001B[0;36mneurons_on_category\u001B[0;34m()\u001B[0m\n",
      "\u001B[0;32m     44 \u001B[0;31m        \u001B[0mcategory_neuron\u001B[0m \u001B[0;34m=\u001B[0m \u001B[0;34m[\u001B[0m\u001B[0mgraph\u001B[0m\u001B[0;34m.\u001B[0m\u001B[0my\u001B[0m\u001B[0;34m[\u001B[0m\u001B[0mitem\u001B[0m\u001B[0;34m]\u001B[0m\u001B[0;34m.\u001B[0m\u001B[0mitem\u001B[0m\u001B[0;34m(\u001B[0m\u001B[0;34m)\u001B[0m \u001B[0;32mfor\u001B[0m \u001B[0mitem\u001B[0m \u001B[0;32min\u001B[0m \u001B[0mnamed_neuron_inds\u001B[0m\u001B[0;34m]\u001B[0m\u001B[0;34m\u001B[0m\u001B[0;34m\u001B[0m\u001B[0m\n",
      "\u001B[0m\u001B[0;32m     45 \u001B[0;31m\u001B[0;34m\u001B[0m\u001B[0m\n",
      "\u001B[0m\u001B[0;32m---> 46 \u001B[0;31m        \u001B[0;32mimport\u001B[0m \u001B[0mpdb\u001B[0m\u001B[0;34m;\u001B[0m \u001B[0mpdb\u001B[0m\u001B[0;34m.\u001B[0m\u001B[0mset_trace\u001B[0m\u001B[0;34m(\u001B[0m\u001B[0;34m)\u001B[0m\u001B[0;34m\u001B[0m\u001B[0;34m\u001B[0m\u001B[0m\n",
      "\u001B[0m\u001B[0;32m     47 \u001B[0;31m        \u001B[0mtargets\u001B[0m\u001B[0;34m,\u001B[0m \u001B[0mpredictions\u001B[0m \u001B[0;34m=\u001B[0m \u001B[0mmodel_predict\u001B[0m\u001B[0;34m(\u001B[0m\u001B[0mmodel\u001B[0m\u001B[0;34m,\u001B[0m \u001B[0mcalcium_data\u001B[0m\u001B[0;34m[\u001B[0m\u001B[0;34m:\u001B[0m\u001B[0mmax_time\u001B[0m\u001B[0;34m//\u001B[0m\u001B[0;36m2\u001B[0m\u001B[0;34m,\u001B[0m \u001B[0;34m:\u001B[0m\u001B[0;34m]\u001B[0m \u001B[0;34m*\u001B[0m \u001B[0mnamed_neurons_mask\u001B[0m\u001B[0;34m,\u001B[0m \u001B[0mtau\u001B[0m\u001B[0;34m=\u001B[0m\u001B[0mtau_out\u001B[0m\u001B[0;34m)\u001B[0m\u001B[0;34m\u001B[0m\u001B[0;34m\u001B[0m\u001B[0m\n",
      "\u001B[0m\u001B[0;32m     48 \u001B[0;31m        \u001B[0mloss_prediction\u001B[0m \u001B[0;34m=\u001B[0m \u001B[0;34m[\u001B[0m\u001B[0mcriterion\u001B[0m\u001B[0;34m(\u001B[0m\u001B[0mpredictions\u001B[0m\u001B[0;34m[\u001B[0m\u001B[0;34m:\u001B[0m\u001B[0;34m,\u001B[0m \u001B[0midx\u001B[0m\u001B[0;34m]\u001B[0m\u001B[0;34m,\u001B[0m \u001B[0mtargets\u001B[0m\u001B[0;34m[\u001B[0m\u001B[0;34m:\u001B[0m\u001B[0;34m,\u001B[0m \u001B[0midx\u001B[0m\u001B[0;34m]\u001B[0m\u001B[0;34m)\u001B[0m\u001B[0;34m.\u001B[0m\u001B[0mdetach\u001B[0m\u001B[0;34m(\u001B[0m\u001B[0;34m)\u001B[0m\u001B[0;34m.\u001B[0m\u001B[0mitem\u001B[0m\u001B[0;34m(\u001B[0m\u001B[0;34m)\u001B[0m \u001B[0;32mfor\u001B[0m \u001B[0midx\u001B[0m \u001B[0;32min\u001B[0m \u001B[0mnamed_neuron_inds\u001B[0m\u001B[0;34m]\u001B[0m\u001B[0;34m\u001B[0m\u001B[0;34m\u001B[0m\u001B[0m\n",
      "\u001B[0m\n",
      "> \u001B[0;32m/var/folders/nh/w4w39l451_gbdf_6q7r0pg8w0000gn/T/ipykernel_63539/1491609845.py\u001B[0m(47)\u001B[0;36mneurons_on_category\u001B[0;34m()\u001B[0m\n",
      "\u001B[0;32m     45 \u001B[0;31m\u001B[0;34m\u001B[0m\u001B[0m\n",
      "\u001B[0m\u001B[0;32m     46 \u001B[0;31m        \u001B[0;32mimport\u001B[0m \u001B[0mpdb\u001B[0m\u001B[0;34m;\u001B[0m \u001B[0mpdb\u001B[0m\u001B[0;34m.\u001B[0m\u001B[0mset_trace\u001B[0m\u001B[0;34m(\u001B[0m\u001B[0;34m)\u001B[0m\u001B[0;34m\u001B[0m\u001B[0;34m\u001B[0m\u001B[0m\n",
      "\u001B[0m\u001B[0;32m---> 47 \u001B[0;31m        \u001B[0mtargets\u001B[0m\u001B[0;34m,\u001B[0m \u001B[0mpredictions\u001B[0m \u001B[0;34m=\u001B[0m \u001B[0mmodel_predict\u001B[0m\u001B[0;34m(\u001B[0m\u001B[0mmodel\u001B[0m\u001B[0;34m,\u001B[0m \u001B[0mcalcium_data\u001B[0m\u001B[0;34m[\u001B[0m\u001B[0;34m:\u001B[0m\u001B[0mmax_time\u001B[0m\u001B[0;34m//\u001B[0m\u001B[0;36m2\u001B[0m\u001B[0;34m,\u001B[0m \u001B[0;34m:\u001B[0m\u001B[0;34m]\u001B[0m \u001B[0;34m*\u001B[0m \u001B[0mnamed_neurons_mask\u001B[0m\u001B[0;34m,\u001B[0m \u001B[0mtau\u001B[0m\u001B[0;34m=\u001B[0m\u001B[0mtau_out\u001B[0m\u001B[0;34m)\u001B[0m\u001B[0;34m\u001B[0m\u001B[0;34m\u001B[0m\u001B[0m\n",
      "\u001B[0m\u001B[0;32m     48 \u001B[0;31m        \u001B[0mloss_prediction\u001B[0m \u001B[0;34m=\u001B[0m \u001B[0;34m[\u001B[0m\u001B[0mcriterion\u001B[0m\u001B[0;34m(\u001B[0m\u001B[0mpredictions\u001B[0m\u001B[0;34m[\u001B[0m\u001B[0;34m:\u001B[0m\u001B[0;34m,\u001B[0m \u001B[0midx\u001B[0m\u001B[0;34m]\u001B[0m\u001B[0;34m,\u001B[0m \u001B[0mtargets\u001B[0m\u001B[0;34m[\u001B[0m\u001B[0;34m:\u001B[0m\u001B[0;34m,\u001B[0m \u001B[0midx\u001B[0m\u001B[0;34m]\u001B[0m\u001B[0;34m)\u001B[0m\u001B[0;34m.\u001B[0m\u001B[0mdetach\u001B[0m\u001B[0;34m(\u001B[0m\u001B[0;34m)\u001B[0m\u001B[0;34m.\u001B[0m\u001B[0mitem\u001B[0m\u001B[0;34m(\u001B[0m\u001B[0;34m)\u001B[0m \u001B[0;32mfor\u001B[0m \u001B[0midx\u001B[0m \u001B[0;32min\u001B[0m \u001B[0mnamed_neuron_inds\u001B[0m\u001B[0;34m]\u001B[0m\u001B[0;34m\u001B[0m\u001B[0;34m\u001B[0m\u001B[0m\n",
      "\u001B[0m\u001B[0;32m     49 \u001B[0;31m        \u001B[0;31m# print(len(named_neuron_inds), len(loss_prediction))\u001B[0m\u001B[0;34m\u001B[0m\u001B[0;34m\u001B[0m\u001B[0m\n",
      "\u001B[0m\n",
      "*** NameError: name 'prediction' is not defined\n",
      "--Call--\n",
      "> \u001B[0;32m/Users/ivy/Desktop/MetaConscious/worm-graph/train/_utils.py\u001B[0m(469)\u001B[0;36mmodel_predict\u001B[0;34m()\u001B[0m\n",
      "\u001B[0;32m    467 \u001B[0;31m    \u001B[0;32mreturn\u001B[0m \u001B[0;32mNone\u001B[0m\u001B[0;34m\u001B[0m\u001B[0;34m\u001B[0m\u001B[0m\n",
      "\u001B[0m\u001B[0;32m    468 \u001B[0;31m\u001B[0;34m\u001B[0m\u001B[0m\n",
      "\u001B[0m\u001B[0;32m--> 469 \u001B[0;31m\u001B[0;34m\u001B[0m\u001B[0m\n",
      "\u001B[0m\u001B[0;32m    470 \u001B[0;31mdef model_predict(\n",
      "\u001B[0m\u001B[0;32m    471 \u001B[0;31m    \u001B[0mmodel\u001B[0m\u001B[0;34m:\u001B[0m \u001B[0mtorch\u001B[0m\u001B[0;34m.\u001B[0m\u001B[0mnn\u001B[0m\u001B[0;34m.\u001B[0m\u001B[0mModule\u001B[0m\u001B[0;34m,\u001B[0m\u001B[0;34m\u001B[0m\u001B[0;34m\u001B[0m\u001B[0m\n",
      "\u001B[0m\n",
      "> \u001B[0;32m/Users/ivy/Desktop/MetaConscious/worm-graph/train/_utils.py\u001B[0m(478)\u001B[0;36mmodel_predict\u001B[0;34m()\u001B[0m\n",
      "\u001B[0;32m    476 \u001B[0;31m    \u001B[0mMakes\u001B[0m \u001B[0mpredictions\u001B[0m \u001B[0;32mfor\u001B[0m \u001B[0mall\u001B[0m \u001B[0mneurons\u001B[0m \u001B[0;32min\u001B[0m \u001B[0mthe\u001B[0m\u001B[0;34m\u001B[0m\u001B[0;34m\u001B[0m\u001B[0m\n",
      "\u001B[0m\u001B[0;32m    477 \u001B[0;31m    \u001B[0mcalcium\u001B[0m \u001B[0mdata\u001B[0m \u001B[0mtensor\u001B[0m \u001B[0musing\u001B[0m \u001B[0ma\u001B[0m \u001B[0mtrained\u001B[0m \u001B[0mmodel\u001B[0m\u001B[0;34m.\u001B[0m\u001B[0;34m\u001B[0m\u001B[0;34m\u001B[0m\u001B[0m\n",
      "\u001B[0m\u001B[0;32m--> 478 \u001B[0;31m    \"\"\"\n",
      "\u001B[0m\u001B[0;32m    479 \u001B[0;31m    \u001B[0mNUM_NEURONS\u001B[0m \u001B[0;34m=\u001B[0m \u001B[0mcalcium_data\u001B[0m\u001B[0;34m.\u001B[0m\u001B[0msize\u001B[0m\u001B[0;34m(\u001B[0m\u001B[0;36m1\u001B[0m\u001B[0;34m)\u001B[0m\u001B[0;34m\u001B[0m\u001B[0;34m\u001B[0m\u001B[0m\n",
      "\u001B[0m\u001B[0;32m    480 \u001B[0;31m    \u001B[0;31m# model = model.double().to(DEVICE)\u001B[0m\u001B[0;34m\u001B[0m\u001B[0;34m\u001B[0m\u001B[0m\n",
      "\u001B[0m\n",
      "> \u001B[0;32m/Users/ivy/Desktop/MetaConscious/worm-graph/train/_utils.py\u001B[0m(480)\u001B[0;36mmodel_predict\u001B[0;34m()\u001B[0m\n",
      "\u001B[0;32m    478 \u001B[0;31m    \"\"\"\n",
      "\u001B[0m\u001B[0;32m    479 \u001B[0;31m    \u001B[0mNUM_NEURONS\u001B[0m \u001B[0;34m=\u001B[0m \u001B[0mcalcium_data\u001B[0m\u001B[0;34m.\u001B[0m\u001B[0msize\u001B[0m\u001B[0;34m(\u001B[0m\u001B[0;36m1\u001B[0m\u001B[0;34m)\u001B[0m\u001B[0;34m\u001B[0m\u001B[0;34m\u001B[0m\u001B[0m\n",
      "\u001B[0m\u001B[0;32m--> 480 \u001B[0;31m    \u001B[0;31m# model = model.double().to(DEVICE)\u001B[0m\u001B[0;34m\u001B[0m\u001B[0;34m\u001B[0m\u001B[0m\n",
      "\u001B[0m\u001B[0;32m    481 \u001B[0;31m    \u001B[0mmodel\u001B[0m \u001B[0;34m=\u001B[0m \u001B[0mmodel\u001B[0m\u001B[0;34m.\u001B[0m\u001B[0mto\u001B[0m\u001B[0;34m(\u001B[0m\u001B[0mDEVICE\u001B[0m\u001B[0;34m)\u001B[0m\u001B[0;34m\u001B[0m\u001B[0;34m\u001B[0m\u001B[0m\n",
      "\u001B[0m\u001B[0;32m    482 \u001B[0;31m    \u001B[0mmodel\u001B[0m\u001B[0;34m.\u001B[0m\u001B[0meval\u001B[0m\u001B[0;34m(\u001B[0m\u001B[0;34m)\u001B[0m\u001B[0;34m\u001B[0m\u001B[0;34m\u001B[0m\u001B[0m\n",
      "\u001B[0m\n",
      "--Call--\n",
      "> \u001B[0;32m/Users/ivy/opt/anaconda3/envs/worm-graph/lib/python3.9/site-packages/torch/nn/modules/module.py\u001B[0m(883)\u001B[0;36mto\u001B[0;34m()\u001B[0m\n",
      "\u001B[0;32m    881 \u001B[0;31m        \u001B[0;34m...\u001B[0m\u001B[0;34m\u001B[0m\u001B[0;34m\u001B[0m\u001B[0m\n",
      "\u001B[0m\u001B[0;32m    882 \u001B[0;31m\u001B[0;34m\u001B[0m\u001B[0m\n",
      "\u001B[0m\u001B[0;32m--> 883 \u001B[0;31m    \u001B[0;32mdef\u001B[0m \u001B[0mto\u001B[0m\u001B[0;34m(\u001B[0m\u001B[0mself\u001B[0m\u001B[0;34m,\u001B[0m \u001B[0;34m*\u001B[0m\u001B[0margs\u001B[0m\u001B[0;34m,\u001B[0m \u001B[0;34m**\u001B[0m\u001B[0mkwargs\u001B[0m\u001B[0;34m)\u001B[0m\u001B[0;34m:\u001B[0m\u001B[0;34m\u001B[0m\u001B[0;34m\u001B[0m\u001B[0m\n",
      "\u001B[0m\u001B[0;32m    884 \u001B[0;31m        r\"\"\"Moves and/or casts the parameters and buffers.\n",
      "\u001B[0m\u001B[0;32m    885 \u001B[0;31m\u001B[0;34m\u001B[0m\u001B[0m\n",
      "\u001B[0m\n",
      "> \u001B[0;32m/Users/ivy/opt/anaconda3/envs/worm-graph/lib/python3.9/site-packages/torch/nn/modules/module.py\u001B[0m(970)\u001B[0;36mto\u001B[0;34m()\u001B[0m\n",
      "\u001B[0;32m    968 \u001B[0;31m        \"\"\"\n",
      "\u001B[0m\u001B[0;32m    969 \u001B[0;31m\u001B[0;34m\u001B[0m\u001B[0m\n",
      "\u001B[0m\u001B[0;32m--> 970 \u001B[0;31m        \u001B[0mdevice\u001B[0m\u001B[0;34m,\u001B[0m \u001B[0mdtype\u001B[0m\u001B[0;34m,\u001B[0m \u001B[0mnon_blocking\u001B[0m\u001B[0;34m,\u001B[0m \u001B[0mconvert_to_format\u001B[0m \u001B[0;34m=\u001B[0m \u001B[0mtorch\u001B[0m\u001B[0;34m.\u001B[0m\u001B[0m_C\u001B[0m\u001B[0;34m.\u001B[0m\u001B[0m_nn\u001B[0m\u001B[0;34m.\u001B[0m\u001B[0m_parse_to\u001B[0m\u001B[0;34m(\u001B[0m\u001B[0;34m*\u001B[0m\u001B[0margs\u001B[0m\u001B[0;34m,\u001B[0m \u001B[0;34m**\u001B[0m\u001B[0mkwargs\u001B[0m\u001B[0;34m)\u001B[0m\u001B[0;34m\u001B[0m\u001B[0;34m\u001B[0m\u001B[0m\n",
      "\u001B[0m\u001B[0;32m    971 \u001B[0;31m\u001B[0;34m\u001B[0m\u001B[0m\n",
      "\u001B[0m\u001B[0;32m    972 \u001B[0;31m        \u001B[0;32mif\u001B[0m \u001B[0mdtype\u001B[0m \u001B[0;32mis\u001B[0m \u001B[0;32mnot\u001B[0m \u001B[0;32mNone\u001B[0m\u001B[0;34m:\u001B[0m\u001B[0;34m\u001B[0m\u001B[0;34m\u001B[0m\u001B[0m\n",
      "\u001B[0m\n",
      "> \u001B[0;32m/Users/ivy/opt/anaconda3/envs/worm-graph/lib/python3.9/site-packages/torch/nn/modules/module.py\u001B[0m(972)\u001B[0;36mto\u001B[0;34m()\u001B[0m\n",
      "\u001B[0;32m    970 \u001B[0;31m        \u001B[0mdevice\u001B[0m\u001B[0;34m,\u001B[0m \u001B[0mdtype\u001B[0m\u001B[0;34m,\u001B[0m \u001B[0mnon_blocking\u001B[0m\u001B[0;34m,\u001B[0m \u001B[0mconvert_to_format\u001B[0m \u001B[0;34m=\u001B[0m \u001B[0mtorch\u001B[0m\u001B[0;34m.\u001B[0m\u001B[0m_C\u001B[0m\u001B[0;34m.\u001B[0m\u001B[0m_nn\u001B[0m\u001B[0;34m.\u001B[0m\u001B[0m_parse_to\u001B[0m\u001B[0;34m(\u001B[0m\u001B[0;34m*\u001B[0m\u001B[0margs\u001B[0m\u001B[0;34m,\u001B[0m \u001B[0;34m**\u001B[0m\u001B[0mkwargs\u001B[0m\u001B[0;34m)\u001B[0m\u001B[0;34m\u001B[0m\u001B[0;34m\u001B[0m\u001B[0m\n",
      "\u001B[0m\u001B[0;32m    971 \u001B[0;31m\u001B[0;34m\u001B[0m\u001B[0m\n",
      "\u001B[0m\u001B[0;32m--> 972 \u001B[0;31m        \u001B[0;32mif\u001B[0m \u001B[0mdtype\u001B[0m \u001B[0;32mis\u001B[0m \u001B[0;32mnot\u001B[0m \u001B[0;32mNone\u001B[0m\u001B[0;34m:\u001B[0m\u001B[0;34m\u001B[0m\u001B[0;34m\u001B[0m\u001B[0m\n",
      "\u001B[0m\u001B[0;32m    973 \u001B[0;31m            \u001B[0;32mif\u001B[0m \u001B[0;32mnot\u001B[0m \u001B[0;34m(\u001B[0m\u001B[0mdtype\u001B[0m\u001B[0;34m.\u001B[0m\u001B[0mis_floating_point\u001B[0m \u001B[0;32mor\u001B[0m \u001B[0mdtype\u001B[0m\u001B[0;34m.\u001B[0m\u001B[0mis_complex\u001B[0m\u001B[0;34m)\u001B[0m\u001B[0;34m:\u001B[0m\u001B[0;34m\u001B[0m\u001B[0;34m\u001B[0m\u001B[0m\n",
      "\u001B[0m\u001B[0;32m    974 \u001B[0;31m                raise TypeError('nn.Module.to only accepts floating point or complex '\n",
      "\u001B[0m\n",
      "> \u001B[0;32m/Users/ivy/opt/anaconda3/envs/worm-graph/lib/python3.9/site-packages/torch/nn/modules/module.py\u001B[0m(983)\u001B[0;36mto\u001B[0;34m()\u001B[0m\n",
      "\u001B[0;32m    981 \u001B[0;31m                    \"if a complex module does not work as expected.\")\n",
      "\u001B[0m\u001B[0;32m    982 \u001B[0;31m\u001B[0;34m\u001B[0m\u001B[0m\n",
      "\u001B[0m\u001B[0;32m--> 983 \u001B[0;31m        \u001B[0;32mdef\u001B[0m \u001B[0mconvert\u001B[0m\u001B[0;34m(\u001B[0m\u001B[0mt\u001B[0m\u001B[0;34m)\u001B[0m\u001B[0;34m:\u001B[0m\u001B[0;34m\u001B[0m\u001B[0;34m\u001B[0m\u001B[0m\n",
      "\u001B[0m\u001B[0;32m    984 \u001B[0;31m            \u001B[0;32mif\u001B[0m \u001B[0mconvert_to_format\u001B[0m \u001B[0;32mis\u001B[0m \u001B[0;32mnot\u001B[0m \u001B[0;32mNone\u001B[0m \u001B[0;32mand\u001B[0m \u001B[0mt\u001B[0m\u001B[0;34m.\u001B[0m\u001B[0mdim\u001B[0m\u001B[0;34m(\u001B[0m\u001B[0;34m)\u001B[0m \u001B[0;32min\u001B[0m \u001B[0;34m(\u001B[0m\u001B[0;36m4\u001B[0m\u001B[0;34m,\u001B[0m \u001B[0;36m5\u001B[0m\u001B[0;34m)\u001B[0m\u001B[0;34m:\u001B[0m\u001B[0;34m\u001B[0m\u001B[0;34m\u001B[0m\u001B[0m\n",
      "\u001B[0m\u001B[0;32m    985 \u001B[0;31m                return t.to(device, dtype if t.is_floating_point() or t.is_complex() else None,\n",
      "\u001B[0m\n",
      "> \u001B[0;32m/Users/ivy/opt/anaconda3/envs/worm-graph/lib/python3.9/site-packages/torch/nn/modules/module.py\u001B[0m(989)\u001B[0;36mto\u001B[0;34m()\u001B[0m\n",
      "\u001B[0;32m    987 \u001B[0;31m            \u001B[0;32mreturn\u001B[0m \u001B[0mt\u001B[0m\u001B[0;34m.\u001B[0m\u001B[0mto\u001B[0m\u001B[0;34m(\u001B[0m\u001B[0mdevice\u001B[0m\u001B[0;34m,\u001B[0m \u001B[0mdtype\u001B[0m \u001B[0;32mif\u001B[0m \u001B[0mt\u001B[0m\u001B[0;34m.\u001B[0m\u001B[0mis_floating_point\u001B[0m\u001B[0;34m(\u001B[0m\u001B[0;34m)\u001B[0m \u001B[0;32mor\u001B[0m \u001B[0mt\u001B[0m\u001B[0;34m.\u001B[0m\u001B[0mis_complex\u001B[0m\u001B[0;34m(\u001B[0m\u001B[0;34m)\u001B[0m \u001B[0;32melse\u001B[0m \u001B[0;32mNone\u001B[0m\u001B[0;34m,\u001B[0m \u001B[0mnon_blocking\u001B[0m\u001B[0;34m)\u001B[0m\u001B[0;34m\u001B[0m\u001B[0;34m\u001B[0m\u001B[0m\n",
      "\u001B[0m\u001B[0;32m    988 \u001B[0;31m\u001B[0;34m\u001B[0m\u001B[0m\n",
      "\u001B[0m\u001B[0;32m--> 989 \u001B[0;31m        \u001B[0;32mreturn\u001B[0m \u001B[0mself\u001B[0m\u001B[0;34m.\u001B[0m\u001B[0m_apply\u001B[0m\u001B[0;34m(\u001B[0m\u001B[0mconvert\u001B[0m\u001B[0;34m)\u001B[0m\u001B[0;34m\u001B[0m\u001B[0;34m\u001B[0m\u001B[0m\n",
      "\u001B[0m\u001B[0;32m    990 \u001B[0;31m\u001B[0;34m\u001B[0m\u001B[0m\n",
      "\u001B[0m\u001B[0;32m    991 \u001B[0;31m    def register_backward_hook(\n",
      "\u001B[0m\n",
      "--Return--\n",
      "NetworkLSTM(\n",
      "..., bias=True)\n",
      ")\n",
      "> \u001B[0;32m/Users/ivy/opt/anaconda3/envs/worm-graph/lib/python3.9/site-packages/torch/nn/modules/module.py\u001B[0m(989)\u001B[0;36mto\u001B[0;34m()\u001B[0m\n",
      "\u001B[0;32m    987 \u001B[0;31m            \u001B[0;32mreturn\u001B[0m \u001B[0mt\u001B[0m\u001B[0;34m.\u001B[0m\u001B[0mto\u001B[0m\u001B[0;34m(\u001B[0m\u001B[0mdevice\u001B[0m\u001B[0;34m,\u001B[0m \u001B[0mdtype\u001B[0m \u001B[0;32mif\u001B[0m \u001B[0mt\u001B[0m\u001B[0;34m.\u001B[0m\u001B[0mis_floating_point\u001B[0m\u001B[0;34m(\u001B[0m\u001B[0;34m)\u001B[0m \u001B[0;32mor\u001B[0m \u001B[0mt\u001B[0m\u001B[0;34m.\u001B[0m\u001B[0mis_complex\u001B[0m\u001B[0;34m(\u001B[0m\u001B[0;34m)\u001B[0m \u001B[0;32melse\u001B[0m \u001B[0;32mNone\u001B[0m\u001B[0;34m,\u001B[0m \u001B[0mnon_blocking\u001B[0m\u001B[0;34m)\u001B[0m\u001B[0;34m\u001B[0m\u001B[0;34m\u001B[0m\u001B[0m\n",
      "\u001B[0m\u001B[0;32m    988 \u001B[0;31m\u001B[0;34m\u001B[0m\u001B[0m\n",
      "\u001B[0m\u001B[0;32m--> 989 \u001B[0;31m        \u001B[0;32mreturn\u001B[0m \u001B[0mself\u001B[0m\u001B[0;34m.\u001B[0m\u001B[0m_apply\u001B[0m\u001B[0;34m(\u001B[0m\u001B[0mconvert\u001B[0m\u001B[0;34m)\u001B[0m\u001B[0;34m\u001B[0m\u001B[0;34m\u001B[0m\u001B[0m\n",
      "\u001B[0m\u001B[0;32m    990 \u001B[0;31m\u001B[0;34m\u001B[0m\u001B[0m\n",
      "\u001B[0m\u001B[0;32m    991 \u001B[0;31m    def register_backward_hook(\n",
      "\u001B[0m\n",
      "> \u001B[0;32m/Users/ivy/Desktop/MetaConscious/worm-graph/train/_utils.py\u001B[0m(481)\u001B[0;36mmodel_predict\u001B[0;34m()\u001B[0m\n",
      "\u001B[0;32m    479 \u001B[0;31m    \u001B[0mNUM_NEURONS\u001B[0m \u001B[0;34m=\u001B[0m \u001B[0mcalcium_data\u001B[0m\u001B[0;34m.\u001B[0m\u001B[0msize\u001B[0m\u001B[0;34m(\u001B[0m\u001B[0;36m1\u001B[0m\u001B[0;34m)\u001B[0m\u001B[0;34m\u001B[0m\u001B[0;34m\u001B[0m\u001B[0m\n",
      "\u001B[0m\u001B[0;32m    480 \u001B[0;31m    \u001B[0;31m# model = model.double().to(DEVICE)\u001B[0m\u001B[0;34m\u001B[0m\u001B[0;34m\u001B[0m\u001B[0m\n",
      "\u001B[0m\u001B[0;32m--> 481 \u001B[0;31m    \u001B[0mmodel\u001B[0m \u001B[0;34m=\u001B[0m \u001B[0mmodel\u001B[0m\u001B[0;34m.\u001B[0m\u001B[0mto\u001B[0m\u001B[0;34m(\u001B[0m\u001B[0mDEVICE\u001B[0m\u001B[0;34m)\u001B[0m\u001B[0;34m\u001B[0m\u001B[0;34m\u001B[0m\u001B[0m\n",
      "\u001B[0m\u001B[0;32m    482 \u001B[0;31m    \u001B[0mmodel\u001B[0m\u001B[0;34m.\u001B[0m\u001B[0meval\u001B[0m\u001B[0;34m(\u001B[0m\u001B[0;34m)\u001B[0m\u001B[0;34m\u001B[0m\u001B[0;34m\u001B[0m\u001B[0m\n",
      "\u001B[0m\u001B[0;32m    483 \u001B[0;31m    \u001B[0;31m# model in/out\u001B[0m\u001B[0;34m\u001B[0m\u001B[0;34m\u001B[0m\u001B[0m\n",
      "\u001B[0m\n",
      "> \u001B[0;32m/Users/ivy/Desktop/MetaConscious/worm-graph/train/_utils.py\u001B[0m(483)\u001B[0;36mmodel_predict\u001B[0;34m()\u001B[0m\n",
      "\u001B[0;32m    481 \u001B[0;31m    \u001B[0mmodel\u001B[0m \u001B[0;34m=\u001B[0m \u001B[0mmodel\u001B[0m\u001B[0;34m.\u001B[0m\u001B[0mto\u001B[0m\u001B[0;34m(\u001B[0m\u001B[0mDEVICE\u001B[0m\u001B[0;34m)\u001B[0m\u001B[0;34m\u001B[0m\u001B[0;34m\u001B[0m\u001B[0m\n",
      "\u001B[0m\u001B[0;32m    482 \u001B[0;31m    \u001B[0mmodel\u001B[0m\u001B[0;34m.\u001B[0m\u001B[0meval\u001B[0m\u001B[0;34m(\u001B[0m\u001B[0;34m)\u001B[0m\u001B[0;34m\u001B[0m\u001B[0;34m\u001B[0m\u001B[0m\n",
      "\u001B[0m\u001B[0;32m--> 483 \u001B[0;31m    \u001B[0;31m# model in/out\u001B[0m\u001B[0;34m\u001B[0m\u001B[0;34m\u001B[0m\u001B[0m\n",
      "\u001B[0m\u001B[0;32m    484 \u001B[0;31m    \u001B[0mcalcium_data\u001B[0m \u001B[0;34m=\u001B[0m \u001B[0mcalcium_data\u001B[0m\u001B[0;34m.\u001B[0m\u001B[0msqueeze\u001B[0m\u001B[0;34m(\u001B[0m\u001B[0;36m0\u001B[0m\u001B[0;34m)\u001B[0m\u001B[0;34m\u001B[0m\u001B[0;34m\u001B[0m\u001B[0m\n",
      "\u001B[0m\u001B[0;32m    485 \u001B[0;31m    \u001B[0;32mif\u001B[0m \u001B[0;32mnot\u001B[0m \u001B[0;34m(\u001B[0m\u001B[0mcalcium_data\u001B[0m\u001B[0;34m.\u001B[0m\u001B[0mndim\u001B[0m \u001B[0;34m==\u001B[0m \u001B[0;36m2\u001B[0m \u001B[0;32mand\u001B[0m \u001B[0mcalcium_data\u001B[0m\u001B[0;34m.\u001B[0m\u001B[0msize\u001B[0m\u001B[0;34m(\u001B[0m\u001B[0;36m0\u001B[0m\u001B[0;34m)\u001B[0m \u001B[0;34m>=\u001B[0m \u001B[0mNUM_NEURONS\u001B[0m\u001B[0;34m)\u001B[0m\u001B[0;34m:\u001B[0m\u001B[0;34m\u001B[0m\u001B[0;34m\u001B[0m\u001B[0m\n",
      "\u001B[0m\n",
      "--Return--\n",
      "(tensor([[0., ... 0., 0., 0.]]), tensor([[-0.1...58,  0.5694]]))\n",
      "> \u001B[0;32m/Users/ivy/Desktop/MetaConscious/worm-graph/train/_utils.py\u001B[0m(505)\u001B[0;36mmodel_predict\u001B[0;34m()\u001B[0m\n",
      "\u001B[0;32m    503 \u001B[0;31m    \u001B[0;31m# targets and predictions\u001B[0m\u001B[0;34m\u001B[0m\u001B[0;34m\u001B[0m\u001B[0m\n",
      "\u001B[0m\u001B[0;32m    504 \u001B[0;31m    \u001B[0mtargets\u001B[0m \u001B[0;34m=\u001B[0m \u001B[0mtorch\u001B[0m\u001B[0;34m.\u001B[0m\u001B[0mnn\u001B[0m\u001B[0;34m.\u001B[0m\u001B[0mfunctional\u001B[0m\u001B[0;34m.\u001B[0m\u001B[0mpad\u001B[0m\u001B[0;34m(\u001B[0m\u001B[0minput\u001B[0m\u001B[0;34m.\u001B[0m\u001B[0mdetach\u001B[0m\u001B[0;34m(\u001B[0m\u001B[0;34m)\u001B[0m\u001B[0;34m.\u001B[0m\u001B[0mcpu\u001B[0m\u001B[0;34m(\u001B[0m\u001B[0;34m)\u001B[0m\u001B[0;34m[\u001B[0m\u001B[0mtau\u001B[0m\u001B[0;34m:\u001B[0m\u001B[0;34m]\u001B[0m\u001B[0;34m,\u001B[0m \u001B[0;34m(\u001B[0m\u001B[0;36m0\u001B[0m\u001B[0;34m,\u001B[0m \u001B[0;36m0\u001B[0m\u001B[0;34m,\u001B[0m \u001B[0;36m0\u001B[0m\u001B[0;34m,\u001B[0m \u001B[0mtau\u001B[0m\u001B[0;34m)\u001B[0m\u001B[0;34m)\u001B[0m\u001B[0;34m\u001B[0m\u001B[0;34m\u001B[0m\u001B[0m\n",
      "\u001B[0m\u001B[0;32m--> 505 \u001B[0;31m    \u001B[0;31m# prediction of the input shifted by tau\u001B[0m\u001B[0;34m\u001B[0m\u001B[0;34m\u001B[0m\u001B[0m\n",
      "\u001B[0m\u001B[0;32m    506 \u001B[0;31m    \u001B[0mpredictions\u001B[0m \u001B[0;34m=\u001B[0m \u001B[0moutput\u001B[0m\u001B[0;34m.\u001B[0m\u001B[0mdetach\u001B[0m\u001B[0;34m(\u001B[0m\u001B[0;34m)\u001B[0m\u001B[0;34m.\u001B[0m\u001B[0mcpu\u001B[0m\u001B[0;34m(\u001B[0m\u001B[0;34m)\u001B[0m\u001B[0;34m\u001B[0m\u001B[0;34m\u001B[0m\u001B[0m\n",
      "\u001B[0m\u001B[0;32m    507 \u001B[0;31m    \u001B[0;31m# garbage collection\u001B[0m\u001B[0;34m\u001B[0m\u001B[0;34m\u001B[0m\u001B[0m\n",
      "\u001B[0m\n",
      "> \u001B[0;32m/var/folders/nh/w4w39l451_gbdf_6q7r0pg8w0000gn/T/ipykernel_63539/1491609845.py\u001B[0m(48)\u001B[0;36mneurons_on_category\u001B[0;34m()\u001B[0m\n",
      "\u001B[0;32m     46 \u001B[0;31m        \u001B[0;32mimport\u001B[0m \u001B[0mpdb\u001B[0m\u001B[0;34m;\u001B[0m \u001B[0mpdb\u001B[0m\u001B[0;34m.\u001B[0m\u001B[0mset_trace\u001B[0m\u001B[0;34m(\u001B[0m\u001B[0;34m)\u001B[0m\u001B[0;34m\u001B[0m\u001B[0;34m\u001B[0m\u001B[0m\n",
      "\u001B[0m\u001B[0;32m     47 \u001B[0;31m        \u001B[0mtargets\u001B[0m\u001B[0;34m,\u001B[0m \u001B[0mpredictions\u001B[0m \u001B[0;34m=\u001B[0m \u001B[0mmodel_predict\u001B[0m\u001B[0;34m(\u001B[0m\u001B[0mmodel\u001B[0m\u001B[0;34m,\u001B[0m \u001B[0mcalcium_data\u001B[0m\u001B[0;34m[\u001B[0m\u001B[0;34m:\u001B[0m\u001B[0mmax_time\u001B[0m\u001B[0;34m//\u001B[0m\u001B[0;36m2\u001B[0m\u001B[0;34m,\u001B[0m \u001B[0;34m:\u001B[0m\u001B[0;34m]\u001B[0m \u001B[0;34m*\u001B[0m \u001B[0mnamed_neurons_mask\u001B[0m\u001B[0;34m,\u001B[0m \u001B[0mtau\u001B[0m\u001B[0;34m=\u001B[0m\u001B[0mtau_out\u001B[0m\u001B[0;34m)\u001B[0m\u001B[0;34m\u001B[0m\u001B[0;34m\u001B[0m\u001B[0m\n",
      "\u001B[0m\u001B[0;32m---> 48 \u001B[0;31m        \u001B[0mloss_prediction\u001B[0m \u001B[0;34m=\u001B[0m \u001B[0;34m[\u001B[0m\u001B[0mcriterion\u001B[0m\u001B[0;34m(\u001B[0m\u001B[0mpredictions\u001B[0m\u001B[0;34m[\u001B[0m\u001B[0;34m:\u001B[0m\u001B[0;34m,\u001B[0m \u001B[0midx\u001B[0m\u001B[0;34m]\u001B[0m\u001B[0;34m,\u001B[0m \u001B[0mtargets\u001B[0m\u001B[0;34m[\u001B[0m\u001B[0;34m:\u001B[0m\u001B[0;34m,\u001B[0m \u001B[0midx\u001B[0m\u001B[0;34m]\u001B[0m\u001B[0;34m)\u001B[0m\u001B[0;34m.\u001B[0m\u001B[0mdetach\u001B[0m\u001B[0;34m(\u001B[0m\u001B[0;34m)\u001B[0m\u001B[0;34m.\u001B[0m\u001B[0mitem\u001B[0m\u001B[0;34m(\u001B[0m\u001B[0;34m)\u001B[0m \u001B[0;32mfor\u001B[0m \u001B[0midx\u001B[0m \u001B[0;32min\u001B[0m \u001B[0mnamed_neuron_inds\u001B[0m\u001B[0;34m]\u001B[0m\u001B[0;34m\u001B[0m\u001B[0;34m\u001B[0m\u001B[0m\n",
      "\u001B[0m\u001B[0;32m     49 \u001B[0;31m        \u001B[0;31m# print(len(named_neuron_inds), len(loss_prediction))\u001B[0m\u001B[0;34m\u001B[0m\u001B[0;34m\u001B[0m\u001B[0m\n",
      "\u001B[0m\u001B[0;32m     50 \u001B[0;31m\u001B[0;34m\u001B[0m\u001B[0m\n",
      "\u001B[0m\n",
      "> \u001B[0;32m/var/folders/nh/w4w39l451_gbdf_6q7r0pg8w0000gn/T/ipykernel_63539/1491609845.py\u001B[0m(54)\u001B[0;36mneurons_on_category\u001B[0;34m()\u001B[0m\n",
      "\u001B[0;32m     52 \u001B[0;31m        \u001B[0;31m# key: (neuron_inds, loss)\u001B[0m\u001B[0;34m\u001B[0m\u001B[0;34m\u001B[0m\u001B[0m\n",
      "\u001B[0m\u001B[0;32m     53 \u001B[0;31m        \u001B[0;31m# val: neuron_category\u001B[0m\u001B[0;34m\u001B[0m\u001B[0;34m\u001B[0m\u001B[0m\n",
      "\u001B[0m\u001B[0;32m---> 54 \u001B[0;31m        \u001B[0mnamed_neuron_category_loss\u001B[0m \u001B[0;34m=\u001B[0m \u001B[0mdict\u001B[0m\u001B[0;34m(\u001B[0m\u001B[0;34m)\u001B[0m\u001B[0;34m\u001B[0m\u001B[0;34m\u001B[0m\u001B[0m\n",
      "\u001B[0m\u001B[0;32m     55 \u001B[0;31m        \u001B[0;32mfor\u001B[0m \u001B[0mk\u001B[0m \u001B[0;32min\u001B[0m \u001B[0mrange\u001B[0m\u001B[0;34m(\u001B[0m\u001B[0mlen\u001B[0m\u001B[0;34m(\u001B[0m\u001B[0mnamed_neuron_inds\u001B[0m\u001B[0;34m)\u001B[0m\u001B[0;34m)\u001B[0m\u001B[0;34m:\u001B[0m\u001B[0;34m\u001B[0m\u001B[0;34m\u001B[0m\u001B[0m\n",
      "\u001B[0m\u001B[0;32m     56 \u001B[0;31m            named_neuron_category_loss.setdefault(\n",
      "\u001B[0m\n",
      "*** NameError: name 'prediction' is not defined\n",
      "> \u001B[0;32m/var/folders/nh/w4w39l451_gbdf_6q7r0pg8w0000gn/T/ipykernel_63539/1491609845.py\u001B[0m(55)\u001B[0;36mneurons_on_category\u001B[0;34m()\u001B[0m\n",
      "\u001B[0;32m     53 \u001B[0;31m        \u001B[0;31m# val: neuron_category\u001B[0m\u001B[0;34m\u001B[0m\u001B[0;34m\u001B[0m\u001B[0m\n",
      "\u001B[0m\u001B[0;32m     54 \u001B[0;31m        \u001B[0mnamed_neuron_category_loss\u001B[0m \u001B[0;34m=\u001B[0m \u001B[0mdict\u001B[0m\u001B[0;34m(\u001B[0m\u001B[0;34m)\u001B[0m\u001B[0;34m\u001B[0m\u001B[0;34m\u001B[0m\u001B[0m\n",
      "\u001B[0m\u001B[0;32m---> 55 \u001B[0;31m        \u001B[0;32mfor\u001B[0m \u001B[0mk\u001B[0m \u001B[0;32min\u001B[0m \u001B[0mrange\u001B[0m\u001B[0;34m(\u001B[0m\u001B[0mlen\u001B[0m\u001B[0;34m(\u001B[0m\u001B[0mnamed_neuron_inds\u001B[0m\u001B[0;34m)\u001B[0m\u001B[0;34m)\u001B[0m\u001B[0;34m:\u001B[0m\u001B[0;34m\u001B[0m\u001B[0;34m\u001B[0m\u001B[0m\n",
      "\u001B[0m\u001B[0;32m     56 \u001B[0;31m            named_neuron_category_loss.setdefault(\n",
      "\u001B[0m\u001B[0;32m     57 \u001B[0;31m                \u001B[0;34m(\u001B[0m\u001B[0mnamed_neuron_inds\u001B[0m\u001B[0;34m[\u001B[0m\u001B[0mk\u001B[0m\u001B[0;34m]\u001B[0m\u001B[0;34m,\u001B[0m \u001B[0mloss_prediction\u001B[0m\u001B[0;34m[\u001B[0m\u001B[0mk\u001B[0m\u001B[0;34m]\u001B[0m\u001B[0;34m)\u001B[0m\u001B[0;34m,\u001B[0m\u001B[0;34m\u001B[0m\u001B[0;34m\u001B[0m\u001B[0m\n",
      "\u001B[0m\n",
      "> \u001B[0;32m/var/folders/nh/w4w39l451_gbdf_6q7r0pg8w0000gn/T/ipykernel_63539/1491609845.py\u001B[0m(56)\u001B[0;36mneurons_on_category\u001B[0;34m()\u001B[0m\n",
      "\u001B[0;32m     54 \u001B[0;31m        \u001B[0mnamed_neuron_category_loss\u001B[0m \u001B[0;34m=\u001B[0m \u001B[0mdict\u001B[0m\u001B[0;34m(\u001B[0m\u001B[0;34m)\u001B[0m\u001B[0;34m\u001B[0m\u001B[0;34m\u001B[0m\u001B[0m\n",
      "\u001B[0m\u001B[0;32m     55 \u001B[0;31m        \u001B[0;32mfor\u001B[0m \u001B[0mk\u001B[0m \u001B[0;32min\u001B[0m \u001B[0mrange\u001B[0m\u001B[0;34m(\u001B[0m\u001B[0mlen\u001B[0m\u001B[0;34m(\u001B[0m\u001B[0mnamed_neuron_inds\u001B[0m\u001B[0;34m)\u001B[0m\u001B[0;34m)\u001B[0m\u001B[0;34m:\u001B[0m\u001B[0;34m\u001B[0m\u001B[0;34m\u001B[0m\u001B[0m\n",
      "\u001B[0m\u001B[0;32m---> 56 \u001B[0;31m            named_neuron_category_loss.setdefault(\n",
      "\u001B[0m\u001B[0;32m     57 \u001B[0;31m                \u001B[0;34m(\u001B[0m\u001B[0mnamed_neuron_inds\u001B[0m\u001B[0;34m[\u001B[0m\u001B[0mk\u001B[0m\u001B[0;34m]\u001B[0m\u001B[0;34m,\u001B[0m \u001B[0mloss_prediction\u001B[0m\u001B[0;34m[\u001B[0m\u001B[0mk\u001B[0m\u001B[0;34m]\u001B[0m\u001B[0;34m)\u001B[0m\u001B[0;34m,\u001B[0m\u001B[0;34m\u001B[0m\u001B[0;34m\u001B[0m\u001B[0m\n",
      "\u001B[0m\u001B[0;32m     58 \u001B[0;31m                \u001B[0mcategory_neuron\u001B[0m\u001B[0;34m[\u001B[0m\u001B[0mk\u001B[0m\u001B[0;34m]\u001B[0m\u001B[0;34m\u001B[0m\u001B[0;34m\u001B[0m\u001B[0m\n",
      "\u001B[0m\n",
      "> \u001B[0;32m/var/folders/nh/w4w39l451_gbdf_6q7r0pg8w0000gn/T/ipykernel_63539/1491609845.py\u001B[0m(57)\u001B[0;36mneurons_on_category\u001B[0;34m()\u001B[0m\n",
      "\u001B[0;32m     55 \u001B[0;31m        \u001B[0;32mfor\u001B[0m \u001B[0mk\u001B[0m \u001B[0;32min\u001B[0m \u001B[0mrange\u001B[0m\u001B[0;34m(\u001B[0m\u001B[0mlen\u001B[0m\u001B[0;34m(\u001B[0m\u001B[0mnamed_neuron_inds\u001B[0m\u001B[0;34m)\u001B[0m\u001B[0;34m)\u001B[0m\u001B[0;34m:\u001B[0m\u001B[0;34m\u001B[0m\u001B[0;34m\u001B[0m\u001B[0m\n",
      "\u001B[0m\u001B[0;32m     56 \u001B[0;31m            named_neuron_category_loss.setdefault(\n",
      "\u001B[0m\u001B[0;32m---> 57 \u001B[0;31m                \u001B[0;34m(\u001B[0m\u001B[0mnamed_neuron_inds\u001B[0m\u001B[0;34m[\u001B[0m\u001B[0mk\u001B[0m\u001B[0;34m]\u001B[0m\u001B[0;34m,\u001B[0m \u001B[0mloss_prediction\u001B[0m\u001B[0;34m[\u001B[0m\u001B[0mk\u001B[0m\u001B[0;34m]\u001B[0m\u001B[0;34m)\u001B[0m\u001B[0;34m,\u001B[0m\u001B[0;34m\u001B[0m\u001B[0;34m\u001B[0m\u001B[0m\n",
      "\u001B[0m\u001B[0;32m     58 \u001B[0;31m                \u001B[0mcategory_neuron\u001B[0m\u001B[0;34m[\u001B[0m\u001B[0mk\u001B[0m\u001B[0;34m]\u001B[0m\u001B[0;34m\u001B[0m\u001B[0;34m\u001B[0m\u001B[0m\n",
      "\u001B[0m\u001B[0;32m     59 \u001B[0;31m            )\n",
      "\u001B[0m\n",
      "> \u001B[0;32m/var/folders/nh/w4w39l451_gbdf_6q7r0pg8w0000gn/T/ipykernel_63539/1491609845.py\u001B[0m(58)\u001B[0;36mneurons_on_category\u001B[0;34m()\u001B[0m\n",
      "\u001B[0;32m     56 \u001B[0;31m            named_neuron_category_loss.setdefault(\n",
      "\u001B[0m\u001B[0;32m     57 \u001B[0;31m                \u001B[0;34m(\u001B[0m\u001B[0mnamed_neuron_inds\u001B[0m\u001B[0;34m[\u001B[0m\u001B[0mk\u001B[0m\u001B[0;34m]\u001B[0m\u001B[0;34m,\u001B[0m \u001B[0mloss_prediction\u001B[0m\u001B[0;34m[\u001B[0m\u001B[0mk\u001B[0m\u001B[0;34m]\u001B[0m\u001B[0;34m)\u001B[0m\u001B[0;34m,\u001B[0m\u001B[0;34m\u001B[0m\u001B[0;34m\u001B[0m\u001B[0m\n",
      "\u001B[0m\u001B[0;32m---> 58 \u001B[0;31m                \u001B[0mcategory_neuron\u001B[0m\u001B[0;34m[\u001B[0m\u001B[0mk\u001B[0m\u001B[0;34m]\u001B[0m\u001B[0;34m\u001B[0m\u001B[0;34m\u001B[0m\u001B[0m\n",
      "\u001B[0m\u001B[0;32m     59 \u001B[0;31m            )\n",
      "\u001B[0m\u001B[0;32m     60 \u001B[0;31m\u001B[0;34m\u001B[0m\u001B[0m\n",
      "\u001B[0m\n",
      "> \u001B[0;32m/var/folders/nh/w4w39l451_gbdf_6q7r0pg8w0000gn/T/ipykernel_63539/1491609845.py\u001B[0m(56)\u001B[0;36mneurons_on_category\u001B[0;34m()\u001B[0m\n",
      "\u001B[0;32m     54 \u001B[0;31m        \u001B[0mnamed_neuron_category_loss\u001B[0m \u001B[0;34m=\u001B[0m \u001B[0mdict\u001B[0m\u001B[0;34m(\u001B[0m\u001B[0;34m)\u001B[0m\u001B[0;34m\u001B[0m\u001B[0;34m\u001B[0m\u001B[0m\n",
      "\u001B[0m\u001B[0;32m     55 \u001B[0;31m        \u001B[0;32mfor\u001B[0m \u001B[0mk\u001B[0m \u001B[0;32min\u001B[0m \u001B[0mrange\u001B[0m\u001B[0;34m(\u001B[0m\u001B[0mlen\u001B[0m\u001B[0;34m(\u001B[0m\u001B[0mnamed_neuron_inds\u001B[0m\u001B[0;34m)\u001B[0m\u001B[0;34m)\u001B[0m\u001B[0;34m:\u001B[0m\u001B[0;34m\u001B[0m\u001B[0;34m\u001B[0m\u001B[0m\n",
      "\u001B[0m\u001B[0;32m---> 56 \u001B[0;31m            named_neuron_category_loss.setdefault(\n",
      "\u001B[0m\u001B[0;32m     57 \u001B[0;31m                \u001B[0;34m(\u001B[0m\u001B[0mnamed_neuron_inds\u001B[0m\u001B[0;34m[\u001B[0m\u001B[0mk\u001B[0m\u001B[0;34m]\u001B[0m\u001B[0;34m,\u001B[0m \u001B[0mloss_prediction\u001B[0m\u001B[0;34m[\u001B[0m\u001B[0mk\u001B[0m\u001B[0;34m]\u001B[0m\u001B[0;34m)\u001B[0m\u001B[0;34m,\u001B[0m\u001B[0;34m\u001B[0m\u001B[0;34m\u001B[0m\u001B[0m\n",
      "\u001B[0m\u001B[0;32m     58 \u001B[0;31m                \u001B[0mcategory_neuron\u001B[0m\u001B[0;34m[\u001B[0m\u001B[0mk\u001B[0m\u001B[0;34m]\u001B[0m\u001B[0;34m\u001B[0m\u001B[0;34m\u001B[0m\u001B[0m\n",
      "\u001B[0m\n",
      "> \u001B[0;32m/var/folders/nh/w4w39l451_gbdf_6q7r0pg8w0000gn/T/ipykernel_63539/1491609845.py\u001B[0m(55)\u001B[0;36mneurons_on_category\u001B[0;34m()\u001B[0m\n",
      "\u001B[0;32m     53 \u001B[0;31m        \u001B[0;31m# val: neuron_category\u001B[0m\u001B[0;34m\u001B[0m\u001B[0;34m\u001B[0m\u001B[0m\n",
      "\u001B[0m\u001B[0;32m     54 \u001B[0;31m        \u001B[0mnamed_neuron_category_loss\u001B[0m \u001B[0;34m=\u001B[0m \u001B[0mdict\u001B[0m\u001B[0;34m(\u001B[0m\u001B[0;34m)\u001B[0m\u001B[0;34m\u001B[0m\u001B[0;34m\u001B[0m\u001B[0m\n",
      "\u001B[0m\u001B[0;32m---> 55 \u001B[0;31m        \u001B[0;32mfor\u001B[0m \u001B[0mk\u001B[0m \u001B[0;32min\u001B[0m \u001B[0mrange\u001B[0m\u001B[0;34m(\u001B[0m\u001B[0mlen\u001B[0m\u001B[0;34m(\u001B[0m\u001B[0mnamed_neuron_inds\u001B[0m\u001B[0;34m)\u001B[0m\u001B[0;34m)\u001B[0m\u001B[0;34m:\u001B[0m\u001B[0;34m\u001B[0m\u001B[0;34m\u001B[0m\u001B[0m\n",
      "\u001B[0m\u001B[0;32m     56 \u001B[0;31m            named_neuron_category_loss.setdefault(\n",
      "\u001B[0m\u001B[0;32m     57 \u001B[0;31m                \u001B[0;34m(\u001B[0m\u001B[0mnamed_neuron_inds\u001B[0m\u001B[0;34m[\u001B[0m\u001B[0mk\u001B[0m\u001B[0;34m]\u001B[0m\u001B[0;34m,\u001B[0m \u001B[0mloss_prediction\u001B[0m\u001B[0;34m[\u001B[0m\u001B[0mk\u001B[0m\u001B[0;34m]\u001B[0m\u001B[0;34m)\u001B[0m\u001B[0;34m,\u001B[0m\u001B[0;34m\u001B[0m\u001B[0;34m\u001B[0m\u001B[0m\n",
      "\u001B[0m\n",
      "> \u001B[0;32m/var/folders/nh/w4w39l451_gbdf_6q7r0pg8w0000gn/T/ipykernel_63539/1491609845.py\u001B[0m(56)\u001B[0;36mneurons_on_category\u001B[0;34m()\u001B[0m\n",
      "\u001B[0;32m     54 \u001B[0;31m        \u001B[0mnamed_neuron_category_loss\u001B[0m \u001B[0;34m=\u001B[0m \u001B[0mdict\u001B[0m\u001B[0;34m(\u001B[0m\u001B[0;34m)\u001B[0m\u001B[0;34m\u001B[0m\u001B[0;34m\u001B[0m\u001B[0m\n",
      "\u001B[0m\u001B[0;32m     55 \u001B[0;31m        \u001B[0;32mfor\u001B[0m \u001B[0mk\u001B[0m \u001B[0;32min\u001B[0m \u001B[0mrange\u001B[0m\u001B[0;34m(\u001B[0m\u001B[0mlen\u001B[0m\u001B[0;34m(\u001B[0m\u001B[0mnamed_neuron_inds\u001B[0m\u001B[0;34m)\u001B[0m\u001B[0;34m)\u001B[0m\u001B[0;34m:\u001B[0m\u001B[0;34m\u001B[0m\u001B[0;34m\u001B[0m\u001B[0m\n",
      "\u001B[0m\u001B[0;32m---> 56 \u001B[0;31m            named_neuron_category_loss.setdefault(\n",
      "\u001B[0m\u001B[0;32m     57 \u001B[0;31m                \u001B[0;34m(\u001B[0m\u001B[0mnamed_neuron_inds\u001B[0m\u001B[0;34m[\u001B[0m\u001B[0mk\u001B[0m\u001B[0;34m]\u001B[0m\u001B[0;34m,\u001B[0m \u001B[0mloss_prediction\u001B[0m\u001B[0;34m[\u001B[0m\u001B[0mk\u001B[0m\u001B[0;34m]\u001B[0m\u001B[0;34m)\u001B[0m\u001B[0;34m,\u001B[0m\u001B[0;34m\u001B[0m\u001B[0;34m\u001B[0m\u001B[0m\n",
      "\u001B[0m\u001B[0;32m     58 \u001B[0;31m                \u001B[0mcategory_neuron\u001B[0m\u001B[0;34m[\u001B[0m\u001B[0mk\u001B[0m\u001B[0;34m]\u001B[0m\u001B[0;34m\u001B[0m\u001B[0;34m\u001B[0m\u001B[0m\n",
      "\u001B[0m\n"
     ]
    }
   ],
   "source": [
    "from data._utils import *\n",
    "from train._utils import *\n",
    "\n",
    "config = OmegaConf.load(\"../../conf/dataset.yaml\")\n",
    "\n",
    "dataset = get_dataset(config)\n",
    "\n",
    "neurons_on_category(model, dataset, True, 1)"
   ],
   "metadata": {
    "collapsed": false,
    "ExecuteTime": {
     "start_time": "2023-04-11T18:37:45.116215Z",
     "end_time": "2023-04-11T18:38:16.171156Z"
    }
   }
  },
  {
   "cell_type": "code",
   "execution_count": null,
   "outputs": [],
   "source": [
    "p"
   ],
   "metadata": {
    "collapsed": false
   }
  },
  {
   "cell_type": "markdown",
   "source": [
    "## Pre-trained Model gets training on different tau"
   ],
   "metadata": {
    "collapsed": false
   }
  },
  {
   "cell_type": "code",
   "execution_count": 9,
   "metadata": {},
   "outputs": [],
   "source": [
    "# # save predictions across worms and neurons\n",
    "# now = datetime.now().strftime(\"%Y_%m_%d_%H_%M_%S\")\n",
    "# make_predictions(model, dataset, log_dir=\"../logs/test/%s\"%now, tau=tau_out, smooth_data=smooth_data)\n",
    "# plot_targets_predictions(log_dir=\"../logs/test/%s\"%now, worm=\"all\", neuron=\"AVAL\")\n",
    "# plot_correlation_scatterplot(log_dir=\"../logs/test/%s\"%now, worm=\"all\", neuron=\"AVAL\")"
   ]
  },
  {
   "cell_type": "code",
   "execution_count": 13,
   "metadata": {},
   "outputs": [
    {
     "name": "stdout",
     "output_type": "stream",
     "text": [
      "dataset:\n",
      "  name:\n",
      "  - Kato2015\n",
      "  - Skora2018\n",
      "  - Uzel2022\n",
      "\n",
      "\n",
      "Chosen dataset(s): ['Kato2015', 'Skora2018', 'Uzel2022']\n",
      "Num. worms: 30\n",
      "Worm names: ['worm0', 'worm1', 'worm2', 'worm3', 'worm4', 'worm5', 'worm6', 'worm7', 'worm8', 'worm9', 'worm10', 'worm11', 'worm12', 'worm13', 'worm14', 'worm15', 'worm16', 'worm17', 'worm18', 'worm19', 'worm20', 'worm21', 'worm22', 'worm23', 'worm24', 'worm25', 'worm26', 'worm27', 'worm28', 'worm29']\n",
      "\n",
      "\n",
      "train:\n",
      "  learn_rate: 0.01\n",
      "  seq_len: 199\n",
      "  k_splits: 5\n",
      "  epochs: 100\n",
      "  save_freq: 100\n",
      "  smooth_data: true\n",
      "  reverse: false\n",
      "  batch_size: 128\n",
      "  train_size: 5000\n",
      "  test_size: 1000\n",
      "  shuffle: true\n",
      "  tau_in: 1\n",
      "  tau_out: 0\n",
      "  optimizer: SGD\n",
      "\n"
     ]
    }
   ],
   "source": [
    "# what if we continue to train a pretrained model but with a different tau?\n",
    "\n",
    "# get the same dataset as before\n",
    "dataset_config = OmegaConf.load(\"../conf/dataset.yaml\")\n",
    "dataset_config.dataset.name = dataset_name.split(\"_\")\n",
    "# print(OmegaConf.to_yaml(dataset_config))\n",
    "dataset = get_dataset(dataset_config)\n",
    "\n",
    "# load the pretrained model\n",
    "pretrained_model = model\n",
    "\n",
    "# train the model (same dataset but different tau param)\n",
    "train_config = OmegaConf.load(\"../conf/train.yaml\")\n",
    "train_config.train.tau_in = 11 # modify the tau_in parameter\n",
    "train_config.train.epochs = 200\n",
    "train_config.train.k_splits = 2\n",
    "train_config.train.seq_len = 99\n",
    "train_config.train.optimizer = \"SGD\" \n",
    "# print(OmegaConf.to_yaml(train_config))"
   ]
  },
  {
   "cell_type": "code",
   "execution_count": null,
   "metadata": {},
   "outputs": [],
   "source": [
    "now = datetime.now().strftime(\"%Y_%m_%d_%H_%M_%S\")\n",
    "pretrained_model.train()\n",
    "train_model(pretrained_model, dataset, train_config, shuffle=False, log_dir=\"../logs/test/%s\"%now)"
   ]
  },
  {
   "cell_type": "code",
   "execution_count": null,
   "metadata": {},
   "outputs": [],
   "source": []
  }
 ],
 "metadata": {
  "kernelspec": {
   "name": "k5",
   "language": "python",
   "display_name": "“k5”"
  },
  "language_info": {
   "codemirror_mode": {
    "name": "ipython",
    "version": 3
   },
   "file_extension": ".py",
   "mimetype": "text/x-python",
   "name": "python",
   "nbconvert_exporter": "python",
   "pygments_lexer": "ipython3",
   "version": "3.9.16"
  },
  "orig_nbformat": 4
 },
 "nbformat": 4,
 "nbformat_minor": 2
}
