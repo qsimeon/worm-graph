{
 "cells": [
  {
   "cell_type": "code",
   "execution_count": 46,
   "metadata": {
    "ExecuteTime": {
     "start_time": "2023-04-11T15:49:52.062663Z",
     "end_time": "2023-04-11T15:49:53.008003Z"
    }
   },
   "outputs": [],
   "source": [
    "from train._main import *\n",
    "from data._utils import load_Leifer2023, load_Flavell2023\n",
    "import torch\n",
    "dataset = load_Leifer2023()"
   ]
  },
  {
   "cell_type": "code",
   "execution_count": 36,
   "metadata": {
    "ExecuteTime": {
     "start_time": "2023-04-11T15:24:42.284432Z",
     "end_time": "2023-04-11T15:24:42.335904Z"
    },
    "collapsed": false
   },
   "outputs": [],
   "source": [
    "for worm in dataset:\n",
    "    single_worm_dataset = dataset[worm]\n",
    "    assert not torch.isnan(single_worm_dataset[\"calcium_data\"].any()), \"having NaN\""
   ]
  },
  {
   "cell_type": "code",
   "execution_count": 37,
   "metadata": {
    "ExecuteTime": {
     "start_time": "2023-04-11T15:24:42.336536Z",
     "end_time": "2023-04-11T15:24:42.340700Z"
    },
    "collapsed": false
   },
   "outputs": [
    {
     "name": "stdout",
     "output_type": "stream",
     "text": [
      "torch.Size([4465, 302])\n"
     ]
    }
   ],
   "source": [
    "single_worm_dataset = dataset[\"worm20\"]\n",
    "print(single_worm_dataset[\"calcium_data\"].shape)"
   ]
  },
  {
   "cell_type": "code",
   "execution_count": 38,
   "metadata": {
    "ExecuteTime": {
     "start_time": "2023-04-11T15:24:42.342330Z",
     "end_time": "2023-04-11T15:24:42.352762Z"
    }
   },
   "outputs": [
    {
     "name": "stdout",
     "output_type": "stream",
     "text": [
      "tensor(59)\n"
     ]
    }
   ],
   "source": [
    "neuron = single_worm_dataset[\"named_neurons_mask\"]\n",
    "print(neuron.sum())"
   ]
  },
  {
   "cell_type": "code",
   "execution_count": 39,
   "metadata": {
    "ExecuteTime": {
     "start_time": "2023-04-11T15:24:42.357731Z",
     "end_time": "2023-04-11T15:24:42.389346Z"
    },
    "collapsed": false
   },
   "outputs": [
    {
     "name": "stdout",
     "output_type": "stream",
     "text": [
      "tensor(0.0050)\n"
     ]
    }
   ],
   "source": [
    "criterion = torch.nn.MSELoss()\n",
    "base = criterion(single_worm_dataset[\"calcium_data\"][:-1, neuron], single_worm_dataset[\"calcium_data\"][1:, neuron])\n",
    "print(base)"
   ]
  },
  {
   "cell_type": "code",
   "execution_count": 40,
   "metadata": {
    "collapsed": false,
    "ExecuteTime": {
     "start_time": "2023-04-11T15:24:42.390111Z",
     "end_time": "2023-04-11T15:24:42.393590Z"
    }
   },
   "outputs": [
    {
     "name": "stdout",
     "output_type": "stream",
     "text": [
      "tensor(59)\n"
     ]
    }
   ],
   "source": [
    "print(single_worm_dataset[\"named_neurons_mask\"].sum())\n"
   ]
  },
  {
   "cell_type": "code",
   "execution_count": 41,
   "outputs": [
    {
     "data": {
      "text/plain": "'worm20'"
     },
     "execution_count": 41,
     "metadata": {},
     "output_type": "execute_result"
    }
   ],
   "source": [
    "single_worm_dataset[\"worm\"]"
   ],
   "metadata": {
    "collapsed": false,
    "ExecuteTime": {
     "start_time": "2023-04-11T15:24:42.395467Z",
     "end_time": "2023-04-11T15:24:42.398815Z"
    }
   }
  },
  {
   "cell_type": "code",
   "execution_count": 42,
   "outputs": [
    {
     "name": "stdout",
     "output_type": "stream",
     "text": [
      "dict_keys(['worm0', 'worm1', 'worm2', 'worm3', 'worm4', 'worm5', 'worm6', 'worm7', 'worm8', 'worm9', 'worm10', 'worm11', 'worm12', 'worm13', 'worm14', 'worm15', 'worm16', 'worm17', 'worm18', 'worm19', 'worm20', 'worm21', 'worm22', 'worm23', 'worm24', 'worm25', 'worm26', 'worm27', 'worm28', 'worm29', 'worm30', 'worm31', 'worm32', 'worm33', 'worm34', 'worm35', 'worm36', 'worm37', 'worm38', 'worm39', 'worm40', 'worm41', 'worm42', 'worm43', 'worm44', 'worm45', 'worm46', 'worm47'])\n"
     ]
    }
   ],
   "source": [
    "print(dataset.keys())"
   ],
   "metadata": {
    "collapsed": false,
    "ExecuteTime": {
     "start_time": "2023-04-11T15:24:50.988957Z",
     "end_time": "2023-04-11T15:24:50.993423Z"
    }
   }
  },
  {
   "cell_type": "code",
   "execution_count": 43,
   "outputs": [
    {
     "name": "stdout",
     "output_type": "stream",
     "text": [
      "torch.Size([4465])\n"
     ]
    }
   ],
   "source": [
    "print(single_worm_dataset[\"time_in_seconds\"].shape)"
   ],
   "metadata": {
    "collapsed": false,
    "ExecuteTime": {
     "start_time": "2023-04-11T15:37:53.665737Z",
     "end_time": "2023-04-11T15:37:53.669032Z"
    }
   }
  },
  {
   "cell_type": "code",
   "execution_count": 51,
   "outputs": [
    {
     "data": {
      "text/plain": "74"
     },
     "execution_count": 51,
     "metadata": {},
     "output_type": "execute_result"
    }
   ],
   "source": [
    "list_max = [dataset[d][\"named_neurons_mask\"].sum() for d in dataset]\n",
    "np.array(list_max).max()"
   ],
   "metadata": {
    "collapsed": false,
    "ExecuteTime": {
     "start_time": "2023-04-11T15:51:23.746916Z",
     "end_time": "2023-04-11T15:51:23.752302Z"
    }
   }
  },
  {
   "cell_type": "code",
   "execution_count": null,
   "outputs": [],
   "source": [],
   "metadata": {
    "collapsed": false
   }
  }
 ],
 "metadata": {
  "kernelspec": {
   "display_name": "worm-graph",
   "language": "python",
   "name": "python3"
  },
  "language_info": {
   "codemirror_mode": {
    "name": "ipython",
    "version": 3
   },
   "file_extension": ".py",
   "mimetype": "text/x-python",
   "name": "python",
   "nbconvert_exporter": "python",
   "pygments_lexer": "ipython3",
   "version": "3.9.16"
  },
  "orig_nbformat": 4
 },
 "nbformat": 4,
 "nbformat_minor": 2
}
