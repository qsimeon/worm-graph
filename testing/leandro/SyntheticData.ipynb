{
 "cells": [
  {
   "cell_type": "code",
   "execution_count": 1,
   "metadata": {},
   "outputs": [],
   "source": [
    "import matplotlib.pyplot as plt\n",
    "import numpy as np\n",
    "from scipy.integrate import solve_ivp\n",
    "import pysindy as ps"
   ]
  },
  {
   "cell_type": "code",
   "execution_count": 8,
   "metadata": {},
   "outputs": [],
   "source": [
    "# Seed the random number generators for reproducibility\n",
    "np.random.seed(7)\n",
    "\n",
    "# Initialize integrator keywords for solve_ivp to replicate the odeint defaults\n",
    "integrator_keywords = {}\n",
    "integrator_keywords['rtol'] = 1e-12\n",
    "integrator_keywords['method'] = 'LSODA'\n",
    "integrator_keywords['atol'] = 1e-12\n",
    "\n",
    "# Plot functions\n",
    "def plot_matrix(matrix, title):\n",
    "    plt.imshow(matrix, cmap='seismic')\n",
    "    plt.title(title)\n",
    "    plt.colorbar()\n",
    "    plt.axis('off')\n",
    "    plt.show()"
   ]
  },
  {
   "cell_type": "code",
   "execution_count": 9,
   "metadata": {},
   "outputs": [
    {
     "data": {
      "image/png": "[encoded data removed]",
      "text/plain": [
       "<Figure size 640x480 with 2 Axes>"
      ]
     },
     "metadata": {},
     "output_type": "display_data"
    }
   ],
   "source": [
    "def generate_connectivity_matrix(num_neurons, g):\n",
    "    # g = gain (scaling factor), g < 1 -> inactive, g > 1 -> spontaneous activity\n",
    "    # inhibitory connections are negative\n",
    "    # excitatory connections are positive\n",
    "    matrix = np.random.normal(0, (g**2) / num_neurons, size=(num_neurons, num_neurons))\n",
    "    np.fill_diagonal(matrix, 0)\n",
    "    return matrix\n",
    "\n",
    "plot_matrix(generate_connectivity_matrix(10, 0.5), 'Connectivity Matrix')"
   ]
  },
  {
   "cell_type": "code",
   "execution_count": 10,
   "metadata": {},
   "outputs": [],
   "source": [
    "# Differential equation\n",
    "def f(t, x, J, tau):\n",
    "    return (1/tau)*(-x + J @ np.tanh(x))"
   ]
  },
  {
   "cell_type": "code",
   "execution_count": null,
   "metadata": {},
   "outputs": [],
   "source": [
    "num_neurons = 5\n",
    "\n",
    "dt = 0.002\n",
    "\n",
    "t_train = np.arange(0, 10, dt)\n",
    "x0_train = np.random.choice([0, 0.5, 1.0], size=(num_neurons,))\n",
    "t_train_span = (t_train[0], t_train[-1])\n",
    "x_train = solve_ivp(\n",
    "    lambda t, x: -x + np.random.randn(num_neurons),\n",
    "    t_train_span,\n",
    "    x0_train,\n",
    "    t_eval=t_train,\n",
    "    **integrator_keywords).y.T"
   ]
  }
 ],
 "metadata": {
  "kernelspec": {
   "display_name": "worm-graph",
   "language": "python",
   "name": "python3"
  },
  "language_info": {
   "codemirror_mode": {
    "name": "ipython",
    "version": 3
   },
   "file_extension": ".py",
   "mimetype": "text/x-python",
   "name": "python",
   "nbconvert_exporter": "python",
   "pygments_lexer": "ipython3",
   "version": "3.9.16"
  },
  "orig_nbformat": 4
 },
 "nbformat": 4,
 "nbformat_minor": 2
}
