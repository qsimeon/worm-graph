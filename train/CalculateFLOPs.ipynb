{
 "cells": [
  {
   "cell_type": "code",
   "execution_count": 1,
   "metadata": {},
   "outputs": [
    {
     "name": "stdout",
     "output_type": "stream",
     "text": [
      "Defaulting to CPU.\n"
     ]
    }
   ],
   "source": [
    "import torch\n",
    "from utils import DEVICE\n",
    "from fvcore.nn import (\n",
    "    FlopCountAnalysis,\n",
    "    ActivationCountAnalysis,\n",
    "    flop_count_table,\n",
    "    flop_count_str,\n",
    ")"
   ]
  },
  {
   "cell_type": "code",
   "execution_count": 3,
   "metadata": {},
   "outputs": [
    {
     "name": "stdout",
     "output_type": "stream",
     "text": [
      "DEVICE: cpu\n",
      "FLOPs: (110, Counter({'linear': 110}), Counter({'': 110}), {'': Counter({'linear': 110})})\n",
      "\n",
      "Linear(\n",
      "  in_features=10, out_features=11, bias=True\n",
      "  #params: 0.12K, #flops: 0.11K\n",
      ")\n",
      "\n",
      "| module   | #parameters or shape   | #flops   |\n",
      "|:---------|:-----------------------|:---------|\n",
      "| model    | 0.121K                 | 0.11K    |\n",
      "|  weight  |  (11, 10)              |          |\n",
      "|  bias    |  (11,)                 |          |\n",
      "\n",
      "\tParams: 121\n",
      "\n",
      "Activations: (11, Counter({'linear': 11}), Counter({'': 11}), {'': Counter({'linear': 11})})\n",
      "\n",
      "\tParams: 121\n",
      "\n"
     ]
    }
   ],
   "source": [
    "# @title Using fvcore\n",
    "\n",
    "# Display the DEVICE\n",
    "print(f\"DEVICE: {DEVICE}\")\n",
    "\n",
    "# Prepare Your Model and Input: Make sure your model and input are on the same device\n",
    "model = torch.nn.Linear(10, 11)\n",
    "model = model.to(DEVICE)\n",
    "input = torch.randn(1, 10)\n",
    "input = input.to(DEVICE)\n",
    "model.eval()  # switch to eval mode\n",
    "\n",
    "# Perform FLOP Counting: Use the FlopCountAnalysis class to analyze your model:\n",
    "flops = FlopCountAnalysis(model, input)\n",
    "\n",
    "# Print Results: You can now print out the FLOPs and parameter information:\n",
    "print(\n",
    "    f\"FLOPs: {flops.total(), flops.by_operator(), flops.by_module(), flops.by_module_and_operator()}\",\n",
    "    end=\"\\n\\n\",\n",
    ")\n",
    "print(flop_count_str(flops), end=\"\\n\\n\")\n",
    "print(flop_count_table(flops), end=\"\\n\\n\")\n",
    "print(f\"\\tParams: {sum(p.numel() for p in model.parameters())}\", end=\"\\n\\n\")\n",
    "\n",
    "# Perform Activations Counting: Use the ActivationCountAnalysis class to analyze your model:\n",
    "acts = ActivationCountAnalysis(model, input)\n",
    "\n",
    "# Print Results: You can now print out the FLOPs and parameter information:\n",
    "print(\n",
    "    f\"Activations: {acts.total(), acts.by_operator(), acts.by_module(), acts.by_module_and_operator()}\",\n",
    "    end=\"\\n\\n\",\n",
    ")\n",
    "print(f\"\\tParams: {sum(p.numel() for p in model.parameters())}\", end=\"\\n\\n\")"
   ]
  },
  {
   "cell_type": "markdown",
   "metadata": {},
   "source": []
  },
  {
   "cell_type": "markdown",
   "metadata": {},
   "source": []
  },
  {
   "cell_type": "markdown",
   "metadata": {},
   "source": []
  }
 ],
 "metadata": {
  "kernelspec": {
   "display_name": "Python 3",
   "language": "python",
   "name": "python3"
  },
  "language_info": {
   "codemirror_mode": {
    "name": "ipython",
    "version": 3
   },
   "file_extension": ".py",
   "mimetype": "text/x-python",
   "name": "python",
   "nbconvert_exporter": "python",
   "pygments_lexer": "ipython3",
   "version": "3.9.18"
  }
 },
 "nbformat": 4,
 "nbformat_minor": 2
}
