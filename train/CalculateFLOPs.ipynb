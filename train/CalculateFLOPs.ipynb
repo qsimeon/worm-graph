{
 "cells": [
  {
   "cell_type": "code",
   "execution_count": 56,
   "metadata": {},
   "outputs": [],
   "source": [
    "!pip install -U -q fvcore\n",
    "\n",
    "import torch\n",
    "from utils import DEVICE\n",
    "from fvcore.nn import FlopCountAnalysis, ActivationCountAnalysis, flop_count_table, flop_count_str"
   ]
  },
  {
   "cell_type": "code",
   "execution_count": 66,
   "metadata": {},
   "outputs": [
    {
     "name": "stderr",
     "output_type": "stream",
     "text": [
      "Unsupported operator aten::add_ encountered 2 time(s)\n",
      "Unsupported operator aten::unsafe_chunk encountered 1 time(s)\n",
      "Unsupported operator aten::sigmoid_ encountered 3 time(s)\n",
      "Unsupported operator aten::tanh_ encountered 1 time(s)\n",
      "Unsupported operator aten::mul encountered 3 time(s)\n",
      "Unsupported operator aten::tanh encountered 1 time(s)\n",
      "Unsupported operator aten::add_ encountered 2 time(s)\n",
      "Unsupported operator aten::unsafe_chunk encountered 1 time(s)\n",
      "Unsupported operator aten::sigmoid_ encountered 3 time(s)\n",
      "Unsupported operator aten::tanh_ encountered 1 time(s)\n",
      "Unsupported operator aten::mul encountered 3 time(s)\n",
      "Unsupported operator aten::tanh encountered 1 time(s)\n"
     ]
    },
    {
     "name": "stdout",
     "output_type": "stream",
     "text": [
      "DEVICE: cpu\n",
      "FLOPs: (924, Counter({'linear': 924}), Counter({'': 924}), {'': Counter({'linear': 924})})\n",
      "\n",
      "LSTMCell(\n",
      "  10, 11\n",
      "  #params: 1.01K, #flops: 0.92K\n",
      ")\n",
      "\n",
      "| module     | #parameters or shape   | #flops   |\n",
      "|:-----------|:-----------------------|:---------|\n",
      "| model      | 1.012K                 | 0.924K   |\n",
      "|  weight_ih |  (44, 10)              |          |\n",
      "|  weight_hh |  (44, 11)              |          |\n",
      "|  bias_ih   |  (44,)                 |          |\n",
      "|  bias_hh   |  (44,)                 |          |\n",
      "\n",
      "\tParams: 1012\n",
      "\n",
      "Activations: (88, Counter({'linear': 88}), Counter({'': 88}), {'': Counter({'linear': 88})})\n",
      "\n",
      "\tParams: 1012\n",
      "\n"
     ]
    }
   ],
   "source": [
    "# @title Using fvcore\n",
    "\n",
    "# Display the DEVICE\n",
    "print(f\"DEVICE: {DEVICE}\")\n",
    "\n",
    "# Prepare Your Model and Input: Make sure your model and input are on the same device\n",
    "model = torch.nn.LSTMCell(10, 11)\n",
    "model = model.to(DEVICE)\n",
    "input = torch.randn(1, 10)\n",
    "input = input.to(DEVICE)\n",
    "h0 = torch.randn(1, 11)\n",
    "h0 = h0.to(DEVICE)\n",
    "c0 = torch.randn(1, 11)\n",
    "c0 = c0.to(DEVICE)\n",
    "model.eval()  # switch to eval mode\n",
    "\n",
    "# Perform FLOP Counting: Use the FlopCountAnalysis class to analyze your model:\n",
    "flops = FlopCountAnalysis(model, (input, (h0, c0)))\n",
    "\n",
    "# Print Results: You can now print out the FLOPs and parameter information:\n",
    "print(\n",
    "    f\"FLOPs: {flops.total(), flops.by_operator(), flops.by_module(), flops.by_module_and_operator()}\",\n",
    "    end=\"\\n\\n\",\n",
    ")\n",
    "print(flop_count_str(flops), end=\"\\n\\n\")\n",
    "print(flop_count_table(flops), end=\"\\n\\n\")\n",
    "print(f\"\\tParams: {sum(p.numel() for p in model.parameters())}\", end=\"\\n\\n\")\n",
    "\n",
    "# Perform Activations Counting: Use the ActivationCountAnalysis class to analyze your model:\n",
    "acts = ActivationCountAnalysis(model, input)\n",
    "\n",
    "# Print Results: You can now print out the FLOPs and parameter information:\n",
    "print(\n",
    "    f\"Activations: {acts.total(), acts.by_operator(), acts.by_module(), acts.by_module_and_operator()}\",\n",
    "    end=\"\\n\\n\",\n",
    ")\n",
    "print(f\"\\tParams: {sum(p.numel() for p in model.parameters())}\", end=\"\\n\\n\")"
   ]
  },
  {
   "cell_type": "markdown",
   "metadata": {},
   "source": []
  },
  {
   "cell_type": "markdown",
   "metadata": {},
   "source": []
  },
  {
   "cell_type": "markdown",
   "metadata": {},
   "source": []
  }
 ],
 "metadata": {
  "kernelspec": {
   "display_name": "Python 3",
   "language": "python",
   "name": "python3"
  },
  "language_info": {
   "codemirror_mode": {
    "name": "ipython",
    "version": 3
   },
   "file_extension": ".py",
   "mimetype": "text/x-python",
   "name": "python",
   "nbconvert_exporter": "python",
   "pygments_lexer": "ipython3",
   "version": "3.9.18"
  }
 },
 "nbformat": 4,
 "nbformat_minor": 2
}
