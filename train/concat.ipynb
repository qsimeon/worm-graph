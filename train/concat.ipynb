{
 "cells": [
  {
   "cell_type": "code",
   "execution_count": 2,
   "metadata": {},
   "outputs": [
    {
     "name": "stdout",
     "output_type": "stream",
     "text": [
      "Length of concat_dataset1: 11\n",
      "Length of concat_dataset2: 11\n",
      "Length of final_concat_dataset: 22\n"
     ]
    }
   ],
   "source": [
    "import torch\n",
    "from torch.utils.data import TensorDataset, ConcatDataset\n",
    "\n",
    "# Create some example TensorDataset instances\n",
    "dataset1 = TensorDataset(torch.randn(5, 3), torch.randn(5))\n",
    "dataset2 = TensorDataset(torch.randn(6, 3), torch.randn(6))\n",
    "dataset3 = TensorDataset(torch.randn(4, 3), torch.randn(4))\n",
    "dataset4 = TensorDataset(torch.randn(7, 3), torch.randn(7))\n",
    "\n",
    "# Create two ConcatDataset instances\n",
    "concat_dataset1 = ConcatDataset([dataset1, dataset2])\n",
    "concat_dataset2 = ConcatDataset([dataset3, dataset4])\n",
    "\n",
    "# Combine the two ConcatDataset instances into a new ConcatDataset\n",
    "final_concat_dataset = ConcatDataset([concat_dataset1, concat_dataset2])\n",
    "\n",
    "print(f\"Length of concat_dataset1: {len(concat_dataset1)}\")\n",
    "print(f\"Length of concat_dataset2: {len(concat_dataset2)}\")\n",
    "print(f\"Length of final_concat_dataset: {len(final_concat_dataset)}\")"
   ]
  },
  {
   "cell_type": "code",
   "execution_count": null,
   "metadata": {},
   "outputs": [],
   "source": []
  }
 ],
 "metadata": {
  "kernelspec": {
   "display_name": "worm-graph",
   "language": "python",
   "name": "python3"
  },
  "language_info": {
   "codemirror_mode": {
    "name": "ipython",
    "version": 3
   },
   "file_extension": ".py",
   "mimetype": "text/x-python",
   "name": "python",
   "nbconvert_exporter": "python",
   "pygments_lexer": "ipython3",
   "version": "3.9.16"
  },
  "orig_nbformat": 4
 },
 "nbformat": 4,
 "nbformat_minor": 2
}
