{
 "cells": [
  {
   "cell_type": "code",
   "execution_count": null,
   "metadata": {},
   "outputs": [],
   "source": [
    "# @title Imports\n",
    "\n",
    "import os\n",
    "import mat73\n",
    "import torch\n",
    "import shutil\n",
    "import subprocess\n",
    "import numpy as np\n",
    "import seaborn as sns\n",
    "import matplotlib.pyplot as plt\n",
    "\n",
    "from utils import init_random_seeds\n",
    "from sklearn.preprocessing import StandardScaler\n",
    "from utils import NEURONS_302, ROOT_DIR, VALID_DATASETS\n",
    "from preprocess._utils import (\n",
    "    CausalNormalizer,\n",
    "    interpolate_data,\n",
    "    pickle_neural_data,\n",
    "    reshape_calcium_data,\n",
    "    smooth_data_preprocess,\n",
    ")"
   ]
  },
  {
   "cell_type": "code",
   "execution_count": null,
   "metadata": {},
   "outputs": [],
   "source": [
    "# @title Setup: Download the dataset and set random seeds\n",
    "\n",
    "# set random seeds\n",
    "seed = 42\n",
    "init_random_seeds(seed)\n",
    "\n",
    "# download the dataset\n",
    "dataset_name = \"Lin2023\"\n",
    "assert dataset_name in VALID_DATASETS, f\"{dataset_name} is not a valid dataset.\"\n",
    "config = OmegaConf.load(\"../configs/submodule/preprocess.yaml\")\n",
    "url = config.preprocess.url\n",
    "zipfile = config.preprocess.zipfile\n",
    "zip_path = os.path.join(ROOT_DIR, zipfile)\n",
    "source_path = os.path.join(ROOT_DIR, zipfile.strip(\".zip\"))\n",
    "\n",
    "if not os.path.exists(os.path.join(source_path, dataset_name)):\n",
    "    download_url(url=url, folder=ROOT_DIR, filename=zipfile)\n",
    "    # unzip the dataset folder\n",
    "    bash_command = [\n",
    "        \"unzip\",\n",
    "        zip_path,\n",
    "        \"{}/*\".format(dataset_name),\n",
    "        \"-d\",\n",
    "        source_path,\n",
    "    ]\n",
    "    std_out = subprocess.run(bash_command, text=True)  # Run the bash command\n",
    "    print(std_out, end=\"\\n\\n\")\n",
    "    # delete the zip file\n",
    "    os.unlink(zip_path)\n",
    "else:\n",
    "    print(f\"{dataset_name} dataset already downloaded and unzipped.\")\n",
    "\n",
    "DATA_DIR = os.path.join(source_path, dataset_name)"
   ]
  },
  {
   "cell_type": "code",
   "execution_count": null,
   "metadata": {},
   "outputs": [],
   "source": [
    "# instantiate the relevant preprocessor class\n",
    "preprocessor = eval(dataset_name + \"Preprocessor\")(\n",
    "     StandardScaler(),\n",
    "     \"ES\", \n",
    "     \"linear\",\n",
    "     0.666,\n",
    ")\n",
    "# call its method\n",
    "preprocessor.preprocess()"
   ]
  },
  {
   "cell_type": "code",
   "execution_count": null,
   "metadata": {},
   "outputs": [],
   "source": [
    "pickle_neural_data(\n",
    "        # Code above does this block\n",
    "        url=url,\n",
    "        zipfile=zipfile,\n",
    "        dataset=dataset_name,\n",
    "        ################################\n",
    "        smooth_method=\"ES\",\n",
    "        resample_dt=0.666,\n",
    "        interpolate_method=\"linear\",\n",
    "        cleanup=True,\n",
    "    )"
   ]
  }
 ],
 "metadata": {
  "language_info": {
   "name": "python"
  }
 },
 "nbformat": 4,
 "nbformat_minor": 2
}
