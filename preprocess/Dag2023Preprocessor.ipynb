{
 "cells": [
  {
   "cell_type": "code",
   "execution_count": 2,
   "metadata": {},
   "outputs": [
    {
     "name": "stdout",
     "output_type": "stream",
     "text": [
      "CUDA device found.\n",
      "\t GPU: NVIDIA A100 80GB PCIe\n"
     ]
    }
   ],
   "source": [
    "# @title Imports\n",
    "\n",
    "import os\n",
    "import mat73\n",
    "import torch\n",
    "import shutil\n",
    "import subprocess\n",
    "import numpy as np\n",
    "import seaborn as sns\n",
    "import matplotlib.pyplot as plt\n",
    "\n",
    "from omegaconf import OmegaConf\n",
    "from utils import init_random_seeds\n",
    "from torch_geometric.data import download_url\n",
    "from sklearn.preprocessing import StandardScaler\n",
    "from utils import NEURON_LABELS, ROOT_DIR, EXPERIMENT_DATASETS\n",
    "from preprocess._utils import (\n",
    "    interpolate_data,\n",
    "    reshape_calcium_data,\n",
    "    smooth_data_preprocess,\n",
    ")\n",
    "\n",
    "# Initialize the random seeds\n",
    "init_random_seeds(42)"
   ]
  },
  {
   "cell_type": "code",
   "execution_count": 3,
   "metadata": {},
   "outputs": [
    {
     "name": "stderr",
     "output_type": "stream",
     "text": [
      "Downloading https://www.dropbox.com/scl/fi/7sv89h78sd15da4bn3c0j/opensource_data.zip?rlkey=mcabp8wskm7nkzr2s5g9xy0ep&dl=1\n"
     ]
    },
    {
     "name": "stdout",
     "output_type": "stream",
     "text": [
      "Archive:  /net/vast-storage/scratch/vast/yanglab/qsimeon/worm-graph/opensource_data.zip\n",
      "   creating: /net/vast-storage/scratch/vast/yanglab/qsimeon/worm-graph/opensource_data/Dag2023/\n",
      "  inflating: /net/vast-storage/scratch/vast/yanglab/qsimeon/worm-graph/opensource_data/Dag2023/.DS_Store  \n",
      "  inflating: /net/vast-storage/scratch/vast/yanglab/qsimeon/worm-graph/opensource_data/Dag2023/NeuroPAL_labels_dict.jld2  \n",
      "   creating: /net/vast-storage/scratch/vast/yanglab/qsimeon/worm-graph/opensource_data/Dag2023/swf702_with_id/\n",
      "  inflating: /net/vast-storage/scratch/vast/yanglab/qsimeon/worm-graph/opensource_data/Dag2023/NeuroPAL_labels_dict.json  \n",
      "  inflating: /net/vast-storage/scratch/vast/yanglab/qsimeon/worm-graph/opensource_data/Dag2023/Dag2023Preprocessor_dk_edits.ipynb  \n",
      "  inflating: /net/vast-storage/scratch/vast/yanglab/qsimeon/worm-graph/opensource_data/Dag2023/README.md  \n",
      "   creating: /net/vast-storage/scratch/vast/yanglab/qsimeon/worm-graph/opensource_data/Dag2023/swf415_no_id/\n",
      "  inflating: /net/vast-storage/scratch/vast/yanglab/qsimeon/worm-graph/opensource_data/Dag2023/Dag2023Preprocessor.ipynb  \n",
      "  inflating: /net/vast-storage/scratch/vast/yanglab/qsimeon/worm-graph/opensource_data/Dag2023/swf702_with_id/2022-07-27-38-data.h5  \n",
      "  inflating: /net/vast-storage/scratch/vast/yanglab/qsimeon/worm-graph/opensource_data/Dag2023/swf702_with_id/2022-07-27-31-data.h5  \n",
      "  inflating: /net/vast-storage/scratch/vast/yanglab/qsimeon/worm-graph/opensource_data/Dag2023/swf702_with_id/nsm_analysis_dict_swf702_final.jld2  \n",
      "  inflating: /net/vast-storage/scratch/vast/yanglab/qsimeon/worm-graph/opensource_data/Dag2023/swf702_with_id/2022-08-02-38-data.h5  \n",
      "  inflating: /net/vast-storage/scratch/vast/yanglab/qsimeon/worm-graph/opensource_data/Dag2023/swf702_with_id/2022-08-02-31-data.h5  \n",
      "  inflating: /net/vast-storage/scratch/vast/yanglab/qsimeon/worm-graph/opensource_data/Dag2023/swf702_with_id/2022-07-26-38-data.h5  \n",
      "  inflating: /net/vast-storage/scratch/vast/yanglab/qsimeon/worm-graph/opensource_data/Dag2023/swf702_with_id/2022-07-26-31-data.h5  \n",
      "  inflating: /net/vast-storage/scratch/vast/yanglab/qsimeon/worm-graph/opensource_data/Dag2023/swf702_with_id/2022-07-27-45-data.h5  \n",
      "  inflating: /net/vast-storage/scratch/vast/yanglab/qsimeon/worm-graph/opensource_data/Dag2023/swf702_with_id/2022-08-03-31-data.h5  \n",
      "  inflating: /net/vast-storage/scratch/vast/yanglab/qsimeon/worm-graph/opensource_data/Dag2023/swf415_no_id/2022-04-05-01-data.h5  \n",
      "  inflating: /net/vast-storage/scratch/vast/yanglab/qsimeon/worm-graph/opensource_data/Dag2023/swf415_no_id/2022-01-25-01-data.h5  \n",
      "  inflating: /net/vast-storage/scratch/vast/yanglab/qsimeon/worm-graph/opensource_data/Dag2023/swf415_no_id/2022-03-25-03-data.h5  \n",
      "  inflating: /net/vast-storage/scratch/vast/yanglab/qsimeon/worm-graph/opensource_data/Dag2023/swf415_no_id/2022-05-02-01-data.h5  \n",
      "  inflating: /net/vast-storage/scratch/vast/yanglab/qsimeon/worm-graph/opensource_data/Dag2023/swf415_no_id/2022-04-12-02-data.h5  \n",
      "  inflating: /net/vast-storage/scratch/vast/yanglab/qsimeon/worm-graph/opensource_data/Dag2023/swf415_no_id/2022-01-16-01-data.h5  \n",
      "  inflating: /net/vast-storage/scratch/vast/yanglab/qsimeon/worm-graph/opensource_data/Dag2023/swf415_no_id/2022-03-17-01-data.h5  \n",
      "  inflating: /net/vast-storage/scratch/vast/yanglab/qsimeon/worm-graph/opensource_data/Dag2023/swf415_no_id/nsm_analysis_dict_swf415_v3.jld2  \n",
      "CompletedProcess(args=['unzip', '/net/vast-storage/scratch/vast/yanglab/qsimeon/worm-graph/opensource_data.zip', 'Dag2023/*', '-d', '/net/vast-storage/scratch/vast/yanglab/qsimeon/worm-graph/opensource_data'], returncode=0)\n",
      "\n"
     ]
    }
   ],
   "source": [
    "# @title Setup: Download the dataset\n",
    "\n",
    "# download the dataset\n",
    "dataset_name = \"Dag2023\"\n",
    "assert dataset_name in EXPERIMENT_DATASETS, f\"{dataset_name} is not a valid dataset.\"\n",
    "config = OmegaConf.load(\"../configs/submodule/preprocess.yaml\")\n",
    "url = config.preprocess.opensource_url\n",
    "zipfile = config.preprocess.opensource_zipfile\n",
    "zip_path = os.path.join(ROOT_DIR, zipfile)\n",
    "source_path = os.path.join(ROOT_DIR, zipfile.strip(\".zip\"))\n",
    "\n",
    "if not os.path.exists(os.path.join(source_path, dataset_name)):\n",
    "    download_url(url=url, folder=ROOT_DIR, filename=zipfile)\n",
    "    # unzip the dataset folder\n",
    "    bash_command = [\n",
    "        \"unzip\",\n",
    "        zip_path,\n",
    "        \"{}/*\".format(dataset_name),\n",
    "        \"-d\",\n",
    "        source_path,\n",
    "    ]\n",
    "    std_out = subprocess.run(bash_command, text=True)  # Run the bash command\n",
    "    print(std_out, end=\"\\n\\n\")\n",
    "    # delete the zip file\n",
    "    os.unlink(zip_path)\n",
    "else:\n",
    "    print(f\"{dataset_name} dataset already downloaded and unzipped.\")\n",
    "\n",
    "DATA_DIR = os.path.join(source_path, dataset_name)"
   ]
  },
  {
   "cell_type": "code",
   "execution_count": null,
   "metadata": {},
   "outputs": [],
   "source": []
  }
 ],
 "metadata": {
  "kernelspec": {
   "display_name": "Python 3",
   "language": "python",
   "name": "python3"
  },
  "language_info": {
   "codemirror_mode": {
    "name": "ipython",
    "version": 3
   },
   "file_extension": ".py",
   "mimetype": "text/x-python",
   "name": "python",
   "nbconvert_exporter": "python",
   "pygments_lexer": "ipython3",
   "version": "3.11.8"
  }
 },
 "nbformat": 4,
 "nbformat_minor": 2
}
