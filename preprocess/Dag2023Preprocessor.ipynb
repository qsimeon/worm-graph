{
 "cells": [
  {
   "cell_type": "markdown",
   "metadata": {},
   "source": [
    "### Preprocessing of Dag2023 data using existing methods\n",
    "---\n",
    "\n",
    "*Last updated: 17 June 2024*\n"
   ]
  },
  {
   "cell_type": "code",
   "execution_count": null,
   "metadata": {},
   "outputs": [],
   "source": [
    "# @title Imports\n",
    "\n",
    "import os\n",
    "import subprocess\n",
    "\n",
    "from omegaconf import OmegaConf\n",
    "from utils import init_random_seeds\n",
    "from torch_geometric.data import download_url\n",
    "from sklearn.preprocessing import StandardScaler\n",
    "from _utils import Dag2023Preprocessor\n",
    "from utils import ROOT_DIR, EXPERIMENT_DATASETS\n",
    "\n",
    "# Initialize the random seeds\n",
    "init_random_seeds(42)"
   ]
  },
  {
   "cell_type": "code",
   "execution_count": null,
   "metadata": {},
   "outputs": [],
   "source": [
    "# @title Setup: Download the dataset\n",
    "\n",
    "# download the dataset\n",
    "dataset_name = \"Dag2023\"\n",
    "assert dataset_name in EXPERIMENT_DATASETS, f\"{dataset_name} is not a valid dataset.\"\n",
    "config = OmegaConf.load(\"../configs/submodule/preprocess.yaml\")\n",
    "url = config.preprocess.opensource_url\n",
    "zipfile = config.preprocess.opensource_zipfile\n",
    "zip_path = os.path.join(ROOT_DIR, zipfile)\n",
    "source_path = os.path.join(ROOT_DIR, zipfile.strip(\".zip\"))\n",
    "\n",
    "if not os.path.exists(os.path.join(source_path, dataset_name)):\n",
    "    download_url(url=url, folder=ROOT_DIR, filename=zipfile)\n",
    "    # unzip the dataset folder\n",
    "    bash_command = [\n",
    "        \"unzip\",\n",
    "        zip_path,\n",
    "        \"{}/*\".format(dataset_name),\n",
    "        \"-d\",\n",
    "        source_path,\n",
    "    ]\n",
    "    std_out = subprocess.run(bash_command, text=True)  # Run the bash command\n",
    "    print(std_out, end=\"\\n\\n\")\n",
    "    # delete the zip file\n",
    "    os.unlink(zip_path)\n",
    "else:\n",
    "    print(f\"{dataset_name} dataset already downloaded and unzipped.\")\n",
    "\n",
    "DATA_DIR = os.path.join(source_path, dataset_name)"
   ]
  },
  {
   "cell_type": "code",
   "execution_count": null,
   "metadata": {},
   "outputs": [],
   "source": [
    "transform = StandardScaler()\n",
    "smooth_method = \"exponential\"\n",
    "interpolate_method = \"linear\"\n",
    "resample_dt = 0.333\n",
    "\n",
    "preprocessor = Dag2023Preprocessor(transform, smooth_method, interpolate_method, resample_dt)\n",
    "preprocessor.preprocess()"
   ]
  },
  {
   "cell_type": "markdown",
   "metadata": {},
   "source": []
  },
  {
   "cell_type": "markdown",
   "metadata": {},
   "source": []
  },
  {
   "cell_type": "markdown",
   "metadata": {},
   "source": []
  }
 ],
 "metadata": {
  "kernelspec": {
   "display_name": "Python 3",
   "language": "python",
   "name": "python3"
  },
  "language_info": {
   "codemirror_mode": {
    "name": "ipython",
    "version": 3
   },
   "file_extension": ".py",
   "mimetype": "text/x-python",
   "name": "python",
   "nbconvert_exporter": "python",
   "pygments_lexer": "ipython3",
   "version": "3.11.8"
  }
 },
 "nbformat": 4,
 "nbformat_minor": 2
}
