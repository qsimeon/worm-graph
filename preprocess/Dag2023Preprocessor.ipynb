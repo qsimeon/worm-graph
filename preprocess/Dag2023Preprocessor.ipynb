{
 "cells": [
  {
   "cell_type": "code",
   "execution_count": 1,
   "metadata": {},
   "outputs": [
    {
     "name": "stdout",
     "output_type": "stream",
     "text": [
      "CUDA device found.\n",
      "\t GPU: NVIDIA A100 80GB PCIe\n"
     ]
    }
   ],
   "source": [
    "# @title Imports\n",
    "\n",
    "import os\n",
    "import subprocess\n",
    "import numpy as np\n",
    "import matplotlib.pyplot as plt\n",
    "\n",
    "from omegaconf import OmegaConf\n",
    "from utils import init_random_seeds\n",
    "from torch_geometric.data import download_url\n",
    "from sklearn.preprocessing import StandardScaler\n",
    "from _utils import Dag2023Preprocessor, reshape_calcium_data\n",
    "from utils import NEURON_LABELS, ROOT_DIR, EXPERIMENT_DATASETS\n",
    "\n",
    "# Initialize the random seeds\n",
    "init_random_seeds(42)"
   ]
  },
  {
   "cell_type": "code",
   "execution_count": 2,
   "metadata": {},
   "outputs": [
    {
     "name": "stdout",
     "output_type": "stream",
     "text": [
      "Dag2023 dataset already downloaded and unzipped.\n"
     ]
    }
   ],
   "source": [
    "# @title Setup: Download the dataset\n",
    "\n",
    "# download the dataset\n",
    "dataset_name = \"Dag2023\"\n",
    "assert dataset_name in EXPERIMENT_DATASETS, f\"{dataset_name} is not a valid dataset.\"\n",
    "config = OmegaConf.load(\"../configs/submodule/preprocess.yaml\")\n",
    "url = config.preprocess.opensource_url\n",
    "zipfile = config.preprocess.opensource_zipfile\n",
    "zip_path = os.path.join(ROOT_DIR, zipfile)\n",
    "source_path = os.path.join(ROOT_DIR, zipfile.strip(\".zip\"))\n",
    "\n",
    "if not os.path.exists(os.path.join(source_path, dataset_name)):\n",
    "    download_url(url=url, folder=ROOT_DIR, filename=zipfile)\n",
    "    # unzip the dataset folder\n",
    "    bash_command = [\n",
    "        \"unzip\",\n",
    "        zip_path,\n",
    "        \"{}/*\".format(dataset_name),\n",
    "        \"-d\",\n",
    "        source_path,\n",
    "    ]\n",
    "    std_out = subprocess.run(bash_command, text=True)  # Run the bash command\n",
    "    print(std_out, end=\"\\n\\n\")\n",
    "    # delete the zip file\n",
    "    os.unlink(zip_path)\n",
    "else:\n",
    "    print(f\"{dataset_name} dataset already downloaded and unzipped.\")\n",
    "\n",
    "DATA_DIR = os.path.join(source_path, dataset_name)"
   ]
  },
  {
   "cell_type": "code",
   "execution_count": 3,
   "metadata": {},
   "outputs": [],
   "source": [
    "transform = StandardScaler()\n",
    "smooth_method = \"exponential\"\n",
    "interpolate_method = \"linear\"\n",
    "resample_dt = 0.333\n",
    "\n",
    "preprocessor = Dag2023Preprocessor(transform, smooth_method, interpolate_method, resample_dt)"
   ]
  },
  {
   "cell_type": "code",
   "execution_count": 4,
   "metadata": {},
   "outputs": [],
   "source": [
    " # Load and preprocess data\n",
    "preprocessed_data = dict()  # Store preprocessed data\n",
    "worm_idx = 0  # Initialize worm index outside file loop\n",
    "\n",
    "# There are two subfolders in the Dag2023 dataset: 'swf415_no_id' and 'swf702_with_id'\n",
    "withid_data_files = os.path.join(DATA_DIR, \"swf702_with_id\")\n",
    "noid_data_files = os.path.join(DATA_DIR, \"swf415_no_id\")\n",
    "\n",
    "# 'NeuroPAL_labels_dict.json' maps data file names to a dictionary of neuron label information\n",
    "labels_file = \"NeuroPAL_labels_dict.json\"\n",
    "\n",
    "# First deal with the swf702_with_id which contains data from labeled neurons\n",
    "for file in os.listdir(withid_data_files):\n",
    "    if not file.endswith(\".h5\"):\n",
    "        continue\n",
    "    data_file = os.path.join(\"swf702_with_id\", file)\n",
    "    neurons, raw_traces, time_vector_seconds = preprocessor.extract_data(data_file, labels_file)\n",
    "    # print(f\"DEBUG neurons: \\n\\t neurons \\n\\n\") # DEBUG\n",
    "    # break\n",
    "    preprocessed_data, worm_idx = preprocessor.preprocess_traces(\n",
    "        neurons, raw_traces, time_vector_seconds, preprocessed_data, worm_idx\n",
    "    )  # preprocess\n",
    "\n",
    "# Next deal with the swf415_no_id which contains data from unlabeled neurons\n",
    "# NOTE: These don't get used at all as they are skipped in BasePreprocessor.preprocess_traces\n",
    "for file in os.listdir(noid_data_files):\n",
    "    if not file.endswith(\".h5\"):\n",
    "        continue\n",
    "    data_file = os.path.join(\"swf415_no_id\", file)\n",
    "    neurons, raw_traces, time_vector_seconds = preprocessor.extract_data(data_file, labels_file)\n",
    "    # break\n",
    "    preprocessed_data, worm_idx = preprocessor.preprocess_traces(\n",
    "        neurons, raw_traces, time_vector_seconds, preprocessed_data, worm_idx\n",
    "        )  # preprocess\n",
    "\n",
    "\n",
    "# Reshape calcium data\n",
    "for worm in preprocessed_data.keys():\n",
    "    preprocessed_data[worm] = reshape_calcium_data(preprocessed_data[worm])"
   ]
  },
  {
   "cell_type": "markdown",
   "metadata": {},
   "source": []
  },
  {
   "cell_type": "markdown",
   "metadata": {},
   "source": []
  },
  {
   "cell_type": "markdown",
   "metadata": {},
   "source": []
  }
 ],
 "metadata": {
  "kernelspec": {
   "display_name": "Python 3",
   "language": "python",
   "name": "python3"
  },
  "language_info": {
   "codemirror_mode": {
    "name": "ipython",
    "version": 3
   },
   "file_extension": ".py",
   "mimetype": "text/x-python",
   "name": "python",
   "nbconvert_exporter": "python",
   "pygments_lexer": "ipython3",
   "version": "3.11.8"
  }
 },
 "nbformat": 4,
 "nbformat_minor": 2
}
