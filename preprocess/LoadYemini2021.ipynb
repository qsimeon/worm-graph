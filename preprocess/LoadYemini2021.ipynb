{
 "cells": [
  {
   "cell_type": "code",
   "execution_count": 6,
   "metadata": {},
   "outputs": [
    {
     "name": "stdout",
     "output_type": "stream",
     "text": [
      "['0930_tail_01', '1007_tail_02', '1007_tail_03', '1007_tail_06', '1007_tail_07', '1008_tail_02', '1008_tail_06', '1008_tail_07', '1010_tail_01', '1010_tail_04', '1010_tail_07', '1011_tail_01', '1011_tail_02', '1011_tail_03', '1011_tail_05', '1011_tail_06', '1024_tail_05', '1024_tail_06', '1028_tail_04', '1028_tail_05', '1028_tail_06']\n",
      "21\n",
      "\n",
      "['ALN', 'AS11', 'DA7', 'DA8', 'DA9', 'DD6', 'DVA', 'DVB', 'DVC', 'LUA', 'PDA', 'PDB', 'PHA', 'PHB', 'PHC', 'PLM', 'PLN', 'PQR', 'PVC', 'PVN', 'PVP', 'PVQ', 'PVR', 'PVT', 'PVW', 'VA11', 'VA12', 'VD11', 'VD12', 'VD13']\n",
      "30\n",
      "\n",
      "[[1, 1, 1, 1, 1, 1, 1, 1, 1, 1, 1, 1, 1, 1, 1, 1, 1, 1, 1, 1, 1, 0, 0, 0, 0, 0, 0, 0, 0, 0, 0, 0, 0, 0, 0, 0, 0, 0, 0, 0, 0, 0], [nan, nan, nan, nan, nan, nan, nan, nan, nan, nan, nan, nan, nan, nan, nan, nan, nan, nan, nan, nan, nan], [nan, nan, nan, nan, nan, nan, nan, nan, nan, nan, nan, nan, nan, nan, nan, nan, nan, nan, nan, nan, nan], [nan, nan, nan, nan, nan, nan, nan, nan, nan, nan, nan, nan, nan, nan, nan, nan, nan, nan, nan, nan, nan], [nan, nan, nan, nan, nan, nan, nan, nan, nan, nan, nan, nan, nan, nan, nan, nan, nan, nan, nan, nan, nan], [nan, nan, nan, nan, nan, nan, nan, nan, nan, nan, nan, nan, nan, nan, nan, nan, nan, nan, nan, nan, nan], [nan, nan, nan, nan, nan, nan, nan, nan, nan, nan, nan, nan, nan, nan, nan, nan, nan, nan, nan, nan, nan], [nan, nan, nan, nan, nan, nan, nan, nan, nan, nan, nan, nan, nan, nan, nan, nan, nan, nan, nan, nan, nan], [nan, nan, nan, nan, nan, nan, nan, nan, nan, nan, nan, nan, nan, nan, nan, nan, nan, nan, nan, nan, nan], [1, 1, 1, 1, 1, 1, 1, 1, 1, 1, 1, 1, 1, 1, 1, 1, 1, 1, 1, 1, 1, 0, 0, 0, 0, 0, 0, 0, 0, 0, 0, 0, 0, 0, 0, 0, 0, 0, 0, 0, 0, 0], [nan, nan, nan, nan, nan, nan, nan, nan, nan, nan, nan, nan, nan, nan, nan, nan, nan, nan, nan, nan, nan], [nan, nan, nan, nan, nan, nan, nan, nan, nan, nan, nan, nan, nan, nan, nan, nan, nan, nan, nan, nan, nan], [1, 1, 1, 1, 1, 1, 1, 1, 1, 1, 1, 1, 1, 1, 1, 1, 1, 1, 1, 1, 1, 0, 0, 0, 0, 0, 0, 0, 0, 0, 0, 0, 0, 0, 0, 0, 0, 0, 0, 0, 0, 0], [1, 1, 1, 1, 1, 1, 1, 1, 1, 1, 1, 1, 1, 1, 1, 1, 1, 1, 1, 1, 1, 0, 0, 0, 0, 0, 0, 0, 0, 0, 0, 0, 0, 0, 0, 0, 0, 0, 0, 0, 0, 0], [1, 1, 1, 1, 1, 1, 1, 1, 1, 1, 1, 1, 1, 1, 1, 1, 1, 1, 1, 1, 1, 0, 0, 0, 0, 0, 0, 0, 0, 0, 0, 0, 0, 0, 0, 0, 0, 0, 0, 0, 0, 0], [1, 1, 1, 1, 1, 1, 1, 1, 1, 1, 1, 1, 1, 1, 1, 1, 1, 1, 1, 1, 1, 0, 0, 0, 0, 0, 0, 0, 0, 0, 0, 0, 0, 0, 0, 0, 0, 0, 0, 0, 0, 0], [1, 1, 1, 1, 1, 1, 1, 1, 1, 1, 1, 1, 1, 1, 1, 1, 1, 1, 1, 1, 1, 0, 0, 0, 0, 0, 0, 0, 0, 0, 0, 0, 0, 0, 0, 0, 0, 0, 0, 0, 0, 0], [nan, nan, nan, nan, nan, nan, nan, nan, nan, nan, nan, nan, nan, nan, nan, nan, nan, nan, nan, nan, nan], [1, 1, 1, 1, 1, 1, 1, 1, 1, 1, 1, 1, 1, 1, 1, 1, 1, 1, 1, 1, 1, 0, 0, 0, 0, 0, 0, 0, 0, 0, 0, 0, 0, 0, 0, 0, 0, 0, 0, 0, 0, 0], [1, 1, 1, 1, 1, 1, 1, 1, 1, 1, 1, 1, 1, 1, 1, 1, 1, 1, 1, 1, 1, 0, 0, 0, 0, 0, 0, 0, 0, 0, 0, 0, 0, 0, 0, 0, 0, 0, 0, 0, 0, 0], [1, 1, 1, 1, 1, 1, 1, 1, 1, 1, 1, 1, 1, 1, 1, 1, 1, 1, 1, 1, 1, 0, 0, 0, 0, 0, 0, 0, 0, 0, 0, 0, 0, 0, 0, 0, 0, 0, 0, 0, 0, 0], [1, 1, 1, 1, 1, 1, 1, 1, 1, 1, 1, 1, 1, 1, 1, 1, 1, 1, 1, 1, 1, 0, 0, 0, 0, 0, 0, 0, 0, 0, 0, 0, 0, 0, 0, 0, 0, 0, 0, 0, 0, 0], [nan, nan, nan, nan, nan, nan, nan, nan, nan, nan, nan, nan, nan, nan, nan, nan, nan, nan, nan, nan, nan], [nan, nan, nan, nan, nan, nan, nan, nan, nan, nan, nan, nan, nan, nan, nan, nan, nan, nan, nan, nan, nan], [1, 1, 1, 1, 1, 1, 1, 1, 1, 1, 1, 1, 1, 1, 1, 1, 1, 1, 1, 1, 1, 0, 0, 0, 0, 0, 0, 0, 0, 0, 0, 0, 0, 0, 0, 0, 0, 0, 0, 0, 0, 0], [nan, nan, nan, nan, nan, nan, nan, nan, nan, nan, nan, nan, nan, nan, nan, nan, nan, nan, nan, nan, nan], [nan, nan, nan, nan, nan, nan, nan, nan, nan, nan, nan, nan, nan, nan, nan, nan, nan, nan, nan, nan, nan], [nan, nan, nan, nan, nan, nan, nan, nan, nan, nan, nan, nan, nan, nan, nan, nan, nan, nan, nan, nan, nan], [nan, nan, nan, nan, nan, nan, nan, nan, nan, nan, nan, nan, nan, nan, nan, nan, nan, nan, nan, nan, nan], [nan, nan, nan, nan, nan, nan, nan, nan, nan, nan, nan, nan, nan, nan, nan, nan, nan, nan, nan, nan, nan]]\n",
      "30\n",
      "42\n",
      "\n",
      "30\n",
      "42\n",
      "(1, 928)\n",
      "\n"
     ]
    }
   ],
   "source": [
    "import os\n",
    "import numpy as np\n",
    "import matplotlib.pyplot as plt\n",
    "from scipy.io import loadmat\n",
    "\n",
    "raw_data_path = (\n",
    "    \"/Users/quileesimeon/Dropbox (MIT)/neuropal_data/Whole-Brain Calcium Activity\"\n",
    ")\n",
    "dataset = \"Young Adults\"\n",
    "file_name = \"Tail_Activity_OH16230.mat\"\n",
    "# \"Head_Activity_OH15500.mat\",\n",
    "# \"Head_Activity_OH16230.mat\",\n",
    "# \"Tail_Activity_OH16230.mat\",\n",
    "\n",
    "raw_data = loadmat(os.path.join(raw_data_path, dataset, file_name))\n",
    "\n",
    "files = [_.item() for _ in raw_data[\"files\"].squeeze()]\n",
    "print(files)\n",
    "print(len(files))\n",
    "print()\n",
    "\n",
    "bilat_neurons = [_.item() for _ in raw_data[\"neurons\"].squeeze()]\n",
    "print(bilat_neurons)\n",
    "print(len(bilat_neurons))\n",
    "print()\n",
    "\n",
    "is_left_neuron = [_.squeeze().tolist() for _ in raw_data[\"is_L\"].squeeze()]\n",
    "print(is_left_neuron)\n",
    "print(len(is_left_neuron))\n",
    "print(len(is_left_neuron[0]))\n",
    "print()\n",
    "\n",
    "norm_traces = [_.squeeze().tolist() for _ in raw_data[\"norm_traces\"].squeeze()]\n",
    "print(len(norm_traces))  # 108 corresponds to neurons\n",
    "print(len(norm_traces[0]))  # 7 files x 2 (L/R neuron) = 14\n",
    "print(norm_traces[0][0].shape)  # 1 x time (neural activity for neuron 0L/R)\n",
    "print()"
   ]
  },
  {
   "cell_type": "code",
   "execution_count": 7,
   "metadata": {},
   "outputs": [
    {
     "name": "stdout",
     "output_type": "stream",
     "text": [
      "(928, 42)\n",
      "(929, 42)\n",
      "(928, 42)\n",
      "(929, 42)\n",
      "(928, 42)\n",
      "(929, 42)\n",
      "(928, 42)\n",
      "(928, 42)\n",
      "(929, 42)\n",
      "(929, 42)\n",
      "(929, 42)\n",
      "(929, 42)\n",
      "(929, 42)\n",
      "(928, 42)\n",
      "(928, 42)\n",
      "(928, 42)\n",
      "(925, 42)\n",
      "(929, 42)\n",
      "(899, 42)\n",
      "(929, 42)\n",
      "(928, 42)\n"
     ]
    }
   ],
   "source": [
    "# Logic to get things like the other datasets\n",
    "\n",
    "# This is per .mat file\n",
    "# Load the raw data\n",
    "raw_data = loadmat(os.path.join(raw_data_path, dataset, file_name))\n",
    "\n",
    "# Frames per second\n",
    "fps = raw_data[\"fps\"].item()\n",
    "# There several files (each is data for one worm) in each .mat file\n",
    "files = [_.item() for _ in raw_data[\"files\"].squeeze()]\n",
    "# The list `bilat_neurons` does not disambiguate L/R neurons, so we need to do that\n",
    "bilat_neurons = [_.item() for _ in raw_data[\"neurons\"].squeeze()]\n",
    "# List of lists. Outer list same length as `neuron`. Inner lists are boolean masks for L/R neurons organized by file in `files`.\n",
    "is_left_neuron = [\n",
    "    _.squeeze().tolist() for _ in raw_data[\"is_L\"].squeeze()\n",
    "]  # in each inner list, all L (1) neurons appear before all R (0) neurons. non-bilateral neurons are nan\n",
    "#  Histogram-normalized neuronal traces linearly scaled and offset so that neurons are comparable\n",
    "norm_traces = [\n",
    "    _.squeeze().tolist() for _ in raw_data[\"norm_traces\"].squeeze()\n",
    "]  # list-of-lists like is_left_neuron\n",
    "\n",
    "# This part is the extract_data\n",
    "neuron_IDs = []\n",
    "traces = []\n",
    "time_vector_seconds = []\n",
    "\n",
    "for f, file in enumerate(files):\n",
    "    neurons = []\n",
    "    activity = []\n",
    "    tvec = np.empty(0)\n",
    "    for i, neuron in enumerate(bilat_neurons):\n",
    "        # Assign neuron names with L/R and get associated traces\n",
    "        bilat_bools = is_left_neuron[i]  # tells us if neuron is L/R\n",
    "        bilat_traces = norm_traces[i]\n",
    "        assert len(bilat_traces) == len(\n",
    "            bilat_bools\n",
    "        ), f\"Something is wrong with the data. Traces don't match with bilateral mask: {len(bilat_traces)} != {len(bilat_bools)}\"\n",
    "        righty = None\n",
    "        if len(bilat_bools) // len(files) == 2:\n",
    "            # get lateral assignment\n",
    "            lefty = bilat_bools[: len(bilat_bools) // 2][f]\n",
    "            righty = bilat_bools[len(bilat_bools) // 2 :][f]\n",
    "            # get traces\n",
    "            left_traces = bilat_traces[: len(bilat_traces) // 2][f]\n",
    "            right_traces = bilat_traces[len(bilat_traces) // 2 :][f]\n",
    "        elif len(bilat_bools) == len(files):\n",
    "            # get lateral assignment\n",
    "            lefty = bilat_bools[:][f]\n",
    "            righty = None\n",
    "            # get traces\n",
    "            left_traces = bilat_traces[:][f]\n",
    "            right_traces = None\n",
    "        else:\n",
    "            raise ValueError(\n",
    "                f\"Something is wrong with the data.\\nNeuron: {neuron}. File: {file}.\"\n",
    "            )\n",
    "        if np.isnan(lefty):  # non-bilaterally symmetric neuron\n",
    "            act = bilat_traces[f].squeeze().astype(float)\n",
    "            neurons.append(f\"{neuron}\")\n",
    "            activity.append(act)\n",
    "        else:\n",
    "            if lefty == 1:  # left neuron\n",
    "                act = left_traces.squeeze().astype(float)\n",
    "                neurons.append(f\"{neuron}L\")\n",
    "                activity.append(act)\n",
    "            if righty != None:  # right neuron\n",
    "                act = right_traces.squeeze().astype(float)\n",
    "                tvec = np.arange(act.size) / fps\n",
    "                neurons.append(f\"{neuron}R\")\n",
    "                activity.append(act)\n",
    "\n",
    "        # Deal with  time vector which should be the same across all neurons\n",
    "        if act.size > 0 and act.size > tvec.size:\n",
    "            tvec = np.arange(act.size) / fps\n",
    "\n",
    "    # Add neurons to list of neuron_IDs\n",
    "    neuron_IDs.append(neurons)\n",
    "    # Reshape activity to be a 2D array\n",
    "    activity = np.stack(\n",
    "        [np.empty_like(tvec) * np.nan if act.size == 0 else act for act in activity]\n",
    "    ).T\n",
    "    print(activity.shape)\n",
    "    # Add acitvity to list of traces\n",
    "    traces.append(activity)\n",
    "    # Add time vector to list of time vectors\n",
    "    time_vector_seconds.append(tvec)"
   ]
  },
  {
   "cell_type": "code",
   "execution_count": 11,
   "metadata": {},
   "outputs": [
    {
     "name": "stdout",
     "output_type": "stream",
     "text": [
      "21 21 21\n",
      "\n",
      "<class 'list'> <class 'numpy.ndarray'> <class 'numpy.ndarray'>\n",
      "\n"
     ]
    }
   ],
   "source": [
    "print(len(neuron_IDs), len(traces), len(time_vector_seconds))\n",
    "print()\n",
    "print(type(neuron_IDs[0]), type(traces[0]), type(time_vector_seconds[0]))\n",
    "print()\n",
    "print(len(neuron_IDs[0]), len(traces[0]), len(time_vector_seconds[0]))\n",
    "print()"
   ]
  },
  {
   "cell_type": "markdown",
   "metadata": {},
   "source": []
  },
  {
   "cell_type": "markdown",
   "metadata": {},
   "source": []
  },
  {
   "cell_type": "markdown",
   "metadata": {},
   "source": []
  },
  {
   "cell_type": "markdown",
   "metadata": {},
   "source": []
  }
 ],
 "metadata": {
  "kernelspec": {
   "display_name": "worm-graph",
   "language": "python",
   "name": "python3"
  },
  "language_info": {
   "codemirror_mode": {
    "name": "ipython",
    "version": 3
   },
   "file_extension": ".py",
   "mimetype": "text/x-python",
   "name": "python",
   "nbconvert_exporter": "python",
   "pygments_lexer": "ipython3",
   "version": "3.9.18"
  }
 },
 "nbformat": 4,
 "nbformat_minor": 2
}
