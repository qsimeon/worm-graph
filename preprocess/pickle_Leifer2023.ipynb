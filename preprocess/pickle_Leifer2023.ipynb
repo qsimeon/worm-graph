{
 "cells": [
  {
   "cell_type": "code",
   "execution_count": 1,
   "metadata": {
    "ExecuteTime": {
     "end_time": "2023-04-06T21:22:08.158681Z",
     "start_time": "2023-04-06T21:22:08.157272Z"
    },
    "collapsed": false
   },
   "outputs": [],
   "source": [
    "import os\n",
    "import numpy as np\n",
    "import math\n",
    "import pickle\n",
    "import torch\n",
    "from preprocess._utils import *"
   ]
  },
  {
   "cell_type": "code",
   "execution_count": 3,
   "metadata": {
    "ExecuteTime": {
     "end_time": "2023-04-06T21:22:08.176831Z",
     "start_time": "2023-04-06T21:22:08.171565Z"
    },
    "collapsed": false
   },
   "outputs": [],
   "source": [
    "# TODO: filename should depend on the opensource_data folder\n",
    "filename = \"../opensource_data/Leifer2023\"\n",
    "print(os.getcwd())\n",
    "\n",
    "def str_to_float(str_num):\n",
    "    '''\n",
    "    Change textual scientific notation into a floating-point number\n",
    "    '''\n",
    "    before_e = float(str_num.split('e')[0])\n",
    "    sign = str_num.split('e')[1][:1]\n",
    "    after_e = int(str_num.split('e')[1][1:])\n",
    "\n",
    "    if sign == '+':\n",
    "        float_num = before_e * math.pow(10, after_e)\n",
    "    elif sign == '-':\n",
    "        float_num = before_e * math.pow(10, -after_e)\n",
    "    else:\n",
    "        float_num = None\n",
    "        print('error: unknown sign')\n",
    "    return float_num\n",
    "\n",
    "def pickle_Leifer2023(transform, smooth_method=\"fft\"):\n",
    "    \"\"\"\n",
    "    Pickles the worm neural activity data from Leifer et al., 2022,\n",
    "    Neural signal propagation atlas of \\textit{C. elegans}.\n",
    "    \"\"\"\n",
    "    # calculate the number of worms\n",
    "    # TODO: filename should depend on the opensource_data folder\n",
    "    # TODO: currently the filename is hard coded\n",
    "    files = os.listdir(filename)\n",
    "    num_worms = int(len(files) / 6) # every worm has 6 txt files\n",
    "    data_dict = {}\n",
    "\n",
    "    for i in range(0, num_worms):\n",
    "        worm = \"worm\" + str(i)\n",
    "\n",
    "        real_data = []\n",
    "        with open(filename + \"/\" + str(i) + \"_gcamp.txt\", \"r\") as f:\n",
    "            for line in f.readlines():\n",
    "                cal = list(map(float, line.split(\" \")))\n",
    "                real_data.append(cal)\n",
    "        real_data = np.array(real_data) # format: (time, neuron)\n",
    "\n",
    "        label_list = []\n",
    "        with open(filename + \"/\" + str(i) + \"_labels.txt\", \"r\") as f:\n",
    "            for line in f.readlines():\n",
    "                l = line.strip(\"\\n\")\n",
    "                label_list.append(l)\n",
    "\n",
    "        num_unnamed = 0\n",
    "        label_list = label_list[:real_data.shape[1]]\n",
    "        for j, item in enumerate(label_list):\n",
    "            previous_list = label_list[:j]\n",
    "            # if the neuron is unnamed, give it a name\n",
    "            if item == '' or item == 'smthng else':\n",
    "                label_list[j] = str(j + 300)\n",
    "                num_unnamed += 1\n",
    "            elif item in previous_list:\n",
    "                label_list[j] = str(j + 300)\n",
    "                num_unnamed += 1\n",
    "            else:\n",
    "                label_list[j] = item\n",
    "\n",
    "\n",
    "        neuron_to_idx = {}\n",
    "        for k, item in enumerate(label_list):\n",
    "            neuron_to_idx[item] = k\n",
    "\n",
    "        sc = transform  # normalize data\n",
    "        real_data = sc.fit_transform(real_data)\n",
    "        real_data = torch.tensor(\n",
    "                real_data, dtype=torch.float32\n",
    "            )  # add a feature dimension and convert to tensor\n",
    "        smooth_real_data, residual, smooth_residual = smooth_data_preprocess(\n",
    "            real_data, smooth_method\n",
    "        )\n",
    "\n",
    "        timeVectorSeconds = []\n",
    "        with open(filename + \"/\" + str(i) + \"_t.txt\", \"r\") as f:\n",
    "            for line in f.readlines():\n",
    "                l = line.strip(\"\\n\")\n",
    "                timeVectorSeconds.append(str_to_float(l))\n",
    "\n",
    "        time_in_seconds = np.array(timeVectorSeconds)\n",
    "        time_in_seconds = torch.tensor(time_in_seconds).to(torch.float32)\n",
    "        dt = torch.zeros_like(time_in_seconds).to(torch.float32)\n",
    "        dt[1:] = time_in_seconds[1:] - time_in_seconds[:-1]\n",
    "\n",
    "        num_neurons = real_data.shape[1]\n",
    "        num_named = num_neurons - num_unnamed\n",
    "        max_time = real_data.shape[0]\n",
    "\n",
    "        print(\n",
    "                \"len. Ca recording %s, total num. neurons %s, num. ID'd neurons %s\"\n",
    "                % (max_time, num_neurons, num_named),\n",
    "                end=\"\\n\\n\",\n",
    "        )\n",
    "\n",
    "        data_dict.update(\n",
    "                {\n",
    "                    worm: {\n",
    "                        \"dataset\": \"Leifer2023\",\n",
    "                        \"worm\": worm,\n",
    "                        \"calcium_data\": real_data,\n",
    "                        \"smooth_calcium_data\": smooth_real_data,\n",
    "                        \"residual_calcium\": residual,\n",
    "                        \"smooth_residual_calcium\": smooth_residual,\n",
    "                        \"neuron_to_idx\": neuron_to_idx,\n",
    "                        \"idx_to_neuron\": dict((v, k) for k, v in neuron_to_idx.items()),\n",
    "                        \"max_time\": int(max_time),\n",
    "                        \"time_in_seconds\": time_in_seconds,\n",
    "                        \"dt\": dt,\n",
    "                        \"num_neurons\": int(num_neurons),\n",
    "                        \"num_named_neurons\": num_named,\n",
    "                        \"num_unknown_neurons\": num_unnamed\n",
    "                    },\n",
    "                }\n",
    "            )\n",
    "\n",
    "        # standardize the shape of calcium data to 302 x time\n",
    "        data_dict[worm] = reshape_calcium_data(data_dict[worm])\n",
    "        data_dict[worm][\"num_named_neurons\"] = data_dict[worm][\"named_neurons_mask\"].sum().item()\n",
    "        data_dict[worm][\"num_unknown_neurons\"] = data_dict[worm][\"num_neurons\"] - data_dict[worm][\"num_named_neurons\"]\n",
    "\n",
    "    # pickle the data\n",
    "    file = os.path.join(os.getcwd(), \"Leifer2023.pickle\")\n",
    "    pickle_out = open(file, \"wb\")\n",
    "    pickle.dump(data_dict, pickle_out)\n",
    "    pickle_out.close()\n",
    "    pickle_in = open(file, \"rb\")\n",
    "    Leifer2023 = pickle.load(pickle_in)\n",
    "    print(Leifer2023.keys(), end=\"\\n\\n\")"
   ]
  },
  {
   "cell_type": "code",
   "execution_count": 4,
   "metadata": {
    "ExecuteTime": {
     "end_time": "2023-04-06T21:22:08.176990Z",
     "start_time": "2023-04-06T21:22:08.174536Z"
    },
    "collapsed": false
   },
   "outputs": [],
   "source": [
    "smooth_method = 'fft'\n",
    "transform = MinMaxScaler(feature_range=(-1, 1))"
   ]
  },
  {
   "cell_type": "code",
   "execution_count": 5,
   "metadata": {
    "ExecuteTime": {
     "end_time": "2023-04-06T21:22:19.827197Z",
     "start_time": "2023-04-06T21:22:10.878764Z"
    },
    "collapsed": false
   },
   "outputs": [
    {
     "name": "stdout",
     "output_type": "stream",
     "text": [
      "len. Ca recording 4454, total num. neurons 114, num. ID'd neurons 51\n",
      "\n",
      "len. Ca recording 5395, total num. neurons 136, num. ID'd neurons 65\n",
      "\n",
      "len. Ca recording 3789, total num. neurons 132, num. ID'd neurons 51\n",
      "\n",
      "len. Ca recording 4469, total num. neurons 155, num. ID'd neurons 48\n",
      "\n",
      "len. Ca recording 3818, total num. neurons 149, num. ID'd neurons 65\n",
      "\n",
      "len. Ca recording 3776, total num. neurons 163, num. ID'd neurons 39\n",
      "\n",
      "len. Ca recording 5427, total num. neurons 95, num. ID'd neurons 55\n",
      "\n",
      "len. Ca recording 4981, total num. neurons 118, num. ID'd neurons 54\n",
      "\n",
      "len. Ca recording 4494, total num. neurons 103, num. ID'd neurons 61\n",
      "\n",
      "len. Ca recording 3795, total num. neurons 137, num. ID'd neurons 65\n",
      "\n",
      "len. Ca recording 3804, total num. neurons 136, num. ID'd neurons 46\n",
      "\n",
      "len. Ca recording 4041, total num. neurons 161, num. ID'd neurons 42\n",
      "\n",
      "len. Ca recording 3847, total num. neurons 136, num. ID'd neurons 61\n",
      "\n",
      "len. Ca recording 4147, total num. neurons 90, num. ID'd neurons 55\n",
      "\n",
      "len. Ca recording 5093, total num. neurons 110, num. ID'd neurons 69\n",
      "\n",
      "len. Ca recording 5102, total num. neurons 174, num. ID'd neurons 93\n",
      "\n",
      "len. Ca recording 4519, total num. neurons 281, num. ID'd neurons 47\n",
      "\n",
      "len. Ca recording 4452, total num. neurons 115, num. ID'd neurons 37\n",
      "\n",
      "len. Ca recording 4403, total num. neurons 141, num. ID'd neurons 47\n",
      "\n",
      "len. Ca recording 5099, total num. neurons 190, num. ID'd neurons 66\n",
      "\n",
      "len. Ca recording 4465, total num. neurons 148, num. ID'd neurons 55\n",
      "\n",
      "len. Ca recording 5047, total num. neurons 158, num. ID'd neurons 55\n",
      "\n",
      "len. Ca recording 4726, total num. neurons 169, num. ID'd neurons 40\n",
      "\n"
     ]
    },
    {
     "name": "stderr",
     "output_type": "stream",
     "text": [
      "/Users/quileesimeon/opt/anaconda3/envs/worm-graph/lib/python3.9/site-packages/sklearn/preprocessing/_data.py:473: RuntimeWarning: All-NaN slice encountered\n",
      "  data_min = np.nanmin(X, axis=0)\n",
      "/Users/quileesimeon/opt/anaconda3/envs/worm-graph/lib/python3.9/site-packages/sklearn/preprocessing/_data.py:474: RuntimeWarning: All-NaN slice encountered\n",
      "  data_max = np.nanmax(X, axis=0)\n"
     ]
    },
    {
     "name": "stdout",
     "output_type": "stream",
     "text": [
      "len. Ca recording 3800, total num. neurons 97, num. ID'd neurons 58\n",
      "\n",
      "len. Ca recording 393, total num. neurons 105, num. ID'd neurons 50\n",
      "\n",
      "len. Ca recording 416, total num. neurons 109, num. ID'd neurons 49\n",
      "\n",
      "len. Ca recording 4663, total num. neurons 111, num. ID'd neurons 76\n",
      "\n",
      "len. Ca recording 4209, total num. neurons 91, num. ID'd neurons 0\n",
      "\n",
      "len. Ca recording 2733, total num. neurons 95, num. ID'd neurons 45\n",
      "\n",
      "len. Ca recording 760, total num. neurons 80, num. ID'd neurons 62\n",
      "\n",
      "len. Ca recording 4161, total num. neurons 97, num. ID'd neurons 65\n",
      "\n"
     ]
    },
    {
     "name": "stderr",
     "output_type": "stream",
     "text": [
      "/Users/quileesimeon/opt/anaconda3/envs/worm-graph/lib/python3.9/site-packages/sklearn/preprocessing/_data.py:473: RuntimeWarning: All-NaN slice encountered\n",
      "  data_min = np.nanmin(X, axis=0)\n",
      "/Users/quileesimeon/opt/anaconda3/envs/worm-graph/lib/python3.9/site-packages/sklearn/preprocessing/_data.py:474: RuntimeWarning: All-NaN slice encountered\n",
      "  data_max = np.nanmax(X, axis=0)\n"
     ]
    },
    {
     "name": "stdout",
     "output_type": "stream",
     "text": [
      "len. Ca recording 5056, total num. neurons 103, num. ID'd neurons 40\n",
      "\n"
     ]
    },
    {
     "name": "stderr",
     "output_type": "stream",
     "text": [
      "/Users/quileesimeon/opt/anaconda3/envs/worm-graph/lib/python3.9/site-packages/sklearn/preprocessing/_data.py:473: RuntimeWarning: All-NaN slice encountered\n",
      "  data_min = np.nanmin(X, axis=0)\n",
      "/Users/quileesimeon/opt/anaconda3/envs/worm-graph/lib/python3.9/site-packages/sklearn/preprocessing/_data.py:474: RuntimeWarning: All-NaN slice encountered\n",
      "  data_max = np.nanmax(X, axis=0)\n"
     ]
    },
    {
     "name": "stdout",
     "output_type": "stream",
     "text": [
      "len. Ca recording 3869, total num. neurons 101, num. ID'd neurons 67\n",
      "\n",
      "len. Ca recording 3913, total num. neurons 95, num. ID'd neurons 63\n",
      "\n",
      "len. Ca recording 4139, total num. neurons 90, num. ID'd neurons 56\n",
      "\n",
      "len. Ca recording 4411, total num. neurons 102, num. ID'd neurons 49\n",
      "\n",
      "len. Ca recording 4535, total num. neurons 95, num. ID'd neurons 45\n",
      "\n",
      "len. Ca recording 4409, total num. neurons 108, num. ID'd neurons 56\n",
      "\n",
      "len. Ca recording 3853, total num. neurons 132, num. ID'd neurons 62\n",
      "\n",
      "len. Ca recording 4215, total num. neurons 99, num. ID'd neurons 52\n",
      "\n",
      "len. Ca recording 4170, total num. neurons 127, num. ID'd neurons 65\n",
      "\n",
      "len. Ca recording 4176, total num. neurons 100, num. ID'd neurons 59\n",
      "\n",
      "len. Ca recording 3329, total num. neurons 90, num. ID'd neurons 62\n",
      "\n",
      "len. Ca recording 893, total num. neurons 90, num. ID'd neurons 39\n",
      "\n",
      "len. Ca recording 1175, total num. neurons 99, num. ID'd neurons 46\n",
      "\n",
      "len. Ca recording 939, total num. neurons 85, num. ID'd neurons 22\n",
      "\n",
      "len. Ca recording 1240, total num. neurons 87, num. ID'd neurons 25\n",
      "\n",
      "len. Ca recording 678, total num. neurons 88, num. ID'd neurons 16\n",
      "\n",
      "len. Ca recording 830, total num. neurons 114, num. ID'd neurons 38\n",
      "\n",
      "dict_keys(['worm0', 'worm1', 'worm2', 'worm3', 'worm4', 'worm5', 'worm6', 'worm7', 'worm8', 'worm9', 'worm10', 'worm11', 'worm12', 'worm13', 'worm14', 'worm15', 'worm16', 'worm17', 'worm18', 'worm19', 'worm20', 'worm21', 'worm22', 'worm23', 'worm24', 'worm25', 'worm26', 'worm27', 'worm28', 'worm29', 'worm30', 'worm31', 'worm32', 'worm33', 'worm34', 'worm35', 'worm36', 'worm37', 'worm38', 'worm39', 'worm40', 'worm41', 'worm42', 'worm43', 'worm44', 'worm45', 'worm46', 'worm47', 'worm48'])\n",
      "\n"
     ]
    }
   ],
   "source": [
    "pickle_Leifer2023(transform, smooth_method=smooth_method)"
   ]
  },
  {
   "cell_type": "code",
   "execution_count": 19,
   "metadata": {
    "ExecuteTime": {
     "end_time": "2023-04-06T21:22:20.291219Z",
     "start_time": "2023-04-06T21:22:19.826961Z"
    },
    "collapsed": false
   },
   "outputs": [
    {
     "name": "stdout",
     "output_type": "stream",
     "text": [
      "dict_keys(['worm0', 'worm1', 'worm2', 'worm3', 'worm4', 'worm5', 'worm6', 'worm7', 'worm8', 'worm9', 'worm10', 'worm11', 'worm12', 'worm13', 'worm14', 'worm15', 'worm16', 'worm17', 'worm18', 'worm19', 'worm20', 'worm21', 'worm22', 'worm23', 'worm24', 'worm25', 'worm26', 'worm27', 'worm28', 'worm29', 'worm30', 'worm31', 'worm32', 'worm33', 'worm34', 'worm35', 'worm36', 'worm37', 'worm38', 'worm39', 'worm40', 'worm41', 'worm42', 'worm43', 'worm44', 'worm45', 'worm46', 'worm47', 'worm48'])\n"
     ]
    }
   ],
   "source": [
    "pickle_in = open(\"Leifer2023.pickle\", \"rb\")\n",
    "dataset = pickle.load(pickle_in)\n",
    "print(dataset.keys())"
   ]
  },
  {
   "cell_type": "code",
   "execution_count": 20,
   "metadata": {
    "ExecuteTime": {
     "end_time": "2023-04-06T21:22:20.294871Z",
     "start_time": "2023-04-06T21:22:20.290864Z"
    },
    "collapsed": false
   },
   "outputs": [],
   "source": [
    "single_worm_dataset = dataset['worm0']"
   ]
  },
  {
   "cell_type": "code",
   "execution_count": 21,
   "metadata": {
    "ExecuteTime": {
     "end_time": "2023-04-06T21:22:20.298630Z",
     "start_time": "2023-04-06T21:22:20.295834Z"
    },
    "collapsed": false
   },
   "outputs": [
    {
     "name": "stdout",
     "output_type": "stream",
     "text": [
      "dict_keys(['dataset', 'worm', 'calcium_data', 'smooth_calcium_data', 'residual_calcium', 'smooth_residual_calcium', 'neuron_to_idx', 'idx_to_neuron', 'max_time', 'time_in_seconds', 'dt', 'num_neurons', 'num_named_neurons', 'num_unknown_neurons', 'named_neurons_mask', 'unknown_neurons_mask', 'neurons_mask', 'named_neuron_to_idx', 'idx_to_named_neuron', 'unknown_neuron_to_idx', 'idx_to_unknown_neuron', 'slot_to_named_neuron', 'named_neuron_to_slot', 'slot_to_unknown_neuron', 'unknown_neuron_to_slot', 'slot_to_neuron', 'neuron_to_slot'])\n"
     ]
    }
   ],
   "source": [
    "print(single_worm_dataset.keys())"
   ]
  },
  {
   "cell_type": "code",
   "execution_count": 22,
   "metadata": {
    "ExecuteTime": {
     "end_time": "2023-04-06T21:22:20.302292Z",
     "start_time": "2023-04-06T21:22:20.299887Z"
    },
    "collapsed": false
   },
   "outputs": [
    {
     "name": "stdout",
     "output_type": "stream",
     "text": [
      "torch.Size([4454, 302])\n"
     ]
    }
   ],
   "source": [
    "print(single_worm_dataset['calcium_data'].shape)"
   ]
  },
  {
   "cell_type": "code",
   "execution_count": 23,
   "metadata": {
    "ExecuteTime": {
     "end_time": "2023-04-06T21:22:20.306109Z",
     "start_time": "2023-04-06T21:22:20.303812Z"
    },
    "collapsed": false
   },
   "outputs": [
    {
     "name": "stdout",
     "output_type": "stream",
     "text": [
      "torch.Size([4454, 302])\n"
     ]
    }
   ],
   "source": [
    "print(single_worm_dataset['smooth_calcium_data'].shape)"
   ]
  },
  {
   "cell_type": "code",
   "execution_count": 24,
   "metadata": {
    "ExecuteTime": {
     "end_time": "2023-04-06T21:22:20.368423Z",
     "start_time": "2023-04-06T21:22:20.308229Z"
    },
    "collapsed": false
   },
   "outputs": [
    {
     "name": "stdout",
     "output_type": "stream",
     "text": [
      "torch.Size([4454, 302])\n"
     ]
    }
   ],
   "source": [
    "print(single_worm_dataset['residual_calcium'].shape)"
   ]
  },
  {
   "cell_type": "code",
   "execution_count": 25,
   "metadata": {
    "ExecuteTime": {
     "end_time": "2023-04-06T21:22:20.368890Z",
     "start_time": "2023-04-06T21:22:20.313802Z"
    },
    "collapsed": false
   },
   "outputs": [
    {
     "name": "stdout",
     "output_type": "stream",
     "text": [
      "torch.Size([4454, 302])\n"
     ]
    }
   ],
   "source": [
    "print(single_worm_dataset['smooth_residual_calcium'].shape)"
   ]
  },
  {
   "cell_type": "code",
   "execution_count": 26,
   "metadata": {
    "ExecuteTime": {
     "end_time": "2023-04-06T21:22:20.368955Z",
     "start_time": "2023-04-06T21:22:20.317366Z"
    },
    "collapsed": false
   },
   "outputs": [
    {
     "name": "stdout",
     "output_type": "stream",
     "text": [
      "{'300': 0, 'IL2V': 1, 'BAGL': 2, 'ASEL': 3, '304': 4, 'SMDVL': 5, 'AMsoL': 6, 'I1L': 7, '308': 8, '309': 9, 'RMED': 10, '311': 11, 'NSML': 12, 'M3L': 13, 'M1': 14, 'RMDVL': 15, '316': 16, 'AVDL': 17, 'AWBL': 18, 'AVEL': 19, 'FLPL': 20, '321': 21, '322': 22, '323': 23, '324': 24, '325': 25, '326': 26, 'I3': 27, 'URXL': 28, '329': 29, '330': 30, 'AVAL': 31, '332': 32, '333': 33, 'SMDDL': 34, 'AIYL': 35, 'AIZL': 36, 'AMsoR': 37, 'OLQDR': 38, '339': 39, '340': 40, 'IL1VL': 41, '342': 42, 'SAAD': 43, '344': 44, 'AQR': 45, 'RMDDL': 46, '347': 47, '348': 48, '349': 49, 'AVJR': 50, 'AWAR': 51, '352': 52, '353': 53, 'I1R': 54, 'OLLR': 55, 'AVDR': 56, 'ASGR': 57, 'M3R': 58, '359': 59, 'OLQVR': 60, '361': 61, '362': 62, '363': 63, '364': 64, '365': 65, 'DB1': 66, '367': 67, 'VA1': 68, '369': 69, '370': 70, '371': 71, 'I2R': 72, '373': 73, '374': 74, 'FLPR': 75, '376': 76, 'AWBR': 77, '41': 78, '379': 79, 'AIZR': 80, '48': 81, '382': 82, 'DB2': 83, 'VB1': 84, 'RIG': 85, '386': 86, '387': 87, '388': 88, '389': 89, '390': 90, '391': 91, '392': 92, '393': 93, '394': 94, '395': 95, '21': 96, 'AVER': 97, '398': 98, '399': 99, '400': 100, '401': 101, 'RMDVR': 102, 'RMER': 103, '404': 104, 'ASER': 105, '406': 106, '407': 107, '408': 108, '409': 109, '410': 110, '411': 111, '412': 112, '413': 113}\n"
     ]
    }
   ],
   "source": [
    "print(single_worm_dataset['neuron_to_idx'])"
   ]
  },
  {
   "cell_type": "code",
   "execution_count": 27,
   "metadata": {
    "ExecuteTime": {
     "end_time": "2023-04-06T21:22:20.369284Z",
     "start_time": "2023-04-06T21:22:20.328715Z"
    },
    "collapsed": false
   },
   "outputs": [
    {
     "name": "stdout",
     "output_type": "stream",
     "text": [
      "{0: '300', 1: 'IL2V', 2: 'BAGL', 3: 'ASEL', 4: '304', 5: 'SMDVL', 6: 'AMsoL', 7: 'I1L', 8: '308', 9: '309', 10: 'RMED', 11: '311', 12: 'NSML', 13: 'M3L', 14: 'M1', 15: 'RMDVL', 16: '316', 17: 'AVDL', 18: 'AWBL', 19: 'AVEL', 20: 'FLPL', 21: '321', 22: '322', 23: '323', 24: '324', 25: '325', 26: '326', 27: 'I3', 28: 'URXL', 29: '329', 30: '330', 31: 'AVAL', 32: '332', 33: '333', 34: 'SMDDL', 35: 'AIYL', 36: 'AIZL', 37: 'AMsoR', 38: 'OLQDR', 39: '339', 40: '340', 41: 'IL1VL', 42: '342', 43: 'SAAD', 44: '344', 45: 'AQR', 46: 'RMDDL', 47: '347', 48: '348', 49: '349', 50: 'AVJR', 51: 'AWAR', 52: '352', 53: '353', 54: 'I1R', 55: 'OLLR', 56: 'AVDR', 57: 'ASGR', 58: 'M3R', 59: '359', 60: 'OLQVR', 61: '361', 62: '362', 63: '363', 64: '364', 65: '365', 66: 'DB1', 67: '367', 68: 'VA1', 69: '369', 70: '370', 71: '371', 72: 'I2R', 73: '373', 74: '374', 75: 'FLPR', 76: '376', 77: 'AWBR', 78: '41', 79: '379', 80: 'AIZR', 81: '48', 82: '382', 83: 'DB2', 84: 'VB1', 85: 'RIG', 86: '386', 87: '387', 88: '388', 89: '389', 90: '390', 91: '391', 92: '392', 93: '393', 94: '394', 95: '395', 96: '21', 97: 'AVER', 98: '398', 99: '399', 100: '400', 101: '401', 102: 'RMDVR', 103: 'RMER', 104: '404', 105: 'ASER', 106: '406', 107: '407', 108: '408', 109: '409', 110: '410', 111: '411', 112: '412', 113: '413'}\n"
     ]
    }
   ],
   "source": [
    "print(single_worm_dataset['idx_to_neuron'])"
   ]
  },
  {
   "cell_type": "code",
   "execution_count": 28,
   "metadata": {
    "ExecuteTime": {
     "end_time": "2023-04-06T21:22:20.369423Z",
     "start_time": "2023-04-06T21:22:20.335837Z"
    },
    "collapsed": false
   },
   "outputs": [
    {
     "name": "stdout",
     "output_type": "stream",
     "text": [
      "4454\n"
     ]
    }
   ],
   "source": [
    "print(single_worm_dataset['max_time'])"
   ]
  },
  {
   "cell_type": "code",
   "execution_count": 29,
   "metadata": {
    "ExecuteTime": {
     "end_time": "2023-04-06T21:22:20.369481Z",
     "start_time": "2023-04-06T21:22:20.345859Z"
    },
    "collapsed": false
   },
   "outputs": [
    {
     "name": "stdout",
     "output_type": "stream",
     "text": [
      "torch.Size([4454])\n"
     ]
    }
   ],
   "source": [
    "print(single_worm_dataset['time_in_seconds'].shape)"
   ]
  },
  {
   "cell_type": "code",
   "execution_count": 30,
   "metadata": {
    "ExecuteTime": {
     "end_time": "2023-04-06T21:22:20.369666Z",
     "start_time": "2023-04-06T21:22:20.350476Z"
    },
    "collapsed": false
   },
   "outputs": [
    {
     "name": "stdout",
     "output_type": "stream",
     "text": [
      "torch.Size([4454])\n"
     ]
    }
   ],
   "source": [
    "print(single_worm_dataset['dt'].shape)"
   ]
  },
  {
   "cell_type": "code",
   "execution_count": 31,
   "metadata": {
    "ExecuteTime": {
     "end_time": "2023-04-06T21:22:20.369729Z",
     "start_time": "2023-04-06T21:22:20.355784Z"
    },
    "collapsed": false
   },
   "outputs": [
    {
     "name": "stdout",
     "output_type": "stream",
     "text": [
      "114\n"
     ]
    }
   ],
   "source": [
    "print(single_worm_dataset['num_neurons'])"
   ]
  },
  {
   "cell_type": "code",
   "execution_count": 32,
   "metadata": {
    "ExecuteTime": {
     "end_time": "2023-04-06T21:22:20.369779Z",
     "start_time": "2023-04-06T21:22:20.358057Z"
    },
    "collapsed": false
   },
   "outputs": [
    {
     "name": "stdout",
     "output_type": "stream",
     "text": [
      "43\n"
     ]
    }
   ],
   "source": [
    "print(single_worm_dataset['num_named_neurons'])"
   ]
  },
  {
   "cell_type": "code",
   "execution_count": 33,
   "metadata": {
    "ExecuteTime": {
     "end_time": "2023-04-06T21:22:20.370032Z",
     "start_time": "2023-04-06T21:22:20.361347Z"
    },
    "collapsed": false
   },
   "outputs": [
    {
     "name": "stdout",
     "output_type": "stream",
     "text": [
      "71\n"
     ]
    }
   ],
   "source": [
    "print(single_worm_dataset['num_unknown_neurons'])"
   ]
  },
  {
   "cell_type": "code",
   "execution_count": 34,
   "metadata": {
    "ExecuteTime": {
     "end_time": "2023-04-06T21:22:20.370090Z",
     "start_time": "2023-04-06T21:22:20.364517Z"
    },
    "collapsed": false
   },
   "outputs": [
    {
     "name": "stdout",
     "output_type": "stream",
     "text": [
      "Leifer2023\n"
     ]
    }
   ],
   "source": [
    "print(single_worm_dataset['dataset'])"
   ]
  },
  {
   "cell_type": "code",
   "execution_count": 35,
   "metadata": {
    "ExecuteTime": {
     "end_time": "2023-04-06T21:22:20.375289Z",
     "start_time": "2023-04-06T21:22:20.368312Z"
    },
    "collapsed": false
   },
   "outputs": [
    {
     "name": "stdout",
     "output_type": "stream",
     "text": [
      "worm0\n"
     ]
    }
   ],
   "source": [
    "print(single_worm_dataset['worm'])"
   ]
  },
  {
   "cell_type": "code",
   "execution_count": 36,
   "metadata": {
    "ExecuteTime": {
     "end_time": "2023-04-06T21:22:52.931170Z",
     "start_time": "2023-04-06T21:22:52.930093Z"
    },
    "collapsed": false
   },
   "outputs": [
    {
     "name": "stdout",
     "output_type": "stream",
     "text": [
      "43\n",
      "71\n",
      "114\n",
      "True\n"
     ]
    }
   ],
   "source": [
    "print(single_worm_dataset['num_named_neurons'])\n",
    "print(single_worm_dataset['num_unknown_neurons'])\n",
    "print(single_worm_dataset['num_neurons'])\n",
    "print(single_worm_dataset['num_named_neurons'] + single_worm_dataset['num_unknown_neurons'] == single_worm_dataset['num_neurons'])"
   ]
  }
 ],
 "metadata": {
  "kernelspec": {
   "display_name": "worm-graph",
   "language": "python",
   "name": "python3"
  },
  "language_info": {
   "codemirror_mode": {
    "name": "ipython",
    "version": 3
   },
   "file_extension": ".py",
   "mimetype": "text/x-python",
   "name": "python",
   "nbconvert_exporter": "python",
   "pygments_lexer": "ipython3",
   "version": "3.9.16"
  }
 },
 "nbformat": 4,
 "nbformat_minor": 0
}
