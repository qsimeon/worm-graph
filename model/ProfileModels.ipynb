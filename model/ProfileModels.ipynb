{
    "cells": [
        {
            "cell_type": "code",
            "execution_count": 1,
            "metadata": {},
            "outputs": [
                {
                    "name": "stdout",
                    "output_type": "stream",
                    "text": [
                        "CUDA device found.\n"
                    ]
                }
            ],
            "source": [
                "import torch\n",
                "import numpy as np\n",
                "import matplotlib.pyplot as plt\n",
                "\n",
                "from utils import DEVICE, NUM_NEURONS, init_random_seeds\n",
                "from model._utils import (\n",
                "    print_parameters,\n",
                "    NaivePredictor,\n",
                "    LinearRegression,\n",
                "    FeatureFFNN,\n",
                "    NeuralTransformer,\n",
                "    NetworkLSTM,\n",
                "    HippoSSM,\n",
                "    NetworkCTRNN,\n",
                ")\n",
                "\n",
                "# Initialize the random seeds\n",
                "init_random_seeds(42)"
            ]
        },
        {
            "cell_type": "code",
            "execution_count": 2,
            "metadata": {},
            "outputs": [
                {
                    "name": "stdout",
                    "output_type": "stream",
                    "text": [
                        "\n",
                        "Simple PyTorch model: Linear(in_features=302, out_features=516, bias=True)\n",
                        "\n",
                        "\n",
                        "Input: torch.Size([1, 100, 302]) \t Output: torch.Size([1, 100, 516])\n",
                        "\n",
                        "\n",
                        "~~~~~~~~~~~~~~~~~~~~~~~~~~~~~~~~~~~~~~~~~~~~~~~~~~~~~~~~~~~~~~~~~~~~~~~~~~~~~~~~~~~~~~~~~~~~~~~~~~~~\n",
                        "\n",
                        "\n",
                        "Custom model: HippoSSM(\n",
                        "  (identity): Identity()\n",
                        "  (latent_embedding): Linear(in_features=302, out_features=516, bias=True)\n",
                        "  (positional_encoding): Identity()\n",
                        "  (normalization): LayerNorm((516,), eps=1e-05, elementwise_affine=True)\n",
                        "  (input_hidden): Sequential(\n",
                        "    (0): Linear(in_features=302, out_features=516, bias=True)\n",
                        "    (1): Identity()\n",
                        "    (2): LayerNorm((516,), eps=1e-05, elementwise_affine=True)\n",
                        "  )\n",
                        "  (hidden_hidden): SSM(\n",
                        "    (A): Linear(in_features=516, out_features=516, bias=False)\n",
                        "    (B): Linear(in_features=516, out_features=516, bias=False)\n",
                        "  )\n",
                        "  (inner_hidden_model): InnerHiddenModel(\n",
                        "    (hidden_hidden): SSM(\n",
                        "      (A): Linear(in_features=516, out_features=516, bias=False)\n",
                        "      (B): Linear(in_features=516, out_features=516, bias=False)\n",
                        "    )\n",
                        "  )\n",
                        "  (linear_readout): Linear(in_features=516, out_features=302, bias=True)\n",
                        ")\n",
                        "\n",
                        "\n",
                        "Input: torch.Size([1, 100, 302]) \t Mask: torch.Size([1, 302]) \t Output: torch.Size([1, 100, 302])\n",
                        "\n"
                    ]
                }
            ],
            "source": [
                "# @title Prepare model and input\n",
                "# @markdown Make sure the model and input are on the same device.\n",
                "\n",
                "# Set shapes for model and input\n",
                "seq_len = 100\n",
                "input_size = NUM_NEURONS\n",
                "hidden_size = 516\n",
                "\n",
                "# Use a standard PyTorch model\n",
                "model = torch.nn.Linear(in_features=input_size, out_features=hidden_size)\n",
                "model = model.to(DEVICE)\n",
                "model.eval()  # switch to eval mode\n",
                "print(f\"\\nSimple PyTorch model: {model}\\n\")\n",
                "\n",
                "# Create input of the correct shape for the model\n",
                "input = torch.randn(1, seq_len, input_size).to(DEVICE)  # batch_size=1\n",
                "mask = None\n",
                "print(f\"\\nInput: {input.shape} \\t Output: {model(input).shape}\", end=\"\\n\\n\")\n",
                "print(f\"\\n{'~'*100}\\n\")\n",
                "\n",
                "# Load one of our custom model instead\n",
                "model_args = dict(input_size=input_size, hidden_size=hidden_size, loss=\"MSE\")\n",
                "# model = NaivePredictor(**model_args)\n",
                "# model = LinearRegression(**model_args)\n",
                "# model = FeatureFFNN(**model_args)  # hidden_size = 516 -> num_params = 580286\n",
                "# model = NeuralTransformer(**model_args)  # hidden_size = 196 -> num_params = 583794\n",
                "# model = NetworkLSTM(**model_args)  # hidden_size = 234 -> num_params = 582260\n",
                "model = HippoSSM(**model_args)  # hidden_size = 516 -> num_params = 579770\n",
                "# model = NetworkCTRNN(**model_args)  # hidden_size = 408 -> num_params = 582110\n",
                "model = model.to(DEVICE)\n",
                "model.eval()  # switch to eval mode\n",
                "print(f\"\\nCustom model: {model}\\n\")\n",
                "\n",
                "# Create input of the correct shape for the model\n",
                "input = torch.randn(1, seq_len, input_size).to(DEVICE)  # batch_size=1\n",
                "mask = torch.ones(1, input_size).to(bool).to(DEVICE)\n",
                "print(\n",
                "    f\"\\nInput: {input.shape} \\t Mask: {mask.shape} \\t Output: {model(input, mask).shape}\",\n",
                "    end=\"\\n\\n\",\n",
                ")"
            ]
        },
        {
            "cell_type": "code",
            "execution_count": 3,
            "metadata": {},
            "outputs": [
                {
                    "name": "stdout",
                    "output_type": "stream",
                    "text": [
                        "\n",
                        "All params: 846542\n",
                        "Trainable params: 580286\n",
                        "\n"
                    ]
                }
            ],
            "source": [
                "# @title Profile the model parameters and operations\n",
                "\n",
                "# Adjust input based on if we use standard PyTorch model or custom model\n",
                "input = (input, mask) if mask is not None else input\n",
                "\n",
                "# Count the total and number of trainable parameters\n",
                "all_params_ct, train_params_ct = print_parameters(model)\n",
                "\n",
                "print(f\"\\nAll params: {all_params_ct}\\nTrainable params: {train_params_ct}\", end=\"\\n\\n\")\n",
                "\n",
                "### DEBUG: Find way to compute FLOP using Pytorch Profiler ###"
            ]
        },
        {
            "cell_type": "code",
            "execution_count": 4,
            "metadata": {},
            "outputs": [
                {
                    "name": "stdout",
                    "output_type": "stream",
                    "text": [
                        "Identity()\n",
                        "Linear(in_features=302, out_features=516, bias=True)\n",
                        "LayerNorm((516,), eps=1e-05, elementwise_affine=True)\n",
                        "Sequential(\n",
                        "  (0): Linear(in_features=302, out_features=516, bias=True)\n",
                        "  (1): Identity()\n",
                        "  (2): LayerNorm((516,), eps=1e-05, elementwise_affine=True)\n",
                        ")\n",
                        "SSM(\n",
                        "  (A): Linear(in_features=516, out_features=516, bias=False)\n",
                        "  (B): Linear(in_features=516, out_features=516, bias=False)\n",
                        ")\n",
                        "InnerHiddenModel(\n",
                        "  (hidden_hidden): SSM(\n",
                        "    (A): Linear(in_features=516, out_features=516, bias=False)\n",
                        "    (B): Linear(in_features=516, out_features=516, bias=False)\n",
                        "  )\n",
                        ")\n",
                        "Linear(in_features=516, out_features=302, bias=True)\n",
                        "\n",
                        "latent_embedding.weight torch.Size([516, 302])\n",
                        "latent_embedding.bias torch.Size([516])\n",
                        "normalization.weight torch.Size([516])\n",
                        "normalization.bias torch.Size([516])\n",
                        "hidden_hidden.step torch.Size([516])\n",
                        "hidden_hidden.A.weight torch.Size([516, 516])\n",
                        "hidden_hidden.B.weight torch.Size([516, 516])\n",
                        "linear_readout.weight torch.Size([302, 516])\n",
                        "linear_readout.bias torch.Size([302])\n",
                        "\n"
                    ]
                },
                {
                    "data": {
                        "text/plain": [
                            "[<matplotlib.lines.Line2D at 0x15038db638d0>]"
                        ]
                    },
                    "execution_count": 4,
                    "metadata": {},
                    "output_type": "execute_result"
                },
                {
                    "data": {
                        "image/png": "[encoded data removed]",
                        "text/plain": [
                            "<Figure size 640x480 with 1 Axes>"
                        ]
                    },
                    "metadata": {},
                    "output_type": "display_data"
                }
            ],
            "source": [
                "### DEBUG ###\n",
                "\n",
                "for child in list(model.children()):\n",
                "    print(child)\n",
                "\n",
                "print()\n",
                "\n",
                "for param in list(model.named_parameters()):\n",
                "    print(param[0], param[-1].shape)\n",
                "\n",
                "print()\n",
                "\n",
                "input, mask = input\n",
                "\n",
                "_ = 100\n",
                "genout = model.generate(input, mask, _)\n",
                "\n",
                "plt.plot(np.arange(input.shape[1]), input.squeeze().cpu().numpy()[:, 0])\n",
                "plt.plot(np.arange(input.shape[1], input.shape[1] + _), genout.squeeze().cpu().numpy()[:, 0])\n",
                "\n",
                "### DEBUG ###"
            ]
        },
        {
            "cell_type": "markdown",
            "metadata": {},
            "source": []
        },
        {
            "cell_type": "markdown",
            "metadata": {},
            "source": []
        },
        {
            "cell_type": "markdown",
            "metadata": {},
            "source": []
        }
    ],
    "metadata": {
        "kernelspec": {
            "display_name": "Python 3",
            "language": "python",
            "name": "python3"
        },
        "language_info": {
            "codemirror_mode": {
                "name": "ipython",
                "version": 3
            },
            "file_extension": ".py",
            "mimetype": "text/x-python",
            "name": "python",
            "nbconvert_exporter": "python",
            "pygments_lexer": "ipython3",
            "version": "3.11.8"
        }
    },
    "nbformat": 4,
    "nbformat_minor": 2
}
