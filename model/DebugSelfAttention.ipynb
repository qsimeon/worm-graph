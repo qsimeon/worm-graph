{
 "cells": [
  {
   "cell_type": "code",
   "execution_count": 1,
   "metadata": {},
   "outputs": [
    {
     "name": "stdout",
     "output_type": "stream",
     "text": [
      "torch.Size([32, 10, 256])\n"
     ]
    }
   ],
   "source": [
    "import math\n",
    "import torch\n",
    "\n",
    "\n",
    "class SimpleSelfAttentionModel(torch.nn.Module):\n",
    "    def __init__(self, embed_size, dropout):\n",
    "        super(SimpleSelfAttentionModel, self).__init__()\n",
    "\n",
    "        self.num_heads = max([i for i in range(2, 9) if embed_size % i == 0])\n",
    "\n",
    "        self.attention = torch.nnMultiheadAttention(\n",
    "            embed_dim=embed_size, num_heads=self.num_heads, dropout=dropout, batch_first=True\n",
    "        )\n",
    "        self.norm = torch.nn.LayerNorm(embed_size)\n",
    "        self.dropout = torch.nn.Dropout(dropout)\n",
    "\n",
    "        self.register_buffer(\n",
    "            \"positional_encodings\",\n",
    "            self.generate_positional_encodings(max_len=5000, embed_size=embed_size),\n",
    "        )\n",
    "\n",
    "    def generate_positional_encodings(self, max_len, embed_size):\n",
    "        pe = torch.zeros(max_len, embed_size)\n",
    "        position = torch.arange(0, max_len, dtype=torch.float).unsqueeze(1)\n",
    "        div_term = torch.exp(\n",
    "            torch.arange(0, embed_size, 2).float() * (-math.log(10000.0) / embed_size)\n",
    "        )\n",
    "        pe[:, 0::2] = torch.sin(position * div_term)\n",
    "        pe[:, 1::2] = torch.cos(position * div_term)\n",
    "        return pe\n",
    "\n",
    "    def generate_square_subsequent_mask(self, sz):\n",
    "        mask = torch.triu(torch.ones(sz, sz) * float(\"-inf\"), diagonal=1)\n",
    "        return mask\n",
    "\n",
    "    def forward(self, x):\n",
    "        # Add positional encodings to the input embeddings\n",
    "        pos = (\n",
    "            self.positional_encodings[: x.size(1), :]\n",
    "            .unsqueeze(0)\n",
    "            .repeat(x.size(0), 1, 1)\n",
    "            .to(x.device)\n",
    "        )\n",
    "        x = x + pos\n",
    "\n",
    "        causal_mask = self.generate_square_subsequent_mask(x.size(1)).to(x.device)\n",
    "        attn_output, _ = self.attention(x, x, x, attn_mask=causal_mask)\n",
    "        out = self.norm(x + self.dropout(attn_output))\n",
    "\n",
    "        return out\n",
    "\n",
    "\n",
    "# Example usage\n",
    "embed_size = 256\n",
    "dropout = 0.1\n",
    "\n",
    "model = SimpleSelfAttentionModel(embed_size, dropout)\n",
    "\n",
    "x = torch.rand((32, 10, embed_size))  # Example input with batch_first=True\n",
    "\n",
    "output = model(x)\n",
    "print(output.shape)  # Expected output shape: (batch_size, seq_len, embed_size)"
   ]
  },
  {
   "cell_type": "markdown",
   "metadata": {},
   "source": []
  },
  {
   "cell_type": "markdown",
   "metadata": {},
   "source": []
  },
  {
   "cell_type": "markdown",
   "metadata": {},
   "source": []
  }
 ],
 "metadata": {
  "kernelspec": {
   "display_name": "worm-graph",
   "language": "python",
   "name": "python3"
  },
  "language_info": {
   "codemirror_mode": {
    "name": "ipython",
    "version": 3
   },
   "file_extension": ".py",
   "mimetype": "text/x-python",
   "name": "python",
   "nbconvert_exporter": "python",
   "pygments_lexer": "ipython3",
   "version": "3.11.8"
  }
 },
 "nbformat": 4,
 "nbformat_minor": 2
}
