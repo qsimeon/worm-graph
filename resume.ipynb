{
 "cells": [
  {
   "cell_type": "code",
   "execution_count": null,
   "metadata": {},
   "outputs": [],
   "source": [
    "import os\n",
    "from omegaconf import OmegaConf\n",
    "from predict._main import make_predictions\n",
    "from visualize._main import plot_figures\n",
    "\n",
    "for folder in os.listdir(\"logs/hydra/2023_06_08_20_29_58\"):\n",
    "    if folder.startswith(\".\") or not os.path.isdir(\n",
    "        os.path.join(\"logs/hydra/2023_06_08_20_29_58\", folder)\n",
    "    ):\n",
    "        continue\n",
    "    print(folder)\n",
    "    cfg_path = os.path.join(\"logs/hydra/2023_06_08_20_29_58\", folder, \"config.yaml\")\n",
    "    cfg = OmegaConf.load(cfg_path)\n",
    "    print(cfg)\n",
    "    chkpt_pth = cfg.model.checkpoint_path\n",
    "    print(chkpt_pth)\n",
    "    predict_cfg = OmegaConf.load(\"conf/predict.yaml\")\n",
    "    predict_cfg.predict.model.checkpoint_path = chkpt_pth\n",
    "    log_dir = chkpt_pth.split(\"checkpoint\")[0]\n",
    "    print(log_dir)\n",
    "    make_predictions(\n",
    "        cfg,\n",
    "        log_dir=log_dir,\n",
    "    )\n",
    "    plot_figures(cfg)\n",
    "    break"
   ]
  },
  {
   "attachments": {},
   "cell_type": "markdown",
   "metadata": {},
   "source": []
  },
  {
   "attachments": {},
   "cell_type": "markdown",
   "metadata": {},
   "source": []
  },
  {
   "attachments": {},
   "cell_type": "markdown",
   "metadata": {},
   "source": []
  }
 ],
 "metadata": {
  "kernelspec": {
   "display_name": "worm-graph",
   "language": "python",
   "name": "python3"
  },
  "language_info": {
   "codemirror_mode": {
    "name": "ipython",
    "version": 3
   },
   "file_extension": ".py",
   "mimetype": "text/x-python",
   "name": "python",
   "nbconvert_exporter": "python",
   "pygments_lexer": "ipython3",
   "version": "3.9.16"
  },
  "orig_nbformat": 4
 },
 "nbformat": 4,
 "nbformat_minor": 2
}
