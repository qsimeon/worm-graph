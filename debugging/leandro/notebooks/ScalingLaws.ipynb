{
 "cells": [
  {
   "cell_type": "code",
   "execution_count": 1,
   "metadata": {},
   "outputs": [],
   "source": [
    "%load_ext autoreload\n",
    "%autoreload 2"
   ]
  },
  {
   "cell_type": "code",
   "execution_count": 59,
   "metadata": {},
   "outputs": [],
   "source": [
    "import numpy as np\n",
    "import pandas as pd\n",
    "import matplotlib.pyplot as plt\n",
    "import seaborn as sns\n",
    "from omegaconf import OmegaConf\n",
    "import datetime\n",
    "import os\n",
    "import torch\n",
    "from pkg import DEVICE\n",
    "from utils import NEURONS_302\n",
    "from models._utils import *\n",
    "from scipy import stats"
   ]
  },
  {
   "cell_type": "code",
   "execution_count": 73,
   "metadata": {},
   "outputs": [],
   "source": [
    "%matplotlib inline"
   ]
  },
  {
   "cell_type": "code",
   "execution_count": 48,
   "metadata": {},
   "outputs": [],
   "source": [
    "sl_log_dir = '/om2/user/lrvenan/worm-graph/logs/SGD_rnn/num_worms' # Path to the folder with all logs from the scaling laws experiment"
   ]
  },
  {
   "cell_type": "markdown",
   "metadata": {},
   "source": [
    "# Time per epoch\n",
    "---"
   ]
  },
  {
   "cell_type": "markdown",
   "metadata": {},
   "source": [
    "- Time per epoch vs. number of worms\n",
    "- Time per epoch vs. numer of named neurons"
   ]
  },
  {
   "cell_type": "code",
   "execution_count": 69,
   "metadata": {},
   "outputs": [],
   "source": [
    "def time_per_epoch_plot(exp_log_dir, key='num_worms'):\n",
    "    if key == 'num_worms':\n",
    "        key_name = 'Number of worms'\n",
    "    elif key == 'num_named_neurons':\n",
    "        key_name = 'Number of named neurons'\n",
    "    else:\n",
    "        raise ValueError('key must be num_worms or num_named_neurons')\n",
    "\n",
    "    # Store seconds per epoch, number of named neurons and number of worms\n",
    "    seconds_per_epoch = []\n",
    "    num_named_neurons = []\n",
    "    num_worms = []\n",
    "\n",
    "    # Loop over all folders inside the log directory\n",
    "    for folder in os.listdir(sl_log_dir):\n",
    "        # Load the config file inside each folder\n",
    "        config = OmegaConf.load(os.path.join(sl_log_dir, folder, 'config.yaml'))\n",
    "        # Extract seconds_per_epoch from the config file\n",
    "        seconds_per_epoch.append(config['globals']['seconds_per_epoch'])\n",
    "        # Extract num_named_neurons from the config file\n",
    "        num_named_neurons.append(config['dataset']['num_named_neurons'])\n",
    "        # Extract num_worms from the config file\n",
    "        num_worms.append(config['dataset']['num_worms'])\n",
    "\n",
    "    # Create a dataframe with the seconds per epoch, number of named neurons and number of worms\n",
    "    df = pd.DataFrame({'seconds_per_epoch': seconds_per_epoch, 'num_named_neurons': num_named_neurons, 'num_worms': num_worms})\n",
    "\n",
    "    # Plot the seconds per epoch vs the number of worms\n",
    "    fig, ax = plt.subplots(figsize=(10, 5))\n",
    "    sns.scatterplot(data=df, x='num_worms', y='seconds_per_epoch', ax=ax)\n",
    "    # Use log scale for the x axis and y axis\n",
    "    ax.set_xscale('log')\n",
    "    ax.set_yscale('log')\n",
    "    # Use whitegrid style\n",
    "    sns.set_style('whitegrid')\n",
    "    # Set the x axis and y axis labels according to the key\n",
    "    plt.xlabel(key_name)\n",
    "    plt.ylabel('Seconds per epoch')\n",
    "    # Set title according to the key\n",
    "    plt.title('Seconds per epoch vs {}'.format(key_name))\n",
    "\n",
    "    # Return df, fig and ax so we can customize the plot if we want\n",
    "    return df, fig, ax"
   ]
  },
  {
   "cell_type": "code",
   "execution_count": 74,
   "metadata": {},
   "outputs": [
    {
     "data": {
      "image/png": "[encoded data removed]",
      "text/plain": [
       "<Figure size 1000x500 with 1 Axes>"
      ]
     },
     "metadata": {},
     "output_type": "display_data"
    }
   ],
   "source": [
    "df, fig, ax = time_per_epoch_plot(sl_log_dir, key='num_worms')"
   ]
  },
  {
   "cell_type": "code",
   "execution_count": 79,
   "metadata": {},
   "outputs": [
    {
     "name": "stdout",
     "output_type": "stream",
     "text": [
      "Regression line: y = 1.0088299121130848x + -1.4108689110591959\n"
     ]
    }
   ],
   "source": [
    "# Regression line for the plot above\n",
    "slope, intercept, r_value, p_value, std_err = stats.linregress(np.log(df['num_worms']), np.log(df['seconds_per_epoch']))\n",
    "print('Regression line: y = {}x + {}'.format(slope, intercept))\n",
    "# Add the regression line to the plot above using sns lineplot\n",
    "x = np.linspace(1, 100000, 246)\n",
    "y = np.exp(intercept) * x ** slope\n",
    "sns.lineplot(x=x, y=y, ax=ax, dashes=True, size=1.5, color='red')\n",
    "# Add the equation of the regression line to the plot above\n",
    "ax.text(0.5, 0.5, 'y = {}x + {}'.format(round(slope, 2), round(intercept, 2)), transform=ax.transAxes, fontsize=14, verticalalignment='top')\n",
    "# Save the plot\n",
    "fig.savefig('seconds_per_epoch_vs_num_worms.png', dpi=300)"
   ]
  }
 ],
 "metadata": {
  "kernelspec": {
   "display_name": "worm-graph",
   "language": "python",
   "name": "python3"
  },
  "language_info": {
   "codemirror_mode": {
    "name": "ipython",
    "version": 3
   },
   "file_extension": ".py",
   "mimetype": "text/x-python",
   "name": "python",
   "nbconvert_exporter": "python",
   "pygments_lexer": "ipython3",
   "version": "3.9.16"
  },
  "orig_nbformat": 4
 },
 "nbformat": 4,
 "nbformat_minor": 2
}
