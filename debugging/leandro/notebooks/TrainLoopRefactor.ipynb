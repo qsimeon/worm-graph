{
 "cells": [
  {
   "cell_type": "code",
   "execution_count": 1,
   "metadata": {},
   "outputs": [],
   "source": [
    "%load_ext autoreload\n",
    "%autoreload 2"
   ]
  },
  {
   "cell_type": "markdown",
   "metadata": {},
   "source": [
    "# Split (combined) dataset into Train and Validation\n",
    "---"
   ]
  },
  {
   "cell_type": "code",
   "execution_count": 2,
   "metadata": {},
   "outputs": [],
   "source": [
    "def distribute_samples(data_splits, total_nb_samples):\n",
    "    # Calculate the base number of samples for each split\n",
    "    base_samples_per_split = total_nb_samples // len(data_splits)\n",
    "    # Calculate the remainder\n",
    "    remainder = total_nb_samples % len(data_splits)\n",
    "\n",
    "    samples_to_take = []\n",
    "    \n",
    "    # Distribute the samples\n",
    "    for i in range(len(data_splits)):\n",
    "        if i < remainder:\n",
    "            samples_to_take.append(base_samples_per_split + 1)\n",
    "        else:\n",
    "            samples_to_take.append(base_samples_per_split)\n",
    "\n",
    "    return samples_to_take"
   ]
  },
  {
   "cell_type": "code",
   "execution_count": 3,
   "metadata": {},
   "outputs": [],
   "source": [
    "def split_combined_dataset(combined_dataset, k_splits, num_train_samples, num_val_samples, seq_len, tau, reverse, use_residual, smooth_data):\n",
    "\n",
    "    # Choose whether to use calcium or residual data\n",
    "    if use_residual:\n",
    "        key_data = \"residual_calcium\"\n",
    "    else:\n",
    "        key_data = \"calcium_data\"\n",
    "\n",
    "    # Choose whether to use original or smoothed data\n",
    "    if smooth_data:\n",
    "        key_data = \"smooth_\" + key_data\n",
    "    else:\n",
    "        key_data = key_data\n",
    "\n",
    "    # Store the training and validation datasets\n",
    "    train_dataset = []\n",
    "    val_dataset = []\n",
    "\n",
    "    # Loop through the worms in the dataset\n",
    "    for wormID, single_worm_dataset in combined_dataset.items():\n",
    "\n",
    "        # Extract relevant features from the dataset\n",
    "        data = single_worm_dataset[key_data]\n",
    "        neurons_mask = single_worm_dataset[\"named_neurons_mask\"]\n",
    "        time_vec = single_worm_dataset[\"time_in_seconds\"]\n",
    "\n",
    "        # Verifications\n",
    "        assert isinstance(seq_len, int) and 0 < seq_len < len(data), \"seq_len must be an integer > 0 and < len(data)\"\n",
    "        assert isinstance(tau, int) and tau < (len(data) - seq_len), \"The desired tau is too long. Try a smaller value\"\n",
    "        assert seq_len < (len(data) // k_splits), \"The desired seq_len is too long. Try a smaller seq_len or decreasing k_splits\"\n",
    "\n",
    "        # Split the data and the time vector into k splits\n",
    "        data_splits = np.array_split(data, k_splits)\n",
    "        time_vec_splits = np.array_split(time_vec, k_splits)\n",
    "\n",
    "        # Separate the splits into training and validation sets\n",
    "        train_data_splits = data_splits[::2]\n",
    "        train_time_vec_splits = time_vec_splits[::2]\n",
    "        val_data_splits = data_splits[1::2]\n",
    "        val_time_vec_splits = time_vec_splits[1::2]\n",
    "\n",
    "        # Number of total time steps in each split\n",
    "        total_train_time_steps = np.sum([len(split) for split in train_data_splits])\n",
    "        total_val_time_steps = np.sum([len(split) for split in val_data_splits])\n",
    "\n",
    "        # Number of samples in each split\n",
    "        train_samples_per_split = distribute_samples(train_data_splits, num_train_samples)\n",
    "        val_samples_per_split = distribute_samples(val_data_splits, num_val_samples)\n",
    "\n",
    "        # Create a dataset for each split\n",
    "        for train_split, train_time_split, num_samples_split in zip(train_data_splits, train_time_vec_splits, train_samples_per_split):\n",
    "            train_dataset.append(\n",
    "                NeuralActivityDataset(\n",
    "                    data = train_split.detach(),\n",
    "                    time_vec = train_time_split.detach(),\n",
    "                    neurons_mask = neurons_mask,\n",
    "                    seq_len = seq_len,\n",
    "                    num_samples = num_samples_split,\n",
    "                    tau = tau,\n",
    "                    use_residual = use_residual,\n",
    "                    reverse = reverse,\n",
    "                )\n",
    "            )\n",
    "\n",
    "        \n",
    "        for val_split, val_time_split, num_samples_split in zip(val_data_splits, val_time_vec_splits, val_samples_per_split):\n",
    "            val_dataset.append(\n",
    "                NeuralActivityDataset(\n",
    "                    data = val_split.detach(),\n",
    "                    time_vec = val_time_split.detach(),\n",
    "                    neurons_mask = neurons_mask,\n",
    "                    seq_len = seq_len,\n",
    "                    num_samples = num_samples_split,\n",
    "                    tau = tau,\n",
    "                    use_residual = use_residual,\n",
    "                    reverse = reverse,\n",
    "                )\n",
    "            )\n",
    "\n",
    "    # Concatenate the datasets\n",
    "    train_dataset = torch.utils.data.ConcatDataset(train_dataset) # Nb of train examples = nb train samples * nb of worms\n",
    "    val_dataset = torch.utils.data.ConcatDataset(val_dataset) # Nb of val examples = nb train samples * nb of worms\n",
    "\n",
    "    # Save the datasets\n",
    "    torch.save(train_dataset, \"train_dataset.pth\")\n",
    "    torch.save(val_dataset, \"val_dataset.pth\")\n",
    "\n",
    "    return train_dataset, val_dataset"
   ]
  },
  {
   "cell_type": "code",
   "execution_count": 61,
   "metadata": {},
   "outputs": [
    {
     "name": "stdout",
     "output_type": "stream",
     "text": [
      "experimental_datasets:\n",
      "- Kato2015\n",
      "- Nichols2017\n",
      "num_named_neurons: 2\n",
      "num_worms: 10\n",
      "k_splits: 2\n",
      "num_train_samples: 16\n",
      "num_val_samples: 4\n",
      "seq_len: 120\n",
      "tau: 1\n",
      "reverse: false\n",
      "use_residual: false\n",
      "smooth_data: true\n",
      "\n"
     ]
    }
   ],
   "source": [
    "dataset_config = OmegaConf.load(\"../../../configs/submodule/dataset_new.yaml\")\n",
    "print(OmegaConf.to_yaml(dataset_config.dataset.for_training))"
   ]
  },
  {
   "cell_type": "code",
   "execution_count": 62,
   "metadata": {},
   "outputs": [],
   "source": [
    "def get_datasets(dataset_config: DictConfig, name='train'):\n",
    "\n",
    "    experimental_datasets = dataset_config.experimental_datasets\n",
    "    num_named_neurons = dataset_config.num_named_neurons\n",
    "    num_worms = dataset_config.num_worms\n",
    "    k_splits = dataset_config.k_splits\n",
    "    num_train_samples = dataset_config.num_train_samples\n",
    "    num_val_samples = dataset_config.num_val_samples\n",
    "    seq_len = dataset_config.seq_len\n",
    "    tau = dataset_config.tau\n",
    "    reverse = dataset_config.reverse\n",
    "    use_residual = dataset_config.use_residual\n",
    "    smooth_data = dataset_config.smooth_data\n",
    "\n",
    "    # Verifications\n",
    "    assert isinstance(k_splits, int) and k_splits > 1, \"k_splits must be an integer > 1\"\n",
    "\n",
    "    assert isinstance(num_named_neurons, int) or num_named_neurons == \"all\", (\n",
    "        \"num_named_neurons must be a positive integer or 'all'.\"\n",
    "    )\n",
    "\n",
    "    assert isinstance(num_worms, int) or num_worms == \"all\", (\n",
    "        \"num_worms must be a positive integer or 'all'.\"\n",
    "    )\n",
    "\n",
    "    combined_dataset = create_combined_dataset(experimental_datasets, num_named_neurons, num_worms, name=name)\n",
    "    train_dataset, val_dataset = split_combined_dataset(combined_dataset, k_splits, num_train_samples,\n",
    "                                                         num_val_samples, seq_len, tau, reverse,\n",
    "                                                         use_residual, smooth_data)\n",
    "\n",
    "    return train_dataset, val_dataset"
   ]
  },
  {
   "cell_type": "code",
   "execution_count": 63,
   "metadata": {},
   "outputs": [],
   "source": [
    "train_dataset, val_dataset = get_datasets(dataset_config.dataset.for_training, name='train')"
   ]
  },
  {
   "cell_type": "code",
   "execution_count": 64,
   "metadata": {},
   "outputs": [],
   "source": [
    "x1,y1,m1,m = next(iter(train_dataset))"
   ]
  },
  {
   "cell_type": "code",
   "execution_count": 65,
   "metadata": {},
   "outputs": [
    {
     "data": {
      "text/plain": [
       "tensor(True)"
      ]
     },
     "execution_count": 65,
     "metadata": {},
     "output_type": "execute_result"
    }
   ],
   "source": [
    "(x1[1:,:] == y1[:-1,:]).all()"
   ]
  },
  {
   "cell_type": "code",
   "execution_count": 59,
   "metadata": {},
   "outputs": [
    {
     "data": {
      "text/plain": [
       "40"
      ]
     },
     "execution_count": 59,
     "metadata": {},
     "output_type": "execute_result"
    }
   ],
   "source": [
    "len(val_dataset)"
   ]
  },
  {
   "cell_type": "code",
   "execution_count": 17,
   "metadata": {},
   "outputs": [],
   "source": [
    "train_dataset, val_dataset = split_combined_dataset(\n",
    "    combined_dataset = combined_dataset,\n",
    "    k_splits = 2,\n",
    "    num_train_samples = 16,\n",
    "    num_val_samples = 8,\n",
    "    seq_len = 100,\n",
    "    tau = 1,\n",
    "    reverse = False,\n",
    "    use_residual = False,\n",
    "    smooth_data = True,\n",
    ")"
   ]
  },
  {
   "cell_type": "code",
   "execution_count": 19,
   "metadata": {},
   "outputs": [],
   "source": [
    "# Create the dataloaders\n",
    "\n",
    "trainloader = torch.utils.data.DataLoader(\n",
    "    train_dataset,\n",
    "    batch_size = 16,\n",
    "    shuffle = True,\n",
    ")"
   ]
  },
  {
   "cell_type": "code",
   "execution_count": 21,
   "metadata": {},
   "outputs": [
    {
     "name": "stdout",
     "output_type": "stream",
     "text": [
      "torch.Size([16, 100, 302]) torch.Size([16, 100, 302]) torch.Size([16, 302])\n",
      "torch.Size([16, 100, 302]) torch.Size([16, 100, 302]) torch.Size([16, 302])\n",
      "torch.Size([16, 100, 302]) torch.Size([16, 100, 302]) torch.Size([16, 302])\n",
      "torch.Size([16, 100, 302]) torch.Size([16, 100, 302]) torch.Size([16, 302])\n",
      "torch.Size([16, 100, 302]) torch.Size([16, 100, 302]) torch.Size([16, 302])\n",
      "torch.Size([16, 100, 302]) torch.Size([16, 100, 302]) torch.Size([16, 302])\n",
      "torch.Size([16, 100, 302]) torch.Size([16, 100, 302]) torch.Size([16, 302])\n",
      "torch.Size([16, 100, 302]) torch.Size([16, 100, 302]) torch.Size([16, 302])\n",
      "torch.Size([16, 100, 302]) torch.Size([16, 100, 302]) torch.Size([16, 302])\n",
      "torch.Size([16, 100, 302]) torch.Size([16, 100, 302]) torch.Size([16, 302])\n"
     ]
    }
   ],
   "source": [
    "for x, y, mask, _ in trainloader:\n",
    "    print(x.shape, y.shape, mask.shape)"
   ]
  },
  {
   "cell_type": "markdown",
   "metadata": {},
   "source": [
    "# Train Loop\n",
    "---"
   ]
  },
  {
   "cell_type": "code",
   "execution_count": 4,
   "metadata": {},
   "outputs": [],
   "source": [
    "from data._main import get_datasets\n",
    "from models._main import get_model\n",
    "from omegaconf import OmegaConf\n",
    "import torch\n",
    "import mlflow"
   ]
  },
  {
   "cell_type": "code",
   "execution_count": 5,
   "metadata": {},
   "outputs": [
    {
     "name": "stdout",
     "output_type": "stream",
     "text": [
      "experimental_datasets:\n",
      "- Kato2015\n",
      "- Nichols2017\n",
      "num_named_neurons: 2\n",
      "num_worms: 10\n",
      "k_splits: 2\n",
      "num_train_samples: 16\n",
      "num_val_samples: 4\n",
      "seq_len: 120\n",
      "tau: 1\n",
      "reverse: false\n",
      "use_residual: false\n",
      "smooth_data: true\n",
      "\n"
     ]
    }
   ],
   "source": [
    "dataset_config = OmegaConf.load(\"../../../configs/submodule/dataset.yaml\")\n",
    "dataset_config = dataset_config.dataset.for_training\n",
    "print(OmegaConf.to_yaml(dataset_config))"
   ]
  },
  {
   "cell_type": "code",
   "execution_count": 6,
   "metadata": {},
   "outputs": [
    {
     "name": "stdout",
     "output_type": "stream",
     "text": [
      "type: NetworkLSTM\n",
      "input_size: 302\n",
      "hidden_size: 256\n",
      "num_layers: 1\n",
      "loss: MSE\n",
      "fft_reg_param: 0.0\n",
      "l1_reg_param: 0.0\n",
      "checkpoint_path: null\n",
      "\n"
     ]
    }
   ],
   "source": [
    "model_config = OmegaConf.load(\"../../../configs/submodule/model.yaml\").model\n",
    "print(OmegaConf.to_yaml(model_config))"
   ]
  },
  {
   "cell_type": "code",
   "execution_count": 7,
   "metadata": {},
   "outputs": [],
   "source": [
    "def compute_loss(loss_fn, X, Y, masks):\n",
    "    \"\"\"\n",
    "    Compute loss for each sample in the batch and average them.\n",
    "    \n",
    "    This is necessary because inside each minibatch, different examples can have different masks.\n",
    "    Therefore, different examples will have different shapes, and the loss function will not be able to\n",
    "    compute the loss for the entire batch at once.\n",
    "\n",
    "    Parameters\n",
    "    ----------\n",
    "    loss_fn : torch.nn.Module\n",
    "        A loss function instance.\n",
    "    X : torch.Tensor\n",
    "        A batch of input sequences. Shape: (batch_size, seq_len, input_size).\n",
    "    Y : torch.Tensor\n",
    "        A batch of target sequences. Shape: (batch_size, seq_len, input_size).\n",
    "    masks : torch.Tensor\n",
    "        A batch of masks. Shape: (batch_size, seq_len).\n",
    "    \"\"\"\n",
    "    \n",
    "    # Calculate loss\n",
    "    losses = []\n",
    "    for i in range(X.shape[0]):\n",
    "        valid_X = X[i][:, masks[i]]\n",
    "        valid_Y = Y[i][:, masks[i]]\n",
    "        loss_i = loss_fn(valid_X, valid_Y)\n",
    "        losses.append(loss_i)\n",
    "\n",
    "    # Compute average loss for backpropagation\n",
    "    total_loss = torch.mean(torch.stack(losses))\n",
    "\n",
    "    return total_loss"
   ]
  },
  {
   "cell_type": "code",
   "execution_count": 10,
   "metadata": {},
   "outputs": [],
   "source": [
    "train_dataset, val_dataset = get_datasets(dataset_config=dataset_config, name='training')"
   ]
  },
  {
   "cell_type": "code",
   "execution_count": 18,
   "metadata": {},
   "outputs": [
    {
     "data": {
      "text/plain": [
       "1"
      ]
     },
     "execution_count": 18,
     "metadata": {},
     "output_type": "execute_result"
    }
   ],
   "source": []
  },
  {
   "cell_type": "code",
   "execution_count": 8,
   "metadata": {},
   "outputs": [],
   "source": [
    "epochs = 10\n",
    "batch_size = 4\n",
    "shuffle = True\n",
    "tau = 1 #! ARGUMENT\n",
    "\n",
    "train_dataset, val_dataset = get_datasets(dataset_config=dataset_config, name='training')\n",
    "model = get_model(model_config=model_config)\n",
    "optimizer = torch.optim.AdamW(model.parameters(), lr=0.00001)\n",
    "criterion = model.loss_fn()\n",
    "\n",
    "# Create dataloaders\n",
    "trainloader = torch.utils.data.DataLoader(train_dataset, batch_size=batch_size, shuffle=shuffle)\n",
    "valloader = torch.utils.data.DataLoader(val_dataset, batch_size=batch_size, shuffle=False)\n",
    "\n",
    "running_base_loss_train = 0\n",
    "running_loss_train = 0\n",
    "train_epoch_loss = []\n",
    "train_epoch_baseline = []\n",
    "\n",
    "running_base_loss_val = 0\n",
    "running_loss_val = 0\n",
    "val_epoch_loss = []\n",
    "val_epoch_baseline = []\n",
    "\n",
    "for epoch in range(epochs):\n",
    "\n",
    "    # Train loop\n",
    "    model.train()\n",
    "\n",
    "    for batch_idx, (X_train, Y_train, masks_train, metadata) in enumerate(trainloader):\n",
    "\n",
    "        optimizer.zero_grad() # Reset gradients\n",
    "\n",
    "        # Baseline model: identity model - predict that the next time step is the same as the current one.\n",
    "        # This is the simplest model we can think of: predict that the next time step is the same as the current one\n",
    "        # is better than predict any other random number.\n",
    "        train_baseline = compute_loss(loss_fn=criterion, X=X_train, Y=Y_train, masks=masks_train)\n",
    "        \n",
    "        # Model\n",
    "        y_pred = model(X_train, masks_train, tau)\n",
    "        train_loss = compute_loss(loss_fn=criterion, X=y_pred, Y=Y_train, masks=masks_train)\n",
    "\n",
    "        # Backpropagation (skip first epoch)\n",
    "        train_loss.backward()\n",
    "        optimizer.step()\n",
    "\n",
    "        # Update running losses\n",
    "        running_base_loss_train += train_baseline.item()\n",
    "        running_loss_train += train_loss.item()\n",
    "\n",
    "    train_epoch_loss.append(running_loss_train / len(trainloader))\n",
    "    train_epoch_baseline.append(running_base_loss_train / len(trainloader))\n",
    "    running_base_loss_train = 0\n",
    "    running_loss_train = 0\n",
    "\n",
    "    # Validation loop\n",
    "    model.eval()\n",
    "\n",
    "    with torch.no_grad():\n",
    "        for batch_idx, (X_val, Y_val, masks_val, metadata_val) in enumerate(valloader):\n",
    "\n",
    "            # Baseline model: identity model - predict that the next time step is the same as the current one.\n",
    "            # This is the simplest model we can think of: predict that the next time step is the same as the current one\n",
    "            # is better than predict any other random number.\n",
    "            val_baseline = compute_loss(loss_fn=criterion, X=X_val, Y=Y_val, masks=masks_val)\n",
    "\n",
    "            # Model\n",
    "            y_pred = model(X_val, masks_val, tau)\n",
    "            val_loss = compute_loss(loss_fn=criterion, X=y_pred, Y=Y_val, masks=masks_val)\n",
    "\n",
    "            # Update running losses\n",
    "            running_base_loss_val += val_baseline.item()\n",
    "            running_loss_val += val_loss.item()\n",
    "\n",
    "        val_epoch_loss.append(running_loss_val / len(valloader))\n",
    "        val_epoch_baseline.append(running_base_loss_val / len(valloader))\n",
    "        running_base_loss_val = 0\n",
    "        running_loss_val = 0"
   ]
  },
  {
   "cell_type": "code",
   "execution_count": 9,
   "metadata": {},
   "outputs": [
    {
     "data": {
      "text/plain": [
       "[<matplotlib.lines.Line2D at 0x7fa1539e56d0>]"
      ]
     },
     "execution_count": 9,
     "metadata": {},
     "output_type": "execute_result"
    },
    {
     "data": {
      "image/png": "[encoded data removed]",
      "text/plain": [
       "<Figure size 640x480 with 1 Axes>"
      ]
     },
     "metadata": {},
     "output_type": "display_data"
    }
   ],
   "source": [
    "import matplotlib.pyplot as plt\n",
    "plt.plot(train_epoch_loss)\n",
    "plt.plot(train_epoch_baseline)\n",
    "plt.plot(val_epoch_loss)\n",
    "plt.plot(val_epoch_baseline)"
   ]
  }
 ],
 "metadata": {
  "kernelspec": {
   "display_name": "worm-graph",
   "language": "python",
   "name": "python3"
  },
  "language_info": {
   "codemirror_mode": {
    "name": "ipython",
    "version": 3
   },
   "file_extension": ".py",
   "mimetype": "text/x-python",
   "name": "python",
   "nbconvert_exporter": "python",
   "pygments_lexer": "ipython3",
   "version": "3.9.16"
  },
  "orig_nbformat": 4
 },
 "nbformat": 4,
 "nbformat_minor": 2
}
