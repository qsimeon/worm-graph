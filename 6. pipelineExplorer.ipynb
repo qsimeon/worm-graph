{
 "cells": [
  {
   "cell_type": "markdown",
   "id": "d60471f5",
   "metadata": {},
   "source": [
    "# Worm Pipeline Explorer"
   ]
  },
  {
   "cell_type": "markdown",
   "id": "a0e2b329",
   "metadata": {},
   "source": [
    "## 1. Choose data to use"
   ]
  },
  {
   "cell_type": "code",
   "execution_count": null,
   "id": "95956054",
   "metadata": {},
   "outputs": [],
   "source": [
    "#code"
   ]
  },
  {
   "cell_type": "markdown",
   "id": "7f6869c7",
   "metadata": {},
   "source": [
    "## 2. Preprocess data for training"
   ]
  },
  {
   "cell_type": "code",
   "execution_count": null,
   "id": "5cf214b3",
   "metadata": {},
   "outputs": [],
   "source": [
    "#code"
   ]
  },
  {
   "cell_type": "markdown",
   "id": "8c6aaf90",
   "metadata": {},
   "source": [
    "## 3. Choose and create model type"
   ]
  },
  {
   "cell_type": "code",
   "execution_count": null,
   "id": "00a35384",
   "metadata": {},
   "outputs": [],
   "source": [
    "#code"
   ]
  },
  {
   "cell_type": "markdown",
   "id": "761e63d5",
   "metadata": {},
   "source": [
    "## 4. Choose and run task"
   ]
  },
  {
   "cell_type": "code",
   "execution_count": null,
   "id": "22d32eed",
   "metadata": {},
   "outputs": [],
   "source": [
    "#code"
   ]
  },
  {
   "cell_type": "markdown",
   "id": "00c82969",
   "metadata": {},
   "source": [
    "## 5. Visualize loss and results"
   ]
  },
  {
   "cell_type": "code",
   "execution_count": null,
   "id": "c93335ed",
   "metadata": {},
   "outputs": [],
   "source": [
    "#code"
   ]
  }
 ],
 "metadata": {
  "kernelspec": {
   "display_name": "Python 3 (ipykernel)",
   "language": "python",
   "name": "python3"
  },
  "language_info": {
   "codemirror_mode": {
    "name": "ipython",
    "version": 3
   },
   "file_extension": ".py",
   "mimetype": "text/x-python",
   "name": "python",
   "nbconvert_exporter": "python",
   "pygments_lexer": "ipython3",
   "version": "3.9.7"
  }
 },
 "nbformat": 4,
 "nbformat_minor": 5
}
