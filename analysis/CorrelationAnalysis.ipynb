{
 "cells": [
  {
   "cell_type": "markdown",
   "metadata": {},
   "source": [
    "To study the auto-correlation and cross-correlation structure of different neurons. When do these fall to zero?\n",
    "\n",
    "Temporal Structure Analysis and Request for Guidance: While we acknowledge the potential insights that could be derived from studying the auto-correlation and cross-correlation structure of different neurons, we face certain challenges with our dataset that make the execution of this analysis complex.\n",
    "\n",
    "Variability Across Subjects: The measured neurons vary from worm to worm, which means standardizing a correlation analysis across multiple datasets is not straightforward. If in a particular worm there are $k$ measured/labelled neurons (out of the possible 302), we would be conducting $k$ autocorrelations and $k(k-1)$ cross-correlations for that worm, but the comparison across different worms and datasets becomes less clear.\n",
    "\n",
    "Aggregation of Analysis: Aggregating this data meaningfully poses a significant challenge. We are considering focusing on common neurons measured across worms and applying statistical methods to manage missing data.\n",
    "\n",
    "The cross-correlation and auto-correlation need only be computed for a relatively short number of lags, since long lags become more independent as behavior is not typically periodic. While I agree that this would require some careful bookkeeping, it is straightforward to script. Estimates of the correlation functions themselves would be computed within a worm recording for all pairs (including self). Then when you are getting average across worm recording dataset you may not have all pairs, but simply average what is available. Of course the number will vary by neuron-to-neuron pair but that is fine."
   ]
  },
  {
   "cell_type": "code",
   "execution_count": 1,
   "metadata": {},
   "outputs": [
    {
     "name": "stdout",
     "output_type": "stream",
     "text": [
      "    Col1  NumberCol                                            ListCol TestCol\n",
      "0  Item1          1  [ABC1, ABC2, ABC3, ABC4, ABC5, ABC6, ABC7, ABC...   Test1\n",
      "1  Item2          2  [ABC1, ABC2, ABC3, ABC4, ABC5, ABC6, ABC7, ABC...   Test2\n",
      "2  Item3          3  [ABC1, ABC2, ABC3, ABC4, ABC5, ABC6, ABC7, ABC...   Test3\n",
      "\n",
      "df_loaded:\n",
      "    Unnamed: 0   Col1  NumberCol  \\\n",
      "0           0  Item1          1   \n",
      "1           1  Item2          2   \n",
      "2           2  Item3          3   \n",
      "\n",
      "                                             ListCol TestCol  \n",
      "0  [ABC1ABC2ABC3ABC4ABC5ABC6ABC7ABC8ABC9ABC10ABC1...   Test1  \n",
      "1  [ABC1ABC2ABC3ABC4ABC5ABC6ABC7ABC8ABC9ABC10ABC1...   Test2  \n",
      "2  [ABC1ABC2ABC3ABC4ABC5ABC6ABC7ABC8ABC9ABC10ABC1...   Test3  \n",
      "\n",
      "\n",
      "df_loaded['ListCol']:\n",
      " 0    [ABC1ABC2ABC3ABC4ABC5ABC6ABC7ABC8ABC9ABC10ABC1...\n",
      "1    [ABC1ABC2ABC3ABC4ABC5ABC6ABC7ABC8ABC9ABC10ABC1...\n",
      "2    [ABC1ABC2ABC3ABC4ABC5ABC6ABC7ABC8ABC9ABC10ABC1...\n",
      "Name: ListCol, dtype: list\n",
      "\n",
      "\n",
      "pd <module 'pandas' (ModuleAccelerator(fast=cudf, slow=pandas))>; pd.__version__: 1.5.0\n"
     ]
    }
   ],
   "source": [
    "%load_ext cudf.pandas\n",
    "import os\n",
    "import ast\n",
    "import json\n",
    "import pandas as pd\n",
    "\n",
    "# Example list of lists\n",
    "data = {\n",
    "    \"Col1\": [\"Item1\", \"Item2\", \"Item3\"],\n",
    "    \"NumberCol\": [1, 2, 3],\n",
    "    \"ListCol\": [\n",
    "        [f\"ABC{i}\" for i in range(1, 400)],\n",
    "        [f\"ABC{i}\" for i in range(1, 300)],\n",
    "        [f\"ABC{i}\" for i in range(1, 500)],\n",
    "    ],\n",
    "    \"TestCol\": [\"Test1\", \"Test2\", \"Test3\"],\n",
    "}\n",
    "\n",
    "# Create DataFrame\n",
    "df = pd.DataFrame(data)\n",
    "\n",
    "# Show the DataFrame\n",
    "print(df)\n",
    "\n",
    "# Save to CSV\n",
    "df.to_csv(\"list_data.csv\", index=True, header=True)\n",
    "\n",
    "# Read from CSV safely\n",
    "df_loaded = pd.read_csv(\n",
    "    os.path.join(\"list_data.csv\"), converters={\"ListCol\": ast.literal_eval}\n",
    ")\n",
    "\n",
    "print(\"\\ndf_loaded:\\n\", df_loaded)\n",
    "print()\n",
    "print(\"\\ndf_loaded['ListCol']:\\n\", df_loaded[\"ListCol\"])\n",
    "print()\n",
    "print(f\"\\npd {pd}; pd.__version__: {pd.__version__}\")"
   ]
  },
  {
   "cell_type": "markdown",
   "metadata": {},
   "source": []
  },
  {
   "cell_type": "markdown",
   "metadata": {},
   "source": []
  },
  {
   "cell_type": "markdown",
   "metadata": {},
   "source": []
  }
 ],
 "metadata": {
  "kernelspec": {
   "display_name": "worm-graph",
   "language": "python",
   "name": "python3"
  },
  "language_info": {
   "codemirror_mode": {
    "name": "ipython",
    "version": 3
   },
   "file_extension": ".py",
   "mimetype": "text/x-python",
   "name": "python",
   "nbconvert_exporter": "python",
   "pygments_lexer": "ipython3",
   "version": "3.10.13"
  }
 },
 "nbformat": 4,
 "nbformat_minor": 2
}
