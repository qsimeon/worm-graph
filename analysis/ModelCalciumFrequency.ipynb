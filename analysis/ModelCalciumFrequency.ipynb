{
 "cells": [
  {
   "cell_type": "markdown",
   "metadata": {},
   "source": [
    "### Modeling calcium data in the frequency domain\n",
    "---\n",
    "\n",
    "The magnitude (or absolute value) of the FFT output represents the amplitude of the various frequency components present in the original time-domain signal. It basically tells us \"how much\" of a certain frequency is present in the signal. For instance, if you have a sine wave with a frequency of 5 Hz and an amplitude of 10 units, then the magnitude of the FFT at 5 Hz will be proportional to 10. In most practical applications, we're often interested in the square of the magnitude of the FFT, because it represents the power of the signal at each frequency, also known as the power spectral density (PSD). In this case, if the PSD at a certain frequency is high, it means that the signal has a strong component at that frequency. The power spectral density (PSD) of a signal can be estimated using the Fourier transform of the signal. The PSD is the magnitude squared of the Fourier transform and it gives the distribution of power over frequency.\n",
    "\n",
    "*Last updated: 11 July 2023*"
   ]
  },
  {
   "cell_type": "code",
   "execution_count": null,
   "metadata": {},
   "outputs": [],
   "source": [
    "import torch\n",
    "import numpy as np\n",
    "import matplotlib.pyplot as plt\n",
    "from scipy.optimize import curve_fit\n",
    "\n",
    "calcium = single_worm_dataset[\"calcium_data\"]\n",
    "mask = single_worm_dataset[\"named_neurons_mask\"]\n",
    "dt = single_worm_dataset[\"resample_median_dt\"]\n",
    "\n",
    "data = calcium[:, mask]\n",
    "\n",
    "fft_data = torch.fft.rfft(data, dim=0)\n",
    "fft_freqs = torch.fft.rfftfreq(data.size(0), d=dt)\n",
    "\n",
    "# Compute the amplitude of the FFT\n",
    "amp = torch.abs(fft_data)\n",
    "\n",
    "# Plot the magnitude of the FFT\n",
    "plt.figure(figsize=(10, 5))\n",
    "plt.plot(fft_freqs, amp)\n",
    "plt.xlabel(\"Frequency (Hz)\")\n",
    "plt.ylabel(\"Amplitude\")\n",
    "plt.show()\n",
    "\n",
    "# Compute the power spectral density\n",
    "psd = torch.abs(fft_data) ** 2\n",
    "\n",
    "# Plot the power spectral density\n",
    "plt.figure(figsize=(10, 5))\n",
    "plt.loglog(fft_freqs, psd)\n",
    "plt.xlabel(\"Frequency (Hz)\")\n",
    "plt.ylabel(\"Power Spectral Density\")\n",
    "plt.show()\n",
    "\n",
    "\n",
    "# Define the function to fit\n",
    "def func(x, a, b, c):\n",
    "    return a * np.exp(-b * x) + c\n",
    "\n",
    "\n",
    "calcium = single_worm_dataset[\"calcium_data\"]\n",
    "mask = single_worm_dataset[\"named_neurons_mask\"]\n",
    "dt = single_worm_dataset[\"resample_median_dt\"]\n",
    "\n",
    "data = calcium[:, mask]\n",
    "\n",
    "fft_data = torch.fft.rfft(data, dim=0)\n",
    "fft_freqs = torch.fft.rfftfreq(data.size(0), d=dt)\n",
    "\n",
    "# Convert fft_data and fft_freqs to numpy for use with curve_fit\n",
    "fft_data_np = fft_data.detach().numpy()\n",
    "fft_freqs_np = fft_freqs.detach().numpy()\n",
    "\n",
    "# Fit function to each column of data\n",
    "num_neurons = fft_data_np.shape[1]\n",
    "fit_params = np.zeros((num_neurons, 3))  # for a, b, and c\n",
    "for i in range(num_neurons):\n",
    "    popt, pcov = curve_fit(func, fft_freqs_np, np.abs(fft_data_np[:, i]))\n",
    "    fit_params[i, :] = popt\n",
    "\n",
    "# Generate x values\n",
    "x = np.linspace(fft_freqs_np.min(), fft_freqs_np.max(), num=1000)\n",
    "\n",
    "# Create a figure and axis\n",
    "fig, ax = plt.subplots()\n",
    "\n",
    "# Plot each fitted curve\n",
    "for i in range(num_neurons):\n",
    "    # Generate y values for this curve\n",
    "    y = func(x, *fit_params[i])\n",
    "    # Plot the curve\n",
    "    ax.plot(x, y)\n",
    "\n",
    "plt.xlabel(\"Frequency (Hz)\")\n",
    "plt.ylabel(\"Amplitude\")\n",
    "plt.show()"
   ]
  },
  {
   "cell_type": "markdown",
   "metadata": {},
   "source": []
  },
  {
   "cell_type": "markdown",
   "metadata": {},
   "source": []
  },
  {
   "cell_type": "markdown",
   "metadata": {},
   "source": []
  }
 ],
 "metadata": {
  "kernelspec": {
   "display_name": "worm-graph",
   "language": "python",
   "name": "python3"
  },
  "language_info": {
   "name": "python",
   "version": "3.9.16"
  },
  "orig_nbformat": 4
 },
 "nbformat": 4,
 "nbformat_minor": 2
}
