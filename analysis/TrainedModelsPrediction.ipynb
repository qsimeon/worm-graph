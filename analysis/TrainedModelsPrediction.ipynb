{
 "cells": [
  {
   "attachments": {},
   "cell_type": "markdown",
   "metadata": {},
   "source": [
    "### Investigate future prediction capacity of trained models\n",
    "Evaluate the ability of trained models optimized for next timestep (i.e. 1 step ahead) prediction to generalize to predicting longer horizons (i.e. an arbitrary number of future timesteps)."
   ]
  },
  {
   "cell_type": "code",
   "execution_count": 90,
   "metadata": {},
   "outputs": [],
   "source": [
    "import datetime\n",
    "import matplotlib.pyplot as plt\n",
    "import numpy as np\n",
    "import torch\n",
    "from data._utils import load_Uzel2022, load_Skora2018\n",
    "from models._main import get_model\n",
    "from models._utils import *\n",
    "from omegaconf import OmegaConf\n",
    "from utils import DEVICE"
   ]
  },
  {
   "cell_type": "code",
   "execution_count": 91,
   "metadata": {},
   "outputs": [
    {
     "name": "stdout",
     "output_type": "stream",
     "text": [
      "config: preprocess:\n",
      "  url: https://www.dropbox.com/s/5r5cyxoads3iglz/opensource_data.zip?dl=1\n",
      "  zipfile: opensource_data.zip\n",
      "  dataset: all\n",
      "  raw_dir: data/raw\n",
      "  resample_dt: 0.1\n",
      "  smooth: FFT\n",
      "dataset:\n",
      "  name: Flavell2023_Kaplan2020_Kato2015_Leifer2023_Nichols2017_Skora2018\n",
      "model:\n",
      "  type: NetworkLSTM\n",
      "  input_size: 302\n",
      "  hidden_size: 256\n",
      "  num_layers: 1\n",
      "  loss: MSE\n",
      "  fft_reg_param: 0.0\n",
      "  l1_reg_param: 0.0\n",
      "  checkpoint_path: logs/hydra/2023_06_13_20_52_31/checkpoints/100_epochs_24000_worms.pt\n",
      "train:\n",
      "  optimizer: Adam\n",
      "  learn_rate: 0.001\n",
      "  epochs: 100\n",
      "  save_freq: 200\n",
      "  seq_len: 200\n",
      "  k_splits: 2\n",
      "  num_samples: 32\n",
      "  num_batches: 1\n",
      "  tau_in: 1\n",
      "  shuffle_samples: false\n",
      "  reverse: false\n",
      "predict:\n",
      "  tau_out: 1000\n",
      "  context_len: 200\n",
      "  model:\n",
      "    checkpoint_path: logs/hydra/2023_06_13_20_52_31/checkpoints/100_epochs_24000_worms.pt\n",
      "  dataset:\n",
      "    name: Uzel2022\n",
      "visualize:\n",
      "  log_dir: logs/hydra/2023_06_13_20_52_31\n",
      "  worm: worm0\n",
      "  neuron: AVAL\n",
      "globals:\n",
      "  random_seed: 0\n",
      "  use_residual: false\n",
      "  smooth_data: false\n",
      "  shuffle_worms: false\n",
      "  timestamp: '2023_06_13_20_52_53'\n",
      "  num_unique_worms: 240\n",
      "  num_covered_neurons: 227\n",
      "  worm_timesteps: 1733651\n",
      "  seconds_per_epoch: 13.093228313716319\n",
      "\n",
      "\n",
      "checkpoint path: logs/hydra/2023_06_13_20_52_31/checkpoints/100_epochs_24000_worms.pt\n",
      "\n",
      "NetworkLSTM model was trained on dataset Flavell2023_Kaplan2020_Kato2015_Leifer2023_Nichols2017_Skora2018 containing sequences of length 200 for 100 epochs to predict 1 timesteps into the future.\n",
      "\n",
      "Model checkpoint path: /net/vast-storage/scratch/vast/yanglab/qsimeon/worm-graph/logs/hydra/2023_06_13_20_52_31/checkpoints/100_epochs_24000_worms.pt\n",
      "\n",
      "Model: NetworkLSTM(\n",
      "  (identity): Identity()\n",
      "  (linear): Linear(in_features=256, out_features=302, bias=True)\n",
      "  (lstm): LSTM(302, 256, batch_first=True)\n",
      "  (layer_norm): LayerNorm((256,), eps=1e-05, elementwise_affine=True)\n",
      ")\n",
      "\n"
     ]
    },
    {
     "data": {
      "text/plain": [
       "NetworkLSTM(\n",
       "  (identity): Identity()\n",
       "  (linear): Linear(in_features=256, out_features=302, bias=True)\n",
       "  (lstm): LSTM(302, 256, batch_first=True)\n",
       "  (layer_norm): LayerNorm((256,), eps=1e-05, elementwise_affine=True)\n",
       ")"
      ]
     },
     "execution_count": 91,
     "metadata": {},
     "output_type": "execute_result"
    }
   ],
   "source": [
    "# Load a trained model from the config file (simpler)\n",
    "\n",
    "# load config\n",
    "config_path = \"../logs/hydra/2023_06_13_20_52_31/config.yaml\"\n",
    "config = OmegaConf.load(config_path)\n",
    "print(\"config:\", OmegaConf.to_yaml(config), end=\"\\n\\n\")\n",
    "\n",
    "# checkpoint path\n",
    "checkpoint_path = config.model.checkpoint_path\n",
    "print(\"checkpoint path:\", checkpoint_path, end=\"\\n\\n\")\n",
    "\n",
    "# training params\n",
    "epoch = config.train.epochs\n",
    "seq_len = config.train.seq_len\n",
    "tau = config.train.tau_in\n",
    "smooth_data = config.globals.smooth_data\n",
    "\n",
    "# names\n",
    "model_name = config.model.type\n",
    "train_dataset_name = config.dataset.name\n",
    "\n",
    "# print info\n",
    "print(\n",
    "    \"{} model was trained on dataset {} containing sequences of length \"\n",
    "    \"{} for {} epochs to predict {} timesteps into the future.\".format(\n",
    "        model_name,\n",
    "        train_dataset_name,\n",
    "        seq_len,\n",
    "        epoch,\n",
    "        tau,\n",
    "    ),\n",
    "    end=\"\\n\\n\",\n",
    ")\n",
    "\n",
    "# load the pretrained model\n",
    "model = get_model(config)\n",
    "model.eval()"
   ]
  },
  {
   "cell_type": "code",
   "execution_count": 92,
   "metadata": {},
   "outputs": [
    {
     "name": "stdout",
     "output_type": "stream",
     "text": [
      "The (train) dataset(s) the model was trained on: Flavell2023_Kaplan2020_Kato2015_Leifer2023_Nichols2017_Skora2018\n",
      "\n",
      "The (test) dataset(s) to make predictions on: Uzel2022\n",
      "\n",
      "Was the test dataset seen during training? NO\n"
     ]
    }
   ],
   "source": [
    "# Ideally evaluate the model on a test dataset that it was not trained on\n",
    "\n",
    "test_dataset = load_Uzel2022()  # dataset of multiple worms\n",
    "# test_dataset = load_Skora2018()  # dataset of multiple worms\n",
    "\n",
    "# determine if the test dataset was seen during training\n",
    "test_dataset_name = test_dataset[\"worm0\"][\"dataset\"]\n",
    "in_distribution = test_dataset_name in train_dataset_name\n",
    "dataset_inclusion_str = int(not in_distribution) * \"un\" + \"familiar\"\n",
    "print(\n",
    "    \"The (train) dataset(s) the model was trained on:\", train_dataset_name, end=\"\\n\\n\"\n",
    ")\n",
    "print(\"The (test) dataset(s) to make predictions on:\", test_dataset_name, end=\"\\n\\n\")\n",
    "print(\"Was the test dataset seen during training?\", \"YES\" if in_distribution else \"NO\")"
   ]
  },
  {
   "cell_type": "code",
   "execution_count": 93,
   "metadata": {},
   "outputs": [
    {
     "name": "stdout",
     "output_type": "stream",
     "text": [
      "Smooth data? False\n",
      "\n"
     ]
    }
   ],
   "source": [
    "# Get values from the test dataset to use for prediciton and plots\n",
    "\n",
    "print(\"Smooth data?\", smooth_data, end=\"\\n\\n\")\n",
    "named_neurons_mask = test_dataset[\"worm0\"][\"named_neurons_mask\"]\n",
    "if smooth_data:\n",
    "    calcium_data = test_dataset[\"worm0\"][\"smooth_calcium_data\"]\n",
    "else:\n",
    "    calcium_data = test_dataset[\"worm0\"][\"calcium_data\"]\n",
    "time_in_seconds = test_dataset[\"worm0\"][\"time_in_seconds\"]\n",
    "max_timesteps = test_dataset[\"worm0\"][\"max_timesteps\"]\n",
    "slot_to_named_neuron = test_dataset[\"worm0\"][\"slot_to_named_neuron\"]"
   ]
  },
  {
   "cell_type": "code",
   "execution_count": 94,
   "metadata": {},
   "outputs": [
    {
     "name": "stdout",
     "output_type": "stream",
     "text": [
      "input length: 300 \n",
      "context length: 200 \n",
      "future timesteps: 300\n",
      "\n"
     ]
    }
   ],
   "source": [
    "# Investigate the model's ability to complete a sequence\n",
    "\n",
    "input_len = 300\n",
    "new_timesteps = 300\n",
    "context_len = 200\n",
    "start_time_slice = range(0, input_len)\n",
    "future_time_slice = range(input_len, input_len + new_timesteps)\n",
    "complete_time_slice = range(0, input_len + new_timesteps)\n",
    "\n",
    "input_ = calcium_data[start_time_slice, :]\n",
    "target = calcium_data[future_time_slice, :]\n",
    "\n",
    "# put on device\n",
    "model = model.to(DEVICE)\n",
    "input_ = input_.to(DEVICE)\n",
    "\n",
    "output = (\n",
    "    model.generate(\n",
    "        input_,\n",
    "        new_timesteps,\n",
    "        context_len=context_len,\n",
    "        mask=named_neurons_mask,\n",
    "    )\n",
    "    .cpu()\n",
    "    .squeeze(0)\n",
    ")"
   ]
  },
  {
   "cell_type": "code",
   "execution_count": 103,
   "metadata": {},
   "outputs": [
    {
     "name": "stdout",
     "output_type": "stream",
     "text": [
      "picked neuron index: 178\n",
      "picked neuron name: PVNR\n"
     ]
    }
   ],
   "source": [
    "# Pick one of the labeled neurons in the test dataset to inspect\n",
    "\n",
    "named_neuron_inds = torch.where(named_neurons_mask)[0].numpy()\n",
    "nidx = np.random.choice(named_neuron_inds)  # pick a neuron to plot (random)\n",
    "# nidx = 53  # index for neuron AVAL (consistent)\n",
    "neuron_name = slot_to_named_neuron[nidx]\n",
    "\n",
    "print(\"picked neuron index:\", nidx)\n",
    "print(\"picked neuron name:\", neuron_name)"
   ]
  },
  {
   "cell_type": "code",
   "execution_count": 104,
   "metadata": {},
   "outputs": [
    {
     "data": {
      "image/png": "[encoded data removed]",
      "text/plain": [
       "<Figure size 640x480 with 1 Axes>"
      ]
     },
     "metadata": {},
     "output_type": "display_data"
    }
   ],
   "source": [
    "# Plot what the generations versus real data look like\n",
    "\n",
    "plt.plot(\n",
    "    time_in_seconds[future_time_slice],\n",
    "    target[:, nidx],\n",
    "    color=\"magenta\",\n",
    "    label=\"desired sequence\",\n",
    "    alpha=0.8,\n",
    "    linewidth=3,\n",
    ")\n",
    "\n",
    "plt.plot(\n",
    "    time_in_seconds[complete_time_slice],\n",
    "    output[:, nidx],\n",
    "    color=\"green\",\n",
    "    label=\"completed sequence\",\n",
    "    alpha=0.6,\n",
    "    linewidth=2,\n",
    ")\n",
    "\n",
    "plt.plot(\n",
    "    time_in_seconds[start_time_slice],\n",
    "    input_[:, nidx],\n",
    "    color=\"black\",\n",
    "    label=\"starting sequence\",\n",
    "    alpha=1.0,\n",
    "    linewidth=2,\n",
    ")\n",
    "\n",
    "plt.legend()\n",
    "plt.xlabel(\"Time (seconds)\")\n",
    "plt.ylabel(\"$\\Delta F / F$\")\n",
    "plt.ylim([-3.0, 3.0])\n",
    "plt.title(\n",
    "    \"Generated %s future timesteps ahead on %s dataset with pre-trained model\\nPretrained model: %s \\nTest dataset: %s \\nPredicted neuron: %s\"\n",
    "    % (\n",
    "        new_timesteps,\n",
    "        dataset_inclusion_str,\n",
    "        model_name,\n",
    "        test_dataset_name,\n",
    "        neuron_name,\n",
    "    )\n",
    ")\n",
    "plt.show()"
   ]
  },
  {
   "attachments": {},
   "cell_type": "markdown",
   "metadata": {},
   "source": []
  },
  {
   "attachments": {},
   "cell_type": "markdown",
   "metadata": {},
   "source": []
  },
  {
   "attachments": {},
   "cell_type": "markdown",
   "metadata": {},
   "source": []
  }
 ],
 "metadata": {
  "kernelspec": {
   "display_name": "worm-graph",
   "language": "python",
   "name": "python3"
  },
  "language_info": {
   "codemirror_mode": {
    "name": "ipython",
    "version": 3
   },
   "file_extension": ".py",
   "mimetype": "text/x-python",
   "name": "python",
   "nbconvert_exporter": "python",
   "pygments_lexer": "ipython3",
   "version": "3.9.16"
  },
  "orig_nbformat": 4
 },
 "nbformat": 4,
 "nbformat_minor": 2
}
