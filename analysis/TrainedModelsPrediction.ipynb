{
 "cells": [
  {
   "attachments": {},
   "cell_type": "markdown",
   "metadata": {},
   "source": [
    "### Investigate future prediction capacity of trained models\n",
    "Evaluate the ability of trained models optimized for next timestep (i.e. 1 step ahead) prediction to generalize to predicting longer horizons (i.e. an arbitrary number of future timesteps)."
   ]
  },
  {
   "cell_type": "code",
   "execution_count": 1,
   "metadata": {},
   "outputs": [],
   "source": [
    "import datetime\n",
    "import matplotlib.pyplot as plt\n",
    "import numpy as np\n",
    "import torch\n",
    "from copy import deepcopy\n",
    "from data._main import get_dataset\n",
    "from data._utils import load_Uzel2022, load_Skora2018\n",
    "from models._utils import LinearNN, NetworkLSTM, NeuralTransformer\n",
    "from predict._utils import model_predict\n",
    "from train._main import train_model\n",
    "from utils import DEVICE"
   ]
  },
  {
   "cell_type": "code",
   "execution_count": 2,
   "metadata": {
    "ExecuteTime": {
     "end_time": "2023-04-11T18:27:15.451271Z",
     "start_time": "2023-04-11T18:27:15.437906Z"
    }
   },
   "outputs": [
    {
     "name": "stdout",
     "output_type": "stream",
     "text": [
      "model_state_dict\n",
      "optimizer_state_dict\n",
      "dataset_name\n",
      "model_name\n",
      "optimizer_name\n",
      "epoch\n",
      "seq_len\n",
      "tau\n",
      "loss\n",
      "learning_rate\n",
      "smooth_data\n",
      "input_size\n",
      "hidden_size\n",
      "num_layers\n",
      "loss_name\n",
      "reg_param\n",
      "timestamp\n",
      "elapsed_time_seconds\n",
      "covered_neurons\n",
      "worm_timesteps\n",
      "num_worm_cohorts\n",
      "num_unique_worms\n"
     ]
    }
   ],
   "source": [
    "# Load your trained model checkpoint of choice\n",
    "\n",
    "PATH = \"../logs/hydra/experiment_3/2023_06_02_12_01_50/0/checkpoints/200_epochs_27600_worms.pt\"\n",
    "checkpoint = torch.load(PATH, map_location=torch.device(DEVICE))\n",
    "for key in checkpoint.keys():\n",
    "    print(key)"
   ]
  },
  {
   "cell_type": "code",
   "execution_count": 3,
   "metadata": {
    "ExecuteTime": {
     "end_time": "2023-04-11T18:27:15.457472Z",
     "start_time": "2023-04-11T18:27:15.454062Z"
    }
   },
   "outputs": [
    {
     "name": "stdout",
     "output_type": "stream",
     "text": [
      "NetworkLSTM model was trained on dataset Flavell2023_Kaplan2020_Kato2015_Leifer2023_Nichols2017_Skora2018 containing sequences of length 200 for 200 epochs to predict 1 timesteps into the future.\n"
     ]
    }
   ],
   "source": [
    "# Get checkpoint variables\n",
    "\n",
    "# state dictionaries\n",
    "model_state_dict = checkpoint[\"model_state_dict\"]\n",
    "optimizer_state_dict = checkpoint[\"optimizer_state_dict\"]\n",
    "\n",
    "# training params\n",
    "epoch = checkpoint[\"epoch\"]\n",
    "seq_len = checkpoint[\"seq_len\"]\n",
    "tau = checkpoint[\"tau\"]\n",
    "smooth_data = checkpoint[\"smooth_data\"]\n",
    "\n",
    "# model instance params\n",
    "input_size = checkpoint[\"input_size\"]\n",
    "hidden_size = checkpoint[\"hidden_size\"]\n",
    "num_layers = checkpoint[\"num_layers\"]\n",
    "loss_name = checkpoint[\"loss_name\"]\n",
    "reg_param = checkpoint[\"reg_param\"]\n",
    "\n",
    "# names\n",
    "model_name = checkpoint[\"model_name\"]\n",
    "train_dataset_name = checkpoint[\"dataset_name\"]\n",
    "\n",
    "# print info\n",
    "print(\n",
    "    \"{} model was trained on dataset {} containing sequences of length \"\n",
    "    \"{} for {} epochs to predict {} timesteps into the future.\".format(\n",
    "        model_name,\n",
    "        train_dataset_name,\n",
    "        seq_len,\n",
    "        epoch,\n",
    "        tau,\n",
    "    )\n",
    ")"
   ]
  },
  {
   "cell_type": "code",
   "execution_count": 4,
   "metadata": {},
   "outputs": [
    {
     "name": "stdout",
     "output_type": "stream",
     "text": [
      "NetworkLSTM(\n",
      "  (identity): Identity()\n",
      "  (linear): Linear(in_features=2048, out_features=302, bias=True)\n",
      "  (lstm): LSTM(302, 2048, batch_first=True)\n",
      "  (layer_norm): LayerNorm((2048,), eps=1e-05, elementwise_affine=True)\n",
      ")\n",
      "SGD (\n",
      "Parameter Group 0\n",
      "    differentiable: False\n",
      "    eps: 1e-10\n",
      "    foreach: None\n",
      "    initial_accumulator_value: 0\n",
      "    lr: 0.01\n",
      "    lr_decay: 0\n",
      "    maximize: False\n",
      "    nesterov: False\n",
      "    weight_decay: 0\n",
      ")\n"
     ]
    }
   ],
   "source": [
    "# Load the model checkpoint\n",
    "\n",
    "model = eval(model_name)(input_size, hidden_size, num_layers)\n",
    "model.load_state_dict(model_state_dict)\n",
    "model.eval()\n",
    "print(model)\n",
    "\n",
    "# load optimizer checkpoint\n",
    "optimizer = torch.optim.SGD(model.parameters(), lr=0.0)  # turn off learning\n",
    "optimizer.load_state_dict(optimizer_state_dict)\n",
    "print(optimizer)"
   ]
  },
  {
   "cell_type": "code",
   "execution_count": 5,
   "metadata": {},
   "outputs": [
    {
     "name": "stdout",
     "output_type": "stream",
     "text": [
      "Dataset keys: ['dataset', 'smooth_method', 'worm', 'calcium_data', 'smooth_calcium_data', 'residual_calcium', 'smooth_residual_calcium', 'max_timesteps', 'time_in_seconds', 'dt', 'num_neurons', 'num_named_neurons', 'num_unknown_neurons', 'named_neurons_mask', 'unknown_neurons_mask', 'neurons_mask', 'slot_to_named_neuron', 'named_neuron_to_slot', 'slot_to_unknown_neuron', 'unknown_neuron_to_slot', 'slot_to_neuron', 'neuron_to_slot']\n",
      "\n",
      "The (train) dataset(s) the model was trained on: Flavell2023_Kaplan2020_Kato2015_Leifer2023_Nichols2017_Skora2018\n",
      "\n",
      "The (test) dataset to make predictions on: Uzel2022\n",
      "\n",
      "Was the test dataset seen during training? NO\n"
     ]
    }
   ],
   "source": [
    "# Ideally evaluate the model on a test dataset that it was not trained on\n",
    "\n",
    "# test_dataset = load_Skora2018()  # dataset of multiple worms\n",
    "test_dataset = load_Uzel2022()  # dataset of multiple worms\n",
    "print(\"Dataset keys:\", list(test_dataset[\"worm0\"].keys()), end=\"\\n\\n\")\n",
    "\n",
    "# determine if the test dataset was seen during training\n",
    "test_dataset_name = test_dataset[\"worm0\"][\"dataset\"]\n",
    "in_distribution = test_dataset_name in train_dataset_name\n",
    "dataset_inclusion_str = int(not in_distribution) * \"un\" + \"familiar\"\n",
    "print(\n",
    "    \"The (train) dataset(s) the model was trained on:\", train_dataset_name, end=\"\\n\\n\"\n",
    ")\n",
    "print(\"The (test) dataset to make predictions on:\", test_dataset_name, end=\"\\n\\n\")\n",
    "print(\"Was the test dataset seen during training?\", \"YES\" if in_distribution else \"NO\")"
   ]
  },
  {
   "cell_type": "code",
   "execution_count": 6,
   "metadata": {},
   "outputs": [],
   "source": [
    "# Get values from the test dataset to use for prediciton and plots\n",
    "\n",
    "named_neurons_mask = test_dataset[\"worm0\"][\"named_neurons_mask\"]\n",
    "if smooth_data:\n",
    "    calcium_data = test_dataset[\"worm0\"][\"smooth_calcium_data\"]\n",
    "else:\n",
    "    calcium_data = test_dataset[\"worm0\"][\"calcium_data\"]\n",
    "time_in_seconds = test_dataset[\"worm0\"][\"time_in_seconds\"]\n",
    "max_timesteps = test_dataset[\"worm0\"][\"max_timesteps\"]\n",
    "slot_to_named_neuron = test_dataset[\"worm0\"][\"slot_to_named_neuron\"]"
   ]
  },
  {
   "cell_type": "code",
   "execution_count": 8,
   "metadata": {},
   "outputs": [],
   "source": [
    "# Investigate the model's ability to complete a sequence\n",
    "\n",
    "context_len = 200  # max_timesteps // 2\n",
    "new_timesteps = 200\n",
    "start_time_slice = range(0, context_len)\n",
    "future_time_slice = range(context_len, context_len + new_timesteps)\n",
    "complete_time_slice = range(0, context_len + new_timesteps)\n",
    "\n",
    "input_ = calcium_data[start_time_slice, :] * named_neurons_mask\n",
    "target = calcium_data[future_time_slice, :] * named_neurons_mask\n",
    "\n",
    "# put on device\n",
    "model = model.to(DEVICE)\n",
    "input_ = input_.to(DEVICE)\n",
    "\n",
    "output = (\n",
    "    model.generate(input_, new_timesteps, mask=named_neurons_mask)\n",
    "    .detach()\n",
    "    .cpu()\n",
    "    .squeeze(0)\n",
    ")"
   ]
  },
  {
   "cell_type": "code",
   "execution_count": 15,
   "metadata": {},
   "outputs": [
    {
     "name": "stdout",
     "output_type": "stream",
     "text": [
      "picked neuron index: 29\n",
      "picked neuron name: AS10\n"
     ]
    }
   ],
   "source": [
    "# Pick one of the labeled neurons in the test dataset to inspect\n",
    "\n",
    "named_neuron_inds = torch.where(named_neurons_mask)[0].numpy()\n",
    "nidx = np.random.choice(named_neuron_inds)  # pick a neuron to plot (random)\n",
    "# nidx = 53  # index for neuron AVAL (consistent)\n",
    "neuron_name = slot_to_named_neuron[nidx]\n",
    "\n",
    "print(\"picked neuron index:\", nidx)\n",
    "print(\"picked neuron name:\", neuron_name)"
   ]
  },
  {
   "cell_type": "code",
   "execution_count": 17,
   "metadata": {},
   "outputs": [
    {
     "data": {
      "image/png": "[encoded data removed]",
      "text/plain": [
       "<Figure size 640x480 with 1 Axes>"
      ]
     },
     "metadata": {},
     "output_type": "display_data"
    }
   ],
   "source": [
    "# Plot what the generations versus real data look like\n",
    "\n",
    "plt.plot(\n",
    "    time_in_seconds[future_time_slice],\n",
    "    target[:, nidx],\n",
    "    color=\"magenta\",\n",
    "    label=\"desired sequence\",\n",
    "    alpha=0.8,\n",
    "    linewidth=3,\n",
    ")\n",
    "\n",
    "plt.plot(\n",
    "    time_in_seconds[complete_time_slice],\n",
    "    output[:, nidx],\n",
    "    color=\"green\",\n",
    "    label=\"completed sequence\",\n",
    "    alpha=0.6,\n",
    "    linewidth=2,\n",
    ")\n",
    "\n",
    "plt.plot(\n",
    "    time_in_seconds[start_time_slice],\n",
    "    input_[:, nidx],\n",
    "    color=\"black\",\n",
    "    label=\"starting sequence\",\n",
    "    alpha=1.0,\n",
    "    linewidth=2,\n",
    ")\n",
    "\n",
    "plt.legend()\n",
    "plt.xlabel(\"Time (seconds)\")\n",
    "plt.ylabel(\"$\\Delta F / F$\")\n",
    "plt.ylim([-3.0, 3.0])\n",
    "plt.title(\n",
    "    \"Generated %s future timesteps ahead on %s dataset with pre-trained model\\nPretrained model: %s \\nTest dataset: %s \\nPredicted neuron: %s\"\n",
    "    % (\n",
    "        new_timesteps,\n",
    "        dataset_inclusion_str,\n",
    "        model_name,\n",
    "        test_dataset_name,\n",
    "        neuron_name,\n",
    "    )\n",
    ")\n",
    "plt.show()"
   ]
  },
  {
   "attachments": {},
   "cell_type": "markdown",
   "metadata": {},
   "source": []
  },
  {
   "attachments": {},
   "cell_type": "markdown",
   "metadata": {},
   "source": []
  },
  {
   "attachments": {},
   "cell_type": "markdown",
   "metadata": {},
   "source": []
  }
 ],
 "metadata": {
  "kernelspec": {
   "display_name": "worm-graph",
   "language": "python",
   "name": "python3"
  },
  "language_info": {
   "codemirror_mode": {
    "name": "ipython",
    "version": 3
   },
   "file_extension": ".py",
   "mimetype": "text/x-python",
   "name": "python",
   "nbconvert_exporter": "python",
   "pygments_lexer": "ipython3",
   "version": "3.9.16"
  },
  "orig_nbformat": 4
 },
 "nbformat": 4,
 "nbformat_minor": 2
}
